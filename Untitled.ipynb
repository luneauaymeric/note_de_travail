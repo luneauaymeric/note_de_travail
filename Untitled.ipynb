{
 "cells": [
  {
   "cell_type": "code",
   "execution_count": 21,
   "id": "98636adb",
   "metadata": {},
   "outputs": [],
   "source": [
    "import pandas as pd\n",
    "import bamboolib\n",
    "\n"
   ]
  },
  {
   "cell_type": "code",
   "execution_count": 3,
   "id": "3ba51689",
   "metadata": {},
   "outputs": [],
   "source": [
    "import os\n",
    "current_directory = os.getcwd()\n",
    "#print(\"Current directory : \", current_directory)\n",
    "\n",
    "aymeric =  \"/home/aymeric/python-scripts/espadon/data/\" #aymeric\n",
    "jp = '~/Dropbox/Mac/Desktop/CRD Anses/all3/' # Jean Philippe\n",
    "jp_index = '~/Dropbox/Mac/Desktop/CRD Anses/code/indexation_results/' # Jean Philippe index\n",
    "\n",
    "if 'aymeric' in current_directory:\n",
    "    path_base = aymeric\n",
    "\n",
    "elif 'Mac' in current_directory:\n",
    "    path_base = jp\n",
    "elif 'd:/Projects' in current_directory:\n",
    "    path_base = \"d:/Projects/Medialab/\"\n",
    "\n",
    "#print(\"Path base : \", path_base)"
   ]
  },
  {
   "cell_type": "code",
   "execution_count": 32,
   "id": "fb4ca7c3",
   "metadata": {},
   "outputs": [],
   "source": [
    "corpus = pd.read_csv(f\"{path_base}corpus_tweets.csv\", sep = \",\")"
   ]
  },
  {
   "attachments": {},
   "cell_type": "markdown",
   "id": "0b500588",
   "metadata": {},
   "source": [
    "# Visualisation des interactions entre comptes\n",
    "\n",
    "Les vidéos ci-dessous illustrent la \"dynamique\" des interactions entre les 7000 et quelques comptes annotés. Réalisés à l'aide de différentes librairies disponibles sous R, les graphes ont été construits de la manière suivantes:\n",
    "\n",
    "- Le fichier des tweets contient une variable appelée *to_username*. Elle recense toutes mes fois qu'un compte a réagi à un tweet d'un autre compte en faisant \"reply to\". Par exemple, dans le tweet ci-dessous, on voit que le Dr. Sue Desmond-Hellmann a répondu à Pearl Freier. On peut noter également que Desmond-Hellmann mentionned la FDA à travers l'expression \"@US_FDA\". Dans le fichier de donnée, cette mention est enregistrée sous la variable *mentioned_names*.\n",
    "\n",
    "![x_reply_to_y.png](images/x_reply_to_y.png)\n",
    "\n"
   ]
  },
  {
   "cell_type": "code",
   "execution_count": 37,
   "id": "33cf9800",
   "metadata": {},
   "outputs": [
    {
     "data": {
      "text/html": [
       "<style type=\"text/css\">\n",
       "#T_12f4e_ caption {\n",
       "  caption-side: top;\n",
       "  color: black;\n",
       "  font-size: 14pt;\n",
       "}\n",
       "</style>\n",
       "<table id=\"T_12f4e_\">\n",
       "  <caption>Les variables \"to_username\" (replying to @username) et \"mentioned_names\" (@username) telles qu'elles se présentent dans le dataset</caption>\n",
       "  <thead>\n",
       "    <tr>\n",
       "      <th class=\"blank level0\" >&nbsp;</th>\n",
       "      <th class=\"col_heading level0 col0\" >index</th>\n",
       "      <th class=\"col_heading level0 col1\" >user_screen_name</th>\n",
       "      <th class=\"col_heading level0 col2\" >to_username</th>\n",
       "      <th class=\"col_heading level0 col3\" >mentioned_names</th>\n",
       "      <th class=\"col_heading level0 col4\" >text</th>\n",
       "      <th class=\"col_heading level0 col5\" >url</th>\n",
       "    </tr>\n",
       "  </thead>\n",
       "  <tbody>\n",
       "    <tr>\n",
       "      <th id=\"T_12f4e_level0_row0\" class=\"row_heading level0 row0\" >0</th>\n",
       "      <td id=\"T_12f4e_row0_col0\" class=\"data row0 col0\" >0</td>\n",
       "      <td id=\"T_12f4e_row0_col1\" class=\"data row0 col1\" >SueDHellmann</td>\n",
       "      <td id=\"T_12f4e_row0_col2\" class=\"data row0 col2\" >PearlF</td>\n",
       "      <td id=\"T_12f4e_row0_col3\" class=\"data row0 col3\" >pearlf|us_fda</td>\n",
       "      <td id=\"T_12f4e_row0_col4\" class=\"data row0 col4\" >@PearlF Any change that helps empower patients to make their own decisions regarding their breast health care is a win! Glad to see this from @US_FDA. #bcsm</td>\n",
       "      <td id=\"T_12f4e_row0_col5\" class=\"data row0 col5\" >https://twitter.com/SueDHellmann/statuses/1111412159768977415</td>\n",
       "    </tr>\n",
       "  </tbody>\n",
       "</table>\n"
      ],
      "text/plain": [
       "<pandas.io.formats.style.Styler at 0x7f2943f93bb0>"
      ]
     },
     "execution_count": 37,
     "metadata": {},
     "output_type": "execute_result"
    }
   ],
   "source": [
    "# Step: Keep rows where to_username is not missing\n",
    "corpus1 = corpus.loc[(corpus['to_username'].notna()) & (corpus[\"user_screen_name\"] == \"SueDHellmann\")].reset_index()\n",
    "\n",
    "\n",
    "c = corpus1[['user_screen_name', \"to_username\", \"mentioned_names\", \"text\", \"url\"]].drop_duplicates().reset_index()\n",
    "\n",
    "c_style = c.style.format(precision=0, na_rep='')\\\n",
    ".set_caption(\"Les variables \\\"to_username\\\" (replying to @username) et \\\"mentioned_names\\\" (@username) telles qu'elles se présentent dans le dataset\")\\\n",
    " .set_table_styles([{\n",
    "     'selector': 'caption',\n",
    "     'props': 'caption-side: top ; color: black ; font-size : 14pt'\n",
    " }], overwrite=False)\n",
    "c_style"
   ]
  }
 ],
 "metadata": {
  "hide_input": false,
  "kernelspec": {
   "display_name": "analyse_tweets",
   "language": "python",
   "name": "analyse_tweets"
  },
  "language_info": {
   "codemirror_mode": {
    "name": "ipython",
    "version": 3
   },
   "file_extension": ".py",
   "mimetype": "text/x-python",
   "name": "python",
   "nbconvert_exporter": "python",
   "pygments_lexer": "ipython3",
   "version": "3.9.7"
  },
  "latex_envs": {
   "LaTeX_envs_menu_present": true,
   "autoclose": false,
   "autocomplete": true,
   "bibliofile": "biblio.bib",
   "cite_by": "apalike",
   "current_citInitial": 1,
   "eqLabelWithNumbers": true,
   "eqNumInitial": 1,
   "hotkeys": {
    "equation": "Ctrl-E",
    "itemize": "Ctrl-I"
   },
   "labels_anchors": false,
   "latex_user_defs": false,
   "report_style_numbering": false,
   "user_envs_cfg": false
  },
  "toc": {
   "base_numbering": 1,
   "nav_menu": {},
   "number_sections": true,
   "sideBar": true,
   "skip_h1_title": false,
   "title_cell": "Table of Contents",
   "title_sidebar": "Contents",
   "toc_cell": false,
   "toc_position": {},
   "toc_section_display": true,
   "toc_window_display": false
  }
 },
 "nbformat": 4,
 "nbformat_minor": 5
}
