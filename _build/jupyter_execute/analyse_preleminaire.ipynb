{
 "cells": [
  {
   "cell_type": "code",
   "execution_count": 1,
   "id": "6f4279f2",
   "metadata": {
    "tags": [
     "remove-cell"
    ]
   },
   "outputs": [],
   "source": [
    "import pandas as pd\n",
    "import glob\n",
    "from matplotlib import pyplot as plt\n",
    "import numpy as np\n",
    "import plotly.express as px\n",
    "#import bamboolib"
   ]
  },
  {
   "cell_type": "code",
   "execution_count": 2,
   "id": "54b0f60a",
   "metadata": {
    "tags": [
     "remove-cell"
    ]
   },
   "outputs": [
    {
     "name": "stdout",
     "output_type": "stream",
     "text": [
      "Current directory :  /home/aymeric/python-scripts/espadon/my-espadon-notebook\n",
      "Path base :  /home/aymeric/python-scripts/espadon/data/\n"
     ]
    }
   ],
   "source": [
    "import os\n",
    "current_directory = os.getcwd()\n",
    "print(\"Current directory : \", current_directory)\n",
    "\n",
    "aymeric =  \"/home/aymeric/python-scripts/espadon/data/\" #aymeric\n",
    "jp = '~/Dropbox/Mac/Desktop/CRD Anses/all3/' # Jean Philippe\n",
    "jp_index = '~/Dropbox/Mac/Desktop/CRD Anses/code/indexation_results/' # Jean Philippe index\n",
    "\n",
    "if 'aymeric' in current_directory:\n",
    "    path_base = aymeric\n",
    "\n",
    "elif 'Mac' in current_directory:\n",
    "    path_base = jp\n",
    "elif 'd:/Projects' in current_directory:\n",
    "    path_base = \"d:/Projects/Medialab/\"\n",
    "\n",
    "print(\"Path base : \", path_base)"
   ]
  },
  {
   "cell_type": "code",
   "execution_count": 3,
   "id": "111aa647",
   "metadata": {
    "tags": [
     "remove-cell"
    ]
   },
   "outputs": [],
   "source": [
    "\n",
    "dic_id={}\n",
    "for x in [x for x in pd.read_csv(glob.glob(f'{path_base}sm/*.csv')[0]).columns if 'id' in x]:\n",
    "    dic_id[x]=str\n",
    "\n"
   ]
  },
  {
   "cell_type": "code",
   "execution_count": 4,
   "id": "50144307",
   "metadata": {
    "tags": [
     "remove-cell"
    ]
   },
   "outputs": [
    {
     "name": "stderr",
     "output_type": "stream",
     "text": [
      "/home/aymeric/anaconda3/envs/analyse_tweets/lib/python3.9/site-packages/IPython/core/interactiveshell.py:3444: DtypeWarning: Columns (0,8,10,22,28,29,30,32,40) have mixed types.Specify dtype option on import or set low_memory=False.\n",
      "  exec(code_obj, self.user_global_ns, self.user_ns)\n"
     ]
    },
    {
     "ename": "KeyboardInterrupt",
     "evalue": "",
     "output_type": "error",
     "traceback": [
      "\u001b[0;31m---------------------------------------------------------------------------\u001b[0m",
      "\u001b[0;31mKeyboardInterrupt\u001b[0m                         Traceback (most recent call last)",
      "\u001b[0;32m/tmp/ipykernel_20086/3510339592.py\u001b[0m in \u001b[0;36m<module>\u001b[0;34m\u001b[0m\n\u001b[0;32m----> 1\u001b[0;31m \u001b[0mdf0\u001b[0m\u001b[0;34m=\u001b[0m \u001b[0mpd\u001b[0m\u001b[0;34m.\u001b[0m\u001b[0mread_csv\u001b[0m\u001b[0;34m(\u001b[0m\u001b[0;34mf\"{path_base}corpus_tweets.csv\"\u001b[0m\u001b[0;34m,\u001b[0m \u001b[0msep\u001b[0m \u001b[0;34m=\u001b[0m \u001b[0;34m\",\"\u001b[0m\u001b[0;34m,\u001b[0m \u001b[0mdtype\u001b[0m \u001b[0;34m=\u001b[0m \u001b[0mdic_id\u001b[0m\u001b[0;34m)\u001b[0m\u001b[0;34m\u001b[0m\u001b[0;34m\u001b[0m\u001b[0m\n\u001b[0m",
      "\u001b[0;32m~/anaconda3/envs/analyse_tweets/lib/python3.9/site-packages/pandas/util/_decorators.py\u001b[0m in \u001b[0;36mwrapper\u001b[0;34m(*args, **kwargs)\u001b[0m\n\u001b[1;32m    309\u001b[0m                     \u001b[0mstacklevel\u001b[0m\u001b[0;34m=\u001b[0m\u001b[0mstacklevel\u001b[0m\u001b[0;34m,\u001b[0m\u001b[0;34m\u001b[0m\u001b[0;34m\u001b[0m\u001b[0m\n\u001b[1;32m    310\u001b[0m                 )\n\u001b[0;32m--> 311\u001b[0;31m             \u001b[0;32mreturn\u001b[0m \u001b[0mfunc\u001b[0m\u001b[0;34m(\u001b[0m\u001b[0;34m*\u001b[0m\u001b[0margs\u001b[0m\u001b[0;34m,\u001b[0m \u001b[0;34m**\u001b[0m\u001b[0mkwargs\u001b[0m\u001b[0;34m)\u001b[0m\u001b[0;34m\u001b[0m\u001b[0;34m\u001b[0m\u001b[0m\n\u001b[0m\u001b[1;32m    312\u001b[0m \u001b[0;34m\u001b[0m\u001b[0m\n\u001b[1;32m    313\u001b[0m         \u001b[0;32mreturn\u001b[0m \u001b[0mwrapper\u001b[0m\u001b[0;34m\u001b[0m\u001b[0;34m\u001b[0m\u001b[0m\n",
      "\u001b[0;32m~/anaconda3/envs/analyse_tweets/lib/python3.9/site-packages/pandas/io/parsers/readers.py\u001b[0m in \u001b[0;36mread_csv\u001b[0;34m(filepath_or_buffer, sep, delimiter, header, names, index_col, usecols, squeeze, prefix, mangle_dupe_cols, dtype, engine, converters, true_values, false_values, skipinitialspace, skiprows, skipfooter, nrows, na_values, keep_default_na, na_filter, verbose, skip_blank_lines, parse_dates, infer_datetime_format, keep_date_col, date_parser, dayfirst, cache_dates, iterator, chunksize, compression, thousands, decimal, lineterminator, quotechar, quoting, doublequote, escapechar, comment, encoding, encoding_errors, dialect, error_bad_lines, warn_bad_lines, on_bad_lines, delim_whitespace, low_memory, memory_map, float_precision, storage_options)\u001b[0m\n\u001b[1;32m    584\u001b[0m     \u001b[0mkwds\u001b[0m\u001b[0;34m.\u001b[0m\u001b[0mupdate\u001b[0m\u001b[0;34m(\u001b[0m\u001b[0mkwds_defaults\u001b[0m\u001b[0;34m)\u001b[0m\u001b[0;34m\u001b[0m\u001b[0;34m\u001b[0m\u001b[0m\n\u001b[1;32m    585\u001b[0m \u001b[0;34m\u001b[0m\u001b[0m\n\u001b[0;32m--> 586\u001b[0;31m     \u001b[0;32mreturn\u001b[0m \u001b[0m_read\u001b[0m\u001b[0;34m(\u001b[0m\u001b[0mfilepath_or_buffer\u001b[0m\u001b[0;34m,\u001b[0m \u001b[0mkwds\u001b[0m\u001b[0;34m)\u001b[0m\u001b[0;34m\u001b[0m\u001b[0;34m\u001b[0m\u001b[0m\n\u001b[0m\u001b[1;32m    587\u001b[0m \u001b[0;34m\u001b[0m\u001b[0m\n\u001b[1;32m    588\u001b[0m \u001b[0;34m\u001b[0m\u001b[0m\n",
      "\u001b[0;32m~/anaconda3/envs/analyse_tweets/lib/python3.9/site-packages/pandas/io/parsers/readers.py\u001b[0m in \u001b[0;36m_read\u001b[0;34m(filepath_or_buffer, kwds)\u001b[0m\n\u001b[1;32m    486\u001b[0m \u001b[0;34m\u001b[0m\u001b[0m\n\u001b[1;32m    487\u001b[0m     \u001b[0;32mwith\u001b[0m \u001b[0mparser\u001b[0m\u001b[0;34m:\u001b[0m\u001b[0;34m\u001b[0m\u001b[0;34m\u001b[0m\u001b[0m\n\u001b[0;32m--> 488\u001b[0;31m         \u001b[0;32mreturn\u001b[0m \u001b[0mparser\u001b[0m\u001b[0;34m.\u001b[0m\u001b[0mread\u001b[0m\u001b[0;34m(\u001b[0m\u001b[0mnrows\u001b[0m\u001b[0;34m)\u001b[0m\u001b[0;34m\u001b[0m\u001b[0;34m\u001b[0m\u001b[0m\n\u001b[0m\u001b[1;32m    489\u001b[0m \u001b[0;34m\u001b[0m\u001b[0m\n\u001b[1;32m    490\u001b[0m \u001b[0;34m\u001b[0m\u001b[0m\n",
      "\u001b[0;32m~/anaconda3/envs/analyse_tweets/lib/python3.9/site-packages/pandas/io/parsers/readers.py\u001b[0m in \u001b[0;36mread\u001b[0;34m(self, nrows)\u001b[0m\n\u001b[1;32m   1057\u001b[0m             \u001b[0mnew_rows\u001b[0m \u001b[0;34m=\u001b[0m \u001b[0mlen\u001b[0m\u001b[0;34m(\u001b[0m\u001b[0mindex\u001b[0m\u001b[0;34m)\u001b[0m\u001b[0;34m\u001b[0m\u001b[0;34m\u001b[0m\u001b[0m\n\u001b[1;32m   1058\u001b[0m \u001b[0;34m\u001b[0m\u001b[0m\n\u001b[0;32m-> 1059\u001b[0;31m         \u001b[0mdf\u001b[0m \u001b[0;34m=\u001b[0m \u001b[0mDataFrame\u001b[0m\u001b[0;34m(\u001b[0m\u001b[0mcol_dict\u001b[0m\u001b[0;34m,\u001b[0m \u001b[0mcolumns\u001b[0m\u001b[0;34m=\u001b[0m\u001b[0mcolumns\u001b[0m\u001b[0;34m,\u001b[0m \u001b[0mindex\u001b[0m\u001b[0;34m=\u001b[0m\u001b[0mindex\u001b[0m\u001b[0;34m)\u001b[0m\u001b[0;34m\u001b[0m\u001b[0;34m\u001b[0m\u001b[0m\n\u001b[0m\u001b[1;32m   1060\u001b[0m \u001b[0;34m\u001b[0m\u001b[0m\n\u001b[1;32m   1061\u001b[0m         \u001b[0mself\u001b[0m\u001b[0;34m.\u001b[0m\u001b[0m_currow\u001b[0m \u001b[0;34m+=\u001b[0m \u001b[0mnew_rows\u001b[0m\u001b[0;34m\u001b[0m\u001b[0;34m\u001b[0m\u001b[0m\n",
      "\u001b[0;32m~/anaconda3/envs/analyse_tweets/lib/python3.9/site-packages/pandas/core/frame.py\u001b[0m in \u001b[0;36m__init__\u001b[0;34m(self, data, index, columns, dtype, copy)\u001b[0m\n\u001b[1;32m    612\u001b[0m         \u001b[0;32melif\u001b[0m \u001b[0misinstance\u001b[0m\u001b[0;34m(\u001b[0m\u001b[0mdata\u001b[0m\u001b[0;34m,\u001b[0m \u001b[0mdict\u001b[0m\u001b[0;34m)\u001b[0m\u001b[0;34m:\u001b[0m\u001b[0;34m\u001b[0m\u001b[0;34m\u001b[0m\u001b[0m\n\u001b[1;32m    613\u001b[0m             \u001b[0;31m# GH#38939 de facto copy defaults to False only in non-dict cases\u001b[0m\u001b[0;34m\u001b[0m\u001b[0;34m\u001b[0m\u001b[0m\n\u001b[0;32m--> 614\u001b[0;31m             \u001b[0mmgr\u001b[0m \u001b[0;34m=\u001b[0m \u001b[0mdict_to_mgr\u001b[0m\u001b[0;34m(\u001b[0m\u001b[0mdata\u001b[0m\u001b[0;34m,\u001b[0m \u001b[0mindex\u001b[0m\u001b[0;34m,\u001b[0m \u001b[0mcolumns\u001b[0m\u001b[0;34m,\u001b[0m \u001b[0mdtype\u001b[0m\u001b[0;34m=\u001b[0m\u001b[0mdtype\u001b[0m\u001b[0;34m,\u001b[0m \u001b[0mcopy\u001b[0m\u001b[0;34m=\u001b[0m\u001b[0mcopy\u001b[0m\u001b[0;34m,\u001b[0m \u001b[0mtyp\u001b[0m\u001b[0;34m=\u001b[0m\u001b[0mmanager\u001b[0m\u001b[0;34m)\u001b[0m\u001b[0;34m\u001b[0m\u001b[0;34m\u001b[0m\u001b[0m\n\u001b[0m\u001b[1;32m    615\u001b[0m         \u001b[0;32melif\u001b[0m \u001b[0misinstance\u001b[0m\u001b[0;34m(\u001b[0m\u001b[0mdata\u001b[0m\u001b[0;34m,\u001b[0m \u001b[0mma\u001b[0m\u001b[0;34m.\u001b[0m\u001b[0mMaskedArray\u001b[0m\u001b[0;34m)\u001b[0m\u001b[0;34m:\u001b[0m\u001b[0;34m\u001b[0m\u001b[0;34m\u001b[0m\u001b[0m\n\u001b[1;32m    616\u001b[0m             \u001b[0;32mimport\u001b[0m \u001b[0mnumpy\u001b[0m\u001b[0;34m.\u001b[0m\u001b[0mma\u001b[0m\u001b[0;34m.\u001b[0m\u001b[0mmrecords\u001b[0m \u001b[0;32mas\u001b[0m \u001b[0mmrecords\u001b[0m\u001b[0;34m\u001b[0m\u001b[0;34m\u001b[0m\u001b[0m\n",
      "\u001b[0;32m~/anaconda3/envs/analyse_tweets/lib/python3.9/site-packages/pandas/core/internals/construction.py\u001b[0m in \u001b[0;36mdict_to_mgr\u001b[0;34m(data, index, columns, dtype, typ, copy)\u001b[0m\n\u001b[1;32m    462\u001b[0m         \u001b[0;31m# TODO: can we get rid of the dt64tz special case above?\u001b[0m\u001b[0;34m\u001b[0m\u001b[0;34m\u001b[0m\u001b[0m\n\u001b[1;32m    463\u001b[0m \u001b[0;34m\u001b[0m\u001b[0m\n\u001b[0;32m--> 464\u001b[0;31m     return arrays_to_mgr(\n\u001b[0m\u001b[1;32m    465\u001b[0m         \u001b[0marrays\u001b[0m\u001b[0;34m,\u001b[0m \u001b[0mdata_names\u001b[0m\u001b[0;34m,\u001b[0m \u001b[0mindex\u001b[0m\u001b[0;34m,\u001b[0m \u001b[0mcolumns\u001b[0m\u001b[0;34m,\u001b[0m \u001b[0mdtype\u001b[0m\u001b[0;34m=\u001b[0m\u001b[0mdtype\u001b[0m\u001b[0;34m,\u001b[0m \u001b[0mtyp\u001b[0m\u001b[0;34m=\u001b[0m\u001b[0mtyp\u001b[0m\u001b[0;34m,\u001b[0m \u001b[0mconsolidate\u001b[0m\u001b[0;34m=\u001b[0m\u001b[0mcopy\u001b[0m\u001b[0;34m\u001b[0m\u001b[0;34m\u001b[0m\u001b[0m\n\u001b[1;32m    466\u001b[0m     )\n",
      "\u001b[0;32m~/anaconda3/envs/analyse_tweets/lib/python3.9/site-packages/pandas/core/internals/construction.py\u001b[0m in \u001b[0;36marrays_to_mgr\u001b[0;34m(arrays, arr_names, index, columns, dtype, verify_integrity, typ, consolidate)\u001b[0m\n\u001b[1;32m    133\u001b[0m \u001b[0;34m\u001b[0m\u001b[0m\n\u001b[1;32m    134\u001b[0m     \u001b[0;32mif\u001b[0m \u001b[0mtyp\u001b[0m \u001b[0;34m==\u001b[0m \u001b[0;34m\"block\"\u001b[0m\u001b[0;34m:\u001b[0m\u001b[0;34m\u001b[0m\u001b[0;34m\u001b[0m\u001b[0m\n\u001b[0;32m--> 135\u001b[0;31m         return create_block_manager_from_arrays(\n\u001b[0m\u001b[1;32m    136\u001b[0m             \u001b[0marrays\u001b[0m\u001b[0;34m,\u001b[0m \u001b[0marr_names\u001b[0m\u001b[0;34m,\u001b[0m \u001b[0maxes\u001b[0m\u001b[0;34m,\u001b[0m \u001b[0mconsolidate\u001b[0m\u001b[0;34m=\u001b[0m\u001b[0mconsolidate\u001b[0m\u001b[0;34m\u001b[0m\u001b[0;34m\u001b[0m\u001b[0m\n\u001b[1;32m    137\u001b[0m         )\n",
      "\u001b[0;32m~/anaconda3/envs/analyse_tweets/lib/python3.9/site-packages/pandas/core/internals/managers.py\u001b[0m in \u001b[0;36mcreate_block_manager_from_arrays\u001b[0;34m(arrays, names, axes, consolidate)\u001b[0m\n\u001b[1;32m   1776\u001b[0m         \u001b[0;32mraise\u001b[0m \u001b[0mconstruction_error\u001b[0m\u001b[0;34m(\u001b[0m\u001b[0mlen\u001b[0m\u001b[0;34m(\u001b[0m\u001b[0marrays\u001b[0m\u001b[0;34m)\u001b[0m\u001b[0;34m,\u001b[0m \u001b[0marrays\u001b[0m\u001b[0;34m[\u001b[0m\u001b[0;36m0\u001b[0m\u001b[0;34m]\u001b[0m\u001b[0;34m.\u001b[0m\u001b[0mshape\u001b[0m\u001b[0;34m,\u001b[0m \u001b[0maxes\u001b[0m\u001b[0;34m,\u001b[0m \u001b[0me\u001b[0m\u001b[0;34m)\u001b[0m\u001b[0;34m\u001b[0m\u001b[0;34m\u001b[0m\u001b[0m\n\u001b[1;32m   1777\u001b[0m     \u001b[0;32mif\u001b[0m \u001b[0mconsolidate\u001b[0m\u001b[0;34m:\u001b[0m\u001b[0;34m\u001b[0m\u001b[0;34m\u001b[0m\u001b[0m\n\u001b[0;32m-> 1778\u001b[0;31m         \u001b[0mmgr\u001b[0m\u001b[0;34m.\u001b[0m\u001b[0m_consolidate_inplace\u001b[0m\u001b[0;34m(\u001b[0m\u001b[0;34m)\u001b[0m\u001b[0;34m\u001b[0m\u001b[0;34m\u001b[0m\u001b[0m\n\u001b[0m\u001b[1;32m   1779\u001b[0m     \u001b[0;32mreturn\u001b[0m \u001b[0mmgr\u001b[0m\u001b[0;34m\u001b[0m\u001b[0;34m\u001b[0m\u001b[0m\n\u001b[1;32m   1780\u001b[0m \u001b[0;34m\u001b[0m\u001b[0m\n",
      "\u001b[0;32m~/anaconda3/envs/analyse_tweets/lib/python3.9/site-packages/pandas/core/internals/managers.py\u001b[0m in \u001b[0;36m_consolidate_inplace\u001b[0;34m(self)\u001b[0m\n\u001b[1;32m    622\u001b[0m     \u001b[0;32mdef\u001b[0m \u001b[0m_consolidate_inplace\u001b[0m\u001b[0;34m(\u001b[0m\u001b[0mself\u001b[0m\u001b[0;34m)\u001b[0m \u001b[0;34m->\u001b[0m \u001b[0;32mNone\u001b[0m\u001b[0;34m:\u001b[0m\u001b[0;34m\u001b[0m\u001b[0;34m\u001b[0m\u001b[0m\n\u001b[1;32m    623\u001b[0m         \u001b[0;32mif\u001b[0m \u001b[0;32mnot\u001b[0m \u001b[0mself\u001b[0m\u001b[0;34m.\u001b[0m\u001b[0mis_consolidated\u001b[0m\u001b[0;34m(\u001b[0m\u001b[0;34m)\u001b[0m\u001b[0;34m:\u001b[0m\u001b[0;34m\u001b[0m\u001b[0;34m\u001b[0m\u001b[0m\n\u001b[0;32m--> 624\u001b[0;31m             \u001b[0mself\u001b[0m\u001b[0;34m.\u001b[0m\u001b[0mblocks\u001b[0m \u001b[0;34m=\u001b[0m \u001b[0mtuple\u001b[0m\u001b[0;34m(\u001b[0m\u001b[0m_consolidate\u001b[0m\u001b[0;34m(\u001b[0m\u001b[0mself\u001b[0m\u001b[0;34m.\u001b[0m\u001b[0mblocks\u001b[0m\u001b[0;34m)\u001b[0m\u001b[0;34m)\u001b[0m\u001b[0;34m\u001b[0m\u001b[0;34m\u001b[0m\u001b[0m\n\u001b[0m\u001b[1;32m    625\u001b[0m             \u001b[0mself\u001b[0m\u001b[0;34m.\u001b[0m\u001b[0m_is_consolidated\u001b[0m \u001b[0;34m=\u001b[0m \u001b[0;32mTrue\u001b[0m\u001b[0;34m\u001b[0m\u001b[0;34m\u001b[0m\u001b[0m\n\u001b[1;32m    626\u001b[0m             \u001b[0mself\u001b[0m\u001b[0;34m.\u001b[0m\u001b[0m_known_consolidated\u001b[0m \u001b[0;34m=\u001b[0m \u001b[0;32mTrue\u001b[0m\u001b[0;34m\u001b[0m\u001b[0;34m\u001b[0m\u001b[0m\n",
      "\u001b[0;32m~/anaconda3/envs/analyse_tweets/lib/python3.9/site-packages/pandas/core/internals/managers.py\u001b[0m in \u001b[0;36m_consolidate\u001b[0;34m(blocks)\u001b[0m\n\u001b[1;32m   1972\u001b[0m     \u001b[0mnew_blocks\u001b[0m\u001b[0;34m:\u001b[0m \u001b[0mlist\u001b[0m\u001b[0;34m[\u001b[0m\u001b[0mBlock\u001b[0m\u001b[0;34m]\u001b[0m \u001b[0;34m=\u001b[0m \u001b[0;34m[\u001b[0m\u001b[0;34m]\u001b[0m\u001b[0;34m\u001b[0m\u001b[0;34m\u001b[0m\u001b[0m\n\u001b[1;32m   1973\u001b[0m     \u001b[0;32mfor\u001b[0m \u001b[0;34m(\u001b[0m\u001b[0m_can_consolidate\u001b[0m\u001b[0;34m,\u001b[0m \u001b[0mdtype\u001b[0m\u001b[0;34m)\u001b[0m\u001b[0;34m,\u001b[0m \u001b[0mgroup_blocks\u001b[0m \u001b[0;32min\u001b[0m \u001b[0mgrouper\u001b[0m\u001b[0;34m:\u001b[0m\u001b[0;34m\u001b[0m\u001b[0;34m\u001b[0m\u001b[0m\n\u001b[0;32m-> 1974\u001b[0;31m         merged_blocks = _merge_blocks(\n\u001b[0m\u001b[1;32m   1975\u001b[0m             \u001b[0mlist\u001b[0m\u001b[0;34m(\u001b[0m\u001b[0mgroup_blocks\u001b[0m\u001b[0;34m)\u001b[0m\u001b[0;34m,\u001b[0m \u001b[0mdtype\u001b[0m\u001b[0;34m=\u001b[0m\u001b[0mdtype\u001b[0m\u001b[0;34m,\u001b[0m \u001b[0mcan_consolidate\u001b[0m\u001b[0;34m=\u001b[0m\u001b[0m_can_consolidate\u001b[0m\u001b[0;34m\u001b[0m\u001b[0;34m\u001b[0m\u001b[0m\n\u001b[1;32m   1976\u001b[0m         )\n",
      "\u001b[0;32m~/anaconda3/envs/analyse_tweets/lib/python3.9/site-packages/pandas/core/internals/managers.py\u001b[0m in \u001b[0;36m_merge_blocks\u001b[0;34m(blocks, dtype, can_consolidate)\u001b[0m\n\u001b[1;32m   2006\u001b[0m \u001b[0;34m\u001b[0m\u001b[0m\n\u001b[1;32m   2007\u001b[0m         \u001b[0margsort\u001b[0m \u001b[0;34m=\u001b[0m \u001b[0mnp\u001b[0m\u001b[0;34m.\u001b[0m\u001b[0margsort\u001b[0m\u001b[0;34m(\u001b[0m\u001b[0mnew_mgr_locs\u001b[0m\u001b[0;34m)\u001b[0m\u001b[0;34m\u001b[0m\u001b[0;34m\u001b[0m\u001b[0m\n\u001b[0;32m-> 2008\u001b[0;31m         \u001b[0mnew_values\u001b[0m \u001b[0;34m=\u001b[0m \u001b[0mnew_values\u001b[0m\u001b[0;34m[\u001b[0m\u001b[0margsort\u001b[0m\u001b[0;34m]\u001b[0m\u001b[0;34m\u001b[0m\u001b[0;34m\u001b[0m\u001b[0m\n\u001b[0m\u001b[1;32m   2009\u001b[0m         \u001b[0mnew_mgr_locs\u001b[0m \u001b[0;34m=\u001b[0m \u001b[0mnew_mgr_locs\u001b[0m\u001b[0;34m[\u001b[0m\u001b[0margsort\u001b[0m\u001b[0;34m]\u001b[0m\u001b[0;34m\u001b[0m\u001b[0;34m\u001b[0m\u001b[0m\n\u001b[1;32m   2010\u001b[0m \u001b[0;34m\u001b[0m\u001b[0m\n",
      "\u001b[0;31mKeyboardInterrupt\u001b[0m: "
     ]
    }
   ],
   "source": [
    "df0= pd.read_csv(f\"{path_base}corpus_tweets.csv\", sep = \",\", dtype = dic_id)"
   ]
  },
  {
   "cell_type": "code",
   "execution_count": 5,
   "id": "d7433df4",
   "metadata": {
    "tags": [
     "remove-cell"
    ]
   },
   "outputs": [],
   "source": [
    "\n",
    "#users = pd.read_csv('../outcome/user_sm_predicted.csv',dtype=dic_id) #jean-philippe\n",
    "users = pd.read_csv(f'{path_base}recoded_user_sm_predicted.csv',dtype=dic_id)\n"
   ]
  },
  {
   "cell_type": "code",
   "execution_count": 6,
   "id": "04321f0d",
   "metadata": {
    "tags": [
     "remove-cell"
    ]
   },
   "outputs": [],
   "source": [
    "df0 = df0[['query', 'id', 'timestamp_utc', 'local_time',\n",
    "           'user_screen_name', 'text',  'user_location',  'user_id', 'user_name',\n",
    "           'ROS1', 'ALK', 'EXON', 'EGFR', 'KRAS', 'NTRK',\n",
    "           'BRAF', 'MET', 'RET', 'HER2', 'date']]"
   ]
  },
  {
   "cell_type": "code",
   "execution_count": 7,
   "id": "394b72a4",
   "metadata": {
    "tags": [
     "remove-cell"
    ]
   },
   "outputs": [],
   "source": [
    "df0['date'] = pd.to_datetime(pd.to_datetime(df0['date']).dt.date)\n",
    "df0['Year'] = df0['date'].dt.year\n"
   ]
  },
  {
   "cell_type": "code",
   "execution_count": 8,
   "id": "8e7b0f9d",
   "metadata": {
    "tags": [
     "remove-cell"
    ]
   },
   "outputs": [],
   "source": [
    "df=df0.merge(users,on=['user_id'], how = \"inner\")#how = inner by default\n"
   ]
  },
  {
   "cell_type": "code",
   "execution_count": 10,
   "id": "e2e5e8ed",
   "metadata": {
    "tags": [
     "remove-cell"
    ]
   },
   "outputs": [],
   "source": [
    "def time_series(time_length, x, what):\n",
    "    if what == \"user_id\":\n",
    "        df_user = df.drop_duplicates(subset = [time_length, \"user_id\"])\n",
    "        timeseries = df_user.groupby([time_length, x]).agg(nb_user_by_group = (\"user_id\", \"count\")).reset_index()\n",
    "        dfdate = df_user.groupby([time_length]).agg(nb_user = (\"user_id\", \"count\")).reset_index()\n",
    "        timeseries = timeseries.merge(dfdate, on = [time_length], how = \"left\")\n",
    "        timeseries[\"prop\"] = timeseries[\"nb_user_by_group\"]/timeseries[\"nb_user\"]*100\n",
    "    elif what == \"id\":\n",
    "        df_user = df.drop_duplicates(subset = [time_length, \"user_id\"])\n",
    "        time_author = df_user.groupby([time_length, x]).agg(nb_user_by_group = (\"user_id\", \"count\")).reset_index()\n",
    "        timeseries = df.groupby([time_length, x]).agg(nb_tweets_by_group = (\"id\", \"count\")).reset_index()\n",
    "        \n",
    "        dfdate = df.groupby([time_length]).agg(nb_tweets = (\"id\", \"count\")).reset_index()\n",
    "        timeseries = timeseries.merge(dfdate, on = [time_length], how = \"left\")\n",
    "        timeseries = timeseries.merge(time_author.drop(columns = [x]), on = [time_length], how = \"left\")\n",
    "        timeseries[\"prop\"] = timeseries[\"nb_tweets_by_group\"]/timeseries[\"nb_tweets\"]*100\n",
    "        timeseries[\"average_publication\"] = timeseries[\"nb_tweets_by_group\"]/timeseries[\"nb_user_by_group\"]\n",
    "        \n",
    "    \n",
    "    \n",
    "    return(timeseries)"
   ]
  },
  {
   "cell_type": "markdown",
   "id": "c8298bb2",
   "metadata": {},
   "source": [
    "# Quelques graphiques\n",
    "\n",
    "Les différents graphiques qui suivent donne un aperçu de la distribution dans le temps des rôles et des références aux différents biomarqueurs.\n",
    "\n",
    "## Des professionnels de plus en plus présents\n",
    "\n",
    "L'analyse de la distribution des rôles montre la présence croissante des professionnels, en particulier des oncologues (*oncologists*) et, dans une moindre, des chercheurs. Alors que les oncologues représentent un peu moins de 5% des comptes en 2012, ils constituent environ 27% des comptes en 2020. La part des professionnel de santé (*health professional*) semble quant à elle relativement stable dans le temps. La proportion de comptes jouant les rôles de patients, c'est-à-dire les *survivors* et les *cancer patient*, ne dépasse pas les 10% sur toutes la périodes. On observe également une faible représentation des \"défenseurs de causes\" (*advocacy*). Rappelons toutefois que cette catégorie comprend les comptes qui ne jouent pas d'autres rôles. Par exemple, un \"survivant\" qui a été annoté également comme un défenseur de cause (*advocacy*) sera compté parmi les patients et non les *advocacy*.\n"
   ]
  },
  {
   "cell_type": "code",
   "execution_count": 35,
   "id": "561acffb",
   "metadata": {
    "tags": [
     "remove-input"
    ]
   },
   "outputs": [
    {
     "data": {
      "application/vnd.plotly.v1+json": {
       "config": {
        "plotlyServerURL": "https://plot.ly"
       },
       "data": [
        {
         "fillpattern": {
          "shape": ""
         },
         "hovertemplate": "User_role2=Advocacy<br>Year=%{x}<br>prop=%{y}<extra></extra>",
         "legendgroup": "Advocacy",
         "line": {
          "color": "#636efa"
         },
         "marker": {
          "symbol": "circle"
         },
         "mode": "lines",
         "name": "Advocacy",
         "orientation": "v",
         "showlegend": true,
         "stackgroup": "1",
         "type": "scatter",
         "x": [
          2009,
          2011,
          2012,
          2013,
          2014,
          2015,
          2016,
          2017,
          2018,
          2019,
          2020,
          2021
         ],
         "xaxis": "x",
         "y": [
          20,
          4.885057471264368,
          5.46448087431694,
          5.660377358490567,
          6.20375640295959,
          5.707070707070707,
          5.4945054945054945,
          5.305542396968262,
          5.403123680878007,
          4.754541940471588,
          4.774637127578304,
          4.887543252595155
         ],
         "yaxis": "y"
        },
        {
         "fillpattern": {
          "shape": "/"
         },
         "hovertemplate": "User_role2=Other<br>Year=%{x}<br>prop=%{y}<extra></extra>",
         "legendgroup": "Other",
         "line": {
          "color": "#EF553B"
         },
         "marker": {
          "symbol": "circle"
         },
         "mode": "lines",
         "name": "Other",
         "orientation": "v",
         "showlegend": true,
         "stackgroup": "1",
         "type": "scatter",
         "x": [
          2009,
          2010,
          2011,
          2012,
          2013,
          2014,
          2015,
          2016,
          2017,
          2018,
          2019,
          2020,
          2021
         ],
         "xaxis": "x",
         "y": [
          80,
          96.15384615384616,
          44.252873563218394,
          36.47540983606557,
          27.9874213836478,
          24.188958451906657,
          19.393939393939394,
          16.53129479216436,
          15.537659876835622,
          12.325875897002955,
          10.97796675686123,
          9.969442322383498,
          9.126297577854672
         ],
         "yaxis": "y"
        },
        {
         "fillpattern": {
          "shape": "\\"
         },
         "hovertemplate": "User_role2=NPO<br>Year=%{x}<br>prop=%{y}<extra></extra>",
         "legendgroup": "NPO",
         "line": {
          "color": "#00cc96"
         },
         "marker": {
          "symbol": "circle"
         },
         "mode": "lines",
         "name": "NPO",
         "orientation": "v",
         "showlegend": true,
         "stackgroup": "1",
         "type": "scatter",
         "x": [
          2010,
          2011,
          2012,
          2013,
          2014,
          2015,
          2016,
          2017,
          2018,
          2019,
          2020,
          2021
         ],
         "xaxis": "x",
         "y": [
          3.8461538461538463,
          5.172413793103448,
          7.786885245901639,
          10.455974842767295,
          11.952191235059761,
          12.525252525252526,
          11.084567606306736,
          9.900521080056846,
          9.413254537779654,
          9.045226130653267,
          8.55614973262032,
          8.477508650519031
         ],
         "yaxis": "y"
        },
        {
         "fillpattern": {
          "shape": "x"
         },
         "hovertemplate": "User_role2=Cancer patient<br>Year=%{x}<br>prop=%{y}<extra></extra>",
         "legendgroup": "Cancer patient",
         "line": {
          "color": "#ab63fa"
         },
         "marker": {
          "symbol": "circle"
         },
         "mode": "lines",
         "name": "Cancer patient",
         "orientation": "v",
         "showlegend": true,
         "stackgroup": "1",
         "type": "scatter",
         "x": [
          2011,
          2012,
          2013,
          2014,
          2015,
          2016,
          2017,
          2018,
          2019,
          2020,
          2021
         ],
         "xaxis": "x",
         "y": [
          8.045977011494253,
          10.10928961748634,
          8.333333333333332,
          7.569721115537849,
          7.575757575757576,
          7.357859531772576,
          7.768829938417811,
          7.5137188687209795,
          7.112485504445304,
          7.295645530939648,
          7.2231833910034595
         ],
         "yaxis": "y"
        },
        {
         "fillpattern": {
          "shape": "+"
         },
         "hovertemplate": "User_role2=Health center<br>Year=%{x}<br>prop=%{y}<extra></extra>",
         "legendgroup": "Health center",
         "line": {
          "color": "#FFA15A"
         },
         "marker": {
          "symbol": "circle"
         },
         "mode": "lines",
         "name": "Health center",
         "orientation": "v",
         "showlegend": true,
         "stackgroup": "1",
         "type": "scatter",
         "x": [
          2011,
          2012,
          2013,
          2014,
          2015,
          2016,
          2017,
          2018,
          2019,
          2020,
          2021
         ],
         "xaxis": "x",
         "y": [
          2.2988505747126435,
          3.0054644808743167,
          4.009433962264151,
          5.293113261240752,
          5.252525252525253,
          4.968944099378882,
          4.831833254381809,
          4.727733220768257,
          4.561267877850792,
          4.583651642475172,
          5.060553633217993
         ],
         "yaxis": "y"
        },
        {
         "fillpattern": {
          "shape": "."
         },
         "hovertemplate": "User_role2=Health professional<br>Year=%{x}<br>prop=%{y}<extra></extra>",
         "legendgroup": "Health professional",
         "line": {
          "color": "#19d3f3"
         },
         "marker": {
          "symbol": "circle"
         },
         "mode": "lines",
         "name": "Health professional",
         "orientation": "v",
         "showlegend": true,
         "stackgroup": "1",
         "type": "scatter",
         "x": [
          2011,
          2012,
          2013,
          2014,
          2015,
          2016,
          2017,
          2018,
          2019,
          2020,
          2021
         ],
         "xaxis": "x",
         "y": [
          6.896551724137931,
          6.967213114754098,
          7.547169811320755,
          7.000569151963575,
          6.666666666666667,
          7.071189679885332,
          7.010895310279489,
          7.3026593499366825,
          6.803247004252029,
          6.760886172650879,
          6.531141868512111
         ],
         "yaxis": "y"
        },
        {
         "fillpattern": {
          "shape": ""
         },
         "hovertemplate": "User_role2=Industry<br>Year=%{x}<br>prop=%{y}<extra></extra>",
         "legendgroup": "Industry",
         "line": {
          "color": "#FF6692"
         },
         "marker": {
          "symbol": "circle"
         },
         "mode": "lines",
         "name": "Industry",
         "orientation": "v",
         "showlegend": true,
         "stackgroup": "1",
         "type": "scatter",
         "x": [
          2011,
          2012,
          2013,
          2014,
          2015,
          2016,
          2017,
          2018,
          2019,
          2020,
          2021
         ],
         "xaxis": "x",
         "y": [
          4.022988505747127,
          4.098360655737705,
          5.188679245283019,
          5.2361980648833235,
          6.4141414141414135,
          6.6411849020544675,
          5.589767882520133,
          5.0654284508231315,
          4.831851565519908,
          5.347593582887701,
          5.493079584775087
         ],
         "yaxis": "y"
        },
        {
         "fillpattern": {
          "shape": "/"
         },
         "hovertemplate": "User_role2=Media<br>Year=%{x}<br>prop=%{y}<extra></extra>",
         "legendgroup": "Media",
         "line": {
          "color": "#B6E880"
         },
         "marker": {
          "symbol": "circle"
         },
         "mode": "lines",
         "name": "Media",
         "orientation": "v",
         "showlegend": true,
         "stackgroup": "1",
         "type": "scatter",
         "x": [
          2011,
          2012,
          2013,
          2014,
          2015,
          2016,
          2017,
          2018,
          2019,
          2020,
          2021
         ],
         "xaxis": "x",
         "y": [
          5.459770114942529,
          4.781420765027322,
          5.660377358490567,
          5.9760956175298805,
          7.424242424242425,
          8.600095556617296,
          7.816200852676457,
          7.766990291262135,
          7.421724004638578,
          7.142857142857142,
          7.396193771626297
         ],
         "yaxis": "y"
        },
        {
         "fillpattern": {
          "shape": "\\"
         },
         "hovertemplate": "User_role2=Oncologist<br>Year=%{x}<br>prop=%{y}<extra></extra>",
         "legendgroup": "Oncologist",
         "line": {
          "color": "#FF97FF"
         },
         "marker": {
          "symbol": "circle"
         },
         "mode": "lines",
         "name": "Oncologist",
         "orientation": "v",
         "showlegend": true,
         "stackgroup": "1",
         "type": "scatter",
         "x": [
          2011,
          2012,
          2013,
          2014,
          2015,
          2016,
          2017,
          2018,
          2019,
          2020,
          2021
         ],
         "xaxis": "x",
         "y": [
          2.586206896551724,
          3.1420765027322406,
          6.289308176100629,
          9.504837791690383,
          11.666666666666666,
          14.524605828953655,
          18.80625296068214,
          23.343182777543266,
          26.942404329339002,
          27.84568372803667,
          28.28719723183391
         ],
         "yaxis": "y"
        },
        {
         "fillpattern": {
          "shape": "x"
         },
         "hovertemplate": "User_role2=Researcher<br>Year=%{x}<br>prop=%{y}<extra></extra>",
         "legendgroup": "Researcher",
         "line": {
          "color": "#FECB52"
         },
         "marker": {
          "symbol": "circle"
         },
         "mode": "lines",
         "name": "Researcher",
         "orientation": "v",
         "showlegend": true,
         "stackgroup": "1",
         "type": "scatter",
         "x": [
          2011,
          2012,
          2013,
          2014,
          2015,
          2016,
          2017,
          2018,
          2019,
          2020,
          2021
         ],
         "xaxis": "x",
         "y": [
          1.1494252873563218,
          1.2295081967213115,
          2.20125786163522,
          2.5042686397268072,
          3.1313131313131315,
          3.487816531294792,
          3.6001894836570347,
          4.1367665681722245,
          4.638577502899111,
          4.889228418640183,
          5.147058823529411
         ],
         "yaxis": "y"
        },
        {
         "fillpattern": {
          "shape": "+"
         },
         "hovertemplate": "User_role2=Survivor<br>Year=%{x}<br>prop=%{y}<extra></extra>",
         "legendgroup": "Survivor",
         "line": {
          "color": "#636efa"
         },
         "marker": {
          "symbol": "circle"
         },
         "mode": "lines",
         "name": "Survivor",
         "orientation": "v",
         "showlegend": true,
         "stackgroup": "1",
         "type": "scatter",
         "x": [
          2011,
          2012,
          2013,
          2014,
          2015,
          2016,
          2017,
          2018,
          2019,
          2020,
          2021
         ],
         "xaxis": "x",
         "y": [
          9.482758620689655,
          10.10928961748634,
          8.49056603773585,
          7.171314741035857,
          6.8686868686868685,
          6.880076445293836,
          6.726669824727617,
          5.867454622203462,
          5.836876691148047,
          5.729564553093964,
          5.406574394463668
         ],
         "yaxis": "y"
        },
        {
         "fillpattern": {
          "shape": "."
         },
         "hovertemplate": "User_role2=Undefined<br>Year=%{x}<br>prop=%{y}<extra></extra>",
         "legendgroup": "Undefined",
         "line": {
          "color": "#EF553B"
         },
         "marker": {
          "symbol": "circle"
         },
         "mode": "lines",
         "name": "Undefined",
         "orientation": "v",
         "showlegend": true,
         "stackgroup": "1",
         "type": "scatter",
         "x": [
          2011,
          2012,
          2013,
          2014,
          2015,
          2016,
          2017,
          2018,
          2019,
          2020,
          2021
         ],
         "xaxis": "x",
         "y": [
          5.747126436781609,
          6.830601092896176,
          8.176100628930817,
          7.398975526465566,
          7.373737373737374,
          7.357859531772576,
          7.105637138796779,
          7.133811734909244,
          7.073830691921144,
          7.104660045836517,
          6.963667820069204
         ],
         "yaxis": "y"
        }
       ],
       "layout": {
        "legend": {
         "title": {
          "text": "User_role2"
         },
         "tracegroupgap": 0
        },
        "template": {
         "data": {
          "bar": [
           {
            "error_x": {
             "color": "#2a3f5f"
            },
            "error_y": {
             "color": "#2a3f5f"
            },
            "marker": {
             "line": {
              "color": "#E5ECF6",
              "width": 0.5
             },
             "pattern": {
              "fillmode": "overlay",
              "size": 10,
              "solidity": 0.2
             }
            },
            "type": "bar"
           }
          ],
          "barpolar": [
           {
            "marker": {
             "line": {
              "color": "#E5ECF6",
              "width": 0.5
             },
             "pattern": {
              "fillmode": "overlay",
              "size": 10,
              "solidity": 0.2
             }
            },
            "type": "barpolar"
           }
          ],
          "carpet": [
           {
            "aaxis": {
             "endlinecolor": "#2a3f5f",
             "gridcolor": "white",
             "linecolor": "white",
             "minorgridcolor": "white",
             "startlinecolor": "#2a3f5f"
            },
            "baxis": {
             "endlinecolor": "#2a3f5f",
             "gridcolor": "white",
             "linecolor": "white",
             "minorgridcolor": "white",
             "startlinecolor": "#2a3f5f"
            },
            "type": "carpet"
           }
          ],
          "choropleth": [
           {
            "colorbar": {
             "outlinewidth": 0,
             "ticks": ""
            },
            "type": "choropleth"
           }
          ],
          "contour": [
           {
            "colorbar": {
             "outlinewidth": 0,
             "ticks": ""
            },
            "colorscale": [
             [
              0,
              "#0d0887"
             ],
             [
              0.1111111111111111,
              "#46039f"
             ],
             [
              0.2222222222222222,
              "#7201a8"
             ],
             [
              0.3333333333333333,
              "#9c179e"
             ],
             [
              0.4444444444444444,
              "#bd3786"
             ],
             [
              0.5555555555555556,
              "#d8576b"
             ],
             [
              0.6666666666666666,
              "#ed7953"
             ],
             [
              0.7777777777777778,
              "#fb9f3a"
             ],
             [
              0.8888888888888888,
              "#fdca26"
             ],
             [
              1,
              "#f0f921"
             ]
            ],
            "type": "contour"
           }
          ],
          "contourcarpet": [
           {
            "colorbar": {
             "outlinewidth": 0,
             "ticks": ""
            },
            "type": "contourcarpet"
           }
          ],
          "heatmap": [
           {
            "colorbar": {
             "outlinewidth": 0,
             "ticks": ""
            },
            "colorscale": [
             [
              0,
              "#0d0887"
             ],
             [
              0.1111111111111111,
              "#46039f"
             ],
             [
              0.2222222222222222,
              "#7201a8"
             ],
             [
              0.3333333333333333,
              "#9c179e"
             ],
             [
              0.4444444444444444,
              "#bd3786"
             ],
             [
              0.5555555555555556,
              "#d8576b"
             ],
             [
              0.6666666666666666,
              "#ed7953"
             ],
             [
              0.7777777777777778,
              "#fb9f3a"
             ],
             [
              0.8888888888888888,
              "#fdca26"
             ],
             [
              1,
              "#f0f921"
             ]
            ],
            "type": "heatmap"
           }
          ],
          "heatmapgl": [
           {
            "colorbar": {
             "outlinewidth": 0,
             "ticks": ""
            },
            "colorscale": [
             [
              0,
              "#0d0887"
             ],
             [
              0.1111111111111111,
              "#46039f"
             ],
             [
              0.2222222222222222,
              "#7201a8"
             ],
             [
              0.3333333333333333,
              "#9c179e"
             ],
             [
              0.4444444444444444,
              "#bd3786"
             ],
             [
              0.5555555555555556,
              "#d8576b"
             ],
             [
              0.6666666666666666,
              "#ed7953"
             ],
             [
              0.7777777777777778,
              "#fb9f3a"
             ],
             [
              0.8888888888888888,
              "#fdca26"
             ],
             [
              1,
              "#f0f921"
             ]
            ],
            "type": "heatmapgl"
           }
          ],
          "histogram": [
           {
            "marker": {
             "pattern": {
              "fillmode": "overlay",
              "size": 10,
              "solidity": 0.2
             }
            },
            "type": "histogram"
           }
          ],
          "histogram2d": [
           {
            "colorbar": {
             "outlinewidth": 0,
             "ticks": ""
            },
            "colorscale": [
             [
              0,
              "#0d0887"
             ],
             [
              0.1111111111111111,
              "#46039f"
             ],
             [
              0.2222222222222222,
              "#7201a8"
             ],
             [
              0.3333333333333333,
              "#9c179e"
             ],
             [
              0.4444444444444444,
              "#bd3786"
             ],
             [
              0.5555555555555556,
              "#d8576b"
             ],
             [
              0.6666666666666666,
              "#ed7953"
             ],
             [
              0.7777777777777778,
              "#fb9f3a"
             ],
             [
              0.8888888888888888,
              "#fdca26"
             ],
             [
              1,
              "#f0f921"
             ]
            ],
            "type": "histogram2d"
           }
          ],
          "histogram2dcontour": [
           {
            "colorbar": {
             "outlinewidth": 0,
             "ticks": ""
            },
            "colorscale": [
             [
              0,
              "#0d0887"
             ],
             [
              0.1111111111111111,
              "#46039f"
             ],
             [
              0.2222222222222222,
              "#7201a8"
             ],
             [
              0.3333333333333333,
              "#9c179e"
             ],
             [
              0.4444444444444444,
              "#bd3786"
             ],
             [
              0.5555555555555556,
              "#d8576b"
             ],
             [
              0.6666666666666666,
              "#ed7953"
             ],
             [
              0.7777777777777778,
              "#fb9f3a"
             ],
             [
              0.8888888888888888,
              "#fdca26"
             ],
             [
              1,
              "#f0f921"
             ]
            ],
            "type": "histogram2dcontour"
           }
          ],
          "mesh3d": [
           {
            "colorbar": {
             "outlinewidth": 0,
             "ticks": ""
            },
            "type": "mesh3d"
           }
          ],
          "parcoords": [
           {
            "line": {
             "colorbar": {
              "outlinewidth": 0,
              "ticks": ""
             }
            },
            "type": "parcoords"
           }
          ],
          "pie": [
           {
            "automargin": true,
            "type": "pie"
           }
          ],
          "scatter": [
           {
            "fillpattern": {
             "fillmode": "overlay",
             "size": 10,
             "solidity": 0.2
            },
            "type": "scatter"
           }
          ],
          "scatter3d": [
           {
            "line": {
             "colorbar": {
              "outlinewidth": 0,
              "ticks": ""
             }
            },
            "marker": {
             "colorbar": {
              "outlinewidth": 0,
              "ticks": ""
             }
            },
            "type": "scatter3d"
           }
          ],
          "scattercarpet": [
           {
            "marker": {
             "colorbar": {
              "outlinewidth": 0,
              "ticks": ""
             }
            },
            "type": "scattercarpet"
           }
          ],
          "scattergeo": [
           {
            "marker": {
             "colorbar": {
              "outlinewidth": 0,
              "ticks": ""
             }
            },
            "type": "scattergeo"
           }
          ],
          "scattergl": [
           {
            "marker": {
             "colorbar": {
              "outlinewidth": 0,
              "ticks": ""
             }
            },
            "type": "scattergl"
           }
          ],
          "scattermapbox": [
           {
            "marker": {
             "colorbar": {
              "outlinewidth": 0,
              "ticks": ""
             }
            },
            "type": "scattermapbox"
           }
          ],
          "scatterpolar": [
           {
            "marker": {
             "colorbar": {
              "outlinewidth": 0,
              "ticks": ""
             }
            },
            "type": "scatterpolar"
           }
          ],
          "scatterpolargl": [
           {
            "marker": {
             "colorbar": {
              "outlinewidth": 0,
              "ticks": ""
             }
            },
            "type": "scatterpolargl"
           }
          ],
          "scatterternary": [
           {
            "marker": {
             "colorbar": {
              "outlinewidth": 0,
              "ticks": ""
             }
            },
            "type": "scatterternary"
           }
          ],
          "surface": [
           {
            "colorbar": {
             "outlinewidth": 0,
             "ticks": ""
            },
            "colorscale": [
             [
              0,
              "#0d0887"
             ],
             [
              0.1111111111111111,
              "#46039f"
             ],
             [
              0.2222222222222222,
              "#7201a8"
             ],
             [
              0.3333333333333333,
              "#9c179e"
             ],
             [
              0.4444444444444444,
              "#bd3786"
             ],
             [
              0.5555555555555556,
              "#d8576b"
             ],
             [
              0.6666666666666666,
              "#ed7953"
             ],
             [
              0.7777777777777778,
              "#fb9f3a"
             ],
             [
              0.8888888888888888,
              "#fdca26"
             ],
             [
              1,
              "#f0f921"
             ]
            ],
            "type": "surface"
           }
          ],
          "table": [
           {
            "cells": {
             "fill": {
              "color": "#EBF0F8"
             },
             "line": {
              "color": "white"
             }
            },
            "header": {
             "fill": {
              "color": "#C8D4E3"
             },
             "line": {
              "color": "white"
             }
            },
            "type": "table"
           }
          ]
         },
         "layout": {
          "annotationdefaults": {
           "arrowcolor": "#2a3f5f",
           "arrowhead": 0,
           "arrowwidth": 1
          },
          "autotypenumbers": "strict",
          "coloraxis": {
           "colorbar": {
            "outlinewidth": 0,
            "ticks": ""
           }
          },
          "colorscale": {
           "diverging": [
            [
             0,
             "#8e0152"
            ],
            [
             0.1,
             "#c51b7d"
            ],
            [
             0.2,
             "#de77ae"
            ],
            [
             0.3,
             "#f1b6da"
            ],
            [
             0.4,
             "#fde0ef"
            ],
            [
             0.5,
             "#f7f7f7"
            ],
            [
             0.6,
             "#e6f5d0"
            ],
            [
             0.7,
             "#b8e186"
            ],
            [
             0.8,
             "#7fbc41"
            ],
            [
             0.9,
             "#4d9221"
            ],
            [
             1,
             "#276419"
            ]
           ],
           "sequential": [
            [
             0,
             "#0d0887"
            ],
            [
             0.1111111111111111,
             "#46039f"
            ],
            [
             0.2222222222222222,
             "#7201a8"
            ],
            [
             0.3333333333333333,
             "#9c179e"
            ],
            [
             0.4444444444444444,
             "#bd3786"
            ],
            [
             0.5555555555555556,
             "#d8576b"
            ],
            [
             0.6666666666666666,
             "#ed7953"
            ],
            [
             0.7777777777777778,
             "#fb9f3a"
            ],
            [
             0.8888888888888888,
             "#fdca26"
            ],
            [
             1,
             "#f0f921"
            ]
           ],
           "sequentialminus": [
            [
             0,
             "#0d0887"
            ],
            [
             0.1111111111111111,
             "#46039f"
            ],
            [
             0.2222222222222222,
             "#7201a8"
            ],
            [
             0.3333333333333333,
             "#9c179e"
            ],
            [
             0.4444444444444444,
             "#bd3786"
            ],
            [
             0.5555555555555556,
             "#d8576b"
            ],
            [
             0.6666666666666666,
             "#ed7953"
            ],
            [
             0.7777777777777778,
             "#fb9f3a"
            ],
            [
             0.8888888888888888,
             "#fdca26"
            ],
            [
             1,
             "#f0f921"
            ]
           ]
          },
          "colorway": [
           "#636efa",
           "#EF553B",
           "#00cc96",
           "#ab63fa",
           "#FFA15A",
           "#19d3f3",
           "#FF6692",
           "#B6E880",
           "#FF97FF",
           "#FECB52"
          ],
          "font": {
           "color": "#2a3f5f"
          },
          "geo": {
           "bgcolor": "white",
           "lakecolor": "white",
           "landcolor": "#E5ECF6",
           "showlakes": true,
           "showland": true,
           "subunitcolor": "white"
          },
          "hoverlabel": {
           "align": "left"
          },
          "hovermode": "closest",
          "mapbox": {
           "style": "light"
          },
          "paper_bgcolor": "white",
          "plot_bgcolor": "#E5ECF6",
          "polar": {
           "angularaxis": {
            "gridcolor": "white",
            "linecolor": "white",
            "ticks": ""
           },
           "bgcolor": "#E5ECF6",
           "radialaxis": {
            "gridcolor": "white",
            "linecolor": "white",
            "ticks": ""
           }
          },
          "scene": {
           "xaxis": {
            "backgroundcolor": "#E5ECF6",
            "gridcolor": "white",
            "gridwidth": 2,
            "linecolor": "white",
            "showbackground": true,
            "ticks": "",
            "zerolinecolor": "white"
           },
           "yaxis": {
            "backgroundcolor": "#E5ECF6",
            "gridcolor": "white",
            "gridwidth": 2,
            "linecolor": "white",
            "showbackground": true,
            "ticks": "",
            "zerolinecolor": "white"
           },
           "zaxis": {
            "backgroundcolor": "#E5ECF6",
            "gridcolor": "white",
            "gridwidth": 2,
            "linecolor": "white",
            "showbackground": true,
            "ticks": "",
            "zerolinecolor": "white"
           }
          },
          "shapedefaults": {
           "line": {
            "color": "#2a3f5f"
           }
          },
          "ternary": {
           "aaxis": {
            "gridcolor": "white",
            "linecolor": "white",
            "ticks": ""
           },
           "baxis": {
            "gridcolor": "white",
            "linecolor": "white",
            "ticks": ""
           },
           "bgcolor": "#E5ECF6",
           "caxis": {
            "gridcolor": "white",
            "linecolor": "white",
            "ticks": ""
           }
          },
          "title": {
           "x": 0.05
          },
          "xaxis": {
           "automargin": true,
           "gridcolor": "white",
           "linecolor": "white",
           "ticks": "",
           "title": {
            "standoff": 15
           },
           "zerolinecolor": "white",
           "zerolinewidth": 2
          },
          "yaxis": {
           "automargin": true,
           "gridcolor": "white",
           "linecolor": "white",
           "ticks": "",
           "title": {
            "standoff": 15
           },
           "zerolinecolor": "white",
           "zerolinewidth": 2
          }
         }
        },
        "title": {
         "text": "Proportion de comptes par rôle et par an"
        },
        "xaxis": {
         "anchor": "y",
         "domain": [
          0,
          1
         ],
         "title": {
          "text": "Year"
         }
        },
        "yaxis": {
         "anchor": "x",
         "domain": [
          0,
          1
         ],
         "title": {
          "text": "prop"
         }
        }
       }
      },
      "text/html": [
       "<div>                            <div id=\"260de4f0-d6f8-4c72-8302-20251cde347b\" class=\"plotly-graph-div\" style=\"height:525px; width:100%;\"></div>            <script type=\"text/javascript\">                require([\"plotly\"], function(Plotly) {                    window.PLOTLYENV=window.PLOTLYENV || {};                                    if (document.getElementById(\"260de4f0-d6f8-4c72-8302-20251cde347b\")) {                    Plotly.newPlot(                        \"260de4f0-d6f8-4c72-8302-20251cde347b\",                        [{\"fillpattern\":{\"shape\":\"\"},\"hovertemplate\":\"User_role2=Advocacy<br>Year=%{x}<br>prop=%{y}<extra></extra>\",\"legendgroup\":\"Advocacy\",\"line\":{\"color\":\"#636efa\"},\"marker\":{\"symbol\":\"circle\"},\"mode\":\"lines\",\"name\":\"Advocacy\",\"orientation\":\"v\",\"showlegend\":true,\"stackgroup\":\"1\",\"x\":[2009.0,2011.0,2012.0,2013.0,2014.0,2015.0,2016.0,2017.0,2018.0,2019.0,2020.0,2021.0],\"xaxis\":\"x\",\"y\":[20.0,4.885057471264368,5.46448087431694,5.660377358490567,6.20375640295959,5.707070707070707,5.4945054945054945,5.305542396968262,5.403123680878007,4.754541940471588,4.774637127578304,4.887543252595155],\"yaxis\":\"y\",\"type\":\"scatter\"},{\"fillpattern\":{\"shape\":\"/\"},\"hovertemplate\":\"User_role2=Other<br>Year=%{x}<br>prop=%{y}<extra></extra>\",\"legendgroup\":\"Other\",\"line\":{\"color\":\"#EF553B\"},\"marker\":{\"symbol\":\"circle\"},\"mode\":\"lines\",\"name\":\"Other\",\"orientation\":\"v\",\"showlegend\":true,\"stackgroup\":\"1\",\"x\":[2009.0,2010.0,2011.0,2012.0,2013.0,2014.0,2015.0,2016.0,2017.0,2018.0,2019.0,2020.0,2021.0],\"xaxis\":\"x\",\"y\":[80.0,96.15384615384616,44.252873563218394,36.47540983606557,27.9874213836478,24.188958451906657,19.393939393939394,16.53129479216436,15.537659876835622,12.325875897002955,10.97796675686123,9.969442322383498,9.126297577854672],\"yaxis\":\"y\",\"type\":\"scatter\"},{\"fillpattern\":{\"shape\":\"\\\\\"},\"hovertemplate\":\"User_role2=NPO<br>Year=%{x}<br>prop=%{y}<extra></extra>\",\"legendgroup\":\"NPO\",\"line\":{\"color\":\"#00cc96\"},\"marker\":{\"symbol\":\"circle\"},\"mode\":\"lines\",\"name\":\"NPO\",\"orientation\":\"v\",\"showlegend\":true,\"stackgroup\":\"1\",\"x\":[2010.0,2011.0,2012.0,2013.0,2014.0,2015.0,2016.0,2017.0,2018.0,2019.0,2020.0,2021.0],\"xaxis\":\"x\",\"y\":[3.8461538461538463,5.172413793103448,7.786885245901639,10.455974842767295,11.952191235059761,12.525252525252526,11.084567606306736,9.900521080056846,9.413254537779654,9.045226130653267,8.55614973262032,8.477508650519031],\"yaxis\":\"y\",\"type\":\"scatter\"},{\"fillpattern\":{\"shape\":\"x\"},\"hovertemplate\":\"User_role2=Cancer patient<br>Year=%{x}<br>prop=%{y}<extra></extra>\",\"legendgroup\":\"Cancer patient\",\"line\":{\"color\":\"#ab63fa\"},\"marker\":{\"symbol\":\"circle\"},\"mode\":\"lines\",\"name\":\"Cancer patient\",\"orientation\":\"v\",\"showlegend\":true,\"stackgroup\":\"1\",\"x\":[2011.0,2012.0,2013.0,2014.0,2015.0,2016.0,2017.0,2018.0,2019.0,2020.0,2021.0],\"xaxis\":\"x\",\"y\":[8.045977011494253,10.10928961748634,8.333333333333332,7.569721115537849,7.575757575757576,7.357859531772576,7.768829938417811,7.5137188687209795,7.112485504445304,7.295645530939648,7.2231833910034595],\"yaxis\":\"y\",\"type\":\"scatter\"},{\"fillpattern\":{\"shape\":\"+\"},\"hovertemplate\":\"User_role2=Health center<br>Year=%{x}<br>prop=%{y}<extra></extra>\",\"legendgroup\":\"Health center\",\"line\":{\"color\":\"#FFA15A\"},\"marker\":{\"symbol\":\"circle\"},\"mode\":\"lines\",\"name\":\"Health center\",\"orientation\":\"v\",\"showlegend\":true,\"stackgroup\":\"1\",\"x\":[2011.0,2012.0,2013.0,2014.0,2015.0,2016.0,2017.0,2018.0,2019.0,2020.0,2021.0],\"xaxis\":\"x\",\"y\":[2.2988505747126435,3.0054644808743167,4.009433962264151,5.293113261240752,5.252525252525253,4.968944099378882,4.831833254381809,4.727733220768257,4.561267877850792,4.583651642475172,5.060553633217993],\"yaxis\":\"y\",\"type\":\"scatter\"},{\"fillpattern\":{\"shape\":\".\"},\"hovertemplate\":\"User_role2=Health professional<br>Year=%{x}<br>prop=%{y}<extra></extra>\",\"legendgroup\":\"Health professional\",\"line\":{\"color\":\"#19d3f3\"},\"marker\":{\"symbol\":\"circle\"},\"mode\":\"lines\",\"name\":\"Health professional\",\"orientation\":\"v\",\"showlegend\":true,\"stackgroup\":\"1\",\"x\":[2011.0,2012.0,2013.0,2014.0,2015.0,2016.0,2017.0,2018.0,2019.0,2020.0,2021.0],\"xaxis\":\"x\",\"y\":[6.896551724137931,6.967213114754098,7.547169811320755,7.000569151963575,6.666666666666667,7.071189679885332,7.010895310279489,7.3026593499366825,6.803247004252029,6.760886172650879,6.531141868512111],\"yaxis\":\"y\",\"type\":\"scatter\"},{\"fillpattern\":{\"shape\":\"\"},\"hovertemplate\":\"User_role2=Industry<br>Year=%{x}<br>prop=%{y}<extra></extra>\",\"legendgroup\":\"Industry\",\"line\":{\"color\":\"#FF6692\"},\"marker\":{\"symbol\":\"circle\"},\"mode\":\"lines\",\"name\":\"Industry\",\"orientation\":\"v\",\"showlegend\":true,\"stackgroup\":\"1\",\"x\":[2011.0,2012.0,2013.0,2014.0,2015.0,2016.0,2017.0,2018.0,2019.0,2020.0,2021.0],\"xaxis\":\"x\",\"y\":[4.022988505747127,4.098360655737705,5.188679245283019,5.2361980648833235,6.4141414141414135,6.6411849020544675,5.589767882520133,5.0654284508231315,4.831851565519908,5.347593582887701,5.493079584775087],\"yaxis\":\"y\",\"type\":\"scatter\"},{\"fillpattern\":{\"shape\":\"/\"},\"hovertemplate\":\"User_role2=Media<br>Year=%{x}<br>prop=%{y}<extra></extra>\",\"legendgroup\":\"Media\",\"line\":{\"color\":\"#B6E880\"},\"marker\":{\"symbol\":\"circle\"},\"mode\":\"lines\",\"name\":\"Media\",\"orientation\":\"v\",\"showlegend\":true,\"stackgroup\":\"1\",\"x\":[2011.0,2012.0,2013.0,2014.0,2015.0,2016.0,2017.0,2018.0,2019.0,2020.0,2021.0],\"xaxis\":\"x\",\"y\":[5.459770114942529,4.781420765027322,5.660377358490567,5.9760956175298805,7.424242424242425,8.600095556617296,7.816200852676457,7.766990291262135,7.421724004638578,7.142857142857142,7.396193771626297],\"yaxis\":\"y\",\"type\":\"scatter\"},{\"fillpattern\":{\"shape\":\"\\\\\"},\"hovertemplate\":\"User_role2=Oncologist<br>Year=%{x}<br>prop=%{y}<extra></extra>\",\"legendgroup\":\"Oncologist\",\"line\":{\"color\":\"#FF97FF\"},\"marker\":{\"symbol\":\"circle\"},\"mode\":\"lines\",\"name\":\"Oncologist\",\"orientation\":\"v\",\"showlegend\":true,\"stackgroup\":\"1\",\"x\":[2011.0,2012.0,2013.0,2014.0,2015.0,2016.0,2017.0,2018.0,2019.0,2020.0,2021.0],\"xaxis\":\"x\",\"y\":[2.586206896551724,3.1420765027322406,6.289308176100629,9.504837791690383,11.666666666666666,14.524605828953655,18.80625296068214,23.343182777543266,26.942404329339002,27.84568372803667,28.28719723183391],\"yaxis\":\"y\",\"type\":\"scatter\"},{\"fillpattern\":{\"shape\":\"x\"},\"hovertemplate\":\"User_role2=Researcher<br>Year=%{x}<br>prop=%{y}<extra></extra>\",\"legendgroup\":\"Researcher\",\"line\":{\"color\":\"#FECB52\"},\"marker\":{\"symbol\":\"circle\"},\"mode\":\"lines\",\"name\":\"Researcher\",\"orientation\":\"v\",\"showlegend\":true,\"stackgroup\":\"1\",\"x\":[2011.0,2012.0,2013.0,2014.0,2015.0,2016.0,2017.0,2018.0,2019.0,2020.0,2021.0],\"xaxis\":\"x\",\"y\":[1.1494252873563218,1.2295081967213115,2.20125786163522,2.5042686397268072,3.1313131313131315,3.487816531294792,3.6001894836570347,4.1367665681722245,4.638577502899111,4.889228418640183,5.147058823529411],\"yaxis\":\"y\",\"type\":\"scatter\"},{\"fillpattern\":{\"shape\":\"+\"},\"hovertemplate\":\"User_role2=Survivor<br>Year=%{x}<br>prop=%{y}<extra></extra>\",\"legendgroup\":\"Survivor\",\"line\":{\"color\":\"#636efa\"},\"marker\":{\"symbol\":\"circle\"},\"mode\":\"lines\",\"name\":\"Survivor\",\"orientation\":\"v\",\"showlegend\":true,\"stackgroup\":\"1\",\"x\":[2011.0,2012.0,2013.0,2014.0,2015.0,2016.0,2017.0,2018.0,2019.0,2020.0,2021.0],\"xaxis\":\"x\",\"y\":[9.482758620689655,10.10928961748634,8.49056603773585,7.171314741035857,6.8686868686868685,6.880076445293836,6.726669824727617,5.867454622203462,5.836876691148047,5.729564553093964,5.406574394463668],\"yaxis\":\"y\",\"type\":\"scatter\"},{\"fillpattern\":{\"shape\":\".\"},\"hovertemplate\":\"User_role2=Undefined<br>Year=%{x}<br>prop=%{y}<extra></extra>\",\"legendgroup\":\"Undefined\",\"line\":{\"color\":\"#EF553B\"},\"marker\":{\"symbol\":\"circle\"},\"mode\":\"lines\",\"name\":\"Undefined\",\"orientation\":\"v\",\"showlegend\":true,\"stackgroup\":\"1\",\"x\":[2011.0,2012.0,2013.0,2014.0,2015.0,2016.0,2017.0,2018.0,2019.0,2020.0,2021.0],\"xaxis\":\"x\",\"y\":[5.747126436781609,6.830601092896176,8.176100628930817,7.398975526465566,7.373737373737374,7.357859531772576,7.105637138796779,7.133811734909244,7.073830691921144,7.104660045836517,6.963667820069204],\"yaxis\":\"y\",\"type\":\"scatter\"}],                        {\"template\":{\"data\":{\"histogram2dcontour\":[{\"type\":\"histogram2dcontour\",\"colorbar\":{\"outlinewidth\":0,\"ticks\":\"\"},\"colorscale\":[[0.0,\"#0d0887\"],[0.1111111111111111,\"#46039f\"],[0.2222222222222222,\"#7201a8\"],[0.3333333333333333,\"#9c179e\"],[0.4444444444444444,\"#bd3786\"],[0.5555555555555556,\"#d8576b\"],[0.6666666666666666,\"#ed7953\"],[0.7777777777777778,\"#fb9f3a\"],[0.8888888888888888,\"#fdca26\"],[1.0,\"#f0f921\"]]}],\"choropleth\":[{\"type\":\"choropleth\",\"colorbar\":{\"outlinewidth\":0,\"ticks\":\"\"}}],\"histogram2d\":[{\"type\":\"histogram2d\",\"colorbar\":{\"outlinewidth\":0,\"ticks\":\"\"},\"colorscale\":[[0.0,\"#0d0887\"],[0.1111111111111111,\"#46039f\"],[0.2222222222222222,\"#7201a8\"],[0.3333333333333333,\"#9c179e\"],[0.4444444444444444,\"#bd3786\"],[0.5555555555555556,\"#d8576b\"],[0.6666666666666666,\"#ed7953\"],[0.7777777777777778,\"#fb9f3a\"],[0.8888888888888888,\"#fdca26\"],[1.0,\"#f0f921\"]]}],\"heatmap\":[{\"type\":\"heatmap\",\"colorbar\":{\"outlinewidth\":0,\"ticks\":\"\"},\"colorscale\":[[0.0,\"#0d0887\"],[0.1111111111111111,\"#46039f\"],[0.2222222222222222,\"#7201a8\"],[0.3333333333333333,\"#9c179e\"],[0.4444444444444444,\"#bd3786\"],[0.5555555555555556,\"#d8576b\"],[0.6666666666666666,\"#ed7953\"],[0.7777777777777778,\"#fb9f3a\"],[0.8888888888888888,\"#fdca26\"],[1.0,\"#f0f921\"]]}],\"heatmapgl\":[{\"type\":\"heatmapgl\",\"colorbar\":{\"outlinewidth\":0,\"ticks\":\"\"},\"colorscale\":[[0.0,\"#0d0887\"],[0.1111111111111111,\"#46039f\"],[0.2222222222222222,\"#7201a8\"],[0.3333333333333333,\"#9c179e\"],[0.4444444444444444,\"#bd3786\"],[0.5555555555555556,\"#d8576b\"],[0.6666666666666666,\"#ed7953\"],[0.7777777777777778,\"#fb9f3a\"],[0.8888888888888888,\"#fdca26\"],[1.0,\"#f0f921\"]]}],\"contourcarpet\":[{\"type\":\"contourcarpet\",\"colorbar\":{\"outlinewidth\":0,\"ticks\":\"\"}}],\"contour\":[{\"type\":\"contour\",\"colorbar\":{\"outlinewidth\":0,\"ticks\":\"\"},\"colorscale\":[[0.0,\"#0d0887\"],[0.1111111111111111,\"#46039f\"],[0.2222222222222222,\"#7201a8\"],[0.3333333333333333,\"#9c179e\"],[0.4444444444444444,\"#bd3786\"],[0.5555555555555556,\"#d8576b\"],[0.6666666666666666,\"#ed7953\"],[0.7777777777777778,\"#fb9f3a\"],[0.8888888888888888,\"#fdca26\"],[1.0,\"#f0f921\"]]}],\"surface\":[{\"type\":\"surface\",\"colorbar\":{\"outlinewidth\":0,\"ticks\":\"\"},\"colorscale\":[[0.0,\"#0d0887\"],[0.1111111111111111,\"#46039f\"],[0.2222222222222222,\"#7201a8\"],[0.3333333333333333,\"#9c179e\"],[0.4444444444444444,\"#bd3786\"],[0.5555555555555556,\"#d8576b\"],[0.6666666666666666,\"#ed7953\"],[0.7777777777777778,\"#fb9f3a\"],[0.8888888888888888,\"#fdca26\"],[1.0,\"#f0f921\"]]}],\"mesh3d\":[{\"type\":\"mesh3d\",\"colorbar\":{\"outlinewidth\":0,\"ticks\":\"\"}}],\"scatter\":[{\"fillpattern\":{\"fillmode\":\"overlay\",\"size\":10,\"solidity\":0.2},\"type\":\"scatter\"}],\"parcoords\":[{\"type\":\"parcoords\",\"line\":{\"colorbar\":{\"outlinewidth\":0,\"ticks\":\"\"}}}],\"scatterpolargl\":[{\"type\":\"scatterpolargl\",\"marker\":{\"colorbar\":{\"outlinewidth\":0,\"ticks\":\"\"}}}],\"bar\":[{\"error_x\":{\"color\":\"#2a3f5f\"},\"error_y\":{\"color\":\"#2a3f5f\"},\"marker\":{\"line\":{\"color\":\"#E5ECF6\",\"width\":0.5},\"pattern\":{\"fillmode\":\"overlay\",\"size\":10,\"solidity\":0.2}},\"type\":\"bar\"}],\"scattergeo\":[{\"type\":\"scattergeo\",\"marker\":{\"colorbar\":{\"outlinewidth\":0,\"ticks\":\"\"}}}],\"scatterpolar\":[{\"type\":\"scatterpolar\",\"marker\":{\"colorbar\":{\"outlinewidth\":0,\"ticks\":\"\"}}}],\"histogram\":[{\"marker\":{\"pattern\":{\"fillmode\":\"overlay\",\"size\":10,\"solidity\":0.2}},\"type\":\"histogram\"}],\"scattergl\":[{\"type\":\"scattergl\",\"marker\":{\"colorbar\":{\"outlinewidth\":0,\"ticks\":\"\"}}}],\"scatter3d\":[{\"type\":\"scatter3d\",\"line\":{\"colorbar\":{\"outlinewidth\":0,\"ticks\":\"\"}},\"marker\":{\"colorbar\":{\"outlinewidth\":0,\"ticks\":\"\"}}}],\"scattermapbox\":[{\"type\":\"scattermapbox\",\"marker\":{\"colorbar\":{\"outlinewidth\":0,\"ticks\":\"\"}}}],\"scatterternary\":[{\"type\":\"scatterternary\",\"marker\":{\"colorbar\":{\"outlinewidth\":0,\"ticks\":\"\"}}}],\"scattercarpet\":[{\"type\":\"scattercarpet\",\"marker\":{\"colorbar\":{\"outlinewidth\":0,\"ticks\":\"\"}}}],\"carpet\":[{\"aaxis\":{\"endlinecolor\":\"#2a3f5f\",\"gridcolor\":\"white\",\"linecolor\":\"white\",\"minorgridcolor\":\"white\",\"startlinecolor\":\"#2a3f5f\"},\"baxis\":{\"endlinecolor\":\"#2a3f5f\",\"gridcolor\":\"white\",\"linecolor\":\"white\",\"minorgridcolor\":\"white\",\"startlinecolor\":\"#2a3f5f\"},\"type\":\"carpet\"}],\"table\":[{\"cells\":{\"fill\":{\"color\":\"#EBF0F8\"},\"line\":{\"color\":\"white\"}},\"header\":{\"fill\":{\"color\":\"#C8D4E3\"},\"line\":{\"color\":\"white\"}},\"type\":\"table\"}],\"barpolar\":[{\"marker\":{\"line\":{\"color\":\"#E5ECF6\",\"width\":0.5},\"pattern\":{\"fillmode\":\"overlay\",\"size\":10,\"solidity\":0.2}},\"type\":\"barpolar\"}],\"pie\":[{\"automargin\":true,\"type\":\"pie\"}]},\"layout\":{\"autotypenumbers\":\"strict\",\"colorway\":[\"#636efa\",\"#EF553B\",\"#00cc96\",\"#ab63fa\",\"#FFA15A\",\"#19d3f3\",\"#FF6692\",\"#B6E880\",\"#FF97FF\",\"#FECB52\"],\"font\":{\"color\":\"#2a3f5f\"},\"hovermode\":\"closest\",\"hoverlabel\":{\"align\":\"left\"},\"paper_bgcolor\":\"white\",\"plot_bgcolor\":\"#E5ECF6\",\"polar\":{\"bgcolor\":\"#E5ECF6\",\"angularaxis\":{\"gridcolor\":\"white\",\"linecolor\":\"white\",\"ticks\":\"\"},\"radialaxis\":{\"gridcolor\":\"white\",\"linecolor\":\"white\",\"ticks\":\"\"}},\"ternary\":{\"bgcolor\":\"#E5ECF6\",\"aaxis\":{\"gridcolor\":\"white\",\"linecolor\":\"white\",\"ticks\":\"\"},\"baxis\":{\"gridcolor\":\"white\",\"linecolor\":\"white\",\"ticks\":\"\"},\"caxis\":{\"gridcolor\":\"white\",\"linecolor\":\"white\",\"ticks\":\"\"}},\"coloraxis\":{\"colorbar\":{\"outlinewidth\":0,\"ticks\":\"\"}},\"colorscale\":{\"sequential\":[[0.0,\"#0d0887\"],[0.1111111111111111,\"#46039f\"],[0.2222222222222222,\"#7201a8\"],[0.3333333333333333,\"#9c179e\"],[0.4444444444444444,\"#bd3786\"],[0.5555555555555556,\"#d8576b\"],[0.6666666666666666,\"#ed7953\"],[0.7777777777777778,\"#fb9f3a\"],[0.8888888888888888,\"#fdca26\"],[1.0,\"#f0f921\"]],\"sequentialminus\":[[0.0,\"#0d0887\"],[0.1111111111111111,\"#46039f\"],[0.2222222222222222,\"#7201a8\"],[0.3333333333333333,\"#9c179e\"],[0.4444444444444444,\"#bd3786\"],[0.5555555555555556,\"#d8576b\"],[0.6666666666666666,\"#ed7953\"],[0.7777777777777778,\"#fb9f3a\"],[0.8888888888888888,\"#fdca26\"],[1.0,\"#f0f921\"]],\"diverging\":[[0,\"#8e0152\"],[0.1,\"#c51b7d\"],[0.2,\"#de77ae\"],[0.3,\"#f1b6da\"],[0.4,\"#fde0ef\"],[0.5,\"#f7f7f7\"],[0.6,\"#e6f5d0\"],[0.7,\"#b8e186\"],[0.8,\"#7fbc41\"],[0.9,\"#4d9221\"],[1,\"#276419\"]]},\"xaxis\":{\"gridcolor\":\"white\",\"linecolor\":\"white\",\"ticks\":\"\",\"title\":{\"standoff\":15},\"zerolinecolor\":\"white\",\"automargin\":true,\"zerolinewidth\":2},\"yaxis\":{\"gridcolor\":\"white\",\"linecolor\":\"white\",\"ticks\":\"\",\"title\":{\"standoff\":15},\"zerolinecolor\":\"white\",\"automargin\":true,\"zerolinewidth\":2},\"scene\":{\"xaxis\":{\"backgroundcolor\":\"#E5ECF6\",\"gridcolor\":\"white\",\"linecolor\":\"white\",\"showbackground\":true,\"ticks\":\"\",\"zerolinecolor\":\"white\",\"gridwidth\":2},\"yaxis\":{\"backgroundcolor\":\"#E5ECF6\",\"gridcolor\":\"white\",\"linecolor\":\"white\",\"showbackground\":true,\"ticks\":\"\",\"zerolinecolor\":\"white\",\"gridwidth\":2},\"zaxis\":{\"backgroundcolor\":\"#E5ECF6\",\"gridcolor\":\"white\",\"linecolor\":\"white\",\"showbackground\":true,\"ticks\":\"\",\"zerolinecolor\":\"white\",\"gridwidth\":2}},\"shapedefaults\":{\"line\":{\"color\":\"#2a3f5f\"}},\"annotationdefaults\":{\"arrowcolor\":\"#2a3f5f\",\"arrowhead\":0,\"arrowwidth\":1},\"geo\":{\"bgcolor\":\"white\",\"landcolor\":\"#E5ECF6\",\"subunitcolor\":\"white\",\"showland\":true,\"showlakes\":true,\"lakecolor\":\"white\"},\"title\":{\"x\":0.05},\"mapbox\":{\"style\":\"light\"}}},\"xaxis\":{\"anchor\":\"y\",\"domain\":[0.0,1.0],\"title\":{\"text\":\"Year\"}},\"yaxis\":{\"anchor\":\"x\",\"domain\":[0.0,1.0],\"title\":{\"text\":\"prop\"}},\"legend\":{\"title\":{\"text\":\"User_role2\"},\"tracegroupgap\":0},\"title\":{\"text\":\"Proportion de comptes par r\\u00f4le et par an\"}},                        {\"responsive\": true}                    ).then(function(){\n",
       "\n",
       "var gd = document.getElementById('260de4f0-d6f8-4c72-8302-20251cde347b');\n",
       "var x = new MutationObserver(function (mutations, observer) {{\n",
       "        var display = window.getComputedStyle(gd).display;\n",
       "        if (!display || display === 'none') {{\n",
       "            console.log([gd, 'removed!']);\n",
       "            Plotly.purge(gd);\n",
       "            observer.disconnect();\n",
       "        }}\n",
       "}});\n",
       "\n",
       "// Listen for the removal of the full notebook cells\n",
       "var notebookContainer = gd.closest('#notebook-container');\n",
       "if (notebookContainer) {{\n",
       "    x.observe(notebookContainer, {childList: true});\n",
       "}}\n",
       "\n",
       "// Listen for the clearing of the current output cell\n",
       "var outputEl = gd.closest('.output');\n",
       "if (outputEl) {{\n",
       "    x.observe(outputEl, {childList: true});\n",
       "}}\n",
       "\n",
       "                        })                };                });            </script>        </div>"
      ]
     },
     "metadata": {},
     "output_type": "display_data"
    }
   ],
   "source": [
    "time_length = \"Year\"\n",
    "x = \"User_role2\"\n",
    "what = \"user_id\"\n",
    "\n",
    "if x == \"User_status\":\n",
    "    Y= 'nb_user_by_group'\n",
    "elif x == \"id\":\n",
    "    Y= \"nb_tweets_by_group\"\n",
    "\n",
    "dftime = time_series(time_length, x, what)\n",
    "#plot_time_serie = px.line(dftime, x=time_length, y= Y, color= x)\n",
    "area_time_serie = px.area(dftime, x=time_length, y='prop', color= x, pattern_shape= x,\n",
    "                         title = \"Proportion de comptes par rôle et par an\")#, line_group=\"country\")\n",
    "area_time_serie"
   ]
  },
  {
   "cell_type": "markdown",
   "id": "3c5bed3d",
   "metadata": {},
   "source": [
    "Les deux diagrammes ci-dessous représentent respectivement la proportion de comptes et de tweets par statut et par an. Les \"statuts\" correspondent aux modalités de la variable *User_status*. On voit ainsi que les médias constituent moins de 10% des comptes en 2021, mais sont à l'origine de plus de 25% des tweets à la même époque."
   ]
  },
  {
   "cell_type": "markdown",
   "id": "504610e0",
   "metadata": {},
   "source": [
    "````{margin}\n",
    "```{note}\n",
    "La variable *User_status* est une \"réduction\" de la variable *User_role2*. Ainsi, la modalité \"Health professionals\" regroupe les rôles d'oncologues, de chercheurs et de professionnels de la santé (hors médecins).\n",
    "```\n",
    "````"
   ]
  },
  {
   "cell_type": "code",
   "execution_count": 36,
   "id": "e1a560b7",
   "metadata": {
    "tags": [
     "remove-input"
    ]
   },
   "outputs": [
    {
     "data": {
      "application/vnd.plotly.v1+json": {
       "config": {
        "plotlyServerURL": "https://plot.ly"
       },
       "data": [
        {
         "fillpattern": {
          "shape": ""
         },
         "hovertemplate": "User_status=Advocacy<br>Year=%{x}<br>prop=%{y}<extra></extra>",
         "legendgroup": "Advocacy",
         "line": {
          "color": "#636efa"
         },
         "marker": {
          "symbol": "circle"
         },
         "mode": "lines",
         "name": "Advocacy",
         "orientation": "v",
         "showlegend": true,
         "stackgroup": "1",
         "type": "scatter",
         "x": [
          2009,
          2011,
          2012,
          2013,
          2014,
          2015,
          2016,
          2017,
          2018,
          2019,
          2020,
          2021
         ],
         "xaxis": "x",
         "y": [
          20,
          4.885057471264368,
          5.46448087431694,
          5.660377358490567,
          6.20375640295959,
          5.707070707070707,
          5.4945054945054945,
          5.305542396968262,
          5.403123680878007,
          4.754541940471588,
          4.774637127578304,
          4.887543252595155
         ],
         "yaxis": "y"
        },
        {
         "fillpattern": {
          "shape": "/"
         },
         "hovertemplate": "User_status=Other<br>Year=%{x}<br>prop=%{y}<extra></extra>",
         "legendgroup": "Other",
         "line": {
          "color": "#EF553B"
         },
         "marker": {
          "symbol": "circle"
         },
         "mode": "lines",
         "name": "Other",
         "orientation": "v",
         "showlegend": true,
         "stackgroup": "1",
         "type": "scatter",
         "x": [
          2009,
          2010,
          2011,
          2012,
          2013,
          2014,
          2015,
          2016,
          2017,
          2018,
          2019,
          2020,
          2021
         ],
         "xaxis": "x",
         "y": [
          80,
          96.15384615384616,
          44.252873563218394,
          36.47540983606557,
          27.9874213836478,
          24.188958451906657,
          19.393939393939394,
          16.53129479216436,
          15.537659876835622,
          12.325875897002955,
          10.97796675686123,
          9.969442322383498,
          9.126297577854672
         ],
         "yaxis": "y"
        },
        {
         "fillpattern": {
          "shape": "\\"
         },
         "hovertemplate": "User_status=NPO<br>Year=%{x}<br>prop=%{y}<extra></extra>",
         "legendgroup": "NPO",
         "line": {
          "color": "#00cc96"
         },
         "marker": {
          "symbol": "circle"
         },
         "mode": "lines",
         "name": "NPO",
         "orientation": "v",
         "showlegend": true,
         "stackgroup": "1",
         "type": "scatter",
         "x": [
          2010,
          2011,
          2012,
          2013,
          2014,
          2015,
          2016,
          2017,
          2018,
          2019,
          2020,
          2021
         ],
         "xaxis": "x",
         "y": [
          3.8461538461538463,
          5.172413793103448,
          7.786885245901639,
          10.455974842767295,
          11.952191235059761,
          12.525252525252526,
          11.084567606306736,
          9.900521080056846,
          9.413254537779654,
          9.045226130653267,
          8.55614973262032,
          8.477508650519031
         ],
         "yaxis": "y"
        },
        {
         "fillpattern": {
          "shape": "x"
         },
         "hovertemplate": "User_status=Health organisations<br>Year=%{x}<br>prop=%{y}<extra></extra>",
         "legendgroup": "Health organisations",
         "line": {
          "color": "#ab63fa"
         },
         "marker": {
          "symbol": "circle"
         },
         "mode": "lines",
         "name": "Health organisations",
         "orientation": "v",
         "showlegend": true,
         "stackgroup": "1",
         "type": "scatter",
         "x": [
          2011,
          2012,
          2013,
          2014,
          2015,
          2016,
          2017,
          2018,
          2019,
          2020,
          2021
         ],
         "xaxis": "x",
         "y": [
          6.321839080459771,
          7.103825136612022,
          9.19811320754717,
          10.529311326124075,
          11.666666666666666,
          11.610129001433348,
          10.421601136901943,
          9.793161671591388,
          9.393119443370699,
          9.931245225362872,
          10.55363321799308
         ],
         "yaxis": "y"
        },
        {
         "fillpattern": {
          "shape": "+"
         },
         "hovertemplate": "User_status=Health professionals<br>Year=%{x}<br>prop=%{y}<extra></extra>",
         "legendgroup": "Health professionals",
         "line": {
          "color": "#FFA15A"
         },
         "marker": {
          "symbol": "circle"
         },
         "mode": "lines",
         "name": "Health professionals",
         "orientation": "v",
         "showlegend": true,
         "stackgroup": "1",
         "type": "scatter",
         "x": [
          2011,
          2012,
          2013,
          2014,
          2015,
          2016,
          2017,
          2018,
          2019,
          2020,
          2021
         ],
         "xaxis": "x",
         "y": [
          10.632183908045976,
          11.33879781420765,
          16.037735849056602,
          19.009675583380766,
          21.464646464646464,
          25.08361204013378,
          29.417337754618668,
          34.78260869565217,
          38.384228836490145,
          39.49579831932773,
          39.965397923875436
         ],
         "yaxis": "y"
        },
        {
         "fillpattern": {
          "shape": "."
         },
         "hovertemplate": "User_status=Media<br>Year=%{x}<br>prop=%{y}<extra></extra>",
         "legendgroup": "Media",
         "line": {
          "color": "#19d3f3"
         },
         "marker": {
          "symbol": "circle"
         },
         "mode": "lines",
         "name": "Media",
         "orientation": "v",
         "showlegend": true,
         "stackgroup": "1",
         "type": "scatter",
         "x": [
          2011,
          2012,
          2013,
          2014,
          2015,
          2016,
          2017,
          2018,
          2019,
          2020,
          2021
         ],
         "xaxis": "x",
         "y": [
          5.459770114942529,
          4.781420765027322,
          5.660377358490567,
          5.9760956175298805,
          7.424242424242425,
          8.600095556617296,
          7.816200852676457,
          7.766990291262135,
          7.421724004638578,
          7.142857142857142,
          7.396193771626297
         ],
         "yaxis": "y"
        },
        {
         "fillpattern": {
          "shape": ""
         },
         "hovertemplate": "User_status=Patients<br>Year=%{x}<br>prop=%{y}<extra></extra>",
         "legendgroup": "Patients",
         "line": {
          "color": "#FF6692"
         },
         "marker": {
          "symbol": "circle"
         },
         "mode": "lines",
         "name": "Patients",
         "orientation": "v",
         "showlegend": true,
         "stackgroup": "1",
         "type": "scatter",
         "x": [
          2011,
          2012,
          2013,
          2014,
          2015,
          2016,
          2017,
          2018,
          2019,
          2020,
          2021
         ],
         "xaxis": "x",
         "y": [
          17.52873563218391,
          20.21857923497268,
          16.82389937106918,
          14.741035856573706,
          14.444444444444443,
          14.237935977066412,
          14.495499763145428,
          13.381173490924441,
          12.94936219559335,
          13.025210084033615,
          12.629757785467127
         ],
         "yaxis": "y"
        },
        {
         "fillpattern": {
          "shape": "/"
         },
         "hovertemplate": "User_status=Undefined<br>Year=%{x}<br>prop=%{y}<extra></extra>",
         "legendgroup": "Undefined",
         "line": {
          "color": "#B6E880"
         },
         "marker": {
          "symbol": "circle"
         },
         "mode": "lines",
         "name": "Undefined",
         "orientation": "v",
         "showlegend": true,
         "stackgroup": "1",
         "type": "scatter",
         "x": [
          2011,
          2012,
          2013,
          2014,
          2015,
          2016,
          2017,
          2018,
          2019,
          2020,
          2021
         ],
         "xaxis": "x",
         "y": [
          5.747126436781609,
          6.830601092896176,
          8.176100628930817,
          7.398975526465566,
          7.373737373737374,
          7.357859531772576,
          7.105637138796779,
          7.133811734909244,
          7.073830691921144,
          7.104660045836517,
          6.963667820069204
         ],
         "yaxis": "y"
        }
       ],
       "layout": {
        "legend": {
         "title": {
          "text": "User_status"
         },
         "tracegroupgap": 0
        },
        "template": {
         "data": {
          "bar": [
           {
            "error_x": {
             "color": "#2a3f5f"
            },
            "error_y": {
             "color": "#2a3f5f"
            },
            "marker": {
             "line": {
              "color": "#E5ECF6",
              "width": 0.5
             },
             "pattern": {
              "fillmode": "overlay",
              "size": 10,
              "solidity": 0.2
             }
            },
            "type": "bar"
           }
          ],
          "barpolar": [
           {
            "marker": {
             "line": {
              "color": "#E5ECF6",
              "width": 0.5
             },
             "pattern": {
              "fillmode": "overlay",
              "size": 10,
              "solidity": 0.2
             }
            },
            "type": "barpolar"
           }
          ],
          "carpet": [
           {
            "aaxis": {
             "endlinecolor": "#2a3f5f",
             "gridcolor": "white",
             "linecolor": "white",
             "minorgridcolor": "white",
             "startlinecolor": "#2a3f5f"
            },
            "baxis": {
             "endlinecolor": "#2a3f5f",
             "gridcolor": "white",
             "linecolor": "white",
             "minorgridcolor": "white",
             "startlinecolor": "#2a3f5f"
            },
            "type": "carpet"
           }
          ],
          "choropleth": [
           {
            "colorbar": {
             "outlinewidth": 0,
             "ticks": ""
            },
            "type": "choropleth"
           }
          ],
          "contour": [
           {
            "colorbar": {
             "outlinewidth": 0,
             "ticks": ""
            },
            "colorscale": [
             [
              0,
              "#0d0887"
             ],
             [
              0.1111111111111111,
              "#46039f"
             ],
             [
              0.2222222222222222,
              "#7201a8"
             ],
             [
              0.3333333333333333,
              "#9c179e"
             ],
             [
              0.4444444444444444,
              "#bd3786"
             ],
             [
              0.5555555555555556,
              "#d8576b"
             ],
             [
              0.6666666666666666,
              "#ed7953"
             ],
             [
              0.7777777777777778,
              "#fb9f3a"
             ],
             [
              0.8888888888888888,
              "#fdca26"
             ],
             [
              1,
              "#f0f921"
             ]
            ],
            "type": "contour"
           }
          ],
          "contourcarpet": [
           {
            "colorbar": {
             "outlinewidth": 0,
             "ticks": ""
            },
            "type": "contourcarpet"
           }
          ],
          "heatmap": [
           {
            "colorbar": {
             "outlinewidth": 0,
             "ticks": ""
            },
            "colorscale": [
             [
              0,
              "#0d0887"
             ],
             [
              0.1111111111111111,
              "#46039f"
             ],
             [
              0.2222222222222222,
              "#7201a8"
             ],
             [
              0.3333333333333333,
              "#9c179e"
             ],
             [
              0.4444444444444444,
              "#bd3786"
             ],
             [
              0.5555555555555556,
              "#d8576b"
             ],
             [
              0.6666666666666666,
              "#ed7953"
             ],
             [
              0.7777777777777778,
              "#fb9f3a"
             ],
             [
              0.8888888888888888,
              "#fdca26"
             ],
             [
              1,
              "#f0f921"
             ]
            ],
            "type": "heatmap"
           }
          ],
          "heatmapgl": [
           {
            "colorbar": {
             "outlinewidth": 0,
             "ticks": ""
            },
            "colorscale": [
             [
              0,
              "#0d0887"
             ],
             [
              0.1111111111111111,
              "#46039f"
             ],
             [
              0.2222222222222222,
              "#7201a8"
             ],
             [
              0.3333333333333333,
              "#9c179e"
             ],
             [
              0.4444444444444444,
              "#bd3786"
             ],
             [
              0.5555555555555556,
              "#d8576b"
             ],
             [
              0.6666666666666666,
              "#ed7953"
             ],
             [
              0.7777777777777778,
              "#fb9f3a"
             ],
             [
              0.8888888888888888,
              "#fdca26"
             ],
             [
              1,
              "#f0f921"
             ]
            ],
            "type": "heatmapgl"
           }
          ],
          "histogram": [
           {
            "marker": {
             "pattern": {
              "fillmode": "overlay",
              "size": 10,
              "solidity": 0.2
             }
            },
            "type": "histogram"
           }
          ],
          "histogram2d": [
           {
            "colorbar": {
             "outlinewidth": 0,
             "ticks": ""
            },
            "colorscale": [
             [
              0,
              "#0d0887"
             ],
             [
              0.1111111111111111,
              "#46039f"
             ],
             [
              0.2222222222222222,
              "#7201a8"
             ],
             [
              0.3333333333333333,
              "#9c179e"
             ],
             [
              0.4444444444444444,
              "#bd3786"
             ],
             [
              0.5555555555555556,
              "#d8576b"
             ],
             [
              0.6666666666666666,
              "#ed7953"
             ],
             [
              0.7777777777777778,
              "#fb9f3a"
             ],
             [
              0.8888888888888888,
              "#fdca26"
             ],
             [
              1,
              "#f0f921"
             ]
            ],
            "type": "histogram2d"
           }
          ],
          "histogram2dcontour": [
           {
            "colorbar": {
             "outlinewidth": 0,
             "ticks": ""
            },
            "colorscale": [
             [
              0,
              "#0d0887"
             ],
             [
              0.1111111111111111,
              "#46039f"
             ],
             [
              0.2222222222222222,
              "#7201a8"
             ],
             [
              0.3333333333333333,
              "#9c179e"
             ],
             [
              0.4444444444444444,
              "#bd3786"
             ],
             [
              0.5555555555555556,
              "#d8576b"
             ],
             [
              0.6666666666666666,
              "#ed7953"
             ],
             [
              0.7777777777777778,
              "#fb9f3a"
             ],
             [
              0.8888888888888888,
              "#fdca26"
             ],
             [
              1,
              "#f0f921"
             ]
            ],
            "type": "histogram2dcontour"
           }
          ],
          "mesh3d": [
           {
            "colorbar": {
             "outlinewidth": 0,
             "ticks": ""
            },
            "type": "mesh3d"
           }
          ],
          "parcoords": [
           {
            "line": {
             "colorbar": {
              "outlinewidth": 0,
              "ticks": ""
             }
            },
            "type": "parcoords"
           }
          ],
          "pie": [
           {
            "automargin": true,
            "type": "pie"
           }
          ],
          "scatter": [
           {
            "fillpattern": {
             "fillmode": "overlay",
             "size": 10,
             "solidity": 0.2
            },
            "type": "scatter"
           }
          ],
          "scatter3d": [
           {
            "line": {
             "colorbar": {
              "outlinewidth": 0,
              "ticks": ""
             }
            },
            "marker": {
             "colorbar": {
              "outlinewidth": 0,
              "ticks": ""
             }
            },
            "type": "scatter3d"
           }
          ],
          "scattercarpet": [
           {
            "marker": {
             "colorbar": {
              "outlinewidth": 0,
              "ticks": ""
             }
            },
            "type": "scattercarpet"
           }
          ],
          "scattergeo": [
           {
            "marker": {
             "colorbar": {
              "outlinewidth": 0,
              "ticks": ""
             }
            },
            "type": "scattergeo"
           }
          ],
          "scattergl": [
           {
            "marker": {
             "colorbar": {
              "outlinewidth": 0,
              "ticks": ""
             }
            },
            "type": "scattergl"
           }
          ],
          "scattermapbox": [
           {
            "marker": {
             "colorbar": {
              "outlinewidth": 0,
              "ticks": ""
             }
            },
            "type": "scattermapbox"
           }
          ],
          "scatterpolar": [
           {
            "marker": {
             "colorbar": {
              "outlinewidth": 0,
              "ticks": ""
             }
            },
            "type": "scatterpolar"
           }
          ],
          "scatterpolargl": [
           {
            "marker": {
             "colorbar": {
              "outlinewidth": 0,
              "ticks": ""
             }
            },
            "type": "scatterpolargl"
           }
          ],
          "scatterternary": [
           {
            "marker": {
             "colorbar": {
              "outlinewidth": 0,
              "ticks": ""
             }
            },
            "type": "scatterternary"
           }
          ],
          "surface": [
           {
            "colorbar": {
             "outlinewidth": 0,
             "ticks": ""
            },
            "colorscale": [
             [
              0,
              "#0d0887"
             ],
             [
              0.1111111111111111,
              "#46039f"
             ],
             [
              0.2222222222222222,
              "#7201a8"
             ],
             [
              0.3333333333333333,
              "#9c179e"
             ],
             [
              0.4444444444444444,
              "#bd3786"
             ],
             [
              0.5555555555555556,
              "#d8576b"
             ],
             [
              0.6666666666666666,
              "#ed7953"
             ],
             [
              0.7777777777777778,
              "#fb9f3a"
             ],
             [
              0.8888888888888888,
              "#fdca26"
             ],
             [
              1,
              "#f0f921"
             ]
            ],
            "type": "surface"
           }
          ],
          "table": [
           {
            "cells": {
             "fill": {
              "color": "#EBF0F8"
             },
             "line": {
              "color": "white"
             }
            },
            "header": {
             "fill": {
              "color": "#C8D4E3"
             },
             "line": {
              "color": "white"
             }
            },
            "type": "table"
           }
          ]
         },
         "layout": {
          "annotationdefaults": {
           "arrowcolor": "#2a3f5f",
           "arrowhead": 0,
           "arrowwidth": 1
          },
          "autotypenumbers": "strict",
          "coloraxis": {
           "colorbar": {
            "outlinewidth": 0,
            "ticks": ""
           }
          },
          "colorscale": {
           "diverging": [
            [
             0,
             "#8e0152"
            ],
            [
             0.1,
             "#c51b7d"
            ],
            [
             0.2,
             "#de77ae"
            ],
            [
             0.3,
             "#f1b6da"
            ],
            [
             0.4,
             "#fde0ef"
            ],
            [
             0.5,
             "#f7f7f7"
            ],
            [
             0.6,
             "#e6f5d0"
            ],
            [
             0.7,
             "#b8e186"
            ],
            [
             0.8,
             "#7fbc41"
            ],
            [
             0.9,
             "#4d9221"
            ],
            [
             1,
             "#276419"
            ]
           ],
           "sequential": [
            [
             0,
             "#0d0887"
            ],
            [
             0.1111111111111111,
             "#46039f"
            ],
            [
             0.2222222222222222,
             "#7201a8"
            ],
            [
             0.3333333333333333,
             "#9c179e"
            ],
            [
             0.4444444444444444,
             "#bd3786"
            ],
            [
             0.5555555555555556,
             "#d8576b"
            ],
            [
             0.6666666666666666,
             "#ed7953"
            ],
            [
             0.7777777777777778,
             "#fb9f3a"
            ],
            [
             0.8888888888888888,
             "#fdca26"
            ],
            [
             1,
             "#f0f921"
            ]
           ],
           "sequentialminus": [
            [
             0,
             "#0d0887"
            ],
            [
             0.1111111111111111,
             "#46039f"
            ],
            [
             0.2222222222222222,
             "#7201a8"
            ],
            [
             0.3333333333333333,
             "#9c179e"
            ],
            [
             0.4444444444444444,
             "#bd3786"
            ],
            [
             0.5555555555555556,
             "#d8576b"
            ],
            [
             0.6666666666666666,
             "#ed7953"
            ],
            [
             0.7777777777777778,
             "#fb9f3a"
            ],
            [
             0.8888888888888888,
             "#fdca26"
            ],
            [
             1,
             "#f0f921"
            ]
           ]
          },
          "colorway": [
           "#636efa",
           "#EF553B",
           "#00cc96",
           "#ab63fa",
           "#FFA15A",
           "#19d3f3",
           "#FF6692",
           "#B6E880",
           "#FF97FF",
           "#FECB52"
          ],
          "font": {
           "color": "#2a3f5f"
          },
          "geo": {
           "bgcolor": "white",
           "lakecolor": "white",
           "landcolor": "#E5ECF6",
           "showlakes": true,
           "showland": true,
           "subunitcolor": "white"
          },
          "hoverlabel": {
           "align": "left"
          },
          "hovermode": "closest",
          "mapbox": {
           "style": "light"
          },
          "paper_bgcolor": "white",
          "plot_bgcolor": "#E5ECF6",
          "polar": {
           "angularaxis": {
            "gridcolor": "white",
            "linecolor": "white",
            "ticks": ""
           },
           "bgcolor": "#E5ECF6",
           "radialaxis": {
            "gridcolor": "white",
            "linecolor": "white",
            "ticks": ""
           }
          },
          "scene": {
           "xaxis": {
            "backgroundcolor": "#E5ECF6",
            "gridcolor": "white",
            "gridwidth": 2,
            "linecolor": "white",
            "showbackground": true,
            "ticks": "",
            "zerolinecolor": "white"
           },
           "yaxis": {
            "backgroundcolor": "#E5ECF6",
            "gridcolor": "white",
            "gridwidth": 2,
            "linecolor": "white",
            "showbackground": true,
            "ticks": "",
            "zerolinecolor": "white"
           },
           "zaxis": {
            "backgroundcolor": "#E5ECF6",
            "gridcolor": "white",
            "gridwidth": 2,
            "linecolor": "white",
            "showbackground": true,
            "ticks": "",
            "zerolinecolor": "white"
           }
          },
          "shapedefaults": {
           "line": {
            "color": "#2a3f5f"
           }
          },
          "ternary": {
           "aaxis": {
            "gridcolor": "white",
            "linecolor": "white",
            "ticks": ""
           },
           "baxis": {
            "gridcolor": "white",
            "linecolor": "white",
            "ticks": ""
           },
           "bgcolor": "#E5ECF6",
           "caxis": {
            "gridcolor": "white",
            "linecolor": "white",
            "ticks": ""
           }
          },
          "title": {
           "x": 0.05
          },
          "xaxis": {
           "automargin": true,
           "gridcolor": "white",
           "linecolor": "white",
           "ticks": "",
           "title": {
            "standoff": 15
           },
           "zerolinecolor": "white",
           "zerolinewidth": 2
          },
          "yaxis": {
           "automargin": true,
           "gridcolor": "white",
           "linecolor": "white",
           "ticks": "",
           "title": {
            "standoff": 15
           },
           "zerolinecolor": "white",
           "zerolinewidth": 2
          }
         }
        },
        "title": {
         "text": "Proportion de comptes par statuts et par an"
        },
        "xaxis": {
         "anchor": "y",
         "domain": [
          0,
          1
         ],
         "title": {
          "text": "Year"
         }
        },
        "yaxis": {
         "anchor": "x",
         "domain": [
          0,
          1
         ],
         "title": {
          "text": "prop"
         }
        }
       }
      },
      "text/html": [
       "<div>                            <div id=\"da442c7f-44d5-42af-9b5f-f38a8f2b2f6b\" class=\"plotly-graph-div\" style=\"height:525px; width:100%;\"></div>            <script type=\"text/javascript\">                require([\"plotly\"], function(Plotly) {                    window.PLOTLYENV=window.PLOTLYENV || {};                                    if (document.getElementById(\"da442c7f-44d5-42af-9b5f-f38a8f2b2f6b\")) {                    Plotly.newPlot(                        \"da442c7f-44d5-42af-9b5f-f38a8f2b2f6b\",                        [{\"fillpattern\":{\"shape\":\"\"},\"hovertemplate\":\"User_status=Advocacy<br>Year=%{x}<br>prop=%{y}<extra></extra>\",\"legendgroup\":\"Advocacy\",\"line\":{\"color\":\"#636efa\"},\"marker\":{\"symbol\":\"circle\"},\"mode\":\"lines\",\"name\":\"Advocacy\",\"orientation\":\"v\",\"showlegend\":true,\"stackgroup\":\"1\",\"x\":[2009.0,2011.0,2012.0,2013.0,2014.0,2015.0,2016.0,2017.0,2018.0,2019.0,2020.0,2021.0],\"xaxis\":\"x\",\"y\":[20.0,4.885057471264368,5.46448087431694,5.660377358490567,6.20375640295959,5.707070707070707,5.4945054945054945,5.305542396968262,5.403123680878007,4.754541940471588,4.774637127578304,4.887543252595155],\"yaxis\":\"y\",\"type\":\"scatter\"},{\"fillpattern\":{\"shape\":\"/\"},\"hovertemplate\":\"User_status=Other<br>Year=%{x}<br>prop=%{y}<extra></extra>\",\"legendgroup\":\"Other\",\"line\":{\"color\":\"#EF553B\"},\"marker\":{\"symbol\":\"circle\"},\"mode\":\"lines\",\"name\":\"Other\",\"orientation\":\"v\",\"showlegend\":true,\"stackgroup\":\"1\",\"x\":[2009.0,2010.0,2011.0,2012.0,2013.0,2014.0,2015.0,2016.0,2017.0,2018.0,2019.0,2020.0,2021.0],\"xaxis\":\"x\",\"y\":[80.0,96.15384615384616,44.252873563218394,36.47540983606557,27.9874213836478,24.188958451906657,19.393939393939394,16.53129479216436,15.537659876835622,12.325875897002955,10.97796675686123,9.969442322383498,9.126297577854672],\"yaxis\":\"y\",\"type\":\"scatter\"},{\"fillpattern\":{\"shape\":\"\\\\\"},\"hovertemplate\":\"User_status=NPO<br>Year=%{x}<br>prop=%{y}<extra></extra>\",\"legendgroup\":\"NPO\",\"line\":{\"color\":\"#00cc96\"},\"marker\":{\"symbol\":\"circle\"},\"mode\":\"lines\",\"name\":\"NPO\",\"orientation\":\"v\",\"showlegend\":true,\"stackgroup\":\"1\",\"x\":[2010.0,2011.0,2012.0,2013.0,2014.0,2015.0,2016.0,2017.0,2018.0,2019.0,2020.0,2021.0],\"xaxis\":\"x\",\"y\":[3.8461538461538463,5.172413793103448,7.786885245901639,10.455974842767295,11.952191235059761,12.525252525252526,11.084567606306736,9.900521080056846,9.413254537779654,9.045226130653267,8.55614973262032,8.477508650519031],\"yaxis\":\"y\",\"type\":\"scatter\"},{\"fillpattern\":{\"shape\":\"x\"},\"hovertemplate\":\"User_status=Health organisations<br>Year=%{x}<br>prop=%{y}<extra></extra>\",\"legendgroup\":\"Health organisations\",\"line\":{\"color\":\"#ab63fa\"},\"marker\":{\"symbol\":\"circle\"},\"mode\":\"lines\",\"name\":\"Health organisations\",\"orientation\":\"v\",\"showlegend\":true,\"stackgroup\":\"1\",\"x\":[2011.0,2012.0,2013.0,2014.0,2015.0,2016.0,2017.0,2018.0,2019.0,2020.0,2021.0],\"xaxis\":\"x\",\"y\":[6.321839080459771,7.103825136612022,9.19811320754717,10.529311326124075,11.666666666666666,11.610129001433348,10.421601136901943,9.793161671591388,9.393119443370699,9.931245225362872,10.55363321799308],\"yaxis\":\"y\",\"type\":\"scatter\"},{\"fillpattern\":{\"shape\":\"+\"},\"hovertemplate\":\"User_status=Health professionals<br>Year=%{x}<br>prop=%{y}<extra></extra>\",\"legendgroup\":\"Health professionals\",\"line\":{\"color\":\"#FFA15A\"},\"marker\":{\"symbol\":\"circle\"},\"mode\":\"lines\",\"name\":\"Health professionals\",\"orientation\":\"v\",\"showlegend\":true,\"stackgroup\":\"1\",\"x\":[2011.0,2012.0,2013.0,2014.0,2015.0,2016.0,2017.0,2018.0,2019.0,2020.0,2021.0],\"xaxis\":\"x\",\"y\":[10.632183908045976,11.33879781420765,16.037735849056602,19.009675583380766,21.464646464646464,25.08361204013378,29.417337754618668,34.78260869565217,38.384228836490145,39.49579831932773,39.965397923875436],\"yaxis\":\"y\",\"type\":\"scatter\"},{\"fillpattern\":{\"shape\":\".\"},\"hovertemplate\":\"User_status=Media<br>Year=%{x}<br>prop=%{y}<extra></extra>\",\"legendgroup\":\"Media\",\"line\":{\"color\":\"#19d3f3\"},\"marker\":{\"symbol\":\"circle\"},\"mode\":\"lines\",\"name\":\"Media\",\"orientation\":\"v\",\"showlegend\":true,\"stackgroup\":\"1\",\"x\":[2011.0,2012.0,2013.0,2014.0,2015.0,2016.0,2017.0,2018.0,2019.0,2020.0,2021.0],\"xaxis\":\"x\",\"y\":[5.459770114942529,4.781420765027322,5.660377358490567,5.9760956175298805,7.424242424242425,8.600095556617296,7.816200852676457,7.766990291262135,7.421724004638578,7.142857142857142,7.396193771626297],\"yaxis\":\"y\",\"type\":\"scatter\"},{\"fillpattern\":{\"shape\":\"\"},\"hovertemplate\":\"User_status=Patients<br>Year=%{x}<br>prop=%{y}<extra></extra>\",\"legendgroup\":\"Patients\",\"line\":{\"color\":\"#FF6692\"},\"marker\":{\"symbol\":\"circle\"},\"mode\":\"lines\",\"name\":\"Patients\",\"orientation\":\"v\",\"showlegend\":true,\"stackgroup\":\"1\",\"x\":[2011.0,2012.0,2013.0,2014.0,2015.0,2016.0,2017.0,2018.0,2019.0,2020.0,2021.0],\"xaxis\":\"x\",\"y\":[17.52873563218391,20.21857923497268,16.82389937106918,14.741035856573706,14.444444444444443,14.237935977066412,14.495499763145428,13.381173490924441,12.94936219559335,13.025210084033615,12.629757785467127],\"yaxis\":\"y\",\"type\":\"scatter\"},{\"fillpattern\":{\"shape\":\"/\"},\"hovertemplate\":\"User_status=Undefined<br>Year=%{x}<br>prop=%{y}<extra></extra>\",\"legendgroup\":\"Undefined\",\"line\":{\"color\":\"#B6E880\"},\"marker\":{\"symbol\":\"circle\"},\"mode\":\"lines\",\"name\":\"Undefined\",\"orientation\":\"v\",\"showlegend\":true,\"stackgroup\":\"1\",\"x\":[2011.0,2012.0,2013.0,2014.0,2015.0,2016.0,2017.0,2018.0,2019.0,2020.0,2021.0],\"xaxis\":\"x\",\"y\":[5.747126436781609,6.830601092896176,8.176100628930817,7.398975526465566,7.373737373737374,7.357859531772576,7.105637138796779,7.133811734909244,7.073830691921144,7.104660045836517,6.963667820069204],\"yaxis\":\"y\",\"type\":\"scatter\"}],                        {\"template\":{\"data\":{\"histogram2dcontour\":[{\"type\":\"histogram2dcontour\",\"colorbar\":{\"outlinewidth\":0,\"ticks\":\"\"},\"colorscale\":[[0.0,\"#0d0887\"],[0.1111111111111111,\"#46039f\"],[0.2222222222222222,\"#7201a8\"],[0.3333333333333333,\"#9c179e\"],[0.4444444444444444,\"#bd3786\"],[0.5555555555555556,\"#d8576b\"],[0.6666666666666666,\"#ed7953\"],[0.7777777777777778,\"#fb9f3a\"],[0.8888888888888888,\"#fdca26\"],[1.0,\"#f0f921\"]]}],\"choropleth\":[{\"type\":\"choropleth\",\"colorbar\":{\"outlinewidth\":0,\"ticks\":\"\"}}],\"histogram2d\":[{\"type\":\"histogram2d\",\"colorbar\":{\"outlinewidth\":0,\"ticks\":\"\"},\"colorscale\":[[0.0,\"#0d0887\"],[0.1111111111111111,\"#46039f\"],[0.2222222222222222,\"#7201a8\"],[0.3333333333333333,\"#9c179e\"],[0.4444444444444444,\"#bd3786\"],[0.5555555555555556,\"#d8576b\"],[0.6666666666666666,\"#ed7953\"],[0.7777777777777778,\"#fb9f3a\"],[0.8888888888888888,\"#fdca26\"],[1.0,\"#f0f921\"]]}],\"heatmap\":[{\"type\":\"heatmap\",\"colorbar\":{\"outlinewidth\":0,\"ticks\":\"\"},\"colorscale\":[[0.0,\"#0d0887\"],[0.1111111111111111,\"#46039f\"],[0.2222222222222222,\"#7201a8\"],[0.3333333333333333,\"#9c179e\"],[0.4444444444444444,\"#bd3786\"],[0.5555555555555556,\"#d8576b\"],[0.6666666666666666,\"#ed7953\"],[0.7777777777777778,\"#fb9f3a\"],[0.8888888888888888,\"#fdca26\"],[1.0,\"#f0f921\"]]}],\"heatmapgl\":[{\"type\":\"heatmapgl\",\"colorbar\":{\"outlinewidth\":0,\"ticks\":\"\"},\"colorscale\":[[0.0,\"#0d0887\"],[0.1111111111111111,\"#46039f\"],[0.2222222222222222,\"#7201a8\"],[0.3333333333333333,\"#9c179e\"],[0.4444444444444444,\"#bd3786\"],[0.5555555555555556,\"#d8576b\"],[0.6666666666666666,\"#ed7953\"],[0.7777777777777778,\"#fb9f3a\"],[0.8888888888888888,\"#fdca26\"],[1.0,\"#f0f921\"]]}],\"contourcarpet\":[{\"type\":\"contourcarpet\",\"colorbar\":{\"outlinewidth\":0,\"ticks\":\"\"}}],\"contour\":[{\"type\":\"contour\",\"colorbar\":{\"outlinewidth\":0,\"ticks\":\"\"},\"colorscale\":[[0.0,\"#0d0887\"],[0.1111111111111111,\"#46039f\"],[0.2222222222222222,\"#7201a8\"],[0.3333333333333333,\"#9c179e\"],[0.4444444444444444,\"#bd3786\"],[0.5555555555555556,\"#d8576b\"],[0.6666666666666666,\"#ed7953\"],[0.7777777777777778,\"#fb9f3a\"],[0.8888888888888888,\"#fdca26\"],[1.0,\"#f0f921\"]]}],\"surface\":[{\"type\":\"surface\",\"colorbar\":{\"outlinewidth\":0,\"ticks\":\"\"},\"colorscale\":[[0.0,\"#0d0887\"],[0.1111111111111111,\"#46039f\"],[0.2222222222222222,\"#7201a8\"],[0.3333333333333333,\"#9c179e\"],[0.4444444444444444,\"#bd3786\"],[0.5555555555555556,\"#d8576b\"],[0.6666666666666666,\"#ed7953\"],[0.7777777777777778,\"#fb9f3a\"],[0.8888888888888888,\"#fdca26\"],[1.0,\"#f0f921\"]]}],\"mesh3d\":[{\"type\":\"mesh3d\",\"colorbar\":{\"outlinewidth\":0,\"ticks\":\"\"}}],\"scatter\":[{\"fillpattern\":{\"fillmode\":\"overlay\",\"size\":10,\"solidity\":0.2},\"type\":\"scatter\"}],\"parcoords\":[{\"type\":\"parcoords\",\"line\":{\"colorbar\":{\"outlinewidth\":0,\"ticks\":\"\"}}}],\"scatterpolargl\":[{\"type\":\"scatterpolargl\",\"marker\":{\"colorbar\":{\"outlinewidth\":0,\"ticks\":\"\"}}}],\"bar\":[{\"error_x\":{\"color\":\"#2a3f5f\"},\"error_y\":{\"color\":\"#2a3f5f\"},\"marker\":{\"line\":{\"color\":\"#E5ECF6\",\"width\":0.5},\"pattern\":{\"fillmode\":\"overlay\",\"size\":10,\"solidity\":0.2}},\"type\":\"bar\"}],\"scattergeo\":[{\"type\":\"scattergeo\",\"marker\":{\"colorbar\":{\"outlinewidth\":0,\"ticks\":\"\"}}}],\"scatterpolar\":[{\"type\":\"scatterpolar\",\"marker\":{\"colorbar\":{\"outlinewidth\":0,\"ticks\":\"\"}}}],\"histogram\":[{\"marker\":{\"pattern\":{\"fillmode\":\"overlay\",\"size\":10,\"solidity\":0.2}},\"type\":\"histogram\"}],\"scattergl\":[{\"type\":\"scattergl\",\"marker\":{\"colorbar\":{\"outlinewidth\":0,\"ticks\":\"\"}}}],\"scatter3d\":[{\"type\":\"scatter3d\",\"line\":{\"colorbar\":{\"outlinewidth\":0,\"ticks\":\"\"}},\"marker\":{\"colorbar\":{\"outlinewidth\":0,\"ticks\":\"\"}}}],\"scattermapbox\":[{\"type\":\"scattermapbox\",\"marker\":{\"colorbar\":{\"outlinewidth\":0,\"ticks\":\"\"}}}],\"scatterternary\":[{\"type\":\"scatterternary\",\"marker\":{\"colorbar\":{\"outlinewidth\":0,\"ticks\":\"\"}}}],\"scattercarpet\":[{\"type\":\"scattercarpet\",\"marker\":{\"colorbar\":{\"outlinewidth\":0,\"ticks\":\"\"}}}],\"carpet\":[{\"aaxis\":{\"endlinecolor\":\"#2a3f5f\",\"gridcolor\":\"white\",\"linecolor\":\"white\",\"minorgridcolor\":\"white\",\"startlinecolor\":\"#2a3f5f\"},\"baxis\":{\"endlinecolor\":\"#2a3f5f\",\"gridcolor\":\"white\",\"linecolor\":\"white\",\"minorgridcolor\":\"white\",\"startlinecolor\":\"#2a3f5f\"},\"type\":\"carpet\"}],\"table\":[{\"cells\":{\"fill\":{\"color\":\"#EBF0F8\"},\"line\":{\"color\":\"white\"}},\"header\":{\"fill\":{\"color\":\"#C8D4E3\"},\"line\":{\"color\":\"white\"}},\"type\":\"table\"}],\"barpolar\":[{\"marker\":{\"line\":{\"color\":\"#E5ECF6\",\"width\":0.5},\"pattern\":{\"fillmode\":\"overlay\",\"size\":10,\"solidity\":0.2}},\"type\":\"barpolar\"}],\"pie\":[{\"automargin\":true,\"type\":\"pie\"}]},\"layout\":{\"autotypenumbers\":\"strict\",\"colorway\":[\"#636efa\",\"#EF553B\",\"#00cc96\",\"#ab63fa\",\"#FFA15A\",\"#19d3f3\",\"#FF6692\",\"#B6E880\",\"#FF97FF\",\"#FECB52\"],\"font\":{\"color\":\"#2a3f5f\"},\"hovermode\":\"closest\",\"hoverlabel\":{\"align\":\"left\"},\"paper_bgcolor\":\"white\",\"plot_bgcolor\":\"#E5ECF6\",\"polar\":{\"bgcolor\":\"#E5ECF6\",\"angularaxis\":{\"gridcolor\":\"white\",\"linecolor\":\"white\",\"ticks\":\"\"},\"radialaxis\":{\"gridcolor\":\"white\",\"linecolor\":\"white\",\"ticks\":\"\"}},\"ternary\":{\"bgcolor\":\"#E5ECF6\",\"aaxis\":{\"gridcolor\":\"white\",\"linecolor\":\"white\",\"ticks\":\"\"},\"baxis\":{\"gridcolor\":\"white\",\"linecolor\":\"white\",\"ticks\":\"\"},\"caxis\":{\"gridcolor\":\"white\",\"linecolor\":\"white\",\"ticks\":\"\"}},\"coloraxis\":{\"colorbar\":{\"outlinewidth\":0,\"ticks\":\"\"}},\"colorscale\":{\"sequential\":[[0.0,\"#0d0887\"],[0.1111111111111111,\"#46039f\"],[0.2222222222222222,\"#7201a8\"],[0.3333333333333333,\"#9c179e\"],[0.4444444444444444,\"#bd3786\"],[0.5555555555555556,\"#d8576b\"],[0.6666666666666666,\"#ed7953\"],[0.7777777777777778,\"#fb9f3a\"],[0.8888888888888888,\"#fdca26\"],[1.0,\"#f0f921\"]],\"sequentialminus\":[[0.0,\"#0d0887\"],[0.1111111111111111,\"#46039f\"],[0.2222222222222222,\"#7201a8\"],[0.3333333333333333,\"#9c179e\"],[0.4444444444444444,\"#bd3786\"],[0.5555555555555556,\"#d8576b\"],[0.6666666666666666,\"#ed7953\"],[0.7777777777777778,\"#fb9f3a\"],[0.8888888888888888,\"#fdca26\"],[1.0,\"#f0f921\"]],\"diverging\":[[0,\"#8e0152\"],[0.1,\"#c51b7d\"],[0.2,\"#de77ae\"],[0.3,\"#f1b6da\"],[0.4,\"#fde0ef\"],[0.5,\"#f7f7f7\"],[0.6,\"#e6f5d0\"],[0.7,\"#b8e186\"],[0.8,\"#7fbc41\"],[0.9,\"#4d9221\"],[1,\"#276419\"]]},\"xaxis\":{\"gridcolor\":\"white\",\"linecolor\":\"white\",\"ticks\":\"\",\"title\":{\"standoff\":15},\"zerolinecolor\":\"white\",\"automargin\":true,\"zerolinewidth\":2},\"yaxis\":{\"gridcolor\":\"white\",\"linecolor\":\"white\",\"ticks\":\"\",\"title\":{\"standoff\":15},\"zerolinecolor\":\"white\",\"automargin\":true,\"zerolinewidth\":2},\"scene\":{\"xaxis\":{\"backgroundcolor\":\"#E5ECF6\",\"gridcolor\":\"white\",\"linecolor\":\"white\",\"showbackground\":true,\"ticks\":\"\",\"zerolinecolor\":\"white\",\"gridwidth\":2},\"yaxis\":{\"backgroundcolor\":\"#E5ECF6\",\"gridcolor\":\"white\",\"linecolor\":\"white\",\"showbackground\":true,\"ticks\":\"\",\"zerolinecolor\":\"white\",\"gridwidth\":2},\"zaxis\":{\"backgroundcolor\":\"#E5ECF6\",\"gridcolor\":\"white\",\"linecolor\":\"white\",\"showbackground\":true,\"ticks\":\"\",\"zerolinecolor\":\"white\",\"gridwidth\":2}},\"shapedefaults\":{\"line\":{\"color\":\"#2a3f5f\"}},\"annotationdefaults\":{\"arrowcolor\":\"#2a3f5f\",\"arrowhead\":0,\"arrowwidth\":1},\"geo\":{\"bgcolor\":\"white\",\"landcolor\":\"#E5ECF6\",\"subunitcolor\":\"white\",\"showland\":true,\"showlakes\":true,\"lakecolor\":\"white\"},\"title\":{\"x\":0.05},\"mapbox\":{\"style\":\"light\"}}},\"xaxis\":{\"anchor\":\"y\",\"domain\":[0.0,1.0],\"title\":{\"text\":\"Year\"}},\"yaxis\":{\"anchor\":\"x\",\"domain\":[0.0,1.0],\"title\":{\"text\":\"prop\"}},\"legend\":{\"title\":{\"text\":\"User_status\"},\"tracegroupgap\":0},\"title\":{\"text\":\"Proportion de comptes par statuts et par an\"}},                        {\"responsive\": true}                    ).then(function(){\n",
       "\n",
       "var gd = document.getElementById('da442c7f-44d5-42af-9b5f-f38a8f2b2f6b');\n",
       "var x = new MutationObserver(function (mutations, observer) {{\n",
       "        var display = window.getComputedStyle(gd).display;\n",
       "        if (!display || display === 'none') {{\n",
       "            console.log([gd, 'removed!']);\n",
       "            Plotly.purge(gd);\n",
       "            observer.disconnect();\n",
       "        }}\n",
       "}});\n",
       "\n",
       "// Listen for the removal of the full notebook cells\n",
       "var notebookContainer = gd.closest('#notebook-container');\n",
       "if (notebookContainer) {{\n",
       "    x.observe(notebookContainer, {childList: true});\n",
       "}}\n",
       "\n",
       "// Listen for the clearing of the current output cell\n",
       "var outputEl = gd.closest('.output');\n",
       "if (outputEl) {{\n",
       "    x.observe(outputEl, {childList: true});\n",
       "}}\n",
       "\n",
       "                        })                };                });            </script>        </div>"
      ]
     },
     "metadata": {},
     "output_type": "display_data"
    }
   ],
   "source": [
    "time_length = \"Year\"\n",
    "x = \"User_status\"\n",
    "what = \"user_id\"\n",
    "\n",
    "if x == \"User_status\":\n",
    "    Y= 'nb_user_by_group'\n",
    "elif x == \"id\":\n",
    "    Y= \"nb_tweets_by_group\"\n",
    "\n",
    "dftime = time_series(time_length, x, what)\n",
    "area_time_serie = px.area(dftime, x=time_length, y='prop', color= x, pattern_shape= x,\n",
    "                         title = \"Proportion de comptes par statuts et par an\")#, line_group=\"country\")\n",
    "area_time_serie"
   ]
  },
  {
   "cell_type": "code",
   "execution_count": 37,
   "id": "728718fc",
   "metadata": {
    "tags": [
     "remove-input"
    ]
   },
   "outputs": [
    {
     "data": {
      "application/vnd.plotly.v1+json": {
       "config": {
        "plotlyServerURL": "https://plot.ly"
       },
       "data": [
        {
         "fillpattern": {
          "shape": ""
         },
         "hovertemplate": "User_status=Advocacy<br>Year=%{x}<br>prop=%{y}<extra></extra>",
         "legendgroup": "Advocacy",
         "line": {
          "color": "#636efa"
         },
         "marker": {
          "symbol": "circle"
         },
         "mode": "lines",
         "name": "Advocacy",
         "orientation": "v",
         "showlegend": true,
         "stackgroup": "1",
         "type": "scatter",
         "x": [
          2009,
          2009,
          2011,
          2011,
          2011,
          2011,
          2011,
          2011,
          2011,
          2011,
          2012,
          2012,
          2012,
          2012,
          2012,
          2012,
          2012,
          2012,
          2013,
          2013,
          2013,
          2013,
          2013,
          2013,
          2013,
          2013,
          2014,
          2014,
          2014,
          2014,
          2014,
          2014,
          2014,
          2014,
          2015,
          2015,
          2015,
          2015,
          2015,
          2015,
          2015,
          2015,
          2016,
          2016,
          2016,
          2016,
          2016,
          2016,
          2016,
          2016,
          2017,
          2017,
          2017,
          2017,
          2017,
          2017,
          2017,
          2017,
          2018,
          2018,
          2018,
          2018,
          2018,
          2018,
          2018,
          2018,
          2019,
          2019,
          2019,
          2019,
          2019,
          2019,
          2019,
          2019,
          2020,
          2020,
          2020,
          2020,
          2020,
          2020,
          2020,
          2020,
          2021,
          2021,
          2021,
          2021,
          2021,
          2021,
          2021,
          2021
         ],
         "xaxis": "x",
         "y": [
          15.492957746478872,
          15.492957746478872,
          13.415097927362615,
          13.415097927362615,
          13.415097927362615,
          13.415097927362615,
          13.415097927362615,
          13.415097927362615,
          13.415097927362615,
          13.415097927362615,
          15.288523406726199,
          15.288523406726199,
          15.288523406726199,
          15.288523406726199,
          15.288523406726199,
          15.288523406726199,
          15.288523406726199,
          15.288523406726199,
          13.156317756398384,
          13.156317756398384,
          13.156317756398384,
          13.156317756398384,
          13.156317756398384,
          13.156317756398384,
          13.156317756398384,
          13.156317756398384,
          10.979355603153625,
          10.979355603153625,
          10.979355603153625,
          10.979355603153625,
          10.979355603153625,
          10.979355603153625,
          10.979355603153625,
          10.979355603153625,
          8.55890027259768,
          8.55890027259768,
          8.55890027259768,
          8.55890027259768,
          8.55890027259768,
          8.55890027259768,
          8.55890027259768,
          8.55890027259768,
          7.104476687468063,
          7.104476687468063,
          7.104476687468063,
          7.104476687468063,
          7.104476687468063,
          7.104476687468063,
          7.104476687468063,
          7.104476687468063,
          5.914451418603611,
          5.914451418603611,
          5.914451418603611,
          5.914451418603611,
          5.914451418603611,
          5.914451418603611,
          5.914451418603611,
          5.914451418603611,
          7.063507352469017,
          7.063507352469017,
          7.063507352469017,
          7.063507352469017,
          7.063507352469017,
          7.063507352469017,
          7.063507352469017,
          7.063507352469017,
          5.4319679849340865,
          5.4319679849340865,
          5.4319679849340865,
          5.4319679849340865,
          5.4319679849340865,
          5.4319679849340865,
          5.4319679849340865,
          5.4319679849340865,
          4.177288176741928,
          4.177288176741928,
          4.177288176741928,
          4.177288176741928,
          4.177288176741928,
          4.177288176741928,
          4.177288176741928,
          4.177288176741928,
          5.346543334356232,
          5.346543334356232,
          5.346543334356232,
          5.346543334356232,
          5.346543334356232,
          5.346543334356232,
          5.346543334356232,
          5.346543334356232
         ],
         "yaxis": "y"
        },
        {
         "fillpattern": {
          "shape": "/"
         },
         "hovertemplate": "User_status=Other<br>Year=%{x}<br>prop=%{y}<extra></extra>",
         "legendgroup": "Other",
         "line": {
          "color": "#EF553B"
         },
         "marker": {
          "symbol": "circle"
         },
         "mode": "lines",
         "name": "Other",
         "orientation": "v",
         "showlegend": true,
         "stackgroup": "1",
         "type": "scatter",
         "x": [
          2009,
          2009,
          2010,
          2010,
          2011,
          2011,
          2011,
          2011,
          2011,
          2011,
          2011,
          2011,
          2012,
          2012,
          2012,
          2012,
          2012,
          2012,
          2012,
          2012,
          2013,
          2013,
          2013,
          2013,
          2013,
          2013,
          2013,
          2013,
          2014,
          2014,
          2014,
          2014,
          2014,
          2014,
          2014,
          2014,
          2015,
          2015,
          2015,
          2015,
          2015,
          2015,
          2015,
          2015,
          2016,
          2016,
          2016,
          2016,
          2016,
          2016,
          2016,
          2016,
          2017,
          2017,
          2017,
          2017,
          2017,
          2017,
          2017,
          2017,
          2018,
          2018,
          2018,
          2018,
          2018,
          2018,
          2018,
          2018,
          2019,
          2019,
          2019,
          2019,
          2019,
          2019,
          2019,
          2019,
          2020,
          2020,
          2020,
          2020,
          2020,
          2020,
          2020,
          2020,
          2021,
          2021,
          2021,
          2021,
          2021,
          2021,
          2021,
          2021
         ],
         "xaxis": "x",
         "y": [
          84.50704225352112,
          84.50704225352112,
          99.68701095461658,
          99.68701095461658,
          21.03061418520631,
          21.03061418520631,
          21.03061418520631,
          21.03061418520631,
          21.03061418520631,
          21.03061418520631,
          21.03061418520631,
          21.03061418520631,
          17.823009682836112,
          17.823009682836112,
          17.823009682836112,
          17.823009682836112,
          17.823009682836112,
          17.823009682836112,
          17.823009682836112,
          17.823009682836112,
          13.98873405171005,
          13.98873405171005,
          13.98873405171005,
          13.98873405171005,
          13.98873405171005,
          13.98873405171005,
          13.98873405171005,
          13.98873405171005,
          14.218657430615686,
          14.218657430615686,
          14.218657430615686,
          14.218657430615686,
          14.218657430615686,
          14.218657430615686,
          14.218657430615686,
          14.218657430615686,
          9.474228265128337,
          9.474228265128337,
          9.474228265128337,
          9.474228265128337,
          9.474228265128337,
          9.474228265128337,
          9.474228265128337,
          9.474228265128337,
          6.862137846668421,
          6.862137846668421,
          6.862137846668421,
          6.862137846668421,
          6.862137846668421,
          6.862137846668421,
          6.862137846668421,
          6.862137846668421,
          6.816453714609455,
          6.816453714609455,
          6.816453714609455,
          6.816453714609455,
          6.816453714609455,
          6.816453714609455,
          6.816453714609455,
          6.816453714609455,
          5.224587426956913,
          5.224587426956913,
          5.224587426956913,
          5.224587426956913,
          5.224587426956913,
          5.224587426956913,
          5.224587426956913,
          5.224587426956913,
          5.2892537664783426,
          5.2892537664783426,
          5.2892537664783426,
          5.2892537664783426,
          5.2892537664783426,
          5.2892537664783426,
          5.2892537664783426,
          5.2892537664783426,
          4.994385773245933,
          4.994385773245933,
          4.994385773245933,
          4.994385773245933,
          4.994385773245933,
          4.994385773245933,
          4.994385773245933,
          4.994385773245933,
          4.544298803208978,
          4.544298803208978,
          4.544298803208978,
          4.544298803208978,
          4.544298803208978,
          4.544298803208978,
          4.544298803208978,
          4.544298803208978
         ],
         "yaxis": "y"
        },
        {
         "fillpattern": {
          "shape": "\\"
         },
         "hovertemplate": "User_status=NPO<br>Year=%{x}<br>prop=%{y}<extra></extra>",
         "legendgroup": "NPO",
         "line": {
          "color": "#00cc96"
         },
         "marker": {
          "symbol": "circle"
         },
         "mode": "lines",
         "name": "NPO",
         "orientation": "v",
         "showlegend": true,
         "stackgroup": "1",
         "type": "scatter",
         "x": [
          2010,
          2010,
          2011,
          2011,
          2011,
          2011,
          2011,
          2011,
          2011,
          2011,
          2012,
          2012,
          2012,
          2012,
          2012,
          2012,
          2012,
          2012,
          2013,
          2013,
          2013,
          2013,
          2013,
          2013,
          2013,
          2013,
          2014,
          2014,
          2014,
          2014,
          2014,
          2014,
          2014,
          2014,
          2015,
          2015,
          2015,
          2015,
          2015,
          2015,
          2015,
          2015,
          2016,
          2016,
          2016,
          2016,
          2016,
          2016,
          2016,
          2016,
          2017,
          2017,
          2017,
          2017,
          2017,
          2017,
          2017,
          2017,
          2018,
          2018,
          2018,
          2018,
          2018,
          2018,
          2018,
          2018,
          2019,
          2019,
          2019,
          2019,
          2019,
          2019,
          2019,
          2019,
          2020,
          2020,
          2020,
          2020,
          2020,
          2020,
          2020,
          2020,
          2021,
          2021,
          2021,
          2021,
          2021,
          2021,
          2021,
          2021
         ],
         "xaxis": "x",
         "y": [
          0.3129890453834116,
          0.3129890453834116,
          0.3660391709450466,
          0.3660391709450466,
          0.3660391709450466,
          0.3660391709450466,
          0.3660391709450466,
          0.3660391709450466,
          0.3660391709450466,
          0.3660391709450466,
          5.728095918143156,
          5.728095918143156,
          5.728095918143156,
          5.728095918143156,
          5.728095918143156,
          5.728095918143156,
          5.728095918143156,
          5.728095918143156,
          7.161612970004685,
          7.161612970004685,
          7.161612970004685,
          7.161612970004685,
          7.161612970004685,
          7.161612970004685,
          7.161612970004685,
          7.161612970004685,
          8.431846146834982,
          8.431846146834982,
          8.431846146834982,
          8.431846146834982,
          8.431846146834982,
          8.431846146834982,
          8.431846146834982,
          8.431846146834982,
          8.540560367465009,
          8.540560367465009,
          8.540560367465009,
          8.540560367465009,
          8.540560367465009,
          8.540560367465009,
          8.540560367465009,
          8.540560367465009,
          12.08906920206259,
          12.08906920206259,
          12.08906920206259,
          12.08906920206259,
          12.08906920206259,
          12.08906920206259,
          12.08906920206259,
          12.08906920206259,
          15.971404290847286,
          15.971404290847286,
          15.971404290847286,
          15.971404290847286,
          15.971404290847286,
          15.971404290847286,
          15.971404290847286,
          15.971404290847286,
          11.875521736338534,
          11.875521736338534,
          11.875521736338534,
          11.875521736338534,
          11.875521736338534,
          11.875521736338534,
          11.875521736338534,
          11.875521736338534,
          9.231550141242938,
          9.231550141242938,
          9.231550141242938,
          9.231550141242938,
          9.231550141242938,
          9.231550141242938,
          9.231550141242938,
          9.231550141242938,
          10.489499878611314,
          10.489499878611314,
          10.489499878611314,
          10.489499878611314,
          10.489499878611314,
          10.489499878611314,
          10.489499878611314,
          10.489499878611314,
          10.768488886940512,
          10.768488886940512,
          10.768488886940512,
          10.768488886940512,
          10.768488886940512,
          10.768488886940512,
          10.768488886940512,
          10.768488886940512
         ],
         "yaxis": "y"
        },
        {
         "fillpattern": {
          "shape": "x"
         },
         "hovertemplate": "User_status=Health organisations<br>Year=%{x}<br>prop=%{y}<extra></extra>",
         "legendgroup": "Health organisations",
         "line": {
          "color": "#ab63fa"
         },
         "marker": {
          "symbol": "circle"
         },
         "mode": "lines",
         "name": "Health organisations",
         "orientation": "v",
         "showlegend": true,
         "stackgroup": "1",
         "type": "scatter",
         "x": [
          2011,
          2011,
          2011,
          2011,
          2011,
          2011,
          2011,
          2011,
          2012,
          2012,
          2012,
          2012,
          2012,
          2012,
          2012,
          2012,
          2013,
          2013,
          2013,
          2013,
          2013,
          2013,
          2013,
          2013,
          2014,
          2014,
          2014,
          2014,
          2014,
          2014,
          2014,
          2014,
          2015,
          2015,
          2015,
          2015,
          2015,
          2015,
          2015,
          2015,
          2016,
          2016,
          2016,
          2016,
          2016,
          2016,
          2016,
          2016,
          2017,
          2017,
          2017,
          2017,
          2017,
          2017,
          2017,
          2017,
          2018,
          2018,
          2018,
          2018,
          2018,
          2018,
          2018,
          2018,
          2019,
          2019,
          2019,
          2019,
          2019,
          2019,
          2019,
          2019,
          2020,
          2020,
          2020,
          2020,
          2020,
          2020,
          2020,
          2020,
          2021,
          2021,
          2021,
          2021,
          2021,
          2021,
          2021,
          2021
         ],
         "xaxis": "x",
         "y": [
          0.4563605248146035,
          0.4563605248146035,
          0.4563605248146035,
          0.4563605248146035,
          0.4563605248146035,
          0.4563605248146035,
          0.4563605248146035,
          0.4563605248146035,
          1.0467506787401328,
          1.0467506787401328,
          1.0467506787401328,
          1.0467506787401328,
          1.0467506787401328,
          1.0467506787401328,
          1.0467506787401328,
          1.0467506787401328,
          2.8066811213649885,
          2.8066811213649885,
          2.8066811213649885,
          2.8066811213649885,
          2.8066811213649885,
          2.8066811213649885,
          2.8066811213649885,
          2.8066811213649885,
          5.338376703276671,
          5.338376703276671,
          5.338376703276671,
          5.338376703276671,
          5.338376703276671,
          5.338376703276671,
          5.338376703276671,
          5.338376703276671,
          7.571046291587819,
          7.571046291587819,
          7.571046291587819,
          7.571046291587819,
          7.571046291587819,
          7.571046291587819,
          7.571046291587819,
          7.571046291587819,
          7.310425989872869,
          7.310425989872869,
          7.310425989872869,
          7.310425989872869,
          7.310425989872869,
          7.310425989872869,
          7.310425989872869,
          7.310425989872869,
          5.870469488467789,
          5.870469488467789,
          5.870469488467789,
          5.870469488467789,
          5.870469488467789,
          5.870469488467789,
          5.870469488467789,
          5.870469488467789,
          6.793007127721055,
          6.793007127721055,
          6.793007127721055,
          6.793007127721055,
          6.793007127721055,
          6.793007127721055,
          6.793007127721055,
          6.793007127721055,
          7.134975282485875,
          7.134975282485875,
          7.134975282485875,
          7.134975282485875,
          7.134975282485875,
          7.134975282485875,
          7.134975282485875,
          7.134975282485875,
          5.082392571012382,
          5.082392571012382,
          5.082392571012382,
          5.082392571012382,
          5.082392571012382,
          5.082392571012382,
          5.082392571012382,
          5.082392571012382,
          5.7840515540747885,
          5.7840515540747885,
          5.7840515540747885,
          5.7840515540747885,
          5.7840515540747885,
          5.7840515540747885,
          5.7840515540747885,
          5.7840515540747885
         ],
         "yaxis": "y"
        },
        {
         "fillpattern": {
          "shape": "+"
         },
         "hovertemplate": "User_status=Health professionals<br>Year=%{x}<br>prop=%{y}<extra></extra>",
         "legendgroup": "Health professionals",
         "line": {
          "color": "#FFA15A"
         },
         "marker": {
          "symbol": "circle"
         },
         "mode": "lines",
         "name": "Health professionals",
         "orientation": "v",
         "showlegend": true,
         "stackgroup": "1",
         "type": "scatter",
         "x": [
          2011,
          2011,
          2011,
          2011,
          2011,
          2011,
          2011,
          2011,
          2012,
          2012,
          2012,
          2012,
          2012,
          2012,
          2012,
          2012,
          2013,
          2013,
          2013,
          2013,
          2013,
          2013,
          2013,
          2013,
          2014,
          2014,
          2014,
          2014,
          2014,
          2014,
          2014,
          2014,
          2015,
          2015,
          2015,
          2015,
          2015,
          2015,
          2015,
          2015,
          2016,
          2016,
          2016,
          2016,
          2016,
          2016,
          2016,
          2016,
          2017,
          2017,
          2017,
          2017,
          2017,
          2017,
          2017,
          2017,
          2018,
          2018,
          2018,
          2018,
          2018,
          2018,
          2018,
          2018,
          2019,
          2019,
          2019,
          2019,
          2019,
          2019,
          2019,
          2019,
          2020,
          2020,
          2020,
          2020,
          2020,
          2020,
          2020,
          2020,
          2021,
          2021,
          2021,
          2021,
          2021,
          2021,
          2021,
          2021
         ],
         "xaxis": "x",
         "y": [
          16.92336946187488,
          16.92336946187488,
          16.92336946187488,
          16.92336946187488,
          16.92336946187488,
          16.92336946187488,
          16.92336946187488,
          16.92336946187488,
          10.505170979739804,
          10.505170979739804,
          10.505170979739804,
          10.505170979739804,
          10.505170979739804,
          10.505170979739804,
          10.505170979739804,
          10.505170979739804,
          15.460716270252012,
          15.460716270252012,
          15.460716270252012,
          15.460716270252012,
          15.460716270252012,
          15.460716270252012,
          15.460716270252012,
          15.460716270252012,
          18.874356286742923,
          18.874356286742923,
          18.874356286742923,
          18.874356286742923,
          18.874356286742923,
          18.874356286742923,
          18.874356286742923,
          18.874356286742923,
          22.07957851563477,
          22.07957851563477,
          22.07957851563477,
          22.07957851563477,
          22.07957851563477,
          22.07957851563477,
          22.07957851563477,
          22.07957851563477,
          20.580219576023165,
          20.580219576023165,
          20.580219576023165,
          20.580219576023165,
          20.580219576023165,
          20.580219576023165,
          20.580219576023165,
          20.580219576023165,
          20.384506433289104,
          20.384506433289104,
          20.384506433289104,
          20.384506433289104,
          20.384506433289104,
          20.384506433289104,
          20.384506433289104,
          20.384506433289104,
          25.235182687985613,
          25.235182687985613,
          25.235182687985613,
          25.235182687985613,
          25.235182687985613,
          25.235182687985613,
          25.235182687985613,
          25.235182687985613,
          26.89206685499058,
          26.89206685499058,
          26.89206685499058,
          26.89206685499058,
          26.89206685499058,
          26.89206685499058,
          26.89206685499058,
          26.89206685499058,
          25.891448167030834,
          25.891448167030834,
          25.891448167030834,
          25.891448167030834,
          25.891448167030834,
          25.891448167030834,
          25.891448167030834,
          25.891448167030834,
          25.86471439217921,
          25.86471439217921,
          25.86471439217921,
          25.86471439217921,
          25.86471439217921,
          25.86471439217921,
          25.86471439217921,
          25.86471439217921
         ],
         "yaxis": "y"
        },
        {
         "fillpattern": {
          "shape": "."
         },
         "hovertemplate": "User_status=Media<br>Year=%{x}<br>prop=%{y}<extra></extra>",
         "legendgroup": "Media",
         "line": {
          "color": "#19d3f3"
         },
         "marker": {
          "symbol": "circle"
         },
         "mode": "lines",
         "name": "Media",
         "orientation": "v",
         "showlegend": true,
         "stackgroup": "1",
         "type": "scatter",
         "x": [
          2011,
          2011,
          2011,
          2011,
          2011,
          2011,
          2011,
          2011,
          2012,
          2012,
          2012,
          2012,
          2012,
          2012,
          2012,
          2012,
          2013,
          2013,
          2013,
          2013,
          2013,
          2013,
          2013,
          2013,
          2014,
          2014,
          2014,
          2014,
          2014,
          2014,
          2014,
          2014,
          2015,
          2015,
          2015,
          2015,
          2015,
          2015,
          2015,
          2015,
          2016,
          2016,
          2016,
          2016,
          2016,
          2016,
          2016,
          2016,
          2017,
          2017,
          2017,
          2017,
          2017,
          2017,
          2017,
          2017,
          2018,
          2018,
          2018,
          2018,
          2018,
          2018,
          2018,
          2018,
          2019,
          2019,
          2019,
          2019,
          2019,
          2019,
          2019,
          2019,
          2020,
          2020,
          2020,
          2020,
          2020,
          2020,
          2020,
          2020,
          2021,
          2021,
          2021,
          2021,
          2021,
          2021,
          2021,
          2021
         ],
         "xaxis": "x",
         "y": [
          7.282753375166381,
          7.282753375166381,
          7.282753375166381,
          7.282753375166381,
          7.282753375166381,
          7.282753375166381,
          7.282753375166381,
          7.282753375166381,
          4.795907157765885,
          4.795907157765885,
          4.795907157765885,
          4.795907157765885,
          4.795907157765885,
          4.795907157765885,
          4.795907157765885,
          4.795907157765885,
          7.217180026367114,
          7.217180026367114,
          7.217180026367114,
          7.217180026367114,
          7.217180026367114,
          7.217180026367114,
          7.217180026367114,
          7.217180026367114,
          8.615959531513468,
          8.615959531513468,
          8.615959531513468,
          8.615959531513468,
          8.615959531513468,
          8.615959531513468,
          8.615959531513468,
          8.615959531513468,
          7.327625732554164,
          7.327625732554164,
          7.327625732554164,
          7.327625732554164,
          7.327625732554164,
          7.327625732554164,
          7.327625732554164,
          7.327625732554164,
          13.887641493364717,
          13.887641493364717,
          13.887641493364717,
          13.887641493364717,
          13.887641493364717,
          13.887641493364717,
          13.887641493364717,
          13.887641493364717,
          14.283690903940482,
          14.283690903940482,
          14.283690903940482,
          14.283690903940482,
          14.283690903940482,
          14.283690903940482,
          14.283690903940482,
          14.283690903940482,
          18.86839401528286,
          18.86839401528286,
          18.86839401528286,
          18.86839401528286,
          18.86839401528286,
          18.86839401528286,
          18.86839401528286,
          18.86839401528286,
          21.70065324858757,
          21.70065324858757,
          21.70065324858757,
          21.70065324858757,
          21.70065324858757,
          21.70065324858757,
          21.70065324858757,
          21.70065324858757,
          26.732823500849722,
          26.732823500849722,
          26.732823500849722,
          26.732823500849722,
          26.732823500849722,
          26.732823500849722,
          26.732823500849722,
          26.732823500849722,
          28.855376791898646,
          28.855376791898646,
          28.855376791898646,
          28.855376791898646,
          28.855376791898646,
          28.855376791898646,
          28.855376791898646,
          28.855376791898646
         ],
         "yaxis": "y"
        },
        {
         "fillpattern": {
          "shape": ""
         },
         "hovertemplate": "User_status=Patients<br>Year=%{x}<br>prop=%{y}<extra></extra>",
         "legendgroup": "Patients",
         "line": {
          "color": "#FF6692"
         },
         "marker": {
          "symbol": "circle"
         },
         "mode": "lines",
         "name": "Patients",
         "orientation": "v",
         "showlegend": true,
         "stackgroup": "1",
         "type": "scatter",
         "x": [
          2011,
          2011,
          2011,
          2011,
          2011,
          2011,
          2011,
          2011,
          2012,
          2012,
          2012,
          2012,
          2012,
          2012,
          2012,
          2012,
          2013,
          2013,
          2013,
          2013,
          2013,
          2013,
          2013,
          2013,
          2014,
          2014,
          2014,
          2014,
          2014,
          2014,
          2014,
          2014,
          2015,
          2015,
          2015,
          2015,
          2015,
          2015,
          2015,
          2015,
          2016,
          2016,
          2016,
          2016,
          2016,
          2016,
          2016,
          2016,
          2017,
          2017,
          2017,
          2017,
          2017,
          2017,
          2017,
          2017,
          2018,
          2018,
          2018,
          2018,
          2018,
          2018,
          2018,
          2018,
          2019,
          2019,
          2019,
          2019,
          2019,
          2019,
          2019,
          2019,
          2020,
          2020,
          2020,
          2020,
          2020,
          2020,
          2020,
          2020,
          2021,
          2021,
          2021,
          2021,
          2021,
          2021,
          2021,
          2021
         ],
         "xaxis": "x",
         "y": [
          34.56930975470622,
          34.56930975470622,
          34.56930975470622,
          34.56930975470622,
          34.56930975470622,
          34.56930975470622,
          34.56930975470622,
          34.56930975470622,
          39.02010326266066,
          39.02010326266066,
          39.02010326266066,
          39.02010326266066,
          39.02010326266066,
          39.02010326266066,
          39.02010326266066,
          39.02010326266066,
          30.04870289057648,
          30.04870289057648,
          30.04870289057648,
          30.04870289057648,
          30.04870289057648,
          30.04870289057648,
          30.04870289057648,
          30.04870289057648,
          25.700223305837856,
          25.700223305837856,
          25.700223305837856,
          25.700223305837856,
          25.700223305837856,
          25.700223305837856,
          25.700223305837856,
          25.700223305837856,
          26.30859391281876,
          26.30859391281876,
          26.30859391281876,
          26.30859391281876,
          26.30859391281876,
          26.30859391281876,
          26.30859391281876,
          26.30859391281876,
          26.716115145790425,
          26.716115145790425,
          26.716115145790425,
          26.716115145790425,
          26.716115145790425,
          26.716115145790425,
          26.716115145790425,
          26.716115145790425,
          24.15353420899617,
          24.15353420899617,
          24.15353420899617,
          24.15353420899617,
          24.15353420899617,
          24.15353420899617,
          24.15353420899617,
          24.15353420899617,
          20.488184678610416,
          20.488184678610416,
          20.488184678610416,
          20.488184678610416,
          20.488184678610416,
          20.488184678610416,
          20.488184678610416,
          20.488184678610416,
          18.699240819209038,
          18.699240819209038,
          18.699240819209038,
          18.699240819209038,
          18.699240819209038,
          18.699240819209038,
          18.699240819209038,
          18.699240819209038,
          17.375273124544794,
          17.375273124544794,
          17.375273124544794,
          17.375273124544794,
          17.375273124544794,
          17.375273124544794,
          17.375273124544794,
          17.375273124544794,
          13.73284818727807,
          13.73284818727807,
          13.73284818727807,
          13.73284818727807,
          13.73284818727807,
          13.73284818727807,
          13.73284818727807,
          13.73284818727807
         ],
         "yaxis": "y"
        },
        {
         "fillpattern": {
          "shape": "/"
         },
         "hovertemplate": "User_status=Undefined<br>Year=%{x}<br>prop=%{y}<extra></extra>",
         "legendgroup": "Undefined",
         "line": {
          "color": "#B6E880"
         },
         "marker": {
          "symbol": "circle"
         },
         "mode": "lines",
         "name": "Undefined",
         "orientation": "v",
         "showlegend": true,
         "stackgroup": "1",
         "type": "scatter",
         "x": [
          2011,
          2011,
          2011,
          2011,
          2011,
          2011,
          2011,
          2011,
          2012,
          2012,
          2012,
          2012,
          2012,
          2012,
          2012,
          2012,
          2013,
          2013,
          2013,
          2013,
          2013,
          2013,
          2013,
          2013,
          2014,
          2014,
          2014,
          2014,
          2014,
          2014,
          2014,
          2014,
          2015,
          2015,
          2015,
          2015,
          2015,
          2015,
          2015,
          2015,
          2016,
          2016,
          2016,
          2016,
          2016,
          2016,
          2016,
          2016,
          2017,
          2017,
          2017,
          2017,
          2017,
          2017,
          2017,
          2017,
          2018,
          2018,
          2018,
          2018,
          2018,
          2018,
          2018,
          2018,
          2019,
          2019,
          2019,
          2019,
          2019,
          2019,
          2019,
          2019,
          2020,
          2020,
          2020,
          2020,
          2020,
          2020,
          2020,
          2020,
          2021,
          2021,
          2021,
          2021,
          2021,
          2021,
          2021,
          2021
         ],
         "xaxis": "x",
         "y": [
          5.95645559992394,
          5.95645559992394,
          5.95645559992394,
          5.95645559992394,
          5.95645559992394,
          5.95645559992394,
          5.95645559992394,
          5.95645559992394,
          5.792438913388051,
          5.792438913388051,
          5.792438913388051,
          5.792438913388051,
          5.792438913388051,
          5.792438913388051,
          5.792438913388051,
          5.792438913388051,
          10.160054913326286,
          10.160054913326286,
          10.160054913326286,
          10.160054913326286,
          10.160054913326286,
          10.160054913326286,
          10.160054913326286,
          10.160054913326286,
          7.841224992024791,
          7.841224992024791,
          7.841224992024791,
          7.841224992024791,
          7.841224992024791,
          7.841224992024791,
          7.841224992024791,
          7.841224992024791,
          10.13946664221346,
          10.13946664221346,
          10.13946664221346,
          10.13946664221346,
          10.13946664221346,
          10.13946664221346,
          10.13946664221346,
          10.13946664221346,
          5.449914058749748,
          5.449914058749748,
          5.449914058749748,
          5.449914058749748,
          5.449914058749748,
          5.449914058749748,
          5.449914058749748,
          5.449914058749748,
          6.605489541246105,
          6.605489541246105,
          6.605489541246105,
          6.605489541246105,
          6.605489541246105,
          6.605489541246105,
          6.605489541246105,
          6.605489541246105,
          4.4516149746355875,
          4.4516149746355875,
          4.4516149746355875,
          4.4516149746355875,
          4.4516149746355875,
          4.4516149746355875,
          4.4516149746355875,
          4.4516149746355875,
          5.620291902071563,
          5.620291902071563,
          5.620291902071563,
          5.620291902071563,
          5.620291902071563,
          5.620291902071563,
          5.620291902071563,
          5.620291902071563,
          5.256888807963097,
          5.256888807963097,
          5.256888807963097,
          5.256888807963097,
          5.256888807963097,
          5.256888807963097,
          5.256888807963097,
          5.256888807963097,
          5.103678050063565,
          5.103678050063565,
          5.103678050063565,
          5.103678050063565,
          5.103678050063565,
          5.103678050063565,
          5.103678050063565,
          5.103678050063565
         ],
         "yaxis": "y"
        }
       ],
       "layout": {
        "legend": {
         "title": {
          "text": "User_status"
         },
         "tracegroupgap": 0
        },
        "template": {
         "data": {
          "bar": [
           {
            "error_x": {
             "color": "#2a3f5f"
            },
            "error_y": {
             "color": "#2a3f5f"
            },
            "marker": {
             "line": {
              "color": "#E5ECF6",
              "width": 0.5
             },
             "pattern": {
              "fillmode": "overlay",
              "size": 10,
              "solidity": 0.2
             }
            },
            "type": "bar"
           }
          ],
          "barpolar": [
           {
            "marker": {
             "line": {
              "color": "#E5ECF6",
              "width": 0.5
             },
             "pattern": {
              "fillmode": "overlay",
              "size": 10,
              "solidity": 0.2
             }
            },
            "type": "barpolar"
           }
          ],
          "carpet": [
           {
            "aaxis": {
             "endlinecolor": "#2a3f5f",
             "gridcolor": "white",
             "linecolor": "white",
             "minorgridcolor": "white",
             "startlinecolor": "#2a3f5f"
            },
            "baxis": {
             "endlinecolor": "#2a3f5f",
             "gridcolor": "white",
             "linecolor": "white",
             "minorgridcolor": "white",
             "startlinecolor": "#2a3f5f"
            },
            "type": "carpet"
           }
          ],
          "choropleth": [
           {
            "colorbar": {
             "outlinewidth": 0,
             "ticks": ""
            },
            "type": "choropleth"
           }
          ],
          "contour": [
           {
            "colorbar": {
             "outlinewidth": 0,
             "ticks": ""
            },
            "colorscale": [
             [
              0,
              "#0d0887"
             ],
             [
              0.1111111111111111,
              "#46039f"
             ],
             [
              0.2222222222222222,
              "#7201a8"
             ],
             [
              0.3333333333333333,
              "#9c179e"
             ],
             [
              0.4444444444444444,
              "#bd3786"
             ],
             [
              0.5555555555555556,
              "#d8576b"
             ],
             [
              0.6666666666666666,
              "#ed7953"
             ],
             [
              0.7777777777777778,
              "#fb9f3a"
             ],
             [
              0.8888888888888888,
              "#fdca26"
             ],
             [
              1,
              "#f0f921"
             ]
            ],
            "type": "contour"
           }
          ],
          "contourcarpet": [
           {
            "colorbar": {
             "outlinewidth": 0,
             "ticks": ""
            },
            "type": "contourcarpet"
           }
          ],
          "heatmap": [
           {
            "colorbar": {
             "outlinewidth": 0,
             "ticks": ""
            },
            "colorscale": [
             [
              0,
              "#0d0887"
             ],
             [
              0.1111111111111111,
              "#46039f"
             ],
             [
              0.2222222222222222,
              "#7201a8"
             ],
             [
              0.3333333333333333,
              "#9c179e"
             ],
             [
              0.4444444444444444,
              "#bd3786"
             ],
             [
              0.5555555555555556,
              "#d8576b"
             ],
             [
              0.6666666666666666,
              "#ed7953"
             ],
             [
              0.7777777777777778,
              "#fb9f3a"
             ],
             [
              0.8888888888888888,
              "#fdca26"
             ],
             [
              1,
              "#f0f921"
             ]
            ],
            "type": "heatmap"
           }
          ],
          "heatmapgl": [
           {
            "colorbar": {
             "outlinewidth": 0,
             "ticks": ""
            },
            "colorscale": [
             [
              0,
              "#0d0887"
             ],
             [
              0.1111111111111111,
              "#46039f"
             ],
             [
              0.2222222222222222,
              "#7201a8"
             ],
             [
              0.3333333333333333,
              "#9c179e"
             ],
             [
              0.4444444444444444,
              "#bd3786"
             ],
             [
              0.5555555555555556,
              "#d8576b"
             ],
             [
              0.6666666666666666,
              "#ed7953"
             ],
             [
              0.7777777777777778,
              "#fb9f3a"
             ],
             [
              0.8888888888888888,
              "#fdca26"
             ],
             [
              1,
              "#f0f921"
             ]
            ],
            "type": "heatmapgl"
           }
          ],
          "histogram": [
           {
            "marker": {
             "pattern": {
              "fillmode": "overlay",
              "size": 10,
              "solidity": 0.2
             }
            },
            "type": "histogram"
           }
          ],
          "histogram2d": [
           {
            "colorbar": {
             "outlinewidth": 0,
             "ticks": ""
            },
            "colorscale": [
             [
              0,
              "#0d0887"
             ],
             [
              0.1111111111111111,
              "#46039f"
             ],
             [
              0.2222222222222222,
              "#7201a8"
             ],
             [
              0.3333333333333333,
              "#9c179e"
             ],
             [
              0.4444444444444444,
              "#bd3786"
             ],
             [
              0.5555555555555556,
              "#d8576b"
             ],
             [
              0.6666666666666666,
              "#ed7953"
             ],
             [
              0.7777777777777778,
              "#fb9f3a"
             ],
             [
              0.8888888888888888,
              "#fdca26"
             ],
             [
              1,
              "#f0f921"
             ]
            ],
            "type": "histogram2d"
           }
          ],
          "histogram2dcontour": [
           {
            "colorbar": {
             "outlinewidth": 0,
             "ticks": ""
            },
            "colorscale": [
             [
              0,
              "#0d0887"
             ],
             [
              0.1111111111111111,
              "#46039f"
             ],
             [
              0.2222222222222222,
              "#7201a8"
             ],
             [
              0.3333333333333333,
              "#9c179e"
             ],
             [
              0.4444444444444444,
              "#bd3786"
             ],
             [
              0.5555555555555556,
              "#d8576b"
             ],
             [
              0.6666666666666666,
              "#ed7953"
             ],
             [
              0.7777777777777778,
              "#fb9f3a"
             ],
             [
              0.8888888888888888,
              "#fdca26"
             ],
             [
              1,
              "#f0f921"
             ]
            ],
            "type": "histogram2dcontour"
           }
          ],
          "mesh3d": [
           {
            "colorbar": {
             "outlinewidth": 0,
             "ticks": ""
            },
            "type": "mesh3d"
           }
          ],
          "parcoords": [
           {
            "line": {
             "colorbar": {
              "outlinewidth": 0,
              "ticks": ""
             }
            },
            "type": "parcoords"
           }
          ],
          "pie": [
           {
            "automargin": true,
            "type": "pie"
           }
          ],
          "scatter": [
           {
            "fillpattern": {
             "fillmode": "overlay",
             "size": 10,
             "solidity": 0.2
            },
            "type": "scatter"
           }
          ],
          "scatter3d": [
           {
            "line": {
             "colorbar": {
              "outlinewidth": 0,
              "ticks": ""
             }
            },
            "marker": {
             "colorbar": {
              "outlinewidth": 0,
              "ticks": ""
             }
            },
            "type": "scatter3d"
           }
          ],
          "scattercarpet": [
           {
            "marker": {
             "colorbar": {
              "outlinewidth": 0,
              "ticks": ""
             }
            },
            "type": "scattercarpet"
           }
          ],
          "scattergeo": [
           {
            "marker": {
             "colorbar": {
              "outlinewidth": 0,
              "ticks": ""
             }
            },
            "type": "scattergeo"
           }
          ],
          "scattergl": [
           {
            "marker": {
             "colorbar": {
              "outlinewidth": 0,
              "ticks": ""
             }
            },
            "type": "scattergl"
           }
          ],
          "scattermapbox": [
           {
            "marker": {
             "colorbar": {
              "outlinewidth": 0,
              "ticks": ""
             }
            },
            "type": "scattermapbox"
           }
          ],
          "scatterpolar": [
           {
            "marker": {
             "colorbar": {
              "outlinewidth": 0,
              "ticks": ""
             }
            },
            "type": "scatterpolar"
           }
          ],
          "scatterpolargl": [
           {
            "marker": {
             "colorbar": {
              "outlinewidth": 0,
              "ticks": ""
             }
            },
            "type": "scatterpolargl"
           }
          ],
          "scatterternary": [
           {
            "marker": {
             "colorbar": {
              "outlinewidth": 0,
              "ticks": ""
             }
            },
            "type": "scatterternary"
           }
          ],
          "surface": [
           {
            "colorbar": {
             "outlinewidth": 0,
             "ticks": ""
            },
            "colorscale": [
             [
              0,
              "#0d0887"
             ],
             [
              0.1111111111111111,
              "#46039f"
             ],
             [
              0.2222222222222222,
              "#7201a8"
             ],
             [
              0.3333333333333333,
              "#9c179e"
             ],
             [
              0.4444444444444444,
              "#bd3786"
             ],
             [
              0.5555555555555556,
              "#d8576b"
             ],
             [
              0.6666666666666666,
              "#ed7953"
             ],
             [
              0.7777777777777778,
              "#fb9f3a"
             ],
             [
              0.8888888888888888,
              "#fdca26"
             ],
             [
              1,
              "#f0f921"
             ]
            ],
            "type": "surface"
           }
          ],
          "table": [
           {
            "cells": {
             "fill": {
              "color": "#EBF0F8"
             },
             "line": {
              "color": "white"
             }
            },
            "header": {
             "fill": {
              "color": "#C8D4E3"
             },
             "line": {
              "color": "white"
             }
            },
            "type": "table"
           }
          ]
         },
         "layout": {
          "annotationdefaults": {
           "arrowcolor": "#2a3f5f",
           "arrowhead": 0,
           "arrowwidth": 1
          },
          "autotypenumbers": "strict",
          "coloraxis": {
           "colorbar": {
            "outlinewidth": 0,
            "ticks": ""
           }
          },
          "colorscale": {
           "diverging": [
            [
             0,
             "#8e0152"
            ],
            [
             0.1,
             "#c51b7d"
            ],
            [
             0.2,
             "#de77ae"
            ],
            [
             0.3,
             "#f1b6da"
            ],
            [
             0.4,
             "#fde0ef"
            ],
            [
             0.5,
             "#f7f7f7"
            ],
            [
             0.6,
             "#e6f5d0"
            ],
            [
             0.7,
             "#b8e186"
            ],
            [
             0.8,
             "#7fbc41"
            ],
            [
             0.9,
             "#4d9221"
            ],
            [
             1,
             "#276419"
            ]
           ],
           "sequential": [
            [
             0,
             "#0d0887"
            ],
            [
             0.1111111111111111,
             "#46039f"
            ],
            [
             0.2222222222222222,
             "#7201a8"
            ],
            [
             0.3333333333333333,
             "#9c179e"
            ],
            [
             0.4444444444444444,
             "#bd3786"
            ],
            [
             0.5555555555555556,
             "#d8576b"
            ],
            [
             0.6666666666666666,
             "#ed7953"
            ],
            [
             0.7777777777777778,
             "#fb9f3a"
            ],
            [
             0.8888888888888888,
             "#fdca26"
            ],
            [
             1,
             "#f0f921"
            ]
           ],
           "sequentialminus": [
            [
             0,
             "#0d0887"
            ],
            [
             0.1111111111111111,
             "#46039f"
            ],
            [
             0.2222222222222222,
             "#7201a8"
            ],
            [
             0.3333333333333333,
             "#9c179e"
            ],
            [
             0.4444444444444444,
             "#bd3786"
            ],
            [
             0.5555555555555556,
             "#d8576b"
            ],
            [
             0.6666666666666666,
             "#ed7953"
            ],
            [
             0.7777777777777778,
             "#fb9f3a"
            ],
            [
             0.8888888888888888,
             "#fdca26"
            ],
            [
             1,
             "#f0f921"
            ]
           ]
          },
          "colorway": [
           "#636efa",
           "#EF553B",
           "#00cc96",
           "#ab63fa",
           "#FFA15A",
           "#19d3f3",
           "#FF6692",
           "#B6E880",
           "#FF97FF",
           "#FECB52"
          ],
          "font": {
           "color": "#2a3f5f"
          },
          "geo": {
           "bgcolor": "white",
           "lakecolor": "white",
           "landcolor": "#E5ECF6",
           "showlakes": true,
           "showland": true,
           "subunitcolor": "white"
          },
          "hoverlabel": {
           "align": "left"
          },
          "hovermode": "closest",
          "mapbox": {
           "style": "light"
          },
          "paper_bgcolor": "white",
          "plot_bgcolor": "#E5ECF6",
          "polar": {
           "angularaxis": {
            "gridcolor": "white",
            "linecolor": "white",
            "ticks": ""
           },
           "bgcolor": "#E5ECF6",
           "radialaxis": {
            "gridcolor": "white",
            "linecolor": "white",
            "ticks": ""
           }
          },
          "scene": {
           "xaxis": {
            "backgroundcolor": "#E5ECF6",
            "gridcolor": "white",
            "gridwidth": 2,
            "linecolor": "white",
            "showbackground": true,
            "ticks": "",
            "zerolinecolor": "white"
           },
           "yaxis": {
            "backgroundcolor": "#E5ECF6",
            "gridcolor": "white",
            "gridwidth": 2,
            "linecolor": "white",
            "showbackground": true,
            "ticks": "",
            "zerolinecolor": "white"
           },
           "zaxis": {
            "backgroundcolor": "#E5ECF6",
            "gridcolor": "white",
            "gridwidth": 2,
            "linecolor": "white",
            "showbackground": true,
            "ticks": "",
            "zerolinecolor": "white"
           }
          },
          "shapedefaults": {
           "line": {
            "color": "#2a3f5f"
           }
          },
          "ternary": {
           "aaxis": {
            "gridcolor": "white",
            "linecolor": "white",
            "ticks": ""
           },
           "baxis": {
            "gridcolor": "white",
            "linecolor": "white",
            "ticks": ""
           },
           "bgcolor": "#E5ECF6",
           "caxis": {
            "gridcolor": "white",
            "linecolor": "white",
            "ticks": ""
           }
          },
          "title": {
           "x": 0.05
          },
          "xaxis": {
           "automargin": true,
           "gridcolor": "white",
           "linecolor": "white",
           "ticks": "",
           "title": {
            "standoff": 15
           },
           "zerolinecolor": "white",
           "zerolinewidth": 2
          },
          "yaxis": {
           "automargin": true,
           "gridcolor": "white",
           "linecolor": "white",
           "ticks": "",
           "title": {
            "standoff": 15
           },
           "zerolinecolor": "white",
           "zerolinewidth": 2
          }
         }
        },
        "title": {
         "text": "Proportion de tweets par statuts et par an"
        },
        "xaxis": {
         "anchor": "y",
         "domain": [
          0,
          1
         ],
         "title": {
          "text": "Year"
         }
        },
        "yaxis": {
         "anchor": "x",
         "domain": [
          0,
          1
         ],
         "title": {
          "text": "prop"
         }
        }
       }
      },
      "text/html": [
       "<div>                            <div id=\"c13ba0bb-8111-484b-87a1-7d752bf0b942\" class=\"plotly-graph-div\" style=\"height:525px; width:100%;\"></div>            <script type=\"text/javascript\">                require([\"plotly\"], function(Plotly) {                    window.PLOTLYENV=window.PLOTLYENV || {};                                    if (document.getElementById(\"c13ba0bb-8111-484b-87a1-7d752bf0b942\")) {                    Plotly.newPlot(                        \"c13ba0bb-8111-484b-87a1-7d752bf0b942\",                        [{\"fillpattern\":{\"shape\":\"\"},\"hovertemplate\":\"User_status=Advocacy<br>Year=%{x}<br>prop=%{y}<extra></extra>\",\"legendgroup\":\"Advocacy\",\"line\":{\"color\":\"#636efa\"},\"marker\":{\"symbol\":\"circle\"},\"mode\":\"lines\",\"name\":\"Advocacy\",\"orientation\":\"v\",\"showlegend\":true,\"stackgroup\":\"1\",\"x\":[2009.0,2009.0,2011.0,2011.0,2011.0,2011.0,2011.0,2011.0,2011.0,2011.0,2012.0,2012.0,2012.0,2012.0,2012.0,2012.0,2012.0,2012.0,2013.0,2013.0,2013.0,2013.0,2013.0,2013.0,2013.0,2013.0,2014.0,2014.0,2014.0,2014.0,2014.0,2014.0,2014.0,2014.0,2015.0,2015.0,2015.0,2015.0,2015.0,2015.0,2015.0,2015.0,2016.0,2016.0,2016.0,2016.0,2016.0,2016.0,2016.0,2016.0,2017.0,2017.0,2017.0,2017.0,2017.0,2017.0,2017.0,2017.0,2018.0,2018.0,2018.0,2018.0,2018.0,2018.0,2018.0,2018.0,2019.0,2019.0,2019.0,2019.0,2019.0,2019.0,2019.0,2019.0,2020.0,2020.0,2020.0,2020.0,2020.0,2020.0,2020.0,2020.0,2021.0,2021.0,2021.0,2021.0,2021.0,2021.0,2021.0,2021.0],\"xaxis\":\"x\",\"y\":[15.492957746478872,15.492957746478872,13.415097927362615,13.415097927362615,13.415097927362615,13.415097927362615,13.415097927362615,13.415097927362615,13.415097927362615,13.415097927362615,15.288523406726199,15.288523406726199,15.288523406726199,15.288523406726199,15.288523406726199,15.288523406726199,15.288523406726199,15.288523406726199,13.156317756398384,13.156317756398384,13.156317756398384,13.156317756398384,13.156317756398384,13.156317756398384,13.156317756398384,13.156317756398384,10.979355603153625,10.979355603153625,10.979355603153625,10.979355603153625,10.979355603153625,10.979355603153625,10.979355603153625,10.979355603153625,8.55890027259768,8.55890027259768,8.55890027259768,8.55890027259768,8.55890027259768,8.55890027259768,8.55890027259768,8.55890027259768,7.104476687468063,7.104476687468063,7.104476687468063,7.104476687468063,7.104476687468063,7.104476687468063,7.104476687468063,7.104476687468063,5.914451418603611,5.914451418603611,5.914451418603611,5.914451418603611,5.914451418603611,5.914451418603611,5.914451418603611,5.914451418603611,7.063507352469017,7.063507352469017,7.063507352469017,7.063507352469017,7.063507352469017,7.063507352469017,7.063507352469017,7.063507352469017,5.4319679849340865,5.4319679849340865,5.4319679849340865,5.4319679849340865,5.4319679849340865,5.4319679849340865,5.4319679849340865,5.4319679849340865,4.177288176741928,4.177288176741928,4.177288176741928,4.177288176741928,4.177288176741928,4.177288176741928,4.177288176741928,4.177288176741928,5.346543334356232,5.346543334356232,5.346543334356232,5.346543334356232,5.346543334356232,5.346543334356232,5.346543334356232,5.346543334356232],\"yaxis\":\"y\",\"type\":\"scatter\"},{\"fillpattern\":{\"shape\":\"/\"},\"hovertemplate\":\"User_status=Other<br>Year=%{x}<br>prop=%{y}<extra></extra>\",\"legendgroup\":\"Other\",\"line\":{\"color\":\"#EF553B\"},\"marker\":{\"symbol\":\"circle\"},\"mode\":\"lines\",\"name\":\"Other\",\"orientation\":\"v\",\"showlegend\":true,\"stackgroup\":\"1\",\"x\":[2009.0,2009.0,2010.0,2010.0,2011.0,2011.0,2011.0,2011.0,2011.0,2011.0,2011.0,2011.0,2012.0,2012.0,2012.0,2012.0,2012.0,2012.0,2012.0,2012.0,2013.0,2013.0,2013.0,2013.0,2013.0,2013.0,2013.0,2013.0,2014.0,2014.0,2014.0,2014.0,2014.0,2014.0,2014.0,2014.0,2015.0,2015.0,2015.0,2015.0,2015.0,2015.0,2015.0,2015.0,2016.0,2016.0,2016.0,2016.0,2016.0,2016.0,2016.0,2016.0,2017.0,2017.0,2017.0,2017.0,2017.0,2017.0,2017.0,2017.0,2018.0,2018.0,2018.0,2018.0,2018.0,2018.0,2018.0,2018.0,2019.0,2019.0,2019.0,2019.0,2019.0,2019.0,2019.0,2019.0,2020.0,2020.0,2020.0,2020.0,2020.0,2020.0,2020.0,2020.0,2021.0,2021.0,2021.0,2021.0,2021.0,2021.0,2021.0,2021.0],\"xaxis\":\"x\",\"y\":[84.50704225352112,84.50704225352112,99.68701095461658,99.68701095461658,21.03061418520631,21.03061418520631,21.03061418520631,21.03061418520631,21.03061418520631,21.03061418520631,21.03061418520631,21.03061418520631,17.823009682836112,17.823009682836112,17.823009682836112,17.823009682836112,17.823009682836112,17.823009682836112,17.823009682836112,17.823009682836112,13.98873405171005,13.98873405171005,13.98873405171005,13.98873405171005,13.98873405171005,13.98873405171005,13.98873405171005,13.98873405171005,14.218657430615686,14.218657430615686,14.218657430615686,14.218657430615686,14.218657430615686,14.218657430615686,14.218657430615686,14.218657430615686,9.474228265128337,9.474228265128337,9.474228265128337,9.474228265128337,9.474228265128337,9.474228265128337,9.474228265128337,9.474228265128337,6.862137846668421,6.862137846668421,6.862137846668421,6.862137846668421,6.862137846668421,6.862137846668421,6.862137846668421,6.862137846668421,6.816453714609455,6.816453714609455,6.816453714609455,6.816453714609455,6.816453714609455,6.816453714609455,6.816453714609455,6.816453714609455,5.224587426956913,5.224587426956913,5.224587426956913,5.224587426956913,5.224587426956913,5.224587426956913,5.224587426956913,5.224587426956913,5.2892537664783426,5.2892537664783426,5.2892537664783426,5.2892537664783426,5.2892537664783426,5.2892537664783426,5.2892537664783426,5.2892537664783426,4.994385773245933,4.994385773245933,4.994385773245933,4.994385773245933,4.994385773245933,4.994385773245933,4.994385773245933,4.994385773245933,4.544298803208978,4.544298803208978,4.544298803208978,4.544298803208978,4.544298803208978,4.544298803208978,4.544298803208978,4.544298803208978],\"yaxis\":\"y\",\"type\":\"scatter\"},{\"fillpattern\":{\"shape\":\"\\\\\"},\"hovertemplate\":\"User_status=NPO<br>Year=%{x}<br>prop=%{y}<extra></extra>\",\"legendgroup\":\"NPO\",\"line\":{\"color\":\"#00cc96\"},\"marker\":{\"symbol\":\"circle\"},\"mode\":\"lines\",\"name\":\"NPO\",\"orientation\":\"v\",\"showlegend\":true,\"stackgroup\":\"1\",\"x\":[2010.0,2010.0,2011.0,2011.0,2011.0,2011.0,2011.0,2011.0,2011.0,2011.0,2012.0,2012.0,2012.0,2012.0,2012.0,2012.0,2012.0,2012.0,2013.0,2013.0,2013.0,2013.0,2013.0,2013.0,2013.0,2013.0,2014.0,2014.0,2014.0,2014.0,2014.0,2014.0,2014.0,2014.0,2015.0,2015.0,2015.0,2015.0,2015.0,2015.0,2015.0,2015.0,2016.0,2016.0,2016.0,2016.0,2016.0,2016.0,2016.0,2016.0,2017.0,2017.0,2017.0,2017.0,2017.0,2017.0,2017.0,2017.0,2018.0,2018.0,2018.0,2018.0,2018.0,2018.0,2018.0,2018.0,2019.0,2019.0,2019.0,2019.0,2019.0,2019.0,2019.0,2019.0,2020.0,2020.0,2020.0,2020.0,2020.0,2020.0,2020.0,2020.0,2021.0,2021.0,2021.0,2021.0,2021.0,2021.0,2021.0,2021.0],\"xaxis\":\"x\",\"y\":[0.3129890453834116,0.3129890453834116,0.3660391709450466,0.3660391709450466,0.3660391709450466,0.3660391709450466,0.3660391709450466,0.3660391709450466,0.3660391709450466,0.3660391709450466,5.728095918143156,5.728095918143156,5.728095918143156,5.728095918143156,5.728095918143156,5.728095918143156,5.728095918143156,5.728095918143156,7.161612970004685,7.161612970004685,7.161612970004685,7.161612970004685,7.161612970004685,7.161612970004685,7.161612970004685,7.161612970004685,8.431846146834982,8.431846146834982,8.431846146834982,8.431846146834982,8.431846146834982,8.431846146834982,8.431846146834982,8.431846146834982,8.540560367465009,8.540560367465009,8.540560367465009,8.540560367465009,8.540560367465009,8.540560367465009,8.540560367465009,8.540560367465009,12.08906920206259,12.08906920206259,12.08906920206259,12.08906920206259,12.08906920206259,12.08906920206259,12.08906920206259,12.08906920206259,15.971404290847286,15.971404290847286,15.971404290847286,15.971404290847286,15.971404290847286,15.971404290847286,15.971404290847286,15.971404290847286,11.875521736338534,11.875521736338534,11.875521736338534,11.875521736338534,11.875521736338534,11.875521736338534,11.875521736338534,11.875521736338534,9.231550141242938,9.231550141242938,9.231550141242938,9.231550141242938,9.231550141242938,9.231550141242938,9.231550141242938,9.231550141242938,10.489499878611314,10.489499878611314,10.489499878611314,10.489499878611314,10.489499878611314,10.489499878611314,10.489499878611314,10.489499878611314,10.768488886940512,10.768488886940512,10.768488886940512,10.768488886940512,10.768488886940512,10.768488886940512,10.768488886940512,10.768488886940512],\"yaxis\":\"y\",\"type\":\"scatter\"},{\"fillpattern\":{\"shape\":\"x\"},\"hovertemplate\":\"User_status=Health organisations<br>Year=%{x}<br>prop=%{y}<extra></extra>\",\"legendgroup\":\"Health organisations\",\"line\":{\"color\":\"#ab63fa\"},\"marker\":{\"symbol\":\"circle\"},\"mode\":\"lines\",\"name\":\"Health organisations\",\"orientation\":\"v\",\"showlegend\":true,\"stackgroup\":\"1\",\"x\":[2011.0,2011.0,2011.0,2011.0,2011.0,2011.0,2011.0,2011.0,2012.0,2012.0,2012.0,2012.0,2012.0,2012.0,2012.0,2012.0,2013.0,2013.0,2013.0,2013.0,2013.0,2013.0,2013.0,2013.0,2014.0,2014.0,2014.0,2014.0,2014.0,2014.0,2014.0,2014.0,2015.0,2015.0,2015.0,2015.0,2015.0,2015.0,2015.0,2015.0,2016.0,2016.0,2016.0,2016.0,2016.0,2016.0,2016.0,2016.0,2017.0,2017.0,2017.0,2017.0,2017.0,2017.0,2017.0,2017.0,2018.0,2018.0,2018.0,2018.0,2018.0,2018.0,2018.0,2018.0,2019.0,2019.0,2019.0,2019.0,2019.0,2019.0,2019.0,2019.0,2020.0,2020.0,2020.0,2020.0,2020.0,2020.0,2020.0,2020.0,2021.0,2021.0,2021.0,2021.0,2021.0,2021.0,2021.0,2021.0],\"xaxis\":\"x\",\"y\":[0.4563605248146035,0.4563605248146035,0.4563605248146035,0.4563605248146035,0.4563605248146035,0.4563605248146035,0.4563605248146035,0.4563605248146035,1.0467506787401328,1.0467506787401328,1.0467506787401328,1.0467506787401328,1.0467506787401328,1.0467506787401328,1.0467506787401328,1.0467506787401328,2.8066811213649885,2.8066811213649885,2.8066811213649885,2.8066811213649885,2.8066811213649885,2.8066811213649885,2.8066811213649885,2.8066811213649885,5.338376703276671,5.338376703276671,5.338376703276671,5.338376703276671,5.338376703276671,5.338376703276671,5.338376703276671,5.338376703276671,7.571046291587819,7.571046291587819,7.571046291587819,7.571046291587819,7.571046291587819,7.571046291587819,7.571046291587819,7.571046291587819,7.310425989872869,7.310425989872869,7.310425989872869,7.310425989872869,7.310425989872869,7.310425989872869,7.310425989872869,7.310425989872869,5.870469488467789,5.870469488467789,5.870469488467789,5.870469488467789,5.870469488467789,5.870469488467789,5.870469488467789,5.870469488467789,6.793007127721055,6.793007127721055,6.793007127721055,6.793007127721055,6.793007127721055,6.793007127721055,6.793007127721055,6.793007127721055,7.134975282485875,7.134975282485875,7.134975282485875,7.134975282485875,7.134975282485875,7.134975282485875,7.134975282485875,7.134975282485875,5.082392571012382,5.082392571012382,5.082392571012382,5.082392571012382,5.082392571012382,5.082392571012382,5.082392571012382,5.082392571012382,5.7840515540747885,5.7840515540747885,5.7840515540747885,5.7840515540747885,5.7840515540747885,5.7840515540747885,5.7840515540747885,5.7840515540747885],\"yaxis\":\"y\",\"type\":\"scatter\"},{\"fillpattern\":{\"shape\":\"+\"},\"hovertemplate\":\"User_status=Health professionals<br>Year=%{x}<br>prop=%{y}<extra></extra>\",\"legendgroup\":\"Health professionals\",\"line\":{\"color\":\"#FFA15A\"},\"marker\":{\"symbol\":\"circle\"},\"mode\":\"lines\",\"name\":\"Health professionals\",\"orientation\":\"v\",\"showlegend\":true,\"stackgroup\":\"1\",\"x\":[2011.0,2011.0,2011.0,2011.0,2011.0,2011.0,2011.0,2011.0,2012.0,2012.0,2012.0,2012.0,2012.0,2012.0,2012.0,2012.0,2013.0,2013.0,2013.0,2013.0,2013.0,2013.0,2013.0,2013.0,2014.0,2014.0,2014.0,2014.0,2014.0,2014.0,2014.0,2014.0,2015.0,2015.0,2015.0,2015.0,2015.0,2015.0,2015.0,2015.0,2016.0,2016.0,2016.0,2016.0,2016.0,2016.0,2016.0,2016.0,2017.0,2017.0,2017.0,2017.0,2017.0,2017.0,2017.0,2017.0,2018.0,2018.0,2018.0,2018.0,2018.0,2018.0,2018.0,2018.0,2019.0,2019.0,2019.0,2019.0,2019.0,2019.0,2019.0,2019.0,2020.0,2020.0,2020.0,2020.0,2020.0,2020.0,2020.0,2020.0,2021.0,2021.0,2021.0,2021.0,2021.0,2021.0,2021.0,2021.0],\"xaxis\":\"x\",\"y\":[16.92336946187488,16.92336946187488,16.92336946187488,16.92336946187488,16.92336946187488,16.92336946187488,16.92336946187488,16.92336946187488,10.505170979739804,10.505170979739804,10.505170979739804,10.505170979739804,10.505170979739804,10.505170979739804,10.505170979739804,10.505170979739804,15.460716270252012,15.460716270252012,15.460716270252012,15.460716270252012,15.460716270252012,15.460716270252012,15.460716270252012,15.460716270252012,18.874356286742923,18.874356286742923,18.874356286742923,18.874356286742923,18.874356286742923,18.874356286742923,18.874356286742923,18.874356286742923,22.07957851563477,22.07957851563477,22.07957851563477,22.07957851563477,22.07957851563477,22.07957851563477,22.07957851563477,22.07957851563477,20.580219576023165,20.580219576023165,20.580219576023165,20.580219576023165,20.580219576023165,20.580219576023165,20.580219576023165,20.580219576023165,20.384506433289104,20.384506433289104,20.384506433289104,20.384506433289104,20.384506433289104,20.384506433289104,20.384506433289104,20.384506433289104,25.235182687985613,25.235182687985613,25.235182687985613,25.235182687985613,25.235182687985613,25.235182687985613,25.235182687985613,25.235182687985613,26.89206685499058,26.89206685499058,26.89206685499058,26.89206685499058,26.89206685499058,26.89206685499058,26.89206685499058,26.89206685499058,25.891448167030834,25.891448167030834,25.891448167030834,25.891448167030834,25.891448167030834,25.891448167030834,25.891448167030834,25.891448167030834,25.86471439217921,25.86471439217921,25.86471439217921,25.86471439217921,25.86471439217921,25.86471439217921,25.86471439217921,25.86471439217921],\"yaxis\":\"y\",\"type\":\"scatter\"},{\"fillpattern\":{\"shape\":\".\"},\"hovertemplate\":\"User_status=Media<br>Year=%{x}<br>prop=%{y}<extra></extra>\",\"legendgroup\":\"Media\",\"line\":{\"color\":\"#19d3f3\"},\"marker\":{\"symbol\":\"circle\"},\"mode\":\"lines\",\"name\":\"Media\",\"orientation\":\"v\",\"showlegend\":true,\"stackgroup\":\"1\",\"x\":[2011.0,2011.0,2011.0,2011.0,2011.0,2011.0,2011.0,2011.0,2012.0,2012.0,2012.0,2012.0,2012.0,2012.0,2012.0,2012.0,2013.0,2013.0,2013.0,2013.0,2013.0,2013.0,2013.0,2013.0,2014.0,2014.0,2014.0,2014.0,2014.0,2014.0,2014.0,2014.0,2015.0,2015.0,2015.0,2015.0,2015.0,2015.0,2015.0,2015.0,2016.0,2016.0,2016.0,2016.0,2016.0,2016.0,2016.0,2016.0,2017.0,2017.0,2017.0,2017.0,2017.0,2017.0,2017.0,2017.0,2018.0,2018.0,2018.0,2018.0,2018.0,2018.0,2018.0,2018.0,2019.0,2019.0,2019.0,2019.0,2019.0,2019.0,2019.0,2019.0,2020.0,2020.0,2020.0,2020.0,2020.0,2020.0,2020.0,2020.0,2021.0,2021.0,2021.0,2021.0,2021.0,2021.0,2021.0,2021.0],\"xaxis\":\"x\",\"y\":[7.282753375166381,7.282753375166381,7.282753375166381,7.282753375166381,7.282753375166381,7.282753375166381,7.282753375166381,7.282753375166381,4.795907157765885,4.795907157765885,4.795907157765885,4.795907157765885,4.795907157765885,4.795907157765885,4.795907157765885,4.795907157765885,7.217180026367114,7.217180026367114,7.217180026367114,7.217180026367114,7.217180026367114,7.217180026367114,7.217180026367114,7.217180026367114,8.615959531513468,8.615959531513468,8.615959531513468,8.615959531513468,8.615959531513468,8.615959531513468,8.615959531513468,8.615959531513468,7.327625732554164,7.327625732554164,7.327625732554164,7.327625732554164,7.327625732554164,7.327625732554164,7.327625732554164,7.327625732554164,13.887641493364717,13.887641493364717,13.887641493364717,13.887641493364717,13.887641493364717,13.887641493364717,13.887641493364717,13.887641493364717,14.283690903940482,14.283690903940482,14.283690903940482,14.283690903940482,14.283690903940482,14.283690903940482,14.283690903940482,14.283690903940482,18.86839401528286,18.86839401528286,18.86839401528286,18.86839401528286,18.86839401528286,18.86839401528286,18.86839401528286,18.86839401528286,21.70065324858757,21.70065324858757,21.70065324858757,21.70065324858757,21.70065324858757,21.70065324858757,21.70065324858757,21.70065324858757,26.732823500849722,26.732823500849722,26.732823500849722,26.732823500849722,26.732823500849722,26.732823500849722,26.732823500849722,26.732823500849722,28.855376791898646,28.855376791898646,28.855376791898646,28.855376791898646,28.855376791898646,28.855376791898646,28.855376791898646,28.855376791898646],\"yaxis\":\"y\",\"type\":\"scatter\"},{\"fillpattern\":{\"shape\":\"\"},\"hovertemplate\":\"User_status=Patients<br>Year=%{x}<br>prop=%{y}<extra></extra>\",\"legendgroup\":\"Patients\",\"line\":{\"color\":\"#FF6692\"},\"marker\":{\"symbol\":\"circle\"},\"mode\":\"lines\",\"name\":\"Patients\",\"orientation\":\"v\",\"showlegend\":true,\"stackgroup\":\"1\",\"x\":[2011.0,2011.0,2011.0,2011.0,2011.0,2011.0,2011.0,2011.0,2012.0,2012.0,2012.0,2012.0,2012.0,2012.0,2012.0,2012.0,2013.0,2013.0,2013.0,2013.0,2013.0,2013.0,2013.0,2013.0,2014.0,2014.0,2014.0,2014.0,2014.0,2014.0,2014.0,2014.0,2015.0,2015.0,2015.0,2015.0,2015.0,2015.0,2015.0,2015.0,2016.0,2016.0,2016.0,2016.0,2016.0,2016.0,2016.0,2016.0,2017.0,2017.0,2017.0,2017.0,2017.0,2017.0,2017.0,2017.0,2018.0,2018.0,2018.0,2018.0,2018.0,2018.0,2018.0,2018.0,2019.0,2019.0,2019.0,2019.0,2019.0,2019.0,2019.0,2019.0,2020.0,2020.0,2020.0,2020.0,2020.0,2020.0,2020.0,2020.0,2021.0,2021.0,2021.0,2021.0,2021.0,2021.0,2021.0,2021.0],\"xaxis\":\"x\",\"y\":[34.56930975470622,34.56930975470622,34.56930975470622,34.56930975470622,34.56930975470622,34.56930975470622,34.56930975470622,34.56930975470622,39.02010326266066,39.02010326266066,39.02010326266066,39.02010326266066,39.02010326266066,39.02010326266066,39.02010326266066,39.02010326266066,30.04870289057648,30.04870289057648,30.04870289057648,30.04870289057648,30.04870289057648,30.04870289057648,30.04870289057648,30.04870289057648,25.700223305837856,25.700223305837856,25.700223305837856,25.700223305837856,25.700223305837856,25.700223305837856,25.700223305837856,25.700223305837856,26.30859391281876,26.30859391281876,26.30859391281876,26.30859391281876,26.30859391281876,26.30859391281876,26.30859391281876,26.30859391281876,26.716115145790425,26.716115145790425,26.716115145790425,26.716115145790425,26.716115145790425,26.716115145790425,26.716115145790425,26.716115145790425,24.15353420899617,24.15353420899617,24.15353420899617,24.15353420899617,24.15353420899617,24.15353420899617,24.15353420899617,24.15353420899617,20.488184678610416,20.488184678610416,20.488184678610416,20.488184678610416,20.488184678610416,20.488184678610416,20.488184678610416,20.488184678610416,18.699240819209038,18.699240819209038,18.699240819209038,18.699240819209038,18.699240819209038,18.699240819209038,18.699240819209038,18.699240819209038,17.375273124544794,17.375273124544794,17.375273124544794,17.375273124544794,17.375273124544794,17.375273124544794,17.375273124544794,17.375273124544794,13.73284818727807,13.73284818727807,13.73284818727807,13.73284818727807,13.73284818727807,13.73284818727807,13.73284818727807,13.73284818727807],\"yaxis\":\"y\",\"type\":\"scatter\"},{\"fillpattern\":{\"shape\":\"/\"},\"hovertemplate\":\"User_status=Undefined<br>Year=%{x}<br>prop=%{y}<extra></extra>\",\"legendgroup\":\"Undefined\",\"line\":{\"color\":\"#B6E880\"},\"marker\":{\"symbol\":\"circle\"},\"mode\":\"lines\",\"name\":\"Undefined\",\"orientation\":\"v\",\"showlegend\":true,\"stackgroup\":\"1\",\"x\":[2011.0,2011.0,2011.0,2011.0,2011.0,2011.0,2011.0,2011.0,2012.0,2012.0,2012.0,2012.0,2012.0,2012.0,2012.0,2012.0,2013.0,2013.0,2013.0,2013.0,2013.0,2013.0,2013.0,2013.0,2014.0,2014.0,2014.0,2014.0,2014.0,2014.0,2014.0,2014.0,2015.0,2015.0,2015.0,2015.0,2015.0,2015.0,2015.0,2015.0,2016.0,2016.0,2016.0,2016.0,2016.0,2016.0,2016.0,2016.0,2017.0,2017.0,2017.0,2017.0,2017.0,2017.0,2017.0,2017.0,2018.0,2018.0,2018.0,2018.0,2018.0,2018.0,2018.0,2018.0,2019.0,2019.0,2019.0,2019.0,2019.0,2019.0,2019.0,2019.0,2020.0,2020.0,2020.0,2020.0,2020.0,2020.0,2020.0,2020.0,2021.0,2021.0,2021.0,2021.0,2021.0,2021.0,2021.0,2021.0],\"xaxis\":\"x\",\"y\":[5.95645559992394,5.95645559992394,5.95645559992394,5.95645559992394,5.95645559992394,5.95645559992394,5.95645559992394,5.95645559992394,5.792438913388051,5.792438913388051,5.792438913388051,5.792438913388051,5.792438913388051,5.792438913388051,5.792438913388051,5.792438913388051,10.160054913326286,10.160054913326286,10.160054913326286,10.160054913326286,10.160054913326286,10.160054913326286,10.160054913326286,10.160054913326286,7.841224992024791,7.841224992024791,7.841224992024791,7.841224992024791,7.841224992024791,7.841224992024791,7.841224992024791,7.841224992024791,10.13946664221346,10.13946664221346,10.13946664221346,10.13946664221346,10.13946664221346,10.13946664221346,10.13946664221346,10.13946664221346,5.449914058749748,5.449914058749748,5.449914058749748,5.449914058749748,5.449914058749748,5.449914058749748,5.449914058749748,5.449914058749748,6.605489541246105,6.605489541246105,6.605489541246105,6.605489541246105,6.605489541246105,6.605489541246105,6.605489541246105,6.605489541246105,4.4516149746355875,4.4516149746355875,4.4516149746355875,4.4516149746355875,4.4516149746355875,4.4516149746355875,4.4516149746355875,4.4516149746355875,5.620291902071563,5.620291902071563,5.620291902071563,5.620291902071563,5.620291902071563,5.620291902071563,5.620291902071563,5.620291902071563,5.256888807963097,5.256888807963097,5.256888807963097,5.256888807963097,5.256888807963097,5.256888807963097,5.256888807963097,5.256888807963097,5.103678050063565,5.103678050063565,5.103678050063565,5.103678050063565,5.103678050063565,5.103678050063565,5.103678050063565,5.103678050063565],\"yaxis\":\"y\",\"type\":\"scatter\"}],                        {\"template\":{\"data\":{\"histogram2dcontour\":[{\"type\":\"histogram2dcontour\",\"colorbar\":{\"outlinewidth\":0,\"ticks\":\"\"},\"colorscale\":[[0.0,\"#0d0887\"],[0.1111111111111111,\"#46039f\"],[0.2222222222222222,\"#7201a8\"],[0.3333333333333333,\"#9c179e\"],[0.4444444444444444,\"#bd3786\"],[0.5555555555555556,\"#d8576b\"],[0.6666666666666666,\"#ed7953\"],[0.7777777777777778,\"#fb9f3a\"],[0.8888888888888888,\"#fdca26\"],[1.0,\"#f0f921\"]]}],\"choropleth\":[{\"type\":\"choropleth\",\"colorbar\":{\"outlinewidth\":0,\"ticks\":\"\"}}],\"histogram2d\":[{\"type\":\"histogram2d\",\"colorbar\":{\"outlinewidth\":0,\"ticks\":\"\"},\"colorscale\":[[0.0,\"#0d0887\"],[0.1111111111111111,\"#46039f\"],[0.2222222222222222,\"#7201a8\"],[0.3333333333333333,\"#9c179e\"],[0.4444444444444444,\"#bd3786\"],[0.5555555555555556,\"#d8576b\"],[0.6666666666666666,\"#ed7953\"],[0.7777777777777778,\"#fb9f3a\"],[0.8888888888888888,\"#fdca26\"],[1.0,\"#f0f921\"]]}],\"heatmap\":[{\"type\":\"heatmap\",\"colorbar\":{\"outlinewidth\":0,\"ticks\":\"\"},\"colorscale\":[[0.0,\"#0d0887\"],[0.1111111111111111,\"#46039f\"],[0.2222222222222222,\"#7201a8\"],[0.3333333333333333,\"#9c179e\"],[0.4444444444444444,\"#bd3786\"],[0.5555555555555556,\"#d8576b\"],[0.6666666666666666,\"#ed7953\"],[0.7777777777777778,\"#fb9f3a\"],[0.8888888888888888,\"#fdca26\"],[1.0,\"#f0f921\"]]}],\"heatmapgl\":[{\"type\":\"heatmapgl\",\"colorbar\":{\"outlinewidth\":0,\"ticks\":\"\"},\"colorscale\":[[0.0,\"#0d0887\"],[0.1111111111111111,\"#46039f\"],[0.2222222222222222,\"#7201a8\"],[0.3333333333333333,\"#9c179e\"],[0.4444444444444444,\"#bd3786\"],[0.5555555555555556,\"#d8576b\"],[0.6666666666666666,\"#ed7953\"],[0.7777777777777778,\"#fb9f3a\"],[0.8888888888888888,\"#fdca26\"],[1.0,\"#f0f921\"]]}],\"contourcarpet\":[{\"type\":\"contourcarpet\",\"colorbar\":{\"outlinewidth\":0,\"ticks\":\"\"}}],\"contour\":[{\"type\":\"contour\",\"colorbar\":{\"outlinewidth\":0,\"ticks\":\"\"},\"colorscale\":[[0.0,\"#0d0887\"],[0.1111111111111111,\"#46039f\"],[0.2222222222222222,\"#7201a8\"],[0.3333333333333333,\"#9c179e\"],[0.4444444444444444,\"#bd3786\"],[0.5555555555555556,\"#d8576b\"],[0.6666666666666666,\"#ed7953\"],[0.7777777777777778,\"#fb9f3a\"],[0.8888888888888888,\"#fdca26\"],[1.0,\"#f0f921\"]]}],\"surface\":[{\"type\":\"surface\",\"colorbar\":{\"outlinewidth\":0,\"ticks\":\"\"},\"colorscale\":[[0.0,\"#0d0887\"],[0.1111111111111111,\"#46039f\"],[0.2222222222222222,\"#7201a8\"],[0.3333333333333333,\"#9c179e\"],[0.4444444444444444,\"#bd3786\"],[0.5555555555555556,\"#d8576b\"],[0.6666666666666666,\"#ed7953\"],[0.7777777777777778,\"#fb9f3a\"],[0.8888888888888888,\"#fdca26\"],[1.0,\"#f0f921\"]]}],\"mesh3d\":[{\"type\":\"mesh3d\",\"colorbar\":{\"outlinewidth\":0,\"ticks\":\"\"}}],\"scatter\":[{\"fillpattern\":{\"fillmode\":\"overlay\",\"size\":10,\"solidity\":0.2},\"type\":\"scatter\"}],\"parcoords\":[{\"type\":\"parcoords\",\"line\":{\"colorbar\":{\"outlinewidth\":0,\"ticks\":\"\"}}}],\"scatterpolargl\":[{\"type\":\"scatterpolargl\",\"marker\":{\"colorbar\":{\"outlinewidth\":0,\"ticks\":\"\"}}}],\"bar\":[{\"error_x\":{\"color\":\"#2a3f5f\"},\"error_y\":{\"color\":\"#2a3f5f\"},\"marker\":{\"line\":{\"color\":\"#E5ECF6\",\"width\":0.5},\"pattern\":{\"fillmode\":\"overlay\",\"size\":10,\"solidity\":0.2}},\"type\":\"bar\"}],\"scattergeo\":[{\"type\":\"scattergeo\",\"marker\":{\"colorbar\":{\"outlinewidth\":0,\"ticks\":\"\"}}}],\"scatterpolar\":[{\"type\":\"scatterpolar\",\"marker\":{\"colorbar\":{\"outlinewidth\":0,\"ticks\":\"\"}}}],\"histogram\":[{\"marker\":{\"pattern\":{\"fillmode\":\"overlay\",\"size\":10,\"solidity\":0.2}},\"type\":\"histogram\"}],\"scattergl\":[{\"type\":\"scattergl\",\"marker\":{\"colorbar\":{\"outlinewidth\":0,\"ticks\":\"\"}}}],\"scatter3d\":[{\"type\":\"scatter3d\",\"line\":{\"colorbar\":{\"outlinewidth\":0,\"ticks\":\"\"}},\"marker\":{\"colorbar\":{\"outlinewidth\":0,\"ticks\":\"\"}}}],\"scattermapbox\":[{\"type\":\"scattermapbox\",\"marker\":{\"colorbar\":{\"outlinewidth\":0,\"ticks\":\"\"}}}],\"scatterternary\":[{\"type\":\"scatterternary\",\"marker\":{\"colorbar\":{\"outlinewidth\":0,\"ticks\":\"\"}}}],\"scattercarpet\":[{\"type\":\"scattercarpet\",\"marker\":{\"colorbar\":{\"outlinewidth\":0,\"ticks\":\"\"}}}],\"carpet\":[{\"aaxis\":{\"endlinecolor\":\"#2a3f5f\",\"gridcolor\":\"white\",\"linecolor\":\"white\",\"minorgridcolor\":\"white\",\"startlinecolor\":\"#2a3f5f\"},\"baxis\":{\"endlinecolor\":\"#2a3f5f\",\"gridcolor\":\"white\",\"linecolor\":\"white\",\"minorgridcolor\":\"white\",\"startlinecolor\":\"#2a3f5f\"},\"type\":\"carpet\"}],\"table\":[{\"cells\":{\"fill\":{\"color\":\"#EBF0F8\"},\"line\":{\"color\":\"white\"}},\"header\":{\"fill\":{\"color\":\"#C8D4E3\"},\"line\":{\"color\":\"white\"}},\"type\":\"table\"}],\"barpolar\":[{\"marker\":{\"line\":{\"color\":\"#E5ECF6\",\"width\":0.5},\"pattern\":{\"fillmode\":\"overlay\",\"size\":10,\"solidity\":0.2}},\"type\":\"barpolar\"}],\"pie\":[{\"automargin\":true,\"type\":\"pie\"}]},\"layout\":{\"autotypenumbers\":\"strict\",\"colorway\":[\"#636efa\",\"#EF553B\",\"#00cc96\",\"#ab63fa\",\"#FFA15A\",\"#19d3f3\",\"#FF6692\",\"#B6E880\",\"#FF97FF\",\"#FECB52\"],\"font\":{\"color\":\"#2a3f5f\"},\"hovermode\":\"closest\",\"hoverlabel\":{\"align\":\"left\"},\"paper_bgcolor\":\"white\",\"plot_bgcolor\":\"#E5ECF6\",\"polar\":{\"bgcolor\":\"#E5ECF6\",\"angularaxis\":{\"gridcolor\":\"white\",\"linecolor\":\"white\",\"ticks\":\"\"},\"radialaxis\":{\"gridcolor\":\"white\",\"linecolor\":\"white\",\"ticks\":\"\"}},\"ternary\":{\"bgcolor\":\"#E5ECF6\",\"aaxis\":{\"gridcolor\":\"white\",\"linecolor\":\"white\",\"ticks\":\"\"},\"baxis\":{\"gridcolor\":\"white\",\"linecolor\":\"white\",\"ticks\":\"\"},\"caxis\":{\"gridcolor\":\"white\",\"linecolor\":\"white\",\"ticks\":\"\"}},\"coloraxis\":{\"colorbar\":{\"outlinewidth\":0,\"ticks\":\"\"}},\"colorscale\":{\"sequential\":[[0.0,\"#0d0887\"],[0.1111111111111111,\"#46039f\"],[0.2222222222222222,\"#7201a8\"],[0.3333333333333333,\"#9c179e\"],[0.4444444444444444,\"#bd3786\"],[0.5555555555555556,\"#d8576b\"],[0.6666666666666666,\"#ed7953\"],[0.7777777777777778,\"#fb9f3a\"],[0.8888888888888888,\"#fdca26\"],[1.0,\"#f0f921\"]],\"sequentialminus\":[[0.0,\"#0d0887\"],[0.1111111111111111,\"#46039f\"],[0.2222222222222222,\"#7201a8\"],[0.3333333333333333,\"#9c179e\"],[0.4444444444444444,\"#bd3786\"],[0.5555555555555556,\"#d8576b\"],[0.6666666666666666,\"#ed7953\"],[0.7777777777777778,\"#fb9f3a\"],[0.8888888888888888,\"#fdca26\"],[1.0,\"#f0f921\"]],\"diverging\":[[0,\"#8e0152\"],[0.1,\"#c51b7d\"],[0.2,\"#de77ae\"],[0.3,\"#f1b6da\"],[0.4,\"#fde0ef\"],[0.5,\"#f7f7f7\"],[0.6,\"#e6f5d0\"],[0.7,\"#b8e186\"],[0.8,\"#7fbc41\"],[0.9,\"#4d9221\"],[1,\"#276419\"]]},\"xaxis\":{\"gridcolor\":\"white\",\"linecolor\":\"white\",\"ticks\":\"\",\"title\":{\"standoff\":15},\"zerolinecolor\":\"white\",\"automargin\":true,\"zerolinewidth\":2},\"yaxis\":{\"gridcolor\":\"white\",\"linecolor\":\"white\",\"ticks\":\"\",\"title\":{\"standoff\":15},\"zerolinecolor\":\"white\",\"automargin\":true,\"zerolinewidth\":2},\"scene\":{\"xaxis\":{\"backgroundcolor\":\"#E5ECF6\",\"gridcolor\":\"white\",\"linecolor\":\"white\",\"showbackground\":true,\"ticks\":\"\",\"zerolinecolor\":\"white\",\"gridwidth\":2},\"yaxis\":{\"backgroundcolor\":\"#E5ECF6\",\"gridcolor\":\"white\",\"linecolor\":\"white\",\"showbackground\":true,\"ticks\":\"\",\"zerolinecolor\":\"white\",\"gridwidth\":2},\"zaxis\":{\"backgroundcolor\":\"#E5ECF6\",\"gridcolor\":\"white\",\"linecolor\":\"white\",\"showbackground\":true,\"ticks\":\"\",\"zerolinecolor\":\"white\",\"gridwidth\":2}},\"shapedefaults\":{\"line\":{\"color\":\"#2a3f5f\"}},\"annotationdefaults\":{\"arrowcolor\":\"#2a3f5f\",\"arrowhead\":0,\"arrowwidth\":1},\"geo\":{\"bgcolor\":\"white\",\"landcolor\":\"#E5ECF6\",\"subunitcolor\":\"white\",\"showland\":true,\"showlakes\":true,\"lakecolor\":\"white\"},\"title\":{\"x\":0.05},\"mapbox\":{\"style\":\"light\"}}},\"xaxis\":{\"anchor\":\"y\",\"domain\":[0.0,1.0],\"title\":{\"text\":\"Year\"}},\"yaxis\":{\"anchor\":\"x\",\"domain\":[0.0,1.0],\"title\":{\"text\":\"prop\"}},\"legend\":{\"title\":{\"text\":\"User_status\"},\"tracegroupgap\":0},\"title\":{\"text\":\"Proportion de tweets par statuts et par an\"}},                        {\"responsive\": true}                    ).then(function(){\n",
       "\n",
       "var gd = document.getElementById('c13ba0bb-8111-484b-87a1-7d752bf0b942');\n",
       "var x = new MutationObserver(function (mutations, observer) {{\n",
       "        var display = window.getComputedStyle(gd).display;\n",
       "        if (!display || display === 'none') {{\n",
       "            console.log([gd, 'removed!']);\n",
       "            Plotly.purge(gd);\n",
       "            observer.disconnect();\n",
       "        }}\n",
       "}});\n",
       "\n",
       "// Listen for the removal of the full notebook cells\n",
       "var notebookContainer = gd.closest('#notebook-container');\n",
       "if (notebookContainer) {{\n",
       "    x.observe(notebookContainer, {childList: true});\n",
       "}}\n",
       "\n",
       "// Listen for the clearing of the current output cell\n",
       "var outputEl = gd.closest('.output');\n",
       "if (outputEl) {{\n",
       "    x.observe(outputEl, {childList: true});\n",
       "}}\n",
       "\n",
       "                        })                };                });            </script>        </div>"
      ]
     },
     "metadata": {},
     "output_type": "display_data"
    }
   ],
   "source": [
    "dftime = time_series(time_length, x, 'id')\n",
    "area_time_serie = px.area(dftime, x=time_length, y='prop', color= x, pattern_shape= x,\n",
    "                         title = \"Proportion de tweets par statuts et par an\")#, line_group=\"country\")\n",
    "area_time_serie"
   ]
  },
  {
   "cell_type": "code",
   "execution_count": 135,
   "id": "05dff38e",
   "metadata": {
    "tags": [
     "remove-cell"
    ]
   },
   "outputs": [
    {
     "data": {
      "text/plain": [
       "<AxesSubplot:xlabel='Year', ylabel='prop'>"
      ]
     },
     "execution_count": 135,
     "metadata": {},
     "output_type": "execute_result"
    },
    {
     "data": {
      "image/png": "[encoded data removed]",
      "text/plain": [
       "<Figure size 432x288 with 1 Axes>"
      ]
     },
     "metadata": {
      "filenames": {
       "image/png": "/home/aymeric/python-scripts/espadon/my-espadon-notebook/_build/jupyter_execute/analyse_preleminaire_15_1.png"
      },
      "needs_background": "light"
     },
     "output_type": "display_data"
    }
   ],
   "source": [
    "sns.lineplot(x = 'Year', y = \"prop\", data = dftime, hue = x)"
   ]
  },
  {
   "cell_type": "code",
   "execution_count": 163,
   "id": "84713c80",
   "metadata": {
    "tags": [
     "remove-input",
     "hide-output"
    ]
   },
   "outputs": [
    {
     "data": {
      "text/plain": [
       "Text(0.5, 0.98, 'Proportion de tweets par statuts et par an')"
      ]
     },
     "execution_count": 163,
     "metadata": {},
     "output_type": "execute_result"
    },
    {
     "data": {
      "image/png": "[encoded data removed]",
      "text/plain": [
       "<Figure size 734.4x979.2 with 8 Axes>"
      ]
     },
     "metadata": {
      "filenames": {
       "image/png": "/home/aymeric/python-scripts/espadon/my-espadon-notebook/_build/jupyter_execute/analyse_preleminaire_16_1.png"
      },
      "needs_background": "light"
     },
     "output_type": "display_data"
    }
   ],
   "source": [
    "import seaborn as sns\n",
    "dftime = time_series(time_length, x, 'id')\n",
    "\n",
    "g = sns.FacetGrid(dftime, row= x, hue = x,\n",
    "                  height=1.7, aspect=6,)\n",
    "\n",
    "g.map(sns.lineplot, \"Year\", \"prop\")\n",
    "g.fig.subplots_adjust(top=0.9) # adjust the Figure in rp\n",
    "g.fig.suptitle('Proportion de tweets par statuts et par an')"
   ]
  },
  {
   "cell_type": "code",
   "execution_count": 144,
   "id": "8113ff79",
   "metadata": {
    "tags": [
     "remove-cell"
    ]
   },
   "outputs": [],
   "source": [
    "biom=['ROS1', 'ALK','EXON', 'EGFR','KRAS','NTRK','BRAF',\"MET\",'RET',\"HER2\"]#\n",
    "for i,bio in enumerate(biom):\n",
    "    \n",
    "    df_tmp = df.loc[(df[bio] == 1)& (df[\"Year\"] >= 2012)]\n",
    "    #print(i, bio, len(df_tmp))\n",
    "    df_tmp = df_tmp.groupby([\"Year\", bio]).agg(nb_tweet_on_biomarker = (\"id\", \"count\")).reset_index()\n",
    "    dfdate = df.groupby([\"Year\"]).agg(nb_tweet = (\"id\", \"count\")).reset_index()\n",
    "    df_tmp = df_tmp.merge(dfdate, on = [\"Year\"], how = \"left\")\n",
    "    df_tmp[\"biomarker\"] = bio\n",
    "    df_tmp = df_tmp.drop(columns = [bio])\n",
    "    df_tmp[\"prop_of_biom\"] = df_tmp[\"nb_tweet_on_biomarker\"]/df_tmp[\"nb_tweet\"]*100\n",
    "    \n",
    "    #sns.lineplot( x = 'Year', y = \"prop_of_biom\", data = df_tmp)\n",
    "    \n",
    "    if i==0:\n",
    "        biomm=df_tmp\n",
    "    else:\n",
    "        biomm=pd.concat([biomm,df_tmp])\n",
    " "
   ]
  },
  {
   "cell_type": "markdown",
   "id": "81ed33f7",
   "metadata": {},
   "source": [
    "## La dynamique des biomarqueurs\n",
    "\n",
    "Les diagrammes ci-dessous donnent la proportion de tweets contenant chacun des biomarqueurs par an et par mois respectivement, sachant qu'un tweet peut contenir plusieurs biomarqueurs. Ainsi, en 2018, le biomarqueur ALK était présent dans près 1,5% des tweets. Puis en janvier 2021, le biomarqueur EGFR était présent dans 3% des tweets."
   ]
  },
  {
   "cell_type": "code",
   "execution_count": 148,
   "id": "f5c5535a",
   "metadata": {
    "tags": [
     "remove-input"
    ]
   },
   "outputs": [
    {
     "data": {
      "application/vnd.plotly.v1+json": {
       "config": {
        "plotlyServerURL": "https://plot.ly"
       },
       "data": [
        {
         "hovertemplate": "biomarker=ROS1<br>Year=%{x}<br>prop_of_biom=%{y}<extra></extra>",
         "legendgroup": "ROS1",
         "line": {
          "color": "#636efa",
          "dash": "solid"
         },
         "marker": {
          "symbol": "circle"
         },
         "mode": "lines",
         "name": "ROS1",
         "orientation": "v",
         "showlegend": true,
         "type": "scatter",
         "x": [
          2013,
          2014,
          2015,
          2016,
          2017,
          2018,
          2019,
          2020,
          2021
         ],
         "xaxis": "x",
         "y": [
          0.06755210773471634,
          0.1494781935013444,
          0.10753853464157989,
          0.13394447111290048,
          0.2169278249071907,
          0.5650805881975214,
          0.533339218455744,
          0.2791939791211459,
          0.19902678532287055
         ],
         "yaxis": "y"
        },
        {
         "hovertemplate": "biomarker=ALK<br>Year=%{x}<br>prop_of_biom=%{y}<extra></extra>",
         "legendgroup": "ALK",
         "line": {
          "color": "#EF553B",
          "dash": "solid"
         },
         "marker": {
          "symbol": "circle"
         },
         "mode": "lines",
         "name": "ALK",
         "orientation": "v",
         "showlegend": true,
         "type": "scatter",
         "x": [
          2013,
          2014,
          2015,
          2016,
          2017,
          2018,
          2019,
          2020,
          2021
         ],
         "xaxis": "x",
         "y": [
          0.149268367091228,
          0.3390602925762202,
          0.21841159748910025,
          0.28801932516762413,
          0.5113831198843052,
          1.574038399794516,
          1.0821268832391713,
          0.8079934450109251,
          0.6251369953092806
         ],
         "yaxis": "y"
        },
        {
         "hovertemplate": "biomarker=EXON<br>Year=%{x}<br>prop_of_biom=%{y}<extra></extra>",
         "legendgroup": "EXON",
         "line": {
          "color": "#00cc96",
          "dash": "solid"
         },
         "marker": {
          "symbol": "circle"
         },
         "mode": "lines",
         "name": "EXON",
         "orientation": "v",
         "showlegend": true,
         "type": "scatter",
         "x": [
          2012,
          2013,
          2014,
          2015,
          2016,
          2017,
          2018,
          2019,
          2020,
          2021
         ],
         "xaxis": "x",
         "y": [
          0.003138682694872962,
          0.008716400998027915,
          0.022786309984961034,
          0.020840801287127887,
          0.019356137444060763,
          0.045472843021782235,
          0.10113658254671547,
          0.1338865348399247,
          0.31333454722019904,
          0.49011441848231113
         ],
         "yaxis": "y"
        },
        {
         "hovertemplate": "biomarker=EGFR<br>Year=%{x}<br>prop_of_biom=%{y}<extra></extra>",
         "legendgroup": "EGFR",
         "line": {
          "color": "#ab63fa",
          "dash": "solid"
         },
         "marker": {
          "symbol": "circle"
         },
         "mode": "lines",
         "name": "EGFR",
         "orientation": "v",
         "showlegend": true,
         "type": "scatter",
         "x": [
          2012,
          2013,
          2014,
          2015,
          2016,
          2017,
          2018,
          2019,
          2020,
          2021
         ],
         "xaxis": "x",
         "y": [
          0.003138682694872962,
          0.16452206883777687,
          0.3664038645581734,
          0.36846536675642105,
          0.3948652038588396,
          0.6291652378751509,
          1.3525011237398061,
          1.8251235875706213,
          1.6539208545763535,
          1.9797466134759547
         ],
         "yaxis": "y"
        },
        {
         "hovertemplate": "biomarker=KRAS<br>Year=%{x}<br>prop_of_biom=%{y}<extra></extra>",
         "legendgroup": "KRAS",
         "line": {
          "color": "#FFA15A",
          "dash": "solid"
         },
         "marker": {
          "symbol": "circle"
         },
         "mode": "lines",
         "name": "KRAS",
         "orientation": "v",
         "showlegend": true,
         "type": "scatter",
         "x": [
          2013,
          2014,
          2015,
          2016,
          2017,
          2018,
          2019,
          2020,
          2021
         ],
         "xaxis": "x",
         "y": [
          0.0610148069861954,
          0.10390557353142232,
          0.07085872437623482,
          0.10839436968674027,
          0.07230927496906356,
          0.07625377255506324,
          0.2515889830508474,
          0.43548191308570044,
          0.8916750690456358
         ],
         "yaxis": "y"
        },
        {
         "hovertemplate": "biomarker=NTRK<br>Year=%{x}<br>prop_of_biom=%{y}<extra></extra>",
         "legendgroup": "NTRK",
         "line": {
          "color": "#19d3f3",
          "dash": "solid"
         },
         "marker": {
          "symbol": "circle"
         },
         "mode": "lines",
         "name": "NTRK",
         "orientation": "v",
         "showlegend": true,
         "type": "scatter",
         "x": [
          2013,
          2014,
          2015,
          2016,
          2017,
          2018,
          2019,
          2020,
          2021
         ],
         "xaxis": "x",
         "y": [
          0.007626850873274425,
          0.008203071594585972,
          0.005001792308910693,
          0.01858189194629833,
          0.010436390201720514,
          0.03933089321261157,
          0.1493349811676083,
          0.13504491381403252,
          0.12274779711542677
         ],
         "yaxis": "y"
        },
        {
         "hovertemplate": "biomarker=BRAF<br>Year=%{x}<br>prop_of_biom=%{y}<extra></extra>",
         "legendgroup": "BRAF",
         "line": {
          "color": "#FF6692",
          "dash": "solid"
         },
         "marker": {
          "symbol": "circle"
         },
         "mode": "lines",
         "name": "BRAF",
         "orientation": "v",
         "showlegend": true,
         "type": "scatter",
         "x": [
          2012,
          2013,
          2014,
          2015,
          2016,
          2017,
          2018,
          2019,
          2020,
          2021
         ],
         "xaxis": "x",
         "y": [
          0.009416048084618885,
          0.02941785336834421,
          0.15038964590074283,
          0.12004301541385662,
          0.12233078864646403,
          0.24525516974043207,
          0.2945803634495601,
          0.42078625235404893,
          0.39527191065792666,
          0.3857787909341984
         ],
         "yaxis": "y"
        },
        {
         "hovertemplate": "biomarker=MET<br>Year=%{x}<br>prop_of_biom=%{y}<extra></extra>",
         "legendgroup": "MET",
         "line": {
          "color": "#B6E880",
          "dash": "solid"
         },
         "marker": {
          "symbol": "circle"
         },
         "mode": "lines",
         "name": "MET",
         "orientation": "v",
         "showlegend": true,
         "type": "scatter",
         "x": [
          2012,
          2013,
          2014,
          2015,
          2016,
          2017,
          2018,
          2019,
          2020,
          2021
         ],
         "xaxis": "x",
         "y": [
          0.004708024042309442,
          0.03268650374260468,
          0.05195278676571116,
          0.04918429103762181,
          0.038712274888121526,
          0.06038197188138297,
          0.09632055480639568,
          0.1471280602636535,
          0.2996783199805778,
          0.2577703739423962
         ],
         "yaxis": "y"
        },
        {
         "hovertemplate": "biomarker=RET<br>Year=%{x}<br>prop_of_biom=%{y}<extra></extra>",
         "legendgroup": "RET",
         "line": {
          "color": "#FF97FF",
          "dash": "solid"
         },
         "marker": {
          "symbol": "circle"
         },
         "mode": "lines",
         "name": "RET",
         "orientation": "v",
         "showlegend": true,
         "type": "scatter",
         "x": [
          2013,
          2014,
          2015,
          2016,
          2017,
          2018,
          2019,
          2020,
          2021
         ],
         "xaxis": "x",
         "y": [
          0.009805951122781403,
          0.017317595588570385,
          0.017506273081187428,
          0.03174406540825965,
          0.02460006261834121,
          0.09551788351634238,
          0.1508062617702448,
          0.29891964068948773,
          0.30862303274735875
         ],
         "yaxis": "y"
        },
        {
         "hovertemplate": "biomarker=HER2<br>Year=%{x}<br>prop_of_biom=%{y}<extra></extra>",
         "legendgroup": "HER2",
         "line": {
          "color": "#FECB52",
          "dash": "solid"
         },
         "marker": {
          "symbol": "circle"
         },
         "mode": "lines",
         "name": "HER2",
         "orientation": "v",
         "showlegend": true,
         "type": "scatter",
         "x": [
          2012,
          2013,
          2014,
          2015,
          2016,
          2017,
          2018,
          2019,
          2020,
          2021
         ],
         "xaxis": "x",
         "y": [
          0.14437940396415624,
          0.2898203331844281,
          0.3454404593720093,
          0.6110522937385896,
          0.523389956487403,
          0.7633473976115576,
          1.1598600141270148,
          1.457303436911488,
          1.8746965282835641,
          2.107755030467757
         ],
         "yaxis": "y"
        }
       ],
       "layout": {
        "legend": {
         "title": {
          "text": "biomarker"
         },
         "tracegroupgap": 0
        },
        "template": {
         "data": {
          "bar": [
           {
            "error_x": {
             "color": "#2a3f5f"
            },
            "error_y": {
             "color": "#2a3f5f"
            },
            "marker": {
             "line": {
              "color": "#E5ECF6",
              "width": 0.5
             },
             "pattern": {
              "fillmode": "overlay",
              "size": 10,
              "solidity": 0.2
             }
            },
            "type": "bar"
           }
          ],
          "barpolar": [
           {
            "marker": {
             "line": {
              "color": "#E5ECF6",
              "width": 0.5
             },
             "pattern": {
              "fillmode": "overlay",
              "size": 10,
              "solidity": 0.2
             }
            },
            "type": "barpolar"
           }
          ],
          "carpet": [
           {
            "aaxis": {
             "endlinecolor": "#2a3f5f",
             "gridcolor": "white",
             "linecolor": "white",
             "minorgridcolor": "white",
             "startlinecolor": "#2a3f5f"
            },
            "baxis": {
             "endlinecolor": "#2a3f5f",
             "gridcolor": "white",
             "linecolor": "white",
             "minorgridcolor": "white",
             "startlinecolor": "#2a3f5f"
            },
            "type": "carpet"
           }
          ],
          "choropleth": [
           {
            "colorbar": {
             "outlinewidth": 0,
             "ticks": ""
            },
            "type": "choropleth"
           }
          ],
          "contour": [
           {
            "colorbar": {
             "outlinewidth": 0,
             "ticks": ""
            },
            "colorscale": [
             [
              0,
              "#0d0887"
             ],
             [
              0.1111111111111111,
              "#46039f"
             ],
             [
              0.2222222222222222,
              "#7201a8"
             ],
             [
              0.3333333333333333,
              "#9c179e"
             ],
             [
              0.4444444444444444,
              "#bd3786"
             ],
             [
              0.5555555555555556,
              "#d8576b"
             ],
             [
              0.6666666666666666,
              "#ed7953"
             ],
             [
              0.7777777777777778,
              "#fb9f3a"
             ],
             [
              0.8888888888888888,
              "#fdca26"
             ],
             [
              1,
              "#f0f921"
             ]
            ],
            "type": "contour"
           }
          ],
          "contourcarpet": [
           {
            "colorbar": {
             "outlinewidth": 0,
             "ticks": ""
            },
            "type": "contourcarpet"
           }
          ],
          "heatmap": [
           {
            "colorbar": {
             "outlinewidth": 0,
             "ticks": ""
            },
            "colorscale": [
             [
              0,
              "#0d0887"
             ],
             [
              0.1111111111111111,
              "#46039f"
             ],
             [
              0.2222222222222222,
              "#7201a8"
             ],
             [
              0.3333333333333333,
              "#9c179e"
             ],
             [
              0.4444444444444444,
              "#bd3786"
             ],
             [
              0.5555555555555556,
              "#d8576b"
             ],
             [
              0.6666666666666666,
              "#ed7953"
             ],
             [
              0.7777777777777778,
              "#fb9f3a"
             ],
             [
              0.8888888888888888,
              "#fdca26"
             ],
             [
              1,
              "#f0f921"
             ]
            ],
            "type": "heatmap"
           }
          ],
          "heatmapgl": [
           {
            "colorbar": {
             "outlinewidth": 0,
             "ticks": ""
            },
            "colorscale": [
             [
              0,
              "#0d0887"
             ],
             [
              0.1111111111111111,
              "#46039f"
             ],
             [
              0.2222222222222222,
              "#7201a8"
             ],
             [
              0.3333333333333333,
              "#9c179e"
             ],
             [
              0.4444444444444444,
              "#bd3786"
             ],
             [
              0.5555555555555556,
              "#d8576b"
             ],
             [
              0.6666666666666666,
              "#ed7953"
             ],
             [
              0.7777777777777778,
              "#fb9f3a"
             ],
             [
              0.8888888888888888,
              "#fdca26"
             ],
             [
              1,
              "#f0f921"
             ]
            ],
            "type": "heatmapgl"
           }
          ],
          "histogram": [
           {
            "marker": {
             "pattern": {
              "fillmode": "overlay",
              "size": 10,
              "solidity": 0.2
             }
            },
            "type": "histogram"
           }
          ],
          "histogram2d": [
           {
            "colorbar": {
             "outlinewidth": 0,
             "ticks": ""
            },
            "colorscale": [
             [
              0,
              "#0d0887"
             ],
             [
              0.1111111111111111,
              "#46039f"
             ],
             [
              0.2222222222222222,
              "#7201a8"
             ],
             [
              0.3333333333333333,
              "#9c179e"
             ],
             [
              0.4444444444444444,
              "#bd3786"
             ],
             [
              0.5555555555555556,
              "#d8576b"
             ],
             [
              0.6666666666666666,
              "#ed7953"
             ],
             [
              0.7777777777777778,
              "#fb9f3a"
             ],
             [
              0.8888888888888888,
              "#fdca26"
             ],
             [
              1,
              "#f0f921"
             ]
            ],
            "type": "histogram2d"
           }
          ],
          "histogram2dcontour": [
           {
            "colorbar": {
             "outlinewidth": 0,
             "ticks": ""
            },
            "colorscale": [
             [
              0,
              "#0d0887"
             ],
             [
              0.1111111111111111,
              "#46039f"
             ],
             [
              0.2222222222222222,
              "#7201a8"
             ],
             [
              0.3333333333333333,
              "#9c179e"
             ],
             [
              0.4444444444444444,
              "#bd3786"
             ],
             [
              0.5555555555555556,
              "#d8576b"
             ],
             [
              0.6666666666666666,
              "#ed7953"
             ],
             [
              0.7777777777777778,
              "#fb9f3a"
             ],
             [
              0.8888888888888888,
              "#fdca26"
             ],
             [
              1,
              "#f0f921"
             ]
            ],
            "type": "histogram2dcontour"
           }
          ],
          "mesh3d": [
           {
            "colorbar": {
             "outlinewidth": 0,
             "ticks": ""
            },
            "type": "mesh3d"
           }
          ],
          "parcoords": [
           {
            "line": {
             "colorbar": {
              "outlinewidth": 0,
              "ticks": ""
             }
            },
            "type": "parcoords"
           }
          ],
          "pie": [
           {
            "automargin": true,
            "type": "pie"
           }
          ],
          "scatter": [
           {
            "fillpattern": {
             "fillmode": "overlay",
             "size": 10,
             "solidity": 0.2
            },
            "type": "scatter"
           }
          ],
          "scatter3d": [
           {
            "line": {
             "colorbar": {
              "outlinewidth": 0,
              "ticks": ""
             }
            },
            "marker": {
             "colorbar": {
              "outlinewidth": 0,
              "ticks": ""
             }
            },
            "type": "scatter3d"
           }
          ],
          "scattercarpet": [
           {
            "marker": {
             "colorbar": {
              "outlinewidth": 0,
              "ticks": ""
             }
            },
            "type": "scattercarpet"
           }
          ],
          "scattergeo": [
           {
            "marker": {
             "colorbar": {
              "outlinewidth": 0,
              "ticks": ""
             }
            },
            "type": "scattergeo"
           }
          ],
          "scattergl": [
           {
            "marker": {
             "colorbar": {
              "outlinewidth": 0,
              "ticks": ""
             }
            },
            "type": "scattergl"
           }
          ],
          "scattermapbox": [
           {
            "marker": {
             "colorbar": {
              "outlinewidth": 0,
              "ticks": ""
             }
            },
            "type": "scattermapbox"
           }
          ],
          "scatterpolar": [
           {
            "marker": {
             "colorbar": {
              "outlinewidth": 0,
              "ticks": ""
             }
            },
            "type": "scatterpolar"
           }
          ],
          "scatterpolargl": [
           {
            "marker": {
             "colorbar": {
              "outlinewidth": 0,
              "ticks": ""
             }
            },
            "type": "scatterpolargl"
           }
          ],
          "scatterternary": [
           {
            "marker": {
             "colorbar": {
              "outlinewidth": 0,
              "ticks": ""
             }
            },
            "type": "scatterternary"
           }
          ],
          "surface": [
           {
            "colorbar": {
             "outlinewidth": 0,
             "ticks": ""
            },
            "colorscale": [
             [
              0,
              "#0d0887"
             ],
             [
              0.1111111111111111,
              "#46039f"
             ],
             [
              0.2222222222222222,
              "#7201a8"
             ],
             [
              0.3333333333333333,
              "#9c179e"
             ],
             [
              0.4444444444444444,
              "#bd3786"
             ],
             [
              0.5555555555555556,
              "#d8576b"
             ],
             [
              0.6666666666666666,
              "#ed7953"
             ],
             [
              0.7777777777777778,
              "#fb9f3a"
             ],
             [
              0.8888888888888888,
              "#fdca26"
             ],
             [
              1,
              "#f0f921"
             ]
            ],
            "type": "surface"
           }
          ],
          "table": [
           {
            "cells": {
             "fill": {
              "color": "#EBF0F8"
             },
             "line": {
              "color": "white"
             }
            },
            "header": {
             "fill": {
              "color": "#C8D4E3"
             },
             "line": {
              "color": "white"
             }
            },
            "type": "table"
           }
          ]
         },
         "layout": {
          "annotationdefaults": {
           "arrowcolor": "#2a3f5f",
           "arrowhead": 0,
           "arrowwidth": 1
          },
          "autotypenumbers": "strict",
          "coloraxis": {
           "colorbar": {
            "outlinewidth": 0,
            "ticks": ""
           }
          },
          "colorscale": {
           "diverging": [
            [
             0,
             "#8e0152"
            ],
            [
             0.1,
             "#c51b7d"
            ],
            [
             0.2,
             "#de77ae"
            ],
            [
             0.3,
             "#f1b6da"
            ],
            [
             0.4,
             "#fde0ef"
            ],
            [
             0.5,
             "#f7f7f7"
            ],
            [
             0.6,
             "#e6f5d0"
            ],
            [
             0.7,
             "#b8e186"
            ],
            [
             0.8,
             "#7fbc41"
            ],
            [
             0.9,
             "#4d9221"
            ],
            [
             1,
             "#276419"
            ]
           ],
           "sequential": [
            [
             0,
             "#0d0887"
            ],
            [
             0.1111111111111111,
             "#46039f"
            ],
            [
             0.2222222222222222,
             "#7201a8"
            ],
            [
             0.3333333333333333,
             "#9c179e"
            ],
            [
             0.4444444444444444,
             "#bd3786"
            ],
            [
             0.5555555555555556,
             "#d8576b"
            ],
            [
             0.6666666666666666,
             "#ed7953"
            ],
            [
             0.7777777777777778,
             "#fb9f3a"
            ],
            [
             0.8888888888888888,
             "#fdca26"
            ],
            [
             1,
             "#f0f921"
            ]
           ],
           "sequentialminus": [
            [
             0,
             "#0d0887"
            ],
            [
             0.1111111111111111,
             "#46039f"
            ],
            [
             0.2222222222222222,
             "#7201a8"
            ],
            [
             0.3333333333333333,
             "#9c179e"
            ],
            [
             0.4444444444444444,
             "#bd3786"
            ],
            [
             0.5555555555555556,
             "#d8576b"
            ],
            [
             0.6666666666666666,
             "#ed7953"
            ],
            [
             0.7777777777777778,
             "#fb9f3a"
            ],
            [
             0.8888888888888888,
             "#fdca26"
            ],
            [
             1,
             "#f0f921"
            ]
           ]
          },
          "colorway": [
           "#636efa",
           "#EF553B",
           "#00cc96",
           "#ab63fa",
           "#FFA15A",
           "#19d3f3",
           "#FF6692",
           "#B6E880",
           "#FF97FF",
           "#FECB52"
          ],
          "font": {
           "color": "#2a3f5f"
          },
          "geo": {
           "bgcolor": "white",
           "lakecolor": "white",
           "landcolor": "#E5ECF6",
           "showlakes": true,
           "showland": true,
           "subunitcolor": "white"
          },
          "hoverlabel": {
           "align": "left"
          },
          "hovermode": "closest",
          "mapbox": {
           "style": "light"
          },
          "paper_bgcolor": "white",
          "plot_bgcolor": "#E5ECF6",
          "polar": {
           "angularaxis": {
            "gridcolor": "white",
            "linecolor": "white",
            "ticks": ""
           },
           "bgcolor": "#E5ECF6",
           "radialaxis": {
            "gridcolor": "white",
            "linecolor": "white",
            "ticks": ""
           }
          },
          "scene": {
           "xaxis": {
            "backgroundcolor": "#E5ECF6",
            "gridcolor": "white",
            "gridwidth": 2,
            "linecolor": "white",
            "showbackground": true,
            "ticks": "",
            "zerolinecolor": "white"
           },
           "yaxis": {
            "backgroundcolor": "#E5ECF6",
            "gridcolor": "white",
            "gridwidth": 2,
            "linecolor": "white",
            "showbackground": true,
            "ticks": "",
            "zerolinecolor": "white"
           },
           "zaxis": {
            "backgroundcolor": "#E5ECF6",
            "gridcolor": "white",
            "gridwidth": 2,
            "linecolor": "white",
            "showbackground": true,
            "ticks": "",
            "zerolinecolor": "white"
           }
          },
          "shapedefaults": {
           "line": {
            "color": "#2a3f5f"
           }
          },
          "ternary": {
           "aaxis": {
            "gridcolor": "white",
            "linecolor": "white",
            "ticks": ""
           },
           "baxis": {
            "gridcolor": "white",
            "linecolor": "white",
            "ticks": ""
           },
           "bgcolor": "#E5ECF6",
           "caxis": {
            "gridcolor": "white",
            "linecolor": "white",
            "ticks": ""
           }
          },
          "title": {
           "x": 0.05
          },
          "xaxis": {
           "automargin": true,
           "gridcolor": "white",
           "linecolor": "white",
           "ticks": "",
           "title": {
            "standoff": 15
           },
           "zerolinecolor": "white",
           "zerolinewidth": 2
          },
          "yaxis": {
           "automargin": true,
           "gridcolor": "white",
           "linecolor": "white",
           "ticks": "",
           "title": {
            "standoff": 15
           },
           "zerolinecolor": "white",
           "zerolinewidth": 2
          }
         }
        },
        "title": {
         "text": "Proportion de tweets par an contenant chacun des biomarqueurs"
        },
        "xaxis": {
         "anchor": "y",
         "domain": [
          0,
          1
         ],
         "title": {
          "text": "Year"
         }
        },
        "yaxis": {
         "anchor": "x",
         "domain": [
          0,
          1
         ],
         "title": {
          "text": "prop_of_biom"
         }
        }
       }
      },
      "text/html": [
       "<div>                            <div id=\"7321c1bc-6a6a-4e9c-91ae-12d928e8a7e1\" class=\"plotly-graph-div\" style=\"height:525px; width:100%;\"></div>            <script type=\"text/javascript\">                require([\"plotly\"], function(Plotly) {                    window.PLOTLYENV=window.PLOTLYENV || {};                                    if (document.getElementById(\"7321c1bc-6a6a-4e9c-91ae-12d928e8a7e1\")) {                    Plotly.newPlot(                        \"7321c1bc-6a6a-4e9c-91ae-12d928e8a7e1\",                        [{\"hovertemplate\":\"biomarker=ROS1<br>Year=%{x}<br>prop_of_biom=%{y}<extra></extra>\",\"legendgroup\":\"ROS1\",\"line\":{\"color\":\"#636efa\",\"dash\":\"solid\"},\"marker\":{\"symbol\":\"circle\"},\"mode\":\"lines\",\"name\":\"ROS1\",\"orientation\":\"v\",\"showlegend\":true,\"x\":[2013.0,2014.0,2015.0,2016.0,2017.0,2018.0,2019.0,2020.0,2021.0],\"xaxis\":\"x\",\"y\":[0.06755210773471634,0.1494781935013444,0.10753853464157989,0.13394447111290048,0.2169278249071907,0.5650805881975214,0.533339218455744,0.2791939791211459,0.19902678532287055],\"yaxis\":\"y\",\"type\":\"scatter\"},{\"hovertemplate\":\"biomarker=ALK<br>Year=%{x}<br>prop_of_biom=%{y}<extra></extra>\",\"legendgroup\":\"ALK\",\"line\":{\"color\":\"#EF553B\",\"dash\":\"solid\"},\"marker\":{\"symbol\":\"circle\"},\"mode\":\"lines\",\"name\":\"ALK\",\"orientation\":\"v\",\"showlegend\":true,\"x\":[2013.0,2014.0,2015.0,2016.0,2017.0,2018.0,2019.0,2020.0,2021.0],\"xaxis\":\"x\",\"y\":[0.149268367091228,0.3390602925762202,0.21841159748910025,0.28801932516762413,0.5113831198843052,1.574038399794516,1.0821268832391713,0.8079934450109251,0.6251369953092806],\"yaxis\":\"y\",\"type\":\"scatter\"},{\"hovertemplate\":\"biomarker=EXON<br>Year=%{x}<br>prop_of_biom=%{y}<extra></extra>\",\"legendgroup\":\"EXON\",\"line\":{\"color\":\"#00cc96\",\"dash\":\"solid\"},\"marker\":{\"symbol\":\"circle\"},\"mode\":\"lines\",\"name\":\"EXON\",\"orientation\":\"v\",\"showlegend\":true,\"x\":[2012.0,2013.0,2014.0,2015.0,2016.0,2017.0,2018.0,2019.0,2020.0,2021.0],\"xaxis\":\"x\",\"y\":[0.003138682694872962,0.008716400998027915,0.022786309984961034,0.020840801287127887,0.019356137444060763,0.045472843021782235,0.10113658254671547,0.1338865348399247,0.31333454722019904,0.49011441848231113],\"yaxis\":\"y\",\"type\":\"scatter\"},{\"hovertemplate\":\"biomarker=EGFR<br>Year=%{x}<br>prop_of_biom=%{y}<extra></extra>\",\"legendgroup\":\"EGFR\",\"line\":{\"color\":\"#ab63fa\",\"dash\":\"solid\"},\"marker\":{\"symbol\":\"circle\"},\"mode\":\"lines\",\"name\":\"EGFR\",\"orientation\":\"v\",\"showlegend\":true,\"x\":[2012.0,2013.0,2014.0,2015.0,2016.0,2017.0,2018.0,2019.0,2020.0,2021.0],\"xaxis\":\"x\",\"y\":[0.003138682694872962,0.16452206883777687,0.3664038645581734,0.36846536675642105,0.3948652038588396,0.6291652378751509,1.3525011237398061,1.8251235875706213,1.6539208545763535,1.9797466134759547],\"yaxis\":\"y\",\"type\":\"scatter\"},{\"hovertemplate\":\"biomarker=KRAS<br>Year=%{x}<br>prop_of_biom=%{y}<extra></extra>\",\"legendgroup\":\"KRAS\",\"line\":{\"color\":\"#FFA15A\",\"dash\":\"solid\"},\"marker\":{\"symbol\":\"circle\"},\"mode\":\"lines\",\"name\":\"KRAS\",\"orientation\":\"v\",\"showlegend\":true,\"x\":[2013.0,2014.0,2015.0,2016.0,2017.0,2018.0,2019.0,2020.0,2021.0],\"xaxis\":\"x\",\"y\":[0.0610148069861954,0.10390557353142232,0.07085872437623482,0.10839436968674027,0.07230927496906356,0.07625377255506324,0.2515889830508474,0.43548191308570044,0.8916750690456358],\"yaxis\":\"y\",\"type\":\"scatter\"},{\"hovertemplate\":\"biomarker=NTRK<br>Year=%{x}<br>prop_of_biom=%{y}<extra></extra>\",\"legendgroup\":\"NTRK\",\"line\":{\"color\":\"#19d3f3\",\"dash\":\"solid\"},\"marker\":{\"symbol\":\"circle\"},\"mode\":\"lines\",\"name\":\"NTRK\",\"orientation\":\"v\",\"showlegend\":true,\"x\":[2013.0,2014.0,2015.0,2016.0,2017.0,2018.0,2019.0,2020.0,2021.0],\"xaxis\":\"x\",\"y\":[0.007626850873274425,0.008203071594585972,0.005001792308910693,0.01858189194629833,0.010436390201720514,0.03933089321261157,0.1493349811676083,0.13504491381403252,0.12274779711542677],\"yaxis\":\"y\",\"type\":\"scatter\"},{\"hovertemplate\":\"biomarker=BRAF<br>Year=%{x}<br>prop_of_biom=%{y}<extra></extra>\",\"legendgroup\":\"BRAF\",\"line\":{\"color\":\"#FF6692\",\"dash\":\"solid\"},\"marker\":{\"symbol\":\"circle\"},\"mode\":\"lines\",\"name\":\"BRAF\",\"orientation\":\"v\",\"showlegend\":true,\"x\":[2012.0,2013.0,2014.0,2015.0,2016.0,2017.0,2018.0,2019.0,2020.0,2021.0],\"xaxis\":\"x\",\"y\":[0.009416048084618885,0.02941785336834421,0.15038964590074283,0.12004301541385662,0.12233078864646403,0.24525516974043207,0.2945803634495601,0.42078625235404893,0.39527191065792666,0.3857787909341984],\"yaxis\":\"y\",\"type\":\"scatter\"},{\"hovertemplate\":\"biomarker=MET<br>Year=%{x}<br>prop_of_biom=%{y}<extra></extra>\",\"legendgroup\":\"MET\",\"line\":{\"color\":\"#B6E880\",\"dash\":\"solid\"},\"marker\":{\"symbol\":\"circle\"},\"mode\":\"lines\",\"name\":\"MET\",\"orientation\":\"v\",\"showlegend\":true,\"x\":[2012.0,2013.0,2014.0,2015.0,2016.0,2017.0,2018.0,2019.0,2020.0,2021.0],\"xaxis\":\"x\",\"y\":[0.004708024042309442,0.03268650374260468,0.05195278676571116,0.04918429103762181,0.038712274888121526,0.06038197188138297,0.09632055480639568,0.1471280602636535,0.2996783199805778,0.2577703739423962],\"yaxis\":\"y\",\"type\":\"scatter\"},{\"hovertemplate\":\"biomarker=RET<br>Year=%{x}<br>prop_of_biom=%{y}<extra></extra>\",\"legendgroup\":\"RET\",\"line\":{\"color\":\"#FF97FF\",\"dash\":\"solid\"},\"marker\":{\"symbol\":\"circle\"},\"mode\":\"lines\",\"name\":\"RET\",\"orientation\":\"v\",\"showlegend\":true,\"x\":[2013.0,2014.0,2015.0,2016.0,2017.0,2018.0,2019.0,2020.0,2021.0],\"xaxis\":\"x\",\"y\":[0.009805951122781403,0.017317595588570385,0.017506273081187428,0.03174406540825965,0.02460006261834121,0.09551788351634238,0.1508062617702448,0.29891964068948773,0.30862303274735875],\"yaxis\":\"y\",\"type\":\"scatter\"},{\"hovertemplate\":\"biomarker=HER2<br>Year=%{x}<br>prop_of_biom=%{y}<extra></extra>\",\"legendgroup\":\"HER2\",\"line\":{\"color\":\"#FECB52\",\"dash\":\"solid\"},\"marker\":{\"symbol\":\"circle\"},\"mode\":\"lines\",\"name\":\"HER2\",\"orientation\":\"v\",\"showlegend\":true,\"x\":[2012.0,2013.0,2014.0,2015.0,2016.0,2017.0,2018.0,2019.0,2020.0,2021.0],\"xaxis\":\"x\",\"y\":[0.14437940396415624,0.2898203331844281,0.3454404593720093,0.6110522937385896,0.523389956487403,0.7633473976115576,1.1598600141270148,1.457303436911488,1.8746965282835641,2.107755030467757],\"yaxis\":\"y\",\"type\":\"scatter\"}],                        {\"template\":{\"data\":{\"histogram2dcontour\":[{\"type\":\"histogram2dcontour\",\"colorbar\":{\"outlinewidth\":0,\"ticks\":\"\"},\"colorscale\":[[0.0,\"#0d0887\"],[0.1111111111111111,\"#46039f\"],[0.2222222222222222,\"#7201a8\"],[0.3333333333333333,\"#9c179e\"],[0.4444444444444444,\"#bd3786\"],[0.5555555555555556,\"#d8576b\"],[0.6666666666666666,\"#ed7953\"],[0.7777777777777778,\"#fb9f3a\"],[0.8888888888888888,\"#fdca26\"],[1.0,\"#f0f921\"]]}],\"choropleth\":[{\"type\":\"choropleth\",\"colorbar\":{\"outlinewidth\":0,\"ticks\":\"\"}}],\"histogram2d\":[{\"type\":\"histogram2d\",\"colorbar\":{\"outlinewidth\":0,\"ticks\":\"\"},\"colorscale\":[[0.0,\"#0d0887\"],[0.1111111111111111,\"#46039f\"],[0.2222222222222222,\"#7201a8\"],[0.3333333333333333,\"#9c179e\"],[0.4444444444444444,\"#bd3786\"],[0.5555555555555556,\"#d8576b\"],[0.6666666666666666,\"#ed7953\"],[0.7777777777777778,\"#fb9f3a\"],[0.8888888888888888,\"#fdca26\"],[1.0,\"#f0f921\"]]}],\"heatmap\":[{\"type\":\"heatmap\",\"colorbar\":{\"outlinewidth\":0,\"ticks\":\"\"},\"colorscale\":[[0.0,\"#0d0887\"],[0.1111111111111111,\"#46039f\"],[0.2222222222222222,\"#7201a8\"],[0.3333333333333333,\"#9c179e\"],[0.4444444444444444,\"#bd3786\"],[0.5555555555555556,\"#d8576b\"],[0.6666666666666666,\"#ed7953\"],[0.7777777777777778,\"#fb9f3a\"],[0.8888888888888888,\"#fdca26\"],[1.0,\"#f0f921\"]]}],\"heatmapgl\":[{\"type\":\"heatmapgl\",\"colorbar\":{\"outlinewidth\":0,\"ticks\":\"\"},\"colorscale\":[[0.0,\"#0d0887\"],[0.1111111111111111,\"#46039f\"],[0.2222222222222222,\"#7201a8\"],[0.3333333333333333,\"#9c179e\"],[0.4444444444444444,\"#bd3786\"],[0.5555555555555556,\"#d8576b\"],[0.6666666666666666,\"#ed7953\"],[0.7777777777777778,\"#fb9f3a\"],[0.8888888888888888,\"#fdca26\"],[1.0,\"#f0f921\"]]}],\"contourcarpet\":[{\"type\":\"contourcarpet\",\"colorbar\":{\"outlinewidth\":0,\"ticks\":\"\"}}],\"contour\":[{\"type\":\"contour\",\"colorbar\":{\"outlinewidth\":0,\"ticks\":\"\"},\"colorscale\":[[0.0,\"#0d0887\"],[0.1111111111111111,\"#46039f\"],[0.2222222222222222,\"#7201a8\"],[0.3333333333333333,\"#9c179e\"],[0.4444444444444444,\"#bd3786\"],[0.5555555555555556,\"#d8576b\"],[0.6666666666666666,\"#ed7953\"],[0.7777777777777778,\"#fb9f3a\"],[0.8888888888888888,\"#fdca26\"],[1.0,\"#f0f921\"]]}],\"surface\":[{\"type\":\"surface\",\"colorbar\":{\"outlinewidth\":0,\"ticks\":\"\"},\"colorscale\":[[0.0,\"#0d0887\"],[0.1111111111111111,\"#46039f\"],[0.2222222222222222,\"#7201a8\"],[0.3333333333333333,\"#9c179e\"],[0.4444444444444444,\"#bd3786\"],[0.5555555555555556,\"#d8576b\"],[0.6666666666666666,\"#ed7953\"],[0.7777777777777778,\"#fb9f3a\"],[0.8888888888888888,\"#fdca26\"],[1.0,\"#f0f921\"]]}],\"mesh3d\":[{\"type\":\"mesh3d\",\"colorbar\":{\"outlinewidth\":0,\"ticks\":\"\"}}],\"scatter\":[{\"fillpattern\":{\"fillmode\":\"overlay\",\"size\":10,\"solidity\":0.2},\"type\":\"scatter\"}],\"parcoords\":[{\"type\":\"parcoords\",\"line\":{\"colorbar\":{\"outlinewidth\":0,\"ticks\":\"\"}}}],\"scatterpolargl\":[{\"type\":\"scatterpolargl\",\"marker\":{\"colorbar\":{\"outlinewidth\":0,\"ticks\":\"\"}}}],\"bar\":[{\"error_x\":{\"color\":\"#2a3f5f\"},\"error_y\":{\"color\":\"#2a3f5f\"},\"marker\":{\"line\":{\"color\":\"#E5ECF6\",\"width\":0.5},\"pattern\":{\"fillmode\":\"overlay\",\"size\":10,\"solidity\":0.2}},\"type\":\"bar\"}],\"scattergeo\":[{\"type\":\"scattergeo\",\"marker\":{\"colorbar\":{\"outlinewidth\":0,\"ticks\":\"\"}}}],\"scatterpolar\":[{\"type\":\"scatterpolar\",\"marker\":{\"colorbar\":{\"outlinewidth\":0,\"ticks\":\"\"}}}],\"histogram\":[{\"marker\":{\"pattern\":{\"fillmode\":\"overlay\",\"size\":10,\"solidity\":0.2}},\"type\":\"histogram\"}],\"scattergl\":[{\"type\":\"scattergl\",\"marker\":{\"colorbar\":{\"outlinewidth\":0,\"ticks\":\"\"}}}],\"scatter3d\":[{\"type\":\"scatter3d\",\"line\":{\"colorbar\":{\"outlinewidth\":0,\"ticks\":\"\"}},\"marker\":{\"colorbar\":{\"outlinewidth\":0,\"ticks\":\"\"}}}],\"scattermapbox\":[{\"type\":\"scattermapbox\",\"marker\":{\"colorbar\":{\"outlinewidth\":0,\"ticks\":\"\"}}}],\"scatterternary\":[{\"type\":\"scatterternary\",\"marker\":{\"colorbar\":{\"outlinewidth\":0,\"ticks\":\"\"}}}],\"scattercarpet\":[{\"type\":\"scattercarpet\",\"marker\":{\"colorbar\":{\"outlinewidth\":0,\"ticks\":\"\"}}}],\"carpet\":[{\"aaxis\":{\"endlinecolor\":\"#2a3f5f\",\"gridcolor\":\"white\",\"linecolor\":\"white\",\"minorgridcolor\":\"white\",\"startlinecolor\":\"#2a3f5f\"},\"baxis\":{\"endlinecolor\":\"#2a3f5f\",\"gridcolor\":\"white\",\"linecolor\":\"white\",\"minorgridcolor\":\"white\",\"startlinecolor\":\"#2a3f5f\"},\"type\":\"carpet\"}],\"table\":[{\"cells\":{\"fill\":{\"color\":\"#EBF0F8\"},\"line\":{\"color\":\"white\"}},\"header\":{\"fill\":{\"color\":\"#C8D4E3\"},\"line\":{\"color\":\"white\"}},\"type\":\"table\"}],\"barpolar\":[{\"marker\":{\"line\":{\"color\":\"#E5ECF6\",\"width\":0.5},\"pattern\":{\"fillmode\":\"overlay\",\"size\":10,\"solidity\":0.2}},\"type\":\"barpolar\"}],\"pie\":[{\"automargin\":true,\"type\":\"pie\"}]},\"layout\":{\"autotypenumbers\":\"strict\",\"colorway\":[\"#636efa\",\"#EF553B\",\"#00cc96\",\"#ab63fa\",\"#FFA15A\",\"#19d3f3\",\"#FF6692\",\"#B6E880\",\"#FF97FF\",\"#FECB52\"],\"font\":{\"color\":\"#2a3f5f\"},\"hovermode\":\"closest\",\"hoverlabel\":{\"align\":\"left\"},\"paper_bgcolor\":\"white\",\"plot_bgcolor\":\"#E5ECF6\",\"polar\":{\"bgcolor\":\"#E5ECF6\",\"angularaxis\":{\"gridcolor\":\"white\",\"linecolor\":\"white\",\"ticks\":\"\"},\"radialaxis\":{\"gridcolor\":\"white\",\"linecolor\":\"white\",\"ticks\":\"\"}},\"ternary\":{\"bgcolor\":\"#E5ECF6\",\"aaxis\":{\"gridcolor\":\"white\",\"linecolor\":\"white\",\"ticks\":\"\"},\"baxis\":{\"gridcolor\":\"white\",\"linecolor\":\"white\",\"ticks\":\"\"},\"caxis\":{\"gridcolor\":\"white\",\"linecolor\":\"white\",\"ticks\":\"\"}},\"coloraxis\":{\"colorbar\":{\"outlinewidth\":0,\"ticks\":\"\"}},\"colorscale\":{\"sequential\":[[0.0,\"#0d0887\"],[0.1111111111111111,\"#46039f\"],[0.2222222222222222,\"#7201a8\"],[0.3333333333333333,\"#9c179e\"],[0.4444444444444444,\"#bd3786\"],[0.5555555555555556,\"#d8576b\"],[0.6666666666666666,\"#ed7953\"],[0.7777777777777778,\"#fb9f3a\"],[0.8888888888888888,\"#fdca26\"],[1.0,\"#f0f921\"]],\"sequentialminus\":[[0.0,\"#0d0887\"],[0.1111111111111111,\"#46039f\"],[0.2222222222222222,\"#7201a8\"],[0.3333333333333333,\"#9c179e\"],[0.4444444444444444,\"#bd3786\"],[0.5555555555555556,\"#d8576b\"],[0.6666666666666666,\"#ed7953\"],[0.7777777777777778,\"#fb9f3a\"],[0.8888888888888888,\"#fdca26\"],[1.0,\"#f0f921\"]],\"diverging\":[[0,\"#8e0152\"],[0.1,\"#c51b7d\"],[0.2,\"#de77ae\"],[0.3,\"#f1b6da\"],[0.4,\"#fde0ef\"],[0.5,\"#f7f7f7\"],[0.6,\"#e6f5d0\"],[0.7,\"#b8e186\"],[0.8,\"#7fbc41\"],[0.9,\"#4d9221\"],[1,\"#276419\"]]},\"xaxis\":{\"gridcolor\":\"white\",\"linecolor\":\"white\",\"ticks\":\"\",\"title\":{\"standoff\":15},\"zerolinecolor\":\"white\",\"automargin\":true,\"zerolinewidth\":2},\"yaxis\":{\"gridcolor\":\"white\",\"linecolor\":\"white\",\"ticks\":\"\",\"title\":{\"standoff\":15},\"zerolinecolor\":\"white\",\"automargin\":true,\"zerolinewidth\":2},\"scene\":{\"xaxis\":{\"backgroundcolor\":\"#E5ECF6\",\"gridcolor\":\"white\",\"linecolor\":\"white\",\"showbackground\":true,\"ticks\":\"\",\"zerolinecolor\":\"white\",\"gridwidth\":2},\"yaxis\":{\"backgroundcolor\":\"#E5ECF6\",\"gridcolor\":\"white\",\"linecolor\":\"white\",\"showbackground\":true,\"ticks\":\"\",\"zerolinecolor\":\"white\",\"gridwidth\":2},\"zaxis\":{\"backgroundcolor\":\"#E5ECF6\",\"gridcolor\":\"white\",\"linecolor\":\"white\",\"showbackground\":true,\"ticks\":\"\",\"zerolinecolor\":\"white\",\"gridwidth\":2}},\"shapedefaults\":{\"line\":{\"color\":\"#2a3f5f\"}},\"annotationdefaults\":{\"arrowcolor\":\"#2a3f5f\",\"arrowhead\":0,\"arrowwidth\":1},\"geo\":{\"bgcolor\":\"white\",\"landcolor\":\"#E5ECF6\",\"subunitcolor\":\"white\",\"showland\":true,\"showlakes\":true,\"lakecolor\":\"white\"},\"title\":{\"x\":0.05},\"mapbox\":{\"style\":\"light\"}}},\"xaxis\":{\"anchor\":\"y\",\"domain\":[0.0,1.0],\"title\":{\"text\":\"Year\"}},\"yaxis\":{\"anchor\":\"x\",\"domain\":[0.0,1.0],\"title\":{\"text\":\"prop_of_biom\"}},\"legend\":{\"title\":{\"text\":\"biomarker\"},\"tracegroupgap\":0},\"title\":{\"text\":\"Proportion de tweets par an contenant chacun des biomarqueurs\"}},                        {\"responsive\": true}                    ).then(function(){\n",
       "\n",
       "var gd = document.getElementById('7321c1bc-6a6a-4e9c-91ae-12d928e8a7e1');\n",
       "var x = new MutationObserver(function (mutations, observer) {{\n",
       "        var display = window.getComputedStyle(gd).display;\n",
       "        if (!display || display === 'none') {{\n",
       "            console.log([gd, 'removed!']);\n",
       "            Plotly.purge(gd);\n",
       "            observer.disconnect();\n",
       "        }}\n",
       "}});\n",
       "\n",
       "// Listen for the removal of the full notebook cells\n",
       "var notebookContainer = gd.closest('#notebook-container');\n",
       "if (notebookContainer) {{\n",
       "    x.observe(notebookContainer, {childList: true});\n",
       "}}\n",
       "\n",
       "// Listen for the clearing of the current output cell\n",
       "var outputEl = gd.closest('.output');\n",
       "if (outputEl) {{\n",
       "    x.observe(outputEl, {childList: true});\n",
       "}}\n",
       "\n",
       "                        })                };                });            </script>        </div>"
      ]
     },
     "metadata": {},
     "output_type": "display_data"
    }
   ],
   "source": [
    "fig = px.line(biomm, x=\"Year\", y=\"prop_of_biom\", color='biomarker',\n",
    "             title=\"Proportion de tweets par an contenant chacun des biomarqueurs\")#, line_group=\"country\")\n",
    "\n",
    "#fig.layout.yaxis.tickformat = ',.0%'\n",
    "fig.write_html(\"biomarkers_time.html\")\n",
    "fig"
   ]
  },
  {
   "cell_type": "code",
   "execution_count": 160,
   "id": "96a28f8f",
   "metadata": {
    "tags": [
     "remove-input",
     "hide-output"
    ]
   },
   "outputs": [
    {
     "data": {
      "text/plain": [
       "Text(0.5, 0.98, 'Proportion de tweets par an contenant chacun des biomarqueurs')"
      ]
     },
     "execution_count": 160,
     "metadata": {},
     "output_type": "execute_result"
    },
    {
     "data": {
      "image/png": "[encoded data removed]",
      "text/plain": [
       "<Figure size 734.4x1224 with 10 Axes>"
      ]
     },
     "metadata": {
      "filenames": {
       "image/png": "/home/aymeric/python-scripts/espadon/my-espadon-notebook/_build/jupyter_execute/analyse_preleminaire_20_1.png"
      },
      "needs_background": "light"
     },
     "output_type": "display_data"
    }
   ],
   "source": [
    "\n",
    "g = sns.FacetGrid(biomm, row= 'biomarker', hue = 'biomarker',\n",
    "                  height=1.7, aspect=6)\n",
    "\n",
    "g.map(sns.lineplot, \"Year\", \"prop_of_biom\")\n",
    "g.fig.subplots_adjust(top=0.9) # adjust the Figure in rp\n",
    "g.fig.suptitle('Proportion de tweets par an contenant chacun des biomarqueurs')"
   ]
  },
  {
   "cell_type": "code",
   "execution_count": 28,
   "id": "676a4cd7",
   "metadata": {
    "tags": [
     "remove-cell"
    ]
   },
   "outputs": [],
   "source": [
    "dfc=df.copy()\n",
    "dfc.index=df['date']#.resample\n",
    "dfc=dfc[dfc.date>'01-01-2012']"
   ]
  },
  {
   "cell_type": "code",
   "execution_count": 164,
   "id": "4a1fc8b9",
   "metadata": {
    "tags": [
     "remove-cell"
    ]
   },
   "outputs": [
    {
     "data": {
      "application/vnd.plotly.v1+json": {
       "config": {
        "plotlyServerURL": "https://plot.ly"
       },
       "data": [
        {
         "fillpattern": {
          "shape": "."
         },
         "hovertemplate": "category=ROS1<br>date=%{x}<br>id=%{y}<extra></extra>",
         "legendgroup": "ROS1",
         "line": {
          "color": "#636efa"
         },
         "marker": {
          "symbol": "circle"
         },
         "mode": "lines",
         "name": "ROS1",
         "orientation": "v",
         "showlegend": true,
         "stackgroup": "1",
         "type": "scatter",
         "x": [
          "2012-01-31T00:00:00",
          "2012-02-29T00:00:00",
          "2012-03-31T00:00:00",
          "2012-04-30T00:00:00",
          "2012-05-31T00:00:00",
          "2012-06-30T00:00:00",
          "2012-07-31T00:00:00",
          "2012-08-31T00:00:00",
          "2012-09-30T00:00:00",
          "2012-10-31T00:00:00",
          "2012-11-30T00:00:00",
          "2012-12-31T00:00:00",
          "2013-01-31T00:00:00",
          "2013-02-28T00:00:00",
          "2013-03-31T00:00:00",
          "2013-04-30T00:00:00",
          "2013-05-31T00:00:00",
          "2013-06-30T00:00:00",
          "2013-07-31T00:00:00",
          "2013-08-31T00:00:00",
          "2013-09-30T00:00:00",
          "2013-10-31T00:00:00",
          "2013-11-30T00:00:00",
          "2013-12-31T00:00:00",
          "2014-01-31T00:00:00",
          "2014-02-28T00:00:00",
          "2014-03-31T00:00:00",
          "2014-04-30T00:00:00",
          "2014-05-31T00:00:00",
          "2014-06-30T00:00:00",
          "2014-07-31T00:00:00",
          "2014-08-31T00:00:00",
          "2014-09-30T00:00:00",
          "2014-10-31T00:00:00",
          "2014-11-30T00:00:00",
          "2014-12-31T00:00:00",
          "2015-01-31T00:00:00",
          "2015-02-28T00:00:00",
          "2015-03-31T00:00:00",
          "2015-04-30T00:00:00",
          "2015-05-31T00:00:00",
          "2015-06-30T00:00:00",
          "2015-07-31T00:00:00",
          "2015-08-31T00:00:00",
          "2015-09-30T00:00:00",
          "2015-10-31T00:00:00",
          "2015-11-30T00:00:00",
          "2015-12-31T00:00:00",
          "2016-01-31T00:00:00",
          "2016-02-29T00:00:00",
          "2016-03-31T00:00:00",
          "2016-04-30T00:00:00",
          "2016-05-31T00:00:00",
          "2016-06-30T00:00:00",
          "2016-07-31T00:00:00",
          "2016-08-31T00:00:00",
          "2016-09-30T00:00:00",
          "2016-10-31T00:00:00",
          "2016-11-30T00:00:00",
          "2016-12-31T00:00:00",
          "2017-01-31T00:00:00",
          "2017-02-28T00:00:00",
          "2017-03-31T00:00:00",
          "2017-04-30T00:00:00",
          "2017-05-31T00:00:00",
          "2017-06-30T00:00:00",
          "2017-07-31T00:00:00",
          "2017-08-31T00:00:00",
          "2017-09-30T00:00:00",
          "2017-10-31T00:00:00",
          "2017-11-30T00:00:00",
          "2017-12-31T00:00:00",
          "2018-01-31T00:00:00",
          "2018-02-28T00:00:00",
          "2018-03-31T00:00:00",
          "2018-04-30T00:00:00",
          "2018-05-31T00:00:00",
          "2018-06-30T00:00:00",
          "2018-07-31T00:00:00",
          "2018-08-31T00:00:00",
          "2018-09-30T00:00:00",
          "2018-10-31T00:00:00",
          "2018-11-30T00:00:00",
          "2018-12-31T00:00:00",
          "2019-01-31T00:00:00",
          "2019-02-28T00:00:00",
          "2019-03-31T00:00:00",
          "2019-04-30T00:00:00",
          "2019-05-31T00:00:00",
          "2019-06-30T00:00:00",
          "2019-07-31T00:00:00",
          "2019-08-31T00:00:00",
          "2019-09-30T00:00:00",
          "2019-10-31T00:00:00",
          "2019-11-30T00:00:00",
          "2019-12-31T00:00:00",
          "2020-01-31T00:00:00",
          "2020-02-29T00:00:00",
          "2020-03-31T00:00:00",
          "2020-04-30T00:00:00",
          "2020-05-31T00:00:00",
          "2020-06-30T00:00:00",
          "2020-07-31T00:00:00",
          "2020-08-31T00:00:00",
          "2020-09-30T00:00:00",
          "2020-10-31T00:00:00",
          "2020-11-30T00:00:00",
          "2020-12-31T00:00:00",
          "2021-01-31T00:00:00",
          "2021-02-28T00:00:00",
          "2021-03-31T00:00:00",
          "2021-04-30T00:00:00",
          "2021-05-31T00:00:00",
          "2021-06-30T00:00:00",
          "2021-07-31T00:00:00",
          "2021-08-31T00:00:00",
          "2021-09-30T00:00:00",
          "2021-10-31T00:00:00",
          "2021-11-30T00:00:00"
         ],
         "xaxis": "x",
         "y": [
          null,
          null,
          null,
          null,
          null,
          null,
          null,
          null,
          null,
          null,
          null,
          null,
          null,
          null,
          null,
          null,
          null,
          0.03377807802736024,
          0.09080590238365494,
          0.15781760793597113,
          0.06723442402510085,
          0.08031411743708727,
          0.19607843137254902,
          0.057710064635272396,
          0.1724137931034483,
          0.08533232198729496,
          0.09981146722856826,
          0.10527547081530003,
          0.21118150494609314,
          0.06668333750104193,
          0.10797840431913618,
          0.09397392223657935,
          0.26007802340702213,
          0.21978021978021978,
          0.3586800573888092,
          0.041254125412541254,
          0.231809401159047,
          0.18757815756565235,
          0.09531236461311844,
          0.12325779842609272,
          0.059972583961617545,
          0.0722608617107759,
          0.05123475765959627,
          0.06906077348066297,
          0.21289537712895376,
          0.09848335631278313,
          0.06186204763377668,
          0.062493490261431105,
          0.05938947618482005,
          0.08720296490080662,
          0.3096593746878434,
          0.11327166320558807,
          0.11028398125172319,
          0.13623978201634876,
          0.24577901260953194,
          0.1348314606741573,
          0.12656995424009346,
          0.040929927963326784,
          0.07634882931795045,
          0.17676953671650586,
          0.026331958219959622,
          0.13531799729364005,
          0.08961242625644089,
          0.04963600264725347,
          0.4153686396677051,
          0.2204261572373255,
          0.053653825517759414,
          0.27877339705296694,
          0.3354297693920335,
          0.46300418484551686,
          0.23552082218177925,
          0.30907806428823736,
          0.16328882912304293,
          0.28935805379916407,
          0.3209774280389315,
          0.8449557161763208,
          0.8277976494634645,
          0.7202340760747242,
          0.516764811921644,
          0.49113815929959426,
          1.0606498891138751,
          0.5028334264506346,
          0.49912191514927445,
          0.48888478922608614,
          0.8058109181704687,
          0.5879319236719959,
          0.22954733265999447,
          0.6293965198074787,
          0.864792948611342,
          0.6422471592914109,
          0.44271107831769785,
          0.5964214711729622,
          0.39324543141337037,
          0.6688680044026755,
          0.4011030333416896,
          0.2455795677799607,
          0.5252100840336135,
          0.27467323356696344,
          0.16753720311422096,
          0.2287701317715959,
          0.28160663998814284,
          0.39378238341968913,
          0.0959079283887468,
          0.4427390791027155,
          0.2498542516865162,
          0.25518883974140866,
          0.29616013071895425,
          0.17092746730083233,
          0.38898862956313585,
          0.3305619553240509,
          0.304451575742615,
          0.10518263530311722,
          0.10374422333301896,
          0.24716150459565922,
          0.10156867170748222,
          0.1584965470395109,
          0.14914897350412354,
          0.10205975134533309,
          0.1621958827199002
         ],
         "yaxis": "y"
        },
        {
         "fillpattern": {
          "shape": "x"
         },
         "hovertemplate": "category=ALK<br>date=%{x}<br>id=%{y}<extra></extra>",
         "legendgroup": "ALK",
         "line": {
          "color": "#EF553B"
         },
         "marker": {
          "symbol": "circle"
         },
         "mode": "lines",
         "name": "ALK",
         "orientation": "v",
         "showlegend": true,
         "stackgroup": "1",
         "type": "scatter",
         "x": [
          "2012-01-31T00:00:00",
          "2012-02-29T00:00:00",
          "2012-03-31T00:00:00",
          "2012-04-30T00:00:00",
          "2012-05-31T00:00:00",
          "2012-06-30T00:00:00",
          "2012-07-31T00:00:00",
          "2012-08-31T00:00:00",
          "2012-09-30T00:00:00",
          "2012-10-31T00:00:00",
          "2012-11-30T00:00:00",
          "2012-12-31T00:00:00",
          "2013-01-31T00:00:00",
          "2013-02-28T00:00:00",
          "2013-03-31T00:00:00",
          "2013-04-30T00:00:00",
          "2013-05-31T00:00:00",
          "2013-06-30T00:00:00",
          "2013-07-31T00:00:00",
          "2013-08-31T00:00:00",
          "2013-09-30T00:00:00",
          "2013-10-31T00:00:00",
          "2013-11-30T00:00:00",
          "2013-12-31T00:00:00",
          "2014-01-31T00:00:00",
          "2014-02-28T00:00:00",
          "2014-03-31T00:00:00",
          "2014-04-30T00:00:00",
          "2014-05-31T00:00:00",
          "2014-06-30T00:00:00",
          "2014-07-31T00:00:00",
          "2014-08-31T00:00:00",
          "2014-09-30T00:00:00",
          "2014-10-31T00:00:00",
          "2014-11-30T00:00:00",
          "2014-12-31T00:00:00",
          "2015-01-31T00:00:00",
          "2015-02-28T00:00:00",
          "2015-03-31T00:00:00",
          "2015-04-30T00:00:00",
          "2015-05-31T00:00:00",
          "2015-06-30T00:00:00",
          "2015-07-31T00:00:00",
          "2015-08-31T00:00:00",
          "2015-09-30T00:00:00",
          "2015-10-31T00:00:00",
          "2015-11-30T00:00:00",
          "2015-12-31T00:00:00",
          "2016-01-31T00:00:00",
          "2016-02-29T00:00:00",
          "2016-03-31T00:00:00",
          "2016-04-30T00:00:00",
          "2016-05-31T00:00:00",
          "2016-06-30T00:00:00",
          "2016-07-31T00:00:00",
          "2016-08-31T00:00:00",
          "2016-09-30T00:00:00",
          "2016-10-31T00:00:00",
          "2016-11-30T00:00:00",
          "2016-12-31T00:00:00",
          "2017-01-31T00:00:00",
          "2017-02-28T00:00:00",
          "2017-03-31T00:00:00",
          "2017-04-30T00:00:00",
          "2017-05-31T00:00:00",
          "2017-06-30T00:00:00",
          "2017-07-31T00:00:00",
          "2017-08-31T00:00:00",
          "2017-09-30T00:00:00",
          "2017-10-31T00:00:00",
          "2017-11-30T00:00:00",
          "2017-12-31T00:00:00",
          "2018-01-31T00:00:00",
          "2018-02-28T00:00:00",
          "2018-03-31T00:00:00",
          "2018-04-30T00:00:00",
          "2018-05-31T00:00:00",
          "2018-06-30T00:00:00",
          "2018-07-31T00:00:00",
          "2018-08-31T00:00:00",
          "2018-09-30T00:00:00",
          "2018-10-31T00:00:00",
          "2018-11-30T00:00:00",
          "2018-12-31T00:00:00",
          "2019-01-31T00:00:00",
          "2019-02-28T00:00:00",
          "2019-03-31T00:00:00",
          "2019-04-30T00:00:00",
          "2019-05-31T00:00:00",
          "2019-06-30T00:00:00",
          "2019-07-31T00:00:00",
          "2019-08-31T00:00:00",
          "2019-09-30T00:00:00",
          "2019-10-31T00:00:00",
          "2019-11-30T00:00:00",
          "2019-12-31T00:00:00",
          "2020-01-31T00:00:00",
          "2020-02-29T00:00:00",
          "2020-03-31T00:00:00",
          "2020-04-30T00:00:00",
          "2020-05-31T00:00:00",
          "2020-06-30T00:00:00",
          "2020-07-31T00:00:00",
          "2020-08-31T00:00:00",
          "2020-09-30T00:00:00",
          "2020-10-31T00:00:00",
          "2020-11-30T00:00:00",
          "2020-12-31T00:00:00",
          "2021-01-31T00:00:00",
          "2021-02-28T00:00:00",
          "2021-03-31T00:00:00",
          "2021-04-30T00:00:00",
          "2021-05-31T00:00:00",
          "2021-06-30T00:00:00",
          "2021-07-31T00:00:00",
          "2021-08-31T00:00:00",
          "2021-09-30T00:00:00",
          "2021-10-31T00:00:00",
          "2021-11-30T00:00:00"
         ],
         "xaxis": "x",
         "y": [
          null,
          null,
          null,
          null,
          null,
          null,
          null,
          null,
          null,
          null,
          null,
          null,
          null,
          null,
          null,
          null,
          null,
          0.13511231210944097,
          0.26106696935300794,
          0.22545372562281593,
          0.33617212012550424,
          0.16955202570051758,
          0.20697167755991283,
          0.20775623268698062,
          0.38112522686025413,
          0.19910875130368824,
          0.5655983142952201,
          0.44449643233126684,
          0.28898521729465376,
          0.2583979328165375,
          0.11997600479904018,
          0.29366850698931046,
          0.41376049178389884,
          0.4279930595720069,
          0.4184600669536107,
          0.2887788778877888,
          0.3219575016097875,
          0.1979991663192997,
          0.12130664587124167,
          0.20859012041338768,
          0.2570253598355038,
          0.2167825851323277,
          0.12296341838303104,
          0.09208103130755065,
          0.3446877534468775,
          0.22651171951940122,
          0.21651716671821836,
          0.3124674513071555,
          0.17816842855446016,
          0.1635055591890124,
          0.23973629008091102,
          0.2643005474797055,
          0.11028398125172319,
          0.5875340599455041,
          0.3419534088480444,
          0.2696629213483146,
          0.21419530717554278,
          0.3274394237066143,
          0.2290464879538514,
          0.42719304706488914,
          0.18432370753971736,
          0.2899671370578001,
          0.30617578970950643,
          0.5294506949040371,
          0.6550043933221503,
          0.881704628949302,
          0.364846013520764,
          0.40820390282755875,
          0.5765199161425576,
          0.6588905707416971,
          0.727973450380045,
          0.49452490286117984,
          0.38420900970127747,
          0.5358482477762297,
          0.3416856492027335,
          0.9467576096915403,
          3.321410321921308,
          2.4532973216295297,
          2.535752914313184,
          1.9859064702114029,
          2.5937710924693858,
          1.21318540984915,
          1.1646178020149736,
          1.3744119546167328,
          1.3051866984451255,
          1.0211449200618874,
          0.9549169038655771,
          1.2402813772676786,
          1.2971894229170131,
          1.0798221469405038,
          0.7273110572362179,
          1.402694941462337,
          1.4650319993831444,
          0.9652019304038608,
          1.1364585944681207,
          0.5192253718776312,
          0.7734912146676853,
          1.0039780261413147,
          0.6405834236720213,
          0.5307467057101025,
          1.0893730546909737,
          0.7564766839378239,
          0.49019607843137253,
          1.3872491145218417,
          1.1243441325893229,
          0.5103776794828173,
          0.9293300653594772,
          0.46076099881093935,
          1.1769399561141032,
          0.7212260843433838,
          0.8063852546696288,
          0.38248231019315354,
          0.2640762048476846,
          0.5870085734146907,
          0.7786931497573637,
          0.4641684591871391,
          0.701877522372346,
          0.29690109482278715,
          0.7361197754210854
         ],
         "yaxis": "y"
        },
        {
         "fillpattern": {
          "shape": "+"
         },
         "hovertemplate": "category=EXON<br>date=%{x}<br>id=%{y}<extra></extra>",
         "legendgroup": "EXON",
         "line": {
          "color": "#00cc96"
         },
         "marker": {
          "symbol": "circle"
         },
         "mode": "lines",
         "name": "EXON",
         "orientation": "v",
         "showlegend": true,
         "stackgroup": "1",
         "type": "scatter",
         "x": [
          "2012-01-31T00:00:00",
          "2012-02-29T00:00:00",
          "2012-03-31T00:00:00",
          "2012-04-30T00:00:00",
          "2012-05-31T00:00:00",
          "2012-06-30T00:00:00",
          "2012-07-31T00:00:00",
          "2012-08-31T00:00:00",
          "2012-09-30T00:00:00",
          "2012-10-31T00:00:00",
          "2012-11-30T00:00:00",
          "2012-12-31T00:00:00",
          "2013-01-31T00:00:00",
          "2013-02-28T00:00:00",
          "2013-03-31T00:00:00",
          "2013-04-30T00:00:00",
          "2013-05-31T00:00:00",
          "2013-06-30T00:00:00",
          "2013-07-31T00:00:00",
          "2013-08-31T00:00:00",
          "2013-09-30T00:00:00",
          "2013-10-31T00:00:00",
          "2013-11-30T00:00:00",
          "2013-12-31T00:00:00",
          "2014-01-31T00:00:00",
          "2014-02-28T00:00:00",
          "2014-03-31T00:00:00",
          "2014-04-30T00:00:00",
          "2014-05-31T00:00:00",
          "2014-06-30T00:00:00",
          "2014-07-31T00:00:00",
          "2014-08-31T00:00:00",
          "2014-09-30T00:00:00",
          "2014-10-31T00:00:00",
          "2014-11-30T00:00:00",
          "2014-12-31T00:00:00",
          "2015-01-31T00:00:00",
          "2015-02-28T00:00:00",
          "2015-03-31T00:00:00",
          "2015-04-30T00:00:00",
          "2015-05-31T00:00:00",
          "2015-06-30T00:00:00",
          "2015-07-31T00:00:00",
          "2015-08-31T00:00:00",
          "2015-09-30T00:00:00",
          "2015-10-31T00:00:00",
          "2015-11-30T00:00:00",
          "2015-12-31T00:00:00",
          "2016-01-31T00:00:00",
          "2016-02-29T00:00:00",
          "2016-03-31T00:00:00",
          "2016-04-30T00:00:00",
          "2016-05-31T00:00:00",
          "2016-06-30T00:00:00",
          "2016-07-31T00:00:00",
          "2016-08-31T00:00:00",
          "2016-09-30T00:00:00",
          "2016-10-31T00:00:00",
          "2016-11-30T00:00:00",
          "2016-12-31T00:00:00",
          "2017-01-31T00:00:00",
          "2017-02-28T00:00:00",
          "2017-03-31T00:00:00",
          "2017-04-30T00:00:00",
          "2017-05-31T00:00:00",
          "2017-06-30T00:00:00",
          "2017-07-31T00:00:00",
          "2017-08-31T00:00:00",
          "2017-09-30T00:00:00",
          "2017-10-31T00:00:00",
          "2017-11-30T00:00:00",
          "2017-12-31T00:00:00",
          "2018-01-31T00:00:00",
          "2018-02-28T00:00:00",
          "2018-03-31T00:00:00",
          "2018-04-30T00:00:00",
          "2018-05-31T00:00:00",
          "2018-06-30T00:00:00",
          "2018-07-31T00:00:00",
          "2018-08-31T00:00:00",
          "2018-09-30T00:00:00",
          "2018-10-31T00:00:00",
          "2018-11-30T00:00:00",
          "2018-12-31T00:00:00",
          "2019-01-31T00:00:00",
          "2019-02-28T00:00:00",
          "2019-03-31T00:00:00",
          "2019-04-30T00:00:00",
          "2019-05-31T00:00:00",
          "2019-06-30T00:00:00",
          "2019-07-31T00:00:00",
          "2019-08-31T00:00:00",
          "2019-09-30T00:00:00",
          "2019-10-31T00:00:00",
          "2019-11-30T00:00:00",
          "2019-12-31T00:00:00",
          "2020-01-31T00:00:00",
          "2020-02-29T00:00:00",
          "2020-03-31T00:00:00",
          "2020-04-30T00:00:00",
          "2020-05-31T00:00:00",
          "2020-06-30T00:00:00",
          "2020-07-31T00:00:00",
          "2020-08-31T00:00:00",
          "2020-09-30T00:00:00",
          "2020-10-31T00:00:00",
          "2020-11-30T00:00:00",
          "2020-12-31T00:00:00",
          "2021-01-31T00:00:00",
          "2021-02-28T00:00:00",
          "2021-03-31T00:00:00",
          "2021-04-30T00:00:00",
          "2021-05-31T00:00:00",
          "2021-06-30T00:00:00",
          "2021-07-31T00:00:00",
          "2021-08-31T00:00:00",
          "2021-09-30T00:00:00",
          "2021-10-31T00:00:00",
          "2021-11-30T00:00:00"
         ],
         "xaxis": "x",
         "y": [
          null,
          null,
          0.03834355828220859,
          0,
          0,
          0,
          0,
          0,
          0,
          0,
          0,
          0,
          0,
          0,
          0,
          0,
          0,
          0,
          0.056753688989784334,
          0,
          0.01120573733751681,
          0.00892379082634303,
          0.010893246187363833,
          0,
          0,
          0.00948136910969944,
          0,
          0,
          0.11114816049794375,
          0.05001250312578145,
          0,
          0.01174674027957242,
          0.035465185010048465,
          0.04626951995373048,
          0,
          0,
          0.025756600128783003,
          0.010421008753647354,
          0.008664760419374404,
          0,
          0.017135023989033587,
          0.09935868485231687,
          0,
          0,
          0.020275750202757504,
          0.019696671262556628,
          0.041241365089184454,
          0,
          0.023755790473928017,
          0.010900370612600827,
          0,
          0.009439305267132339,
          0.018380663541953862,
          0.05108991825613079,
          0.010686044026501388,
          0.026966292134831458,
          0.01947230065232207,
          0.016371971185330715,
          0.00848320325755005,
          0.029461589452750975,
          0,
          0.019331142470520007,
          0.044806213128220446,
          0.0413633355393779,
          0.023963575365444526,
          0.16164584864070536,
          0.042923060414207535,
          0.009956192751891677,
          0.010482180293501047,
          0.07123141305315644,
          0.04282196766941441,
          0.04415400918403391,
          0.009605225242531937,
          0.010716964955524596,
          0.02070822116380203,
          0.13234246156978519,
          0.12263668880940215,
          0.11253657438667568,
          0.012017786323759164,
          0.06406149903907751,
          0.35676405361103075,
          0.18357410806927926,
          0.1109159811442832,
          0.02767272391845771,
          0.0794461468618772,
          0.07220216606498195,
          0.0918189330639978,
          0.11106997408367272,
          0.14967570264427074,
          0.47286329310466513,
          0.06324443975967113,
          0.03313452617627568,
          0.17734597887269643,
          0.16086698840064348,
          0.0501378791677112,
          0.028066236317709797,
          0.219633307868602,
          0.36938814169350254,
          0.17739233270917512,
          0.4758418740849195,
          0.755891507336594,
          0.27979274611398963,
          0.14919011082693948,
          0.19677292404565133,
          0.35812442741733985,
          0.11058183055461042,
          0.26552287581699346,
          0.267538644470868,
          0.6383403151805306,
          0.5709706501051788,
          0.4443347321648976,
          0.3155479059093517,
          0.669621805149486,
          0.49432300919131844,
          0.32727683105744276,
          0.35095663987320275,
          0.728197929461309,
          0.3989608461681202,
          0.37429819089207733
         ],
         "yaxis": "y"
        },
        {
         "fillpattern": {
          "shape": "."
         },
         "hovertemplate": "category=EGFR<br>date=%{x}<br>id=%{y}<extra></extra>",
         "legendgroup": "EGFR",
         "line": {
          "color": "#ab63fa"
         },
         "marker": {
          "symbol": "circle"
         },
         "mode": "lines",
         "name": "EGFR",
         "orientation": "v",
         "showlegend": true,
         "stackgroup": "1",
         "type": "scatter",
         "x": [
          "2012-01-31T00:00:00",
          "2012-02-29T00:00:00",
          "2012-03-31T00:00:00",
          "2012-04-30T00:00:00",
          "2012-05-31T00:00:00",
          "2012-06-30T00:00:00",
          "2012-07-31T00:00:00",
          "2012-08-31T00:00:00",
          "2012-09-30T00:00:00",
          "2012-10-31T00:00:00",
          "2012-11-30T00:00:00",
          "2012-12-31T00:00:00",
          "2013-01-31T00:00:00",
          "2013-02-28T00:00:00",
          "2013-03-31T00:00:00",
          "2013-04-30T00:00:00",
          "2013-05-31T00:00:00",
          "2013-06-30T00:00:00",
          "2013-07-31T00:00:00",
          "2013-08-31T00:00:00",
          "2013-09-30T00:00:00",
          "2013-10-31T00:00:00",
          "2013-11-30T00:00:00",
          "2013-12-31T00:00:00",
          "2014-01-31T00:00:00",
          "2014-02-28T00:00:00",
          "2014-03-31T00:00:00",
          "2014-04-30T00:00:00",
          "2014-05-31T00:00:00",
          "2014-06-30T00:00:00",
          "2014-07-31T00:00:00",
          "2014-08-31T00:00:00",
          "2014-09-30T00:00:00",
          "2014-10-31T00:00:00",
          "2014-11-30T00:00:00",
          "2014-12-31T00:00:00",
          "2015-01-31T00:00:00",
          "2015-02-28T00:00:00",
          "2015-03-31T00:00:00",
          "2015-04-30T00:00:00",
          "2015-05-31T00:00:00",
          "2015-06-30T00:00:00",
          "2015-07-31T00:00:00",
          "2015-08-31T00:00:00",
          "2015-09-30T00:00:00",
          "2015-10-31T00:00:00",
          "2015-11-30T00:00:00",
          "2015-12-31T00:00:00",
          "2016-01-31T00:00:00",
          "2016-02-29T00:00:00",
          "2016-03-31T00:00:00",
          "2016-04-30T00:00:00",
          "2016-05-31T00:00:00",
          "2016-06-30T00:00:00",
          "2016-07-31T00:00:00",
          "2016-08-31T00:00:00",
          "2016-09-30T00:00:00",
          "2016-10-31T00:00:00",
          "2016-11-30T00:00:00",
          "2016-12-31T00:00:00",
          "2017-01-31T00:00:00",
          "2017-02-28T00:00:00",
          "2017-03-31T00:00:00",
          "2017-04-30T00:00:00",
          "2017-05-31T00:00:00",
          "2017-06-30T00:00:00",
          "2017-07-31T00:00:00",
          "2017-08-31T00:00:00",
          "2017-09-30T00:00:00",
          "2017-10-31T00:00:00",
          "2017-11-30T00:00:00",
          "2017-12-31T00:00:00",
          "2018-01-31T00:00:00",
          "2018-02-28T00:00:00",
          "2018-03-31T00:00:00",
          "2018-04-30T00:00:00",
          "2018-05-31T00:00:00",
          "2018-06-30T00:00:00",
          "2018-07-31T00:00:00",
          "2018-08-31T00:00:00",
          "2018-09-30T00:00:00",
          "2018-10-31T00:00:00",
          "2018-11-30T00:00:00",
          "2018-12-31T00:00:00",
          "2019-01-31T00:00:00",
          "2019-02-28T00:00:00",
          "2019-03-31T00:00:00",
          "2019-04-30T00:00:00",
          "2019-05-31T00:00:00",
          "2019-06-30T00:00:00",
          "2019-07-31T00:00:00",
          "2019-08-31T00:00:00",
          "2019-09-30T00:00:00",
          "2019-10-31T00:00:00",
          "2019-11-30T00:00:00",
          "2019-12-31T00:00:00",
          "2020-01-31T00:00:00",
          "2020-02-29T00:00:00",
          "2020-03-31T00:00:00",
          "2020-04-30T00:00:00",
          "2020-05-31T00:00:00",
          "2020-06-30T00:00:00",
          "2020-07-31T00:00:00",
          "2020-08-31T00:00:00",
          "2020-09-30T00:00:00",
          "2020-10-31T00:00:00",
          "2020-11-30T00:00:00",
          "2020-12-31T00:00:00",
          "2021-01-31T00:00:00",
          "2021-02-28T00:00:00",
          "2021-03-31T00:00:00",
          "2021-04-30T00:00:00",
          "2021-05-31T00:00:00",
          "2021-06-30T00:00:00",
          "2021-07-31T00:00:00",
          "2021-08-31T00:00:00",
          "2021-09-30T00:00:00",
          "2021-10-31T00:00:00",
          "2021-11-30T00:00:00"
         ],
         "xaxis": "x",
         "y": [
          null,
          null,
          null,
          0.01966955153422502,
          0.0203210729526519,
          0,
          0,
          0,
          0,
          0,
          0,
          0,
          0.0169548999660902,
          0,
          0,
          0,
          0.016869095816464237,
          0.11822327309576085,
          0.3745743473325766,
          0.34945327471536464,
          0.3025549081129538,
          0.2587899339639479,
          0.130718954248366,
          0.11542012927054479,
          0.24500907441016334,
          0.22755285863278657,
          0.22180326050792948,
          0.30412913791086676,
          0.8224963876847837,
          0.6334917062598983,
          0.3239352129574085,
          0.34065546810760017,
          0.16550419671355954,
          0.38172353961827643,
          0.44237207077953133,
          0.20627062706270624,
          0.25756600128783,
          0.4376823676531888,
          0.1819599688068625,
          0.36029202616857875,
          0.6082933516106922,
          0.3522717008400325,
          0.4713597704682857,
          0.23020257826887663,
          0.45620437956204374,
          0.2068150482568446,
          0.48458603979791737,
          0.3332986147276325,
          0.10690105713267609,
          0.1635055591890124,
          0.1997802417340925,
          0.585236926562205,
          0.3951842661520081,
          0.7833787465940054,
          0.4060696730070528,
          0.3056179775280899,
          0.28234835945867004,
          0.45841519318926005,
          0.2290464879538514,
          0.6260587758709583,
          0.28087422101290266,
          0.4832785617630002,
          0.4555298334702412,
          0.3639973527465255,
          0.6230529595015576,
          1.0286554004408524,
          0.4721536645562829,
          0.48785344484269216,
          0.8490566037735849,
          0.8992965897961,
          0.9741997644791778,
          0.6446485340868952,
          1.1430218038613005,
          0.7180366520201479,
          0.7662041830606751,
          1.5270284027282908,
          0.8175779253960144,
          1.9356290794508215,
          0.9974762648720106,
          1.185137732222934,
          2.77697425513451,
          1.6202410407853778,
          1.1276458083002125,
          1.199151369799834,
          1.4867778912722733,
          1.227436823104693,
          1.9373794876503536,
          2.8137726767863755,
          2.120405787460502,
          2.4490083986166984,
          1.5811109939917782,
          1.402694941462337,
          2.282365641144267,
          1.5324697316061298,
          1.9720899139299741,
          0.8700533258490036,
          1.3941940412528648,
          1.2597082780829703,
          0.8179757563811964,
          1.5190336749633968,
          2.6752630798873573,
          2.1658031088082903,
          1.2468030690537084,
          1.6627312081857537,
          2.290330640459732,
          1.5821708063967335,
          1.7769607843137254,
          1.1964922711058263,
          3.7303012168362257,
          1.783031152960032,
          1.6374557722373075,
          1.7594186268885066,
          2.008865415448458,
          2.417548466826292,
          1.1623970206522967,
          1.3019359221102682,
          2.4653447973328655,
          1.1876043792911486,
          2.1210230817217717
         ],
         "yaxis": "y"
        },
        {
         "fillpattern": {
          "shape": "x"
         },
         "hovertemplate": "category=KRAS<br>date=%{x}<br>id=%{y}<extra></extra>",
         "legendgroup": "KRAS",
         "line": {
          "color": "#FFA15A"
         },
         "marker": {
          "symbol": "circle"
         },
         "mode": "lines",
         "name": "KRAS",
         "orientation": "v",
         "showlegend": true,
         "stackgroup": "1",
         "type": "scatter",
         "x": [
          "2012-01-31T00:00:00",
          "2012-02-29T00:00:00",
          "2012-03-31T00:00:00",
          "2012-04-30T00:00:00",
          "2012-05-31T00:00:00",
          "2012-06-30T00:00:00",
          "2012-07-31T00:00:00",
          "2012-08-31T00:00:00",
          "2012-09-30T00:00:00",
          "2012-10-31T00:00:00",
          "2012-11-30T00:00:00",
          "2012-12-31T00:00:00",
          "2013-01-31T00:00:00",
          "2013-02-28T00:00:00",
          "2013-03-31T00:00:00",
          "2013-04-30T00:00:00",
          "2013-05-31T00:00:00",
          "2013-06-30T00:00:00",
          "2013-07-31T00:00:00",
          "2013-08-31T00:00:00",
          "2013-09-30T00:00:00",
          "2013-10-31T00:00:00",
          "2013-11-30T00:00:00",
          "2013-12-31T00:00:00",
          "2014-01-31T00:00:00",
          "2014-02-28T00:00:00",
          "2014-03-31T00:00:00",
          "2014-04-30T00:00:00",
          "2014-05-31T00:00:00",
          "2014-06-30T00:00:00",
          "2014-07-31T00:00:00",
          "2014-08-31T00:00:00",
          "2014-09-30T00:00:00",
          "2014-10-31T00:00:00",
          "2014-11-30T00:00:00",
          "2014-12-31T00:00:00",
          "2015-01-31T00:00:00",
          "2015-02-28T00:00:00",
          "2015-03-31T00:00:00",
          "2015-04-30T00:00:00",
          "2015-05-31T00:00:00",
          "2015-06-30T00:00:00",
          "2015-07-31T00:00:00",
          "2015-08-31T00:00:00",
          "2015-09-30T00:00:00",
          "2015-10-31T00:00:00",
          "2015-11-30T00:00:00",
          "2015-12-31T00:00:00",
          "2016-01-31T00:00:00",
          "2016-02-29T00:00:00",
          "2016-03-31T00:00:00",
          "2016-04-30T00:00:00",
          "2016-05-31T00:00:00",
          "2016-06-30T00:00:00",
          "2016-07-31T00:00:00",
          "2016-08-31T00:00:00",
          "2016-09-30T00:00:00",
          "2016-10-31T00:00:00",
          "2016-11-30T00:00:00",
          "2016-12-31T00:00:00",
          "2017-01-31T00:00:00",
          "2017-02-28T00:00:00",
          "2017-03-31T00:00:00",
          "2017-04-30T00:00:00",
          "2017-05-31T00:00:00",
          "2017-06-30T00:00:00",
          "2017-07-31T00:00:00",
          "2017-08-31T00:00:00",
          "2017-09-30T00:00:00",
          "2017-10-31T00:00:00",
          "2017-11-30T00:00:00",
          "2017-12-31T00:00:00",
          "2018-01-31T00:00:00",
          "2018-02-28T00:00:00",
          "2018-03-31T00:00:00",
          "2018-04-30T00:00:00",
          "2018-05-31T00:00:00",
          "2018-06-30T00:00:00",
          "2018-07-31T00:00:00",
          "2018-08-31T00:00:00",
          "2018-09-30T00:00:00",
          "2018-10-31T00:00:00",
          "2018-11-30T00:00:00",
          "2018-12-31T00:00:00",
          "2019-01-31T00:00:00",
          "2019-02-28T00:00:00",
          "2019-03-31T00:00:00",
          "2019-04-30T00:00:00",
          "2019-05-31T00:00:00",
          "2019-06-30T00:00:00",
          "2019-07-31T00:00:00",
          "2019-08-31T00:00:00",
          "2019-09-30T00:00:00",
          "2019-10-31T00:00:00",
          "2019-11-30T00:00:00",
          "2019-12-31T00:00:00",
          "2020-01-31T00:00:00",
          "2020-02-29T00:00:00",
          "2020-03-31T00:00:00",
          "2020-04-30T00:00:00",
          "2020-05-31T00:00:00",
          "2020-06-30T00:00:00",
          "2020-07-31T00:00:00",
          "2020-08-31T00:00:00",
          "2020-09-30T00:00:00",
          "2020-10-31T00:00:00",
          "2020-11-30T00:00:00",
          "2020-12-31T00:00:00",
          "2021-01-31T00:00:00",
          "2021-02-28T00:00:00",
          "2021-03-31T00:00:00",
          "2021-04-30T00:00:00",
          "2021-05-31T00:00:00",
          "2021-06-30T00:00:00",
          "2021-07-31T00:00:00",
          "2021-08-31T00:00:00",
          "2021-09-30T00:00:00",
          "2021-10-31T00:00:00",
          "2021-11-30T00:00:00"
         ],
         "xaxis": "x",
         "y": [
          null,
          null,
          null,
          null,
          null,
          null,
          null,
          null,
          null,
          null,
          null,
          null,
          null,
          null,
          null,
          null,
          null,
          0.01688903901368012,
          0.170261066969353,
          0.11272686281140797,
          0.14567458538771852,
          0.062466535784401214,
          0.065359477124183,
          0.04616805170821791,
          0.09074410163339383,
          0.0948136910969944,
          0.04436065210158589,
          0.0935781962802667,
          0.15560742469712124,
          0.12503125781445362,
          0.10797840431913618,
          0.09397392223657935,
          0.09457382669346259,
          0.13880855986119145,
          0.1434720229555237,
          0.055005500550055,
          0.09014810045074051,
          0.06252605252188412,
          0.034659041677497615,
          0.0948136910969944,
          0.04283755997258396,
          0.04516303856923494,
          0.1127164668511118,
          0.10359116022099447,
          0.11151662611516627,
          0.0689383494189482,
          0.09279307145066501,
          0.010415581710238516,
          0.05938947618482005,
          0.1962066710268149,
          0.079912096693637,
          0.3303756843496318,
          0.11947431302270012,
          0.18732970027247955,
          0.06411626415900834,
          0.026966292134831458,
          0.01947230065232207,
          0.09004584151931892,
          0.0169664065151001,
          0.11048096044781615,
          0.052663916439919245,
          0.028996713705780015,
          0.03733851094018371,
          0.03309066843150232,
          0.13579359373751895,
          0.07347538574577515,
          0.042923060414207535,
          0.049780963759458376,
          0.06289308176100629,
          0.1958863858961802,
          0.06423295150412162,
          0.07947721653126104,
          0.03842090097012775,
          0.042867859822098384,
          0.08283288465520812,
          0.08144151481217551,
          0.0510986203372509,
          0.12754145097156577,
          0.07210671794255498,
          0.1174460815716421,
          0.08678044547295344,
          0.06385186367627105,
          0.07394398742952213,
          0.06456968914306797,
          0.19294064237884462,
          0.07220216606498195,
          0.1377283995959967,
          0.08330248056275454,
          0.17462165308498254,
          0.45874797092243635,
          0.21081479919890378,
          0.20985199911641267,
          0.5166165471508983,
          0.381000762001524,
          0.2423330826439375,
          0.19646365422396855,
          0.3246753246753247,
          0.2652017427543095,
          0.06898590716467921,
          0.2287701317715959,
          0.39276715577293614,
          0.27979274611398963,
          0.29838022165387895,
          0.4132231404958678,
          1.0743732822520196,
          0.7825791085403199,
          0.5106209150326797,
          0.43846611177170036,
          1.3066028326351486,
          0.981668837022939,
          0.5842178885871802,
          0.8605851979345954,
          1.131755163632934,
          1.1740171468293814,
          0.7561223338223677,
          0.5207743688441073,
          0.8597999649061239,
          0.7144182594173316,
          0.8359326263256395
         ],
         "yaxis": "y"
        },
        {
         "fillpattern": {
          "shape": "+"
         },
         "hovertemplate": "category=NTRK<br>date=%{x}<br>id=%{y}<extra></extra>",
         "legendgroup": "NTRK",
         "line": {
          "color": "#19d3f3"
         },
         "marker": {
          "symbol": "circle"
         },
         "mode": "lines",
         "name": "NTRK",
         "orientation": "v",
         "showlegend": true,
         "stackgroup": "1",
         "type": "scatter",
         "x": [
          "2012-01-31T00:00:00",
          "2012-02-29T00:00:00",
          "2012-03-31T00:00:00",
          "2012-04-30T00:00:00",
          "2012-05-31T00:00:00",
          "2012-06-30T00:00:00",
          "2012-07-31T00:00:00",
          "2012-08-31T00:00:00",
          "2012-09-30T00:00:00",
          "2012-10-31T00:00:00",
          "2012-11-30T00:00:00",
          "2012-12-31T00:00:00",
          "2013-01-31T00:00:00",
          "2013-02-28T00:00:00",
          "2013-03-31T00:00:00",
          "2013-04-30T00:00:00",
          "2013-05-31T00:00:00",
          "2013-06-30T00:00:00",
          "2013-07-31T00:00:00",
          "2013-08-31T00:00:00",
          "2013-09-30T00:00:00",
          "2013-10-31T00:00:00",
          "2013-11-30T00:00:00",
          "2013-12-31T00:00:00",
          "2014-01-31T00:00:00",
          "2014-02-28T00:00:00",
          "2014-03-31T00:00:00",
          "2014-04-30T00:00:00",
          "2014-05-31T00:00:00",
          "2014-06-30T00:00:00",
          "2014-07-31T00:00:00",
          "2014-08-31T00:00:00",
          "2014-09-30T00:00:00",
          "2014-10-31T00:00:00",
          "2014-11-30T00:00:00",
          "2014-12-31T00:00:00",
          "2015-01-31T00:00:00",
          "2015-02-28T00:00:00",
          "2015-03-31T00:00:00",
          "2015-04-30T00:00:00",
          "2015-05-31T00:00:00",
          "2015-06-30T00:00:00",
          "2015-07-31T00:00:00",
          "2015-08-31T00:00:00",
          "2015-09-30T00:00:00",
          "2015-10-31T00:00:00",
          "2015-11-30T00:00:00",
          "2015-12-31T00:00:00",
          "2016-01-31T00:00:00",
          "2016-02-29T00:00:00",
          "2016-03-31T00:00:00",
          "2016-04-30T00:00:00",
          "2016-05-31T00:00:00",
          "2016-06-30T00:00:00",
          "2016-07-31T00:00:00",
          "2016-08-31T00:00:00",
          "2016-09-30T00:00:00",
          "2016-10-31T00:00:00",
          "2016-11-30T00:00:00",
          "2016-12-31T00:00:00",
          "2017-01-31T00:00:00",
          "2017-02-28T00:00:00",
          "2017-03-31T00:00:00",
          "2017-04-30T00:00:00",
          "2017-05-31T00:00:00",
          "2017-06-30T00:00:00",
          "2017-07-31T00:00:00",
          "2017-08-31T00:00:00",
          "2017-09-30T00:00:00",
          "2017-10-31T00:00:00",
          "2017-11-30T00:00:00",
          "2017-12-31T00:00:00",
          "2018-01-31T00:00:00",
          "2018-02-28T00:00:00",
          "2018-03-31T00:00:00",
          "2018-04-30T00:00:00",
          "2018-05-31T00:00:00",
          "2018-06-30T00:00:00",
          "2018-07-31T00:00:00",
          "2018-08-31T00:00:00",
          "2018-09-30T00:00:00",
          "2018-10-31T00:00:00",
          "2018-11-30T00:00:00",
          "2018-12-31T00:00:00",
          "2019-01-31T00:00:00",
          "2019-02-28T00:00:00",
          "2019-03-31T00:00:00",
          "2019-04-30T00:00:00",
          "2019-05-31T00:00:00",
          "2019-06-30T00:00:00",
          "2019-07-31T00:00:00",
          "2019-08-31T00:00:00",
          "2019-09-30T00:00:00",
          "2019-10-31T00:00:00",
          "2019-11-30T00:00:00",
          "2019-12-31T00:00:00",
          "2020-01-31T00:00:00",
          "2020-02-29T00:00:00",
          "2020-03-31T00:00:00",
          "2020-04-30T00:00:00",
          "2020-05-31T00:00:00",
          "2020-06-30T00:00:00",
          "2020-07-31T00:00:00",
          "2020-08-31T00:00:00",
          "2020-09-30T00:00:00",
          "2020-10-31T00:00:00",
          "2020-11-30T00:00:00",
          "2020-12-31T00:00:00",
          "2021-01-31T00:00:00",
          "2021-02-28T00:00:00",
          "2021-03-31T00:00:00",
          "2021-04-30T00:00:00",
          "2021-05-31T00:00:00",
          "2021-06-30T00:00:00",
          "2021-07-31T00:00:00",
          "2021-08-31T00:00:00",
          "2021-09-30T00:00:00",
          "2021-10-31T00:00:00",
          "2021-11-30T00:00:00"
         ],
         "xaxis": "x",
         "y": [
          null,
          null,
          null,
          null,
          null,
          null,
          null,
          null,
          null,
          null,
          null,
          null,
          0.0169548999660902,
          0,
          0,
          0,
          0,
          0,
          0,
          0,
          0.01120573733751681,
          0.03569516330537212,
          0.010893246187363833,
          0,
          0,
          0,
          0,
          0,
          0,
          0.05834792031341169,
          0,
          0.01174674027957242,
          0,
          0,
          0.011956001912960307,
          0,
          0.0386349001931745,
          0,
          0.008664760419374404,
          0,
          0,
          0,
          0.020493903063838508,
          0,
          0,
          0,
          0,
          0,
          0,
          0,
          0,
          0.06607513686992637,
          0.009190331770976931,
          0.06811989100817438,
          0.021372088053002777,
          0,
          0.029208450978483107,
          0,
          0,
          0.022096192089563232,
          0,
          0,
          0.01493540437607348,
          0,
          0.007987858455148175,
          0.02204261572373255,
          0,
          0.019912385503783353,
          0.010482180293501047,
          0,
          0.04282196766941441,
          0.008830801836806781,
          0.019210450485063875,
          0.021433929911049192,
          0.031062331745703043,
          0.01018018935152194,
          0,
          0.045014629754670264,
          0.012017786323759164,
          0.021353833013025837,
          0.05785363031530228,
          0.047888897757203286,
          0.138644976430354,
          0.04612120653076285,
          0.20429009193054137,
          0.07220216606498195,
          0.10100082637039758,
          0.2961865975564606,
          0.10809911857641775,
          0.14821088291340248,
          0.12648887951934226,
          0.2540313673514469,
          0.16192458940550544,
          0.13546693760054185,
          0.13370101111389654,
          0.09121526803255683,
          0.21008403361344538,
          0.08524341731388521,
          0.019710259189908347,
          0.08235724743777453,
          0.11857121683711278,
          0.22797927461139897,
          0.18115942028985507,
          0.26564344746162927,
          0.07495627550595486,
          0.10207553589656344,
          0.1838235294117647,
          0.111474435196195,
          0.20945541591861158,
          0.3005108684764099,
          0.09051263062618282,
          0.028686173264486515,
          0.08488163727247006,
          0.11585695527921527,
          0.12413948764247829,
          0.06792709158836183,
          0.08773469029654325,
          0.10205975134533309,
          0.1621958827199002
         ],
         "yaxis": "y"
        },
        {
         "fillpattern": {
          "shape": "."
         },
         "hovertemplate": "category=BRAF<br>date=%{x}<br>id=%{y}<extra></extra>",
         "legendgroup": "BRAF",
         "line": {
          "color": "#FF6692"
         },
         "marker": {
          "symbol": "circle"
         },
         "mode": "lines",
         "name": "BRAF",
         "orientation": "v",
         "showlegend": true,
         "stackgroup": "1",
         "type": "scatter",
         "x": [
          "2012-01-31T00:00:00",
          "2012-02-29T00:00:00",
          "2012-03-31T00:00:00",
          "2012-04-30T00:00:00",
          "2012-05-31T00:00:00",
          "2012-06-30T00:00:00",
          "2012-07-31T00:00:00",
          "2012-08-31T00:00:00",
          "2012-09-30T00:00:00",
          "2012-10-31T00:00:00",
          "2012-11-30T00:00:00",
          "2012-12-31T00:00:00",
          "2013-01-31T00:00:00",
          "2013-02-28T00:00:00",
          "2013-03-31T00:00:00",
          "2013-04-30T00:00:00",
          "2013-05-31T00:00:00",
          "2013-06-30T00:00:00",
          "2013-07-31T00:00:00",
          "2013-08-31T00:00:00",
          "2013-09-30T00:00:00",
          "2013-10-31T00:00:00",
          "2013-11-30T00:00:00",
          "2013-12-31T00:00:00",
          "2014-01-31T00:00:00",
          "2014-02-28T00:00:00",
          "2014-03-31T00:00:00",
          "2014-04-30T00:00:00",
          "2014-05-31T00:00:00",
          "2014-06-30T00:00:00",
          "2014-07-31T00:00:00",
          "2014-08-31T00:00:00",
          "2014-09-30T00:00:00",
          "2014-10-31T00:00:00",
          "2014-11-30T00:00:00",
          "2014-12-31T00:00:00",
          "2015-01-31T00:00:00",
          "2015-02-28T00:00:00",
          "2015-03-31T00:00:00",
          "2015-04-30T00:00:00",
          "2015-05-31T00:00:00",
          "2015-06-30T00:00:00",
          "2015-07-31T00:00:00",
          "2015-08-31T00:00:00",
          "2015-09-30T00:00:00",
          "2015-10-31T00:00:00",
          "2015-11-30T00:00:00",
          "2015-12-31T00:00:00",
          "2016-01-31T00:00:00",
          "2016-02-29T00:00:00",
          "2016-03-31T00:00:00",
          "2016-04-30T00:00:00",
          "2016-05-31T00:00:00",
          "2016-06-30T00:00:00",
          "2016-07-31T00:00:00",
          "2016-08-31T00:00:00",
          "2016-09-30T00:00:00",
          "2016-10-31T00:00:00",
          "2016-11-30T00:00:00",
          "2016-12-31T00:00:00",
          "2017-01-31T00:00:00",
          "2017-02-28T00:00:00",
          "2017-03-31T00:00:00",
          "2017-04-30T00:00:00",
          "2017-05-31T00:00:00",
          "2017-06-30T00:00:00",
          "2017-07-31T00:00:00",
          "2017-08-31T00:00:00",
          "2017-09-30T00:00:00",
          "2017-10-31T00:00:00",
          "2017-11-30T00:00:00",
          "2017-12-31T00:00:00",
          "2018-01-31T00:00:00",
          "2018-02-28T00:00:00",
          "2018-03-31T00:00:00",
          "2018-04-30T00:00:00",
          "2018-05-31T00:00:00",
          "2018-06-30T00:00:00",
          "2018-07-31T00:00:00",
          "2018-08-31T00:00:00",
          "2018-09-30T00:00:00",
          "2018-10-31T00:00:00",
          "2018-11-30T00:00:00",
          "2018-12-31T00:00:00",
          "2019-01-31T00:00:00",
          "2019-02-28T00:00:00",
          "2019-03-31T00:00:00",
          "2019-04-30T00:00:00",
          "2019-05-31T00:00:00",
          "2019-06-30T00:00:00",
          "2019-07-31T00:00:00",
          "2019-08-31T00:00:00",
          "2019-09-30T00:00:00",
          "2019-10-31T00:00:00",
          "2019-11-30T00:00:00",
          "2019-12-31T00:00:00",
          "2020-01-31T00:00:00",
          "2020-02-29T00:00:00",
          "2020-03-31T00:00:00",
          "2020-04-30T00:00:00",
          "2020-05-31T00:00:00",
          "2020-06-30T00:00:00",
          "2020-07-31T00:00:00",
          "2020-08-31T00:00:00",
          "2020-09-30T00:00:00",
          "2020-10-31T00:00:00",
          "2020-11-30T00:00:00",
          "2020-12-31T00:00:00",
          "2021-01-31T00:00:00",
          "2021-02-28T00:00:00",
          "2021-03-31T00:00:00",
          "2021-04-30T00:00:00",
          "2021-05-31T00:00:00",
          "2021-06-30T00:00:00",
          "2021-07-31T00:00:00",
          "2021-08-31T00:00:00",
          "2021-09-30T00:00:00",
          "2021-10-31T00:00:00",
          "2021-11-30T00:00:00"
         ],
         "xaxis": "x",
         "y": [
          null,
          null,
          null,
          null,
          null,
          null,
          0.10206164523372117,
          0,
          0,
          0.016318537859007835,
          0,
          0,
          0,
          0,
          0,
          0,
          0,
          0.05066711704104036,
          0.0340522133938706,
          0.07890880396798557,
          0.033617212012550426,
          0.03569516330537212,
          0.021786492374727667,
          0.057710064635272396,
          0.11796733212341198,
          0.05688821465819664,
          0.19962293445713652,
          0.1637618434904667,
          0.40013337779259756,
          0.16670834375260482,
          0.19196160767846432,
          0.10572066251615175,
          0.09457382669346259,
          0.09253903990746096,
          0.13151602104256335,
          0.08250825082508251,
          0.09014810045074051,
          0.08336807002917883,
          0.07798284377436965,
          0.05688821465819664,
          0.26559287183002056,
          0.09032607713846988,
          0.12296341838303104,
          0.09208103130755065,
          0.11151662611516627,
          0.1378766988378964,
          0.17527580162903392,
          0.1145713988126237,
          0.03563368571089203,
          0.032701111837802485,
          0.16981320547397863,
          0.23598263167830846,
          0.06433232239683853,
          0.127724795640327,
          0.22440692455652916,
          0.11685393258426967,
          0.14604225489241554,
          0.09823182711198428,
          0.12724804886325075,
          0.08838476835825293,
          0.19310102694637057,
          0.20297699594046006,
          0.06720931969233067,
          0.0827266710787558,
          0.2476236121095934,
          0.3967670830271859,
          0.3433844833136603,
          0.30864197530864196,
          0.41928721174004197,
          0.35615706526578217,
          0.16058237876030404,
          0.2119392440833628,
          0.29776198251849006,
          0.2357732290215411,
          0.28991509629322837,
          0.32576605924870206,
          0.27593254982115484,
          0.45764873583914767,
          0.2884268717702199,
          0.523168908819133,
          0.27962587985729437,
          0.23146300582648255,
          0.20334596543118585,
          0.1199151369799834,
          0.4312790829644762,
          0.18566271273852503,
          0.3672757322559912,
          0.2776749352091818,
          0.37418925661067687,
          0.6845931258380973,
          0.6008221777168757,
          0.3865694720565496,
          0.5011951576837073,
          0.3725340784014901,
          0.484666165287875,
          0.3157451585742352,
          0.706646294881589,
          0.42621708656942603,
          0.10840642554449591,
          0.4575402635431918,
          0.3631243515636579,
          0.44559585492227977,
          0.7033248081841432,
          0.5509641873278237,
          0.4164237528108603,
          0.3572643756379721,
          0.23488562091503268,
          0.089179548156956,
          0.42888489926191903,
          0.28047681057798257,
          0.27153789187854854,
          0.34423407917383825,
          0.33009525605960577,
          0.571560979377462,
          0.45141631869992105,
          0.24906600249066002,
          0.5351816108089138,
          0.31545741324921134,
          0.42420461634435436
         ],
         "yaxis": "y"
        },
        {
         "fillpattern": {
          "shape": "x"
         },
         "hovertemplate": "category=MET<br>date=%{x}<br>id=%{y}<extra></extra>",
         "legendgroup": "MET",
         "line": {
          "color": "#B6E880"
         },
         "marker": {
          "symbol": "circle"
         },
         "mode": "lines",
         "name": "MET",
         "orientation": "v",
         "showlegend": true,
         "stackgroup": "1",
         "type": "scatter",
         "x": [
          "2012-01-31T00:00:00",
          "2012-02-29T00:00:00",
          "2012-03-31T00:00:00",
          "2012-04-30T00:00:00",
          "2012-05-31T00:00:00",
          "2012-06-30T00:00:00",
          "2012-07-31T00:00:00",
          "2012-08-31T00:00:00",
          "2012-09-30T00:00:00",
          "2012-10-31T00:00:00",
          "2012-11-30T00:00:00",
          "2012-12-31T00:00:00",
          "2013-01-31T00:00:00",
          "2013-02-28T00:00:00",
          "2013-03-31T00:00:00",
          "2013-04-30T00:00:00",
          "2013-05-31T00:00:00",
          "2013-06-30T00:00:00",
          "2013-07-31T00:00:00",
          "2013-08-31T00:00:00",
          "2013-09-30T00:00:00",
          "2013-10-31T00:00:00",
          "2013-11-30T00:00:00",
          "2013-12-31T00:00:00",
          "2014-01-31T00:00:00",
          "2014-02-28T00:00:00",
          "2014-03-31T00:00:00",
          "2014-04-30T00:00:00",
          "2014-05-31T00:00:00",
          "2014-06-30T00:00:00",
          "2014-07-31T00:00:00",
          "2014-08-31T00:00:00",
          "2014-09-30T00:00:00",
          "2014-10-31T00:00:00",
          "2014-11-30T00:00:00",
          "2014-12-31T00:00:00",
          "2015-01-31T00:00:00",
          "2015-02-28T00:00:00",
          "2015-03-31T00:00:00",
          "2015-04-30T00:00:00",
          "2015-05-31T00:00:00",
          "2015-06-30T00:00:00",
          "2015-07-31T00:00:00",
          "2015-08-31T00:00:00",
          "2015-09-30T00:00:00",
          "2015-10-31T00:00:00",
          "2015-11-30T00:00:00",
          "2015-12-31T00:00:00",
          "2016-01-31T00:00:00",
          "2016-02-29T00:00:00",
          "2016-03-31T00:00:00",
          "2016-04-30T00:00:00",
          "2016-05-31T00:00:00",
          "2016-06-30T00:00:00",
          "2016-07-31T00:00:00",
          "2016-08-31T00:00:00",
          "2016-09-30T00:00:00",
          "2016-10-31T00:00:00",
          "2016-11-30T00:00:00",
          "2016-12-31T00:00:00",
          "2017-01-31T00:00:00",
          "2017-02-28T00:00:00",
          "2017-03-31T00:00:00",
          "2017-04-30T00:00:00",
          "2017-05-31T00:00:00",
          "2017-06-30T00:00:00",
          "2017-07-31T00:00:00",
          "2017-08-31T00:00:00",
          "2017-09-30T00:00:00",
          "2017-10-31T00:00:00",
          "2017-11-30T00:00:00",
          "2017-12-31T00:00:00",
          "2018-01-31T00:00:00",
          "2018-02-28T00:00:00",
          "2018-03-31T00:00:00",
          "2018-04-30T00:00:00",
          "2018-05-31T00:00:00",
          "2018-06-30T00:00:00",
          "2018-07-31T00:00:00",
          "2018-08-31T00:00:00",
          "2018-09-30T00:00:00",
          "2018-10-31T00:00:00",
          "2018-11-30T00:00:00",
          "2018-12-31T00:00:00",
          "2019-01-31T00:00:00",
          "2019-02-28T00:00:00",
          "2019-03-31T00:00:00",
          "2019-04-30T00:00:00",
          "2019-05-31T00:00:00",
          "2019-06-30T00:00:00",
          "2019-07-31T00:00:00",
          "2019-08-31T00:00:00",
          "2019-09-30T00:00:00",
          "2019-10-31T00:00:00",
          "2019-11-30T00:00:00",
          "2019-12-31T00:00:00",
          "2020-01-31T00:00:00",
          "2020-02-29T00:00:00",
          "2020-03-31T00:00:00",
          "2020-04-30T00:00:00",
          "2020-05-31T00:00:00",
          "2020-06-30T00:00:00",
          "2020-07-31T00:00:00",
          "2020-08-31T00:00:00",
          "2020-09-30T00:00:00",
          "2020-10-31T00:00:00",
          "2020-11-30T00:00:00",
          "2020-12-31T00:00:00",
          "2021-01-31T00:00:00",
          "2021-02-28T00:00:00",
          "2021-03-31T00:00:00",
          "2021-04-30T00:00:00",
          "2021-05-31T00:00:00",
          "2021-06-30T00:00:00",
          "2021-07-31T00:00:00",
          "2021-08-31T00:00:00",
          "2021-09-30T00:00:00",
          "2021-10-31T00:00:00",
          "2021-11-30T00:00:00"
         ],
         "xaxis": "x",
         "y": [
          null,
          null,
          0.019171779141104295,
          0,
          0,
          0,
          0,
          0,
          0,
          0,
          0.04033884630899556,
          0,
          0.0678195998643608,
          0,
          0.01827151470856934,
          0,
          0,
          0.01688903901368012,
          0.022701475595913734,
          0.011272686281140797,
          0.04482294935006724,
          0.08031411743708727,
          0.054466230936819175,
          0.03462603878116344,
          0,
          0.01896273821939888,
          0.05545081512698237,
          0.03509182360510001,
          0.06668889629876625,
          0.1833791781278653,
          0.04799040191961608,
          0.04698696111828968,
          0.047286913346731296,
          0.02313475997686524,
          0.04782400765184123,
          0.01375137513751375,
          0.012878300064391501,
          0.041684035014589414,
          0.017329520838748808,
          0.01896273821939888,
          0.059972583961617545,
          0.0722608617107759,
          0.020493903063838508,
          0.04604051565377532,
          0.17234387672343876,
          0.039393342525113256,
          0.05155170636148056,
          0.031246745130715552,
          0.023755790473928017,
          0.05450185306300414,
          0.009989012086704625,
          0.018878610534264678,
          0.027570995312930797,
          0.10217983651226158,
          0.010686044026501388,
          0.035955056179775284,
          0.01947230065232207,
          0.008185985592665358,
          0.0339328130302002,
          0.09575016572144067,
          0.04388659703326604,
          0.04832785617630002,
          0.01493540437607348,
          0.00827266710787558,
          0.03993929227574087,
          0.23512123438648053,
          0.021461530207103768,
          0.05973715651135006,
          0.04192872117400419,
          0.12465497284302378,
          0.04282196766941441,
          0.008830801836806781,
          0.028815675727595812,
          0.032150894866573784,
          0.02070822116380203,
          0.10180189351521939,
          0.0510986203372509,
          0.05251706804711531,
          0.012017786323759164,
          0.07473841554559044,
          0.26034133641886026,
          0.3272408013408891,
          0.07394398742952213,
          0.05534544783691542,
          0.1815911928271479,
          0.08251676121712223,
          0.16527407951519604,
          0.31469825990373934,
          0.12472975220355895,
          0.42345966546686425,
          0.04216295983978075,
          0.055224210293792805,
          0.11566042100393245,
          0.0762001524003048,
          0.1002757583354224,
          0.028066236317709797,
          0.2005347593582888,
          0.2652017427543095,
          0.10840642554449591,
          0.18301610541727673,
          0.807766414702831,
          0.5284974093264249,
          0.07459505541346974,
          0.26564344746162927,
          0.3914383276422087,
          0.1701258931609391,
          0.3165849673202614,
          0.17092746730083233,
          0.3291442250149611,
          0.5609536211559651,
          0.20571052415041552,
          0.16255498183209025,
          0.17919456757521454,
          0.33984706881903143,
          0.27084979121995256,
          0.1471753651081173,
          0.28075100894893845,
          0.13917238819818148,
          0.19962570180910794
         ],
         "yaxis": "y"
        },
        {
         "fillpattern": {
          "shape": "+"
         },
         "hovertemplate": "category=RET<br>date=%{x}<br>id=%{y}<extra></extra>",
         "legendgroup": "RET",
         "line": {
          "color": "#FF97FF"
         },
         "marker": {
          "symbol": "circle"
         },
         "mode": "lines",
         "name": "RET",
         "orientation": "v",
         "showlegend": true,
         "stackgroup": "1",
         "type": "scatter",
         "x": [
          "2012-01-31T00:00:00",
          "2012-02-29T00:00:00",
          "2012-03-31T00:00:00",
          "2012-04-30T00:00:00",
          "2012-05-31T00:00:00",
          "2012-06-30T00:00:00",
          "2012-07-31T00:00:00",
          "2012-08-31T00:00:00",
          "2012-09-30T00:00:00",
          "2012-10-31T00:00:00",
          "2012-11-30T00:00:00",
          "2012-12-31T00:00:00",
          "2013-01-31T00:00:00",
          "2013-02-28T00:00:00",
          "2013-03-31T00:00:00",
          "2013-04-30T00:00:00",
          "2013-05-31T00:00:00",
          "2013-06-30T00:00:00",
          "2013-07-31T00:00:00",
          "2013-08-31T00:00:00",
          "2013-09-30T00:00:00",
          "2013-10-31T00:00:00",
          "2013-11-30T00:00:00",
          "2013-12-31T00:00:00",
          "2014-01-31T00:00:00",
          "2014-02-28T00:00:00",
          "2014-03-31T00:00:00",
          "2014-04-30T00:00:00",
          "2014-05-31T00:00:00",
          "2014-06-30T00:00:00",
          "2014-07-31T00:00:00",
          "2014-08-31T00:00:00",
          "2014-09-30T00:00:00",
          "2014-10-31T00:00:00",
          "2014-11-30T00:00:00",
          "2014-12-31T00:00:00",
          "2015-01-31T00:00:00",
          "2015-02-28T00:00:00",
          "2015-03-31T00:00:00",
          "2015-04-30T00:00:00",
          "2015-05-31T00:00:00",
          "2015-06-30T00:00:00",
          "2015-07-31T00:00:00",
          "2015-08-31T00:00:00",
          "2015-09-30T00:00:00",
          "2015-10-31T00:00:00",
          "2015-11-30T00:00:00",
          "2015-12-31T00:00:00",
          "2016-01-31T00:00:00",
          "2016-02-29T00:00:00",
          "2016-03-31T00:00:00",
          "2016-04-30T00:00:00",
          "2016-05-31T00:00:00",
          "2016-06-30T00:00:00",
          "2016-07-31T00:00:00",
          "2016-08-31T00:00:00",
          "2016-09-30T00:00:00",
          "2016-10-31T00:00:00",
          "2016-11-30T00:00:00",
          "2016-12-31T00:00:00",
          "2017-01-31T00:00:00",
          "2017-02-28T00:00:00",
          "2017-03-31T00:00:00",
          "2017-04-30T00:00:00",
          "2017-05-31T00:00:00",
          "2017-06-30T00:00:00",
          "2017-07-31T00:00:00",
          "2017-08-31T00:00:00",
          "2017-09-30T00:00:00",
          "2017-10-31T00:00:00",
          "2017-11-30T00:00:00",
          "2017-12-31T00:00:00",
          "2018-01-31T00:00:00",
          "2018-02-28T00:00:00",
          "2018-03-31T00:00:00",
          "2018-04-30T00:00:00",
          "2018-05-31T00:00:00",
          "2018-06-30T00:00:00",
          "2018-07-31T00:00:00",
          "2018-08-31T00:00:00",
          "2018-09-30T00:00:00",
          "2018-10-31T00:00:00",
          "2018-11-30T00:00:00",
          "2018-12-31T00:00:00",
          "2019-01-31T00:00:00",
          "2019-02-28T00:00:00",
          "2019-03-31T00:00:00",
          "2019-04-30T00:00:00",
          "2019-05-31T00:00:00",
          "2019-06-30T00:00:00",
          "2019-07-31T00:00:00",
          "2019-08-31T00:00:00",
          "2019-09-30T00:00:00",
          "2019-10-31T00:00:00",
          "2019-11-30T00:00:00",
          "2019-12-31T00:00:00",
          "2020-01-31T00:00:00",
          "2020-02-29T00:00:00",
          "2020-03-31T00:00:00",
          "2020-04-30T00:00:00",
          "2020-05-31T00:00:00",
          "2020-06-30T00:00:00",
          "2020-07-31T00:00:00",
          "2020-08-31T00:00:00",
          "2020-09-30T00:00:00",
          "2020-10-31T00:00:00",
          "2020-11-30T00:00:00",
          "2020-12-31T00:00:00",
          "2021-01-31T00:00:00",
          "2021-02-28T00:00:00",
          "2021-03-31T00:00:00",
          "2021-04-30T00:00:00",
          "2021-05-31T00:00:00",
          "2021-06-30T00:00:00",
          "2021-07-31T00:00:00",
          "2021-08-31T00:00:00",
          "2021-09-30T00:00:00",
          "2021-10-31T00:00:00",
          "2021-11-30T00:00:00"
         ],
         "xaxis": "x",
         "y": [
          null,
          null,
          null,
          null,
          null,
          null,
          null,
          null,
          null,
          null,
          null,
          null,
          null,
          null,
          null,
          null,
          null,
          0.03377807802736024,
          0.011350737797956867,
          0.011272686281140797,
          0.02241147467503362,
          0.01784758165268606,
          0,
          0.011542012927054477,
          0.009074410163339382,
          0.02844410732909832,
          0.011090163025396473,
          0.023394549070066675,
          0,
          0.025006251562890724,
          0,
          0.03524022083871726,
          0.023643456673365648,
          0,
          0.04782400765184123,
          0,
          0,
          0.020842017507294707,
          0.008664760419374404,
          0,
          0.11137765592871832,
          0,
          0.020493903063838508,
          0,
          0.020275750202757504,
          0,
          0,
          0.010415581710238516,
          0,
          0.010900370612600827,
          0,
          0,
          0.07352265416781545,
          0.17881471389645776,
          0,
          0.026966292134831458,
          0,
          0.016371971185330715,
          0.0339328130302002,
          0.014730794726375488,
          0.008777319406653208,
          0.009665571235260004,
          0.022403106564110223,
          0.01654533421575116,
          0.023963575365444526,
          0.029390154298310066,
          0,
          0.039824771007566706,
          0.04192872117400419,
          0.03561570652657822,
          0.021410983834707204,
          0.04415400918403391,
          0.028815675727595812,
          0.010716964955524596,
          0,
          0.20360378703043877,
          0.040878896269800714,
          0.25508290194313155,
          0.12017786323759164,
          0.10676916506512919,
          0.2410567929804262,
          0.047888897757203286,
          0.0277289952860708,
          0.02767272391845771,
          0.11349449551696741,
          0.0515729757607014,
          0.009181893306399779,
          0.1295816364309515,
          0.08315316813570597,
          0.4022866821935211,
          0.10540739959945189,
          0.04417936823503424,
          0.5474593260852803,
          0.08466683600033867,
          0.09191944514080388,
          0.014033118158854899,
          0.2578304048892284,
          0.13260087137715476,
          0.08869616635458756,
          0.09150805270863836,
          0.689195197865718,
          0.18652849740932642,
          0.1278772378516624,
          0.3148366784730421,
          0.7745481802282003,
          0.28921401837359645,
          0.28594771241830064,
          0.178359096313912,
          0.21942948334330742,
          0.15025543423820495,
          0.1974821031843989,
          0.2772996748900363,
          0.3395265490898802,
          0.5483895883216189,
          0.3611330549599368,
          0.40756254953017096,
          0.3597122302158274,
          0.25051029875672665,
          0.23705552089831566
         ],
         "yaxis": "y"
        },
        {
         "fillpattern": {
          "shape": "."
         },
         "hovertemplate": "category=HER2<br>date=%{x}<br>id=%{y}<extra></extra>",
         "legendgroup": "HER2",
         "line": {
          "color": "#FECB52"
         },
         "marker": {
          "symbol": "circle"
         },
         "mode": "lines",
         "name": "HER2",
         "orientation": "v",
         "showlegend": true,
         "stackgroup": "1",
         "type": "scatter",
         "x": [
          "2012-01-31T00:00:00",
          "2012-02-29T00:00:00",
          "2012-03-31T00:00:00",
          "2012-04-30T00:00:00",
          "2012-05-31T00:00:00",
          "2012-06-30T00:00:00",
          "2012-07-31T00:00:00",
          "2012-08-31T00:00:00",
          "2012-09-30T00:00:00",
          "2012-10-31T00:00:00",
          "2012-11-30T00:00:00",
          "2012-12-31T00:00:00",
          "2013-01-31T00:00:00",
          "2013-02-28T00:00:00",
          "2013-03-31T00:00:00",
          "2013-04-30T00:00:00",
          "2013-05-31T00:00:00",
          "2013-06-30T00:00:00",
          "2013-07-31T00:00:00",
          "2013-08-31T00:00:00",
          "2013-09-30T00:00:00",
          "2013-10-31T00:00:00",
          "2013-11-30T00:00:00",
          "2013-12-31T00:00:00",
          "2014-01-31T00:00:00",
          "2014-02-28T00:00:00",
          "2014-03-31T00:00:00",
          "2014-04-30T00:00:00",
          "2014-05-31T00:00:00",
          "2014-06-30T00:00:00",
          "2014-07-31T00:00:00",
          "2014-08-31T00:00:00",
          "2014-09-30T00:00:00",
          "2014-10-31T00:00:00",
          "2014-11-30T00:00:00",
          "2014-12-31T00:00:00",
          "2015-01-31T00:00:00",
          "2015-02-28T00:00:00",
          "2015-03-31T00:00:00",
          "2015-04-30T00:00:00",
          "2015-05-31T00:00:00",
          "2015-06-30T00:00:00",
          "2015-07-31T00:00:00",
          "2015-08-31T00:00:00",
          "2015-09-30T00:00:00",
          "2015-10-31T00:00:00",
          "2015-11-30T00:00:00",
          "2015-12-31T00:00:00",
          "2016-01-31T00:00:00",
          "2016-02-29T00:00:00",
          "2016-03-31T00:00:00",
          "2016-04-30T00:00:00",
          "2016-05-31T00:00:00",
          "2016-06-30T00:00:00",
          "2016-07-31T00:00:00",
          "2016-08-31T00:00:00",
          "2016-09-30T00:00:00",
          "2016-10-31T00:00:00",
          "2016-11-30T00:00:00",
          "2016-12-31T00:00:00",
          "2017-01-31T00:00:00",
          "2017-02-28T00:00:00",
          "2017-03-31T00:00:00",
          "2017-04-30T00:00:00",
          "2017-05-31T00:00:00",
          "2017-06-30T00:00:00",
          "2017-07-31T00:00:00",
          "2017-08-31T00:00:00",
          "2017-09-30T00:00:00",
          "2017-10-31T00:00:00",
          "2017-11-30T00:00:00",
          "2017-12-31T00:00:00",
          "2018-01-31T00:00:00",
          "2018-02-28T00:00:00",
          "2018-03-31T00:00:00",
          "2018-04-30T00:00:00",
          "2018-05-31T00:00:00",
          "2018-06-30T00:00:00",
          "2018-07-31T00:00:00",
          "2018-08-31T00:00:00",
          "2018-09-30T00:00:00",
          "2018-10-31T00:00:00",
          "2018-11-30T00:00:00",
          "2018-12-31T00:00:00",
          "2019-01-31T00:00:00",
          "2019-02-28T00:00:00",
          "2019-03-31T00:00:00",
          "2019-04-30T00:00:00",
          "2019-05-31T00:00:00",
          "2019-06-30T00:00:00",
          "2019-07-31T00:00:00",
          "2019-08-31T00:00:00",
          "2019-09-30T00:00:00",
          "2019-10-31T00:00:00",
          "2019-11-30T00:00:00",
          "2019-12-31T00:00:00",
          "2020-01-31T00:00:00",
          "2020-02-29T00:00:00",
          "2020-03-31T00:00:00",
          "2020-04-30T00:00:00",
          "2020-05-31T00:00:00",
          "2020-06-30T00:00:00",
          "2020-07-31T00:00:00",
          "2020-08-31T00:00:00",
          "2020-09-30T00:00:00",
          "2020-10-31T00:00:00",
          "2020-11-30T00:00:00",
          "2020-12-31T00:00:00",
          "2021-01-31T00:00:00",
          "2021-02-28T00:00:00",
          "2021-03-31T00:00:00",
          "2021-04-30T00:00:00",
          "2021-05-31T00:00:00",
          "2021-06-30T00:00:00",
          "2021-07-31T00:00:00",
          "2021-08-31T00:00:00",
          "2021-09-30T00:00:00",
          "2021-10-31T00:00:00",
          "2021-11-30T00:00:00"
         ],
         "xaxis": "x",
         "y": [
          0.04720692368214005,
          0.06379585326953748,
          0.057515337423312884,
          0.059008654602675056,
          0.06096321885795569,
          0.6038003906943704,
          0.0612369871402327,
          0.08805917576611483,
          0.22925263640531865,
          0.2447780678851175,
          0.04033884630899556,
          0.16646848989298454,
          0.5425567989148864,
          0.3333888981496916,
          0.29234423533710946,
          0.1882148544954394,
          0.11808367071524967,
          0.5404492484377639,
          0.11350737797956867,
          0.3381805884342239,
          0.33617212012550424,
          0.3123326789220061,
          0.2178649237472767,
          0.24238227146814403,
          0.09074410163339383,
          0.20859012041338768,
          0.3105245647111013,
          0.2807345888408001,
          0.3667889296432144,
          0.4001000250062516,
          0.40791841631673664,
          0.17620110419358628,
          0.7920557985577491,
          0.4279930595720069,
          0.3347680535628886,
          0.45379537953795385,
          1.1976819059884096,
          0.7294706127553148,
          1.776275885971753,
          1.0619133402863374,
          0.3427004797806717,
          0.4606629934061963,
          0.38938415821293165,
          0.1841620626151013,
          0.24330900243309003,
          0.18711837699428796,
          0.26806887307969895,
          0.40620768669930213,
          0.3563368571089203,
          0.3706126008284282,
          0.7391868944161422,
          0.5474797054936756,
          0.41356492969396197,
          0.510899182561308,
          0.5343022013250694,
          0.4853932584269663,
          0.42839061435108555,
          0.5893909626719057,
          0.46657617916525285,
          0.7365397363187743,
          0.5090845255858861,
          0.45428184805722016,
          0.8662534538122619,
          0.6121773659827929,
          0.6470165348670022,
          1.2564290962527553,
          0.7189612619379762,
          0.8761449621664675,
          0.7442348008385744,
          0.6766984240049863,
          0.620918531206509,
          1.0332038149063936,
          0.9893381999807895,
          1.028828635730361,
          0.9629322841167943,
          0.8856764735824088,
          0.8788962698007154,
          1.8981168879885963,
          1.1657252734046388,
          1.2919068972880632,
          0.8388776395718831,
          1.1174076143347433,
          0.8965708475829559,
          1.7064846416382253,
          1.1803427533764612,
          1.1758638473439917,
          1.2854650628959692,
          1.175490559052203,
          1.2306668884084484,
          1.5456277789540547,
          0.8327184568356698,
          1.104484205875856,
          1.2337111573752795,
          1.4562695792058251,
          0.9108381382134203,
          3.571428571428571,
          1.4419404125286477,
          1.52491002083728,
          0.9362373115206465,
          1.5281844802342606,
          3.0680302356602933,
          1.8860103626943003,
          2.355072463768116,
          1.7807949626131445,
          2.1570750395602563,
          1.7693092888737667,
          1.3276143790849673,
          2.2443519619500596,
          1.8452024735687214,
          1.31223079234699,
          1.6456841932033242,
          1.5203671830177854,
          2.5464491181741016,
          2.8269097088128525,
          2.3586502652070873,
          2.5472659345635686,
          2.7373223372521496,
          2.0133605492670252,
          1.6219588271990018
         ],
         "yaxis": "y"
        }
       ],
       "layout": {
        "legend": {
         "title": {
          "text": "category"
         },
         "tracegroupgap": 0
        },
        "template": {
         "data": {
          "bar": [
           {
            "error_x": {
             "color": "#2a3f5f"
            },
            "error_y": {
             "color": "#2a3f5f"
            },
            "marker": {
             "line": {
              "color": "#E5ECF6",
              "width": 0.5
             },
             "pattern": {
              "fillmode": "overlay",
              "size": 10,
              "solidity": 0.2
             }
            },
            "type": "bar"
           }
          ],
          "barpolar": [
           {
            "marker": {
             "line": {
              "color": "#E5ECF6",
              "width": 0.5
             },
             "pattern": {
              "fillmode": "overlay",
              "size": 10,
              "solidity": 0.2
             }
            },
            "type": "barpolar"
           }
          ],
          "carpet": [
           {
            "aaxis": {
             "endlinecolor": "#2a3f5f",
             "gridcolor": "white",
             "linecolor": "white",
             "minorgridcolor": "white",
             "startlinecolor": "#2a3f5f"
            },
            "baxis": {
             "endlinecolor": "#2a3f5f",
             "gridcolor": "white",
             "linecolor": "white",
             "minorgridcolor": "white",
             "startlinecolor": "#2a3f5f"
            },
            "type": "carpet"
           }
          ],
          "choropleth": [
           {
            "colorbar": {
             "outlinewidth": 0,
             "ticks": ""
            },
            "type": "choropleth"
           }
          ],
          "contour": [
           {
            "colorbar": {
             "outlinewidth": 0,
             "ticks": ""
            },
            "colorscale": [
             [
              0,
              "#0d0887"
             ],
             [
              0.1111111111111111,
              "#46039f"
             ],
             [
              0.2222222222222222,
              "#7201a8"
             ],
             [
              0.3333333333333333,
              "#9c179e"
             ],
             [
              0.4444444444444444,
              "#bd3786"
             ],
             [
              0.5555555555555556,
              "#d8576b"
             ],
             [
              0.6666666666666666,
              "#ed7953"
             ],
             [
              0.7777777777777778,
              "#fb9f3a"
             ],
             [
              0.8888888888888888,
              "#fdca26"
             ],
             [
              1,
              "#f0f921"
             ]
            ],
            "type": "contour"
           }
          ],
          "contourcarpet": [
           {
            "colorbar": {
             "outlinewidth": 0,
             "ticks": ""
            },
            "type": "contourcarpet"
           }
          ],
          "heatmap": [
           {
            "colorbar": {
             "outlinewidth": 0,
             "ticks": ""
            },
            "colorscale": [
             [
              0,
              "#0d0887"
             ],
             [
              0.1111111111111111,
              "#46039f"
             ],
             [
              0.2222222222222222,
              "#7201a8"
             ],
             [
              0.3333333333333333,
              "#9c179e"
             ],
             [
              0.4444444444444444,
              "#bd3786"
             ],
             [
              0.5555555555555556,
              "#d8576b"
             ],
             [
              0.6666666666666666,
              "#ed7953"
             ],
             [
              0.7777777777777778,
              "#fb9f3a"
             ],
             [
              0.8888888888888888,
              "#fdca26"
             ],
             [
              1,
              "#f0f921"
             ]
            ],
            "type": "heatmap"
           }
          ],
          "heatmapgl": [
           {
            "colorbar": {
             "outlinewidth": 0,
             "ticks": ""
            },
            "colorscale": [
             [
              0,
              "#0d0887"
             ],
             [
              0.1111111111111111,
              "#46039f"
             ],
             [
              0.2222222222222222,
              "#7201a8"
             ],
             [
              0.3333333333333333,
              "#9c179e"
             ],
             [
              0.4444444444444444,
              "#bd3786"
             ],
             [
              0.5555555555555556,
              "#d8576b"
             ],
             [
              0.6666666666666666,
              "#ed7953"
             ],
             [
              0.7777777777777778,
              "#fb9f3a"
             ],
             [
              0.8888888888888888,
              "#fdca26"
             ],
             [
              1,
              "#f0f921"
             ]
            ],
            "type": "heatmapgl"
           }
          ],
          "histogram": [
           {
            "marker": {
             "pattern": {
              "fillmode": "overlay",
              "size": 10,
              "solidity": 0.2
             }
            },
            "type": "histogram"
           }
          ],
          "histogram2d": [
           {
            "colorbar": {
             "outlinewidth": 0,
             "ticks": ""
            },
            "colorscale": [
             [
              0,
              "#0d0887"
             ],
             [
              0.1111111111111111,
              "#46039f"
             ],
             [
              0.2222222222222222,
              "#7201a8"
             ],
             [
              0.3333333333333333,
              "#9c179e"
             ],
             [
              0.4444444444444444,
              "#bd3786"
             ],
             [
              0.5555555555555556,
              "#d8576b"
             ],
             [
              0.6666666666666666,
              "#ed7953"
             ],
             [
              0.7777777777777778,
              "#fb9f3a"
             ],
             [
              0.8888888888888888,
              "#fdca26"
             ],
             [
              1,
              "#f0f921"
             ]
            ],
            "type": "histogram2d"
           }
          ],
          "histogram2dcontour": [
           {
            "colorbar": {
             "outlinewidth": 0,
             "ticks": ""
            },
            "colorscale": [
             [
              0,
              "#0d0887"
             ],
             [
              0.1111111111111111,
              "#46039f"
             ],
             [
              0.2222222222222222,
              "#7201a8"
             ],
             [
              0.3333333333333333,
              "#9c179e"
             ],
             [
              0.4444444444444444,
              "#bd3786"
             ],
             [
              0.5555555555555556,
              "#d8576b"
             ],
             [
              0.6666666666666666,
              "#ed7953"
             ],
             [
              0.7777777777777778,
              "#fb9f3a"
             ],
             [
              0.8888888888888888,
              "#fdca26"
             ],
             [
              1,
              "#f0f921"
             ]
            ],
            "type": "histogram2dcontour"
           }
          ],
          "mesh3d": [
           {
            "colorbar": {
             "outlinewidth": 0,
             "ticks": ""
            },
            "type": "mesh3d"
           }
          ],
          "parcoords": [
           {
            "line": {
             "colorbar": {
              "outlinewidth": 0,
              "ticks": ""
             }
            },
            "type": "parcoords"
           }
          ],
          "pie": [
           {
            "automargin": true,
            "type": "pie"
           }
          ],
          "scatter": [
           {
            "fillpattern": {
             "fillmode": "overlay",
             "size": 10,
             "solidity": 0.2
            },
            "type": "scatter"
           }
          ],
          "scatter3d": [
           {
            "line": {
             "colorbar": {
              "outlinewidth": 0,
              "ticks": ""
             }
            },
            "marker": {
             "colorbar": {
              "outlinewidth": 0,
              "ticks": ""
             }
            },
            "type": "scatter3d"
           }
          ],
          "scattercarpet": [
           {
            "marker": {
             "colorbar": {
              "outlinewidth": 0,
              "ticks": ""
             }
            },
            "type": "scattercarpet"
           }
          ],
          "scattergeo": [
           {
            "marker": {
             "colorbar": {
              "outlinewidth": 0,
              "ticks": ""
             }
            },
            "type": "scattergeo"
           }
          ],
          "scattergl": [
           {
            "marker": {
             "colorbar": {
              "outlinewidth": 0,
              "ticks": ""
             }
            },
            "type": "scattergl"
           }
          ],
          "scattermapbox": [
           {
            "marker": {
             "colorbar": {
              "outlinewidth": 0,
              "ticks": ""
             }
            },
            "type": "scattermapbox"
           }
          ],
          "scatterpolar": [
           {
            "marker": {
             "colorbar": {
              "outlinewidth": 0,
              "ticks": ""
             }
            },
            "type": "scatterpolar"
           }
          ],
          "scatterpolargl": [
           {
            "marker": {
             "colorbar": {
              "outlinewidth": 0,
              "ticks": ""
             }
            },
            "type": "scatterpolargl"
           }
          ],
          "scatterternary": [
           {
            "marker": {
             "colorbar": {
              "outlinewidth": 0,
              "ticks": ""
             }
            },
            "type": "scatterternary"
           }
          ],
          "surface": [
           {
            "colorbar": {
             "outlinewidth": 0,
             "ticks": ""
            },
            "colorscale": [
             [
              0,
              "#0d0887"
             ],
             [
              0.1111111111111111,
              "#46039f"
             ],
             [
              0.2222222222222222,
              "#7201a8"
             ],
             [
              0.3333333333333333,
              "#9c179e"
             ],
             [
              0.4444444444444444,
              "#bd3786"
             ],
             [
              0.5555555555555556,
              "#d8576b"
             ],
             [
              0.6666666666666666,
              "#ed7953"
             ],
             [
              0.7777777777777778,
              "#fb9f3a"
             ],
             [
              0.8888888888888888,
              "#fdca26"
             ],
             [
              1,
              "#f0f921"
             ]
            ],
            "type": "surface"
           }
          ],
          "table": [
           {
            "cells": {
             "fill": {
              "color": "#EBF0F8"
             },
             "line": {
              "color": "white"
             }
            },
            "header": {
             "fill": {
              "color": "#C8D4E3"
             },
             "line": {
              "color": "white"
             }
            },
            "type": "table"
           }
          ]
         },
         "layout": {
          "annotationdefaults": {
           "arrowcolor": "#2a3f5f",
           "arrowhead": 0,
           "arrowwidth": 1
          },
          "autotypenumbers": "strict",
          "coloraxis": {
           "colorbar": {
            "outlinewidth": 0,
            "ticks": ""
           }
          },
          "colorscale": {
           "diverging": [
            [
             0,
             "#8e0152"
            ],
            [
             0.1,
             "#c51b7d"
            ],
            [
             0.2,
             "#de77ae"
            ],
            [
             0.3,
             "#f1b6da"
            ],
            [
             0.4,
             "#fde0ef"
            ],
            [
             0.5,
             "#f7f7f7"
            ],
            [
             0.6,
             "#e6f5d0"
            ],
            [
             0.7,
             "#b8e186"
            ],
            [
             0.8,
             "#7fbc41"
            ],
            [
             0.9,
             "#4d9221"
            ],
            [
             1,
             "#276419"
            ]
           ],
           "sequential": [
            [
             0,
             "#0d0887"
            ],
            [
             0.1111111111111111,
             "#46039f"
            ],
            [
             0.2222222222222222,
             "#7201a8"
            ],
            [
             0.3333333333333333,
             "#9c179e"
            ],
            [
             0.4444444444444444,
             "#bd3786"
            ],
            [
             0.5555555555555556,
             "#d8576b"
            ],
            [
             0.6666666666666666,
             "#ed7953"
            ],
            [
             0.7777777777777778,
             "#fb9f3a"
            ],
            [
             0.8888888888888888,
             "#fdca26"
            ],
            [
             1,
             "#f0f921"
            ]
           ],
           "sequentialminus": [
            [
             0,
             "#0d0887"
            ],
            [
             0.1111111111111111,
             "#46039f"
            ],
            [
             0.2222222222222222,
             "#7201a8"
            ],
            [
             0.3333333333333333,
             "#9c179e"
            ],
            [
             0.4444444444444444,
             "#bd3786"
            ],
            [
             0.5555555555555556,
             "#d8576b"
            ],
            [
             0.6666666666666666,
             "#ed7953"
            ],
            [
             0.7777777777777778,
             "#fb9f3a"
            ],
            [
             0.8888888888888888,
             "#fdca26"
            ],
            [
             1,
             "#f0f921"
            ]
           ]
          },
          "colorway": [
           "#636efa",
           "#EF553B",
           "#00cc96",
           "#ab63fa",
           "#FFA15A",
           "#19d3f3",
           "#FF6692",
           "#B6E880",
           "#FF97FF",
           "#FECB52"
          ],
          "font": {
           "color": "#2a3f5f"
          },
          "geo": {
           "bgcolor": "white",
           "lakecolor": "white",
           "landcolor": "#E5ECF6",
           "showlakes": true,
           "showland": true,
           "subunitcolor": "white"
          },
          "hoverlabel": {
           "align": "left"
          },
          "hovermode": "closest",
          "mapbox": {
           "style": "light"
          },
          "paper_bgcolor": "white",
          "plot_bgcolor": "#E5ECF6",
          "polar": {
           "angularaxis": {
            "gridcolor": "white",
            "linecolor": "white",
            "ticks": ""
           },
           "bgcolor": "#E5ECF6",
           "radialaxis": {
            "gridcolor": "white",
            "linecolor": "white",
            "ticks": ""
           }
          },
          "scene": {
           "xaxis": {
            "backgroundcolor": "#E5ECF6",
            "gridcolor": "white",
            "gridwidth": 2,
            "linecolor": "white",
            "showbackground": true,
            "ticks": "",
            "zerolinecolor": "white"
           },
           "yaxis": {
            "backgroundcolor": "#E5ECF6",
            "gridcolor": "white",
            "gridwidth": 2,
            "linecolor": "white",
            "showbackground": true,
            "ticks": "",
            "zerolinecolor": "white"
           },
           "zaxis": {
            "backgroundcolor": "#E5ECF6",
            "gridcolor": "white",
            "gridwidth": 2,
            "linecolor": "white",
            "showbackground": true,
            "ticks": "",
            "zerolinecolor": "white"
           }
          },
          "shapedefaults": {
           "line": {
            "color": "#2a3f5f"
           }
          },
          "ternary": {
           "aaxis": {
            "gridcolor": "white",
            "linecolor": "white",
            "ticks": ""
           },
           "baxis": {
            "gridcolor": "white",
            "linecolor": "white",
            "ticks": ""
           },
           "bgcolor": "#E5ECF6",
           "caxis": {
            "gridcolor": "white",
            "linecolor": "white",
            "ticks": ""
           }
          },
          "title": {
           "x": 0.05
          },
          "xaxis": {
           "automargin": true,
           "gridcolor": "white",
           "linecolor": "white",
           "ticks": "",
           "title": {
            "standoff": 15
           },
           "zerolinecolor": "white",
           "zerolinewidth": 2
          },
          "yaxis": {
           "automargin": true,
           "gridcolor": "white",
           "linecolor": "white",
           "ticks": "",
           "title": {
            "standoff": 15
           },
           "zerolinecolor": "white",
           "zerolinewidth": 2
          }
         }
        },
        "title": {
         "text": "Proportion de tweets contenant chacun des biomarqueurs par mois"
        },
        "xaxis": {
         "anchor": "y",
         "domain": [
          0,
          1
         ],
         "title": {
          "text": "date"
         }
        },
        "yaxis": {
         "anchor": "x",
         "domain": [
          0,
          1
         ],
         "title": {
          "text": "id"
         }
        }
       }
      },
      "text/html": [
       "<div>                            <div id=\"8fa0fb81-7d9e-42fc-98cb-61e81b7fb648\" class=\"plotly-graph-div\" style=\"height:525px; width:100%;\"></div>            <script type=\"text/javascript\">                require([\"plotly\"], function(Plotly) {                    window.PLOTLYENV=window.PLOTLYENV || {};                                    if (document.getElementById(\"8fa0fb81-7d9e-42fc-98cb-61e81b7fb648\")) {                    Plotly.newPlot(                        \"8fa0fb81-7d9e-42fc-98cb-61e81b7fb648\",                        [{\"fillpattern\":{\"shape\":\".\"},\"hovertemplate\":\"category=ROS1<br>date=%{x}<br>id=%{y}<extra></extra>\",\"legendgroup\":\"ROS1\",\"line\":{\"color\":\"#636efa\"},\"marker\":{\"symbol\":\"circle\"},\"mode\":\"lines\",\"name\":\"ROS1\",\"orientation\":\"v\",\"showlegend\":true,\"stackgroup\":\"1\",\"x\":[\"2012-01-31T00:00:00\",\"2012-02-29T00:00:00\",\"2012-03-31T00:00:00\",\"2012-04-30T00:00:00\",\"2012-05-31T00:00:00\",\"2012-06-30T00:00:00\",\"2012-07-31T00:00:00\",\"2012-08-31T00:00:00\",\"2012-09-30T00:00:00\",\"2012-10-31T00:00:00\",\"2012-11-30T00:00:00\",\"2012-12-31T00:00:00\",\"2013-01-31T00:00:00\",\"2013-02-28T00:00:00\",\"2013-03-31T00:00:00\",\"2013-04-30T00:00:00\",\"2013-05-31T00:00:00\",\"2013-06-30T00:00:00\",\"2013-07-31T00:00:00\",\"2013-08-31T00:00:00\",\"2013-09-30T00:00:00\",\"2013-10-31T00:00:00\",\"2013-11-30T00:00:00\",\"2013-12-31T00:00:00\",\"2014-01-31T00:00:00\",\"2014-02-28T00:00:00\",\"2014-03-31T00:00:00\",\"2014-04-30T00:00:00\",\"2014-05-31T00:00:00\",\"2014-06-30T00:00:00\",\"2014-07-31T00:00:00\",\"2014-08-31T00:00:00\",\"2014-09-30T00:00:00\",\"2014-10-31T00:00:00\",\"2014-11-30T00:00:00\",\"2014-12-31T00:00:00\",\"2015-01-31T00:00:00\",\"2015-02-28T00:00:00\",\"2015-03-31T00:00:00\",\"2015-04-30T00:00:00\",\"2015-05-31T00:00:00\",\"2015-06-30T00:00:00\",\"2015-07-31T00:00:00\",\"2015-08-31T00:00:00\",\"2015-09-30T00:00:00\",\"2015-10-31T00:00:00\",\"2015-11-30T00:00:00\",\"2015-12-31T00:00:00\",\"2016-01-31T00:00:00\",\"2016-02-29T00:00:00\",\"2016-03-31T00:00:00\",\"2016-04-30T00:00:00\",\"2016-05-31T00:00:00\",\"2016-06-30T00:00:00\",\"2016-07-31T00:00:00\",\"2016-08-31T00:00:00\",\"2016-09-30T00:00:00\",\"2016-10-31T00:00:00\",\"2016-11-30T00:00:00\",\"2016-12-31T00:00:00\",\"2017-01-31T00:00:00\",\"2017-02-28T00:00:00\",\"2017-03-31T00:00:00\",\"2017-04-30T00:00:00\",\"2017-05-31T00:00:00\",\"2017-06-30T00:00:00\",\"2017-07-31T00:00:00\",\"2017-08-31T00:00:00\",\"2017-09-30T00:00:00\",\"2017-10-31T00:00:00\",\"2017-11-30T00:00:00\",\"2017-12-31T00:00:00\",\"2018-01-31T00:00:00\",\"2018-02-28T00:00:00\",\"2018-03-31T00:00:00\",\"2018-04-30T00:00:00\",\"2018-05-31T00:00:00\",\"2018-06-30T00:00:00\",\"2018-07-31T00:00:00\",\"2018-08-31T00:00:00\",\"2018-09-30T00:00:00\",\"2018-10-31T00:00:00\",\"2018-11-30T00:00:00\",\"2018-12-31T00:00:00\",\"2019-01-31T00:00:00\",\"2019-02-28T00:00:00\",\"2019-03-31T00:00:00\",\"2019-04-30T00:00:00\",\"2019-05-31T00:00:00\",\"2019-06-30T00:00:00\",\"2019-07-31T00:00:00\",\"2019-08-31T00:00:00\",\"2019-09-30T00:00:00\",\"2019-10-31T00:00:00\",\"2019-11-30T00:00:00\",\"2019-12-31T00:00:00\",\"2020-01-31T00:00:00\",\"2020-02-29T00:00:00\",\"2020-03-31T00:00:00\",\"2020-04-30T00:00:00\",\"2020-05-31T00:00:00\",\"2020-06-30T00:00:00\",\"2020-07-31T00:00:00\",\"2020-08-31T00:00:00\",\"2020-09-30T00:00:00\",\"2020-10-31T00:00:00\",\"2020-11-30T00:00:00\",\"2020-12-31T00:00:00\",\"2021-01-31T00:00:00\",\"2021-02-28T00:00:00\",\"2021-03-31T00:00:00\",\"2021-04-30T00:00:00\",\"2021-05-31T00:00:00\",\"2021-06-30T00:00:00\",\"2021-07-31T00:00:00\",\"2021-08-31T00:00:00\",\"2021-09-30T00:00:00\",\"2021-10-31T00:00:00\",\"2021-11-30T00:00:00\"],\"xaxis\":\"x\",\"y\":[null,null,null,null,null,null,null,null,null,null,null,null,null,null,null,null,null,0.03377807802736024,0.09080590238365494,0.15781760793597113,0.06723442402510085,0.08031411743708727,0.19607843137254902,0.057710064635272396,0.1724137931034483,0.08533232198729496,0.09981146722856826,0.10527547081530003,0.21118150494609314,0.06668333750104193,0.10797840431913618,0.09397392223657935,0.26007802340702213,0.21978021978021978,0.3586800573888092,0.041254125412541254,0.231809401159047,0.18757815756565235,0.09531236461311844,0.12325779842609272,0.059972583961617545,0.0722608617107759,0.05123475765959627,0.06906077348066297,0.21289537712895376,0.09848335631278313,0.06186204763377668,0.062493490261431105,0.05938947618482005,0.08720296490080662,0.3096593746878434,0.11327166320558807,0.11028398125172319,0.13623978201634876,0.24577901260953194,0.1348314606741573,0.12656995424009346,0.040929927963326784,0.07634882931795045,0.17676953671650586,0.026331958219959622,0.13531799729364005,0.08961242625644089,0.04963600264725347,0.4153686396677051,0.2204261572373255,0.053653825517759414,0.27877339705296694,0.3354297693920335,0.46300418484551686,0.23552082218177925,0.30907806428823736,0.16328882912304293,0.28935805379916407,0.3209774280389315,0.8449557161763208,0.8277976494634645,0.7202340760747242,0.516764811921644,0.49113815929959426,1.0606498891138751,0.5028334264506346,0.49912191514927445,0.48888478922608614,0.8058109181704687,0.5879319236719959,0.22954733265999447,0.6293965198074787,0.864792948611342,0.6422471592914109,0.44271107831769785,0.5964214711729622,0.39324543141337037,0.6688680044026755,0.4011030333416896,0.2455795677799607,0.5252100840336135,0.27467323356696344,0.16753720311422096,0.2287701317715959,0.28160663998814284,0.39378238341968913,0.0959079283887468,0.4427390791027155,0.2498542516865162,0.25518883974140866,0.29616013071895425,0.17092746730083233,0.38898862956313585,0.3305619553240509,0.304451575742615,0.10518263530311722,0.10374422333301896,0.24716150459565922,0.10156867170748222,0.1584965470395109,0.14914897350412354,0.10205975134533309,0.1621958827199002],\"yaxis\":\"y\",\"type\":\"scatter\"},{\"fillpattern\":{\"shape\":\"x\"},\"hovertemplate\":\"category=ALK<br>date=%{x}<br>id=%{y}<extra></extra>\",\"legendgroup\":\"ALK\",\"line\":{\"color\":\"#EF553B\"},\"marker\":{\"symbol\":\"circle\"},\"mode\":\"lines\",\"name\":\"ALK\",\"orientation\":\"v\",\"showlegend\":true,\"stackgroup\":\"1\",\"x\":[\"2012-01-31T00:00:00\",\"2012-02-29T00:00:00\",\"2012-03-31T00:00:00\",\"2012-04-30T00:00:00\",\"2012-05-31T00:00:00\",\"2012-06-30T00:00:00\",\"2012-07-31T00:00:00\",\"2012-08-31T00:00:00\",\"2012-09-30T00:00:00\",\"2012-10-31T00:00:00\",\"2012-11-30T00:00:00\",\"2012-12-31T00:00:00\",\"2013-01-31T00:00:00\",\"2013-02-28T00:00:00\",\"2013-03-31T00:00:00\",\"2013-04-30T00:00:00\",\"2013-05-31T00:00:00\",\"2013-06-30T00:00:00\",\"2013-07-31T00:00:00\",\"2013-08-31T00:00:00\",\"2013-09-30T00:00:00\",\"2013-10-31T00:00:00\",\"2013-11-30T00:00:00\",\"2013-12-31T00:00:00\",\"2014-01-31T00:00:00\",\"2014-02-28T00:00:00\",\"2014-03-31T00:00:00\",\"2014-04-30T00:00:00\",\"2014-05-31T00:00:00\",\"2014-06-30T00:00:00\",\"2014-07-31T00:00:00\",\"2014-08-31T00:00:00\",\"2014-09-30T00:00:00\",\"2014-10-31T00:00:00\",\"2014-11-30T00:00:00\",\"2014-12-31T00:00:00\",\"2015-01-31T00:00:00\",\"2015-02-28T00:00:00\",\"2015-03-31T00:00:00\",\"2015-04-30T00:00:00\",\"2015-05-31T00:00:00\",\"2015-06-30T00:00:00\",\"2015-07-31T00:00:00\",\"2015-08-31T00:00:00\",\"2015-09-30T00:00:00\",\"2015-10-31T00:00:00\",\"2015-11-30T00:00:00\",\"2015-12-31T00:00:00\",\"2016-01-31T00:00:00\",\"2016-02-29T00:00:00\",\"2016-03-31T00:00:00\",\"2016-04-30T00:00:00\",\"2016-05-31T00:00:00\",\"2016-06-30T00:00:00\",\"2016-07-31T00:00:00\",\"2016-08-31T00:00:00\",\"2016-09-30T00:00:00\",\"2016-10-31T00:00:00\",\"2016-11-30T00:00:00\",\"2016-12-31T00:00:00\",\"2017-01-31T00:00:00\",\"2017-02-28T00:00:00\",\"2017-03-31T00:00:00\",\"2017-04-30T00:00:00\",\"2017-05-31T00:00:00\",\"2017-06-30T00:00:00\",\"2017-07-31T00:00:00\",\"2017-08-31T00:00:00\",\"2017-09-30T00:00:00\",\"2017-10-31T00:00:00\",\"2017-11-30T00:00:00\",\"2017-12-31T00:00:00\",\"2018-01-31T00:00:00\",\"2018-02-28T00:00:00\",\"2018-03-31T00:00:00\",\"2018-04-30T00:00:00\",\"2018-05-31T00:00:00\",\"2018-06-30T00:00:00\",\"2018-07-31T00:00:00\",\"2018-08-31T00:00:00\",\"2018-09-30T00:00:00\",\"2018-10-31T00:00:00\",\"2018-11-30T00:00:00\",\"2018-12-31T00:00:00\",\"2019-01-31T00:00:00\",\"2019-02-28T00:00:00\",\"2019-03-31T00:00:00\",\"2019-04-30T00:00:00\",\"2019-05-31T00:00:00\",\"2019-06-30T00:00:00\",\"2019-07-31T00:00:00\",\"2019-08-31T00:00:00\",\"2019-09-30T00:00:00\",\"2019-10-31T00:00:00\",\"2019-11-30T00:00:00\",\"2019-12-31T00:00:00\",\"2020-01-31T00:00:00\",\"2020-02-29T00:00:00\",\"2020-03-31T00:00:00\",\"2020-04-30T00:00:00\",\"2020-05-31T00:00:00\",\"2020-06-30T00:00:00\",\"2020-07-31T00:00:00\",\"2020-08-31T00:00:00\",\"2020-09-30T00:00:00\",\"2020-10-31T00:00:00\",\"2020-11-30T00:00:00\",\"2020-12-31T00:00:00\",\"2021-01-31T00:00:00\",\"2021-02-28T00:00:00\",\"2021-03-31T00:00:00\",\"2021-04-30T00:00:00\",\"2021-05-31T00:00:00\",\"2021-06-30T00:00:00\",\"2021-07-31T00:00:00\",\"2021-08-31T00:00:00\",\"2021-09-30T00:00:00\",\"2021-10-31T00:00:00\",\"2021-11-30T00:00:00\"],\"xaxis\":\"x\",\"y\":[null,null,null,null,null,null,null,null,null,null,null,null,null,null,null,null,null,0.13511231210944097,0.26106696935300794,0.22545372562281593,0.33617212012550424,0.16955202570051758,0.20697167755991283,0.20775623268698062,0.38112522686025413,0.19910875130368824,0.5655983142952201,0.44449643233126684,0.28898521729465376,0.2583979328165375,0.11997600479904018,0.29366850698931046,0.41376049178389884,0.4279930595720069,0.4184600669536107,0.2887788778877888,0.3219575016097875,0.1979991663192997,0.12130664587124167,0.20859012041338768,0.2570253598355038,0.2167825851323277,0.12296341838303104,0.09208103130755065,0.3446877534468775,0.22651171951940122,0.21651716671821836,0.3124674513071555,0.17816842855446016,0.1635055591890124,0.23973629008091102,0.2643005474797055,0.11028398125172319,0.5875340599455041,0.3419534088480444,0.2696629213483146,0.21419530717554278,0.3274394237066143,0.2290464879538514,0.42719304706488914,0.18432370753971736,0.2899671370578001,0.30617578970950643,0.5294506949040371,0.6550043933221503,0.881704628949302,0.364846013520764,0.40820390282755875,0.5765199161425576,0.6588905707416971,0.727973450380045,0.49452490286117984,0.38420900970127747,0.5358482477762297,0.3416856492027335,0.9467576096915403,3.321410321921308,2.4532973216295297,2.535752914313184,1.9859064702114029,2.5937710924693858,1.21318540984915,1.1646178020149736,1.3744119546167328,1.3051866984451255,1.0211449200618874,0.9549169038655771,1.2402813772676786,1.2971894229170131,1.0798221469405038,0.7273110572362179,1.402694941462337,1.4650319993831444,0.9652019304038608,1.1364585944681207,0.5192253718776312,0.7734912146676853,1.0039780261413147,0.6405834236720213,0.5307467057101025,1.0893730546909737,0.7564766839378239,0.49019607843137253,1.3872491145218417,1.1243441325893229,0.5103776794828173,0.9293300653594772,0.46076099881093935,1.1769399561141032,0.7212260843433838,0.8063852546696288,0.38248231019315354,0.2640762048476846,0.5870085734146907,0.7786931497573637,0.4641684591871391,0.701877522372346,0.29690109482278715,0.7361197754210854],\"yaxis\":\"y\",\"type\":\"scatter\"},{\"fillpattern\":{\"shape\":\"+\"},\"hovertemplate\":\"category=EXON<br>date=%{x}<br>id=%{y}<extra></extra>\",\"legendgroup\":\"EXON\",\"line\":{\"color\":\"#00cc96\"},\"marker\":{\"symbol\":\"circle\"},\"mode\":\"lines\",\"name\":\"EXON\",\"orientation\":\"v\",\"showlegend\":true,\"stackgroup\":\"1\",\"x\":[\"2012-01-31T00:00:00\",\"2012-02-29T00:00:00\",\"2012-03-31T00:00:00\",\"2012-04-30T00:00:00\",\"2012-05-31T00:00:00\",\"2012-06-30T00:00:00\",\"2012-07-31T00:00:00\",\"2012-08-31T00:00:00\",\"2012-09-30T00:00:00\",\"2012-10-31T00:00:00\",\"2012-11-30T00:00:00\",\"2012-12-31T00:00:00\",\"2013-01-31T00:00:00\",\"2013-02-28T00:00:00\",\"2013-03-31T00:00:00\",\"2013-04-30T00:00:00\",\"2013-05-31T00:00:00\",\"2013-06-30T00:00:00\",\"2013-07-31T00:00:00\",\"2013-08-31T00:00:00\",\"2013-09-30T00:00:00\",\"2013-10-31T00:00:00\",\"2013-11-30T00:00:00\",\"2013-12-31T00:00:00\",\"2014-01-31T00:00:00\",\"2014-02-28T00:00:00\",\"2014-03-31T00:00:00\",\"2014-04-30T00:00:00\",\"2014-05-31T00:00:00\",\"2014-06-30T00:00:00\",\"2014-07-31T00:00:00\",\"2014-08-31T00:00:00\",\"2014-09-30T00:00:00\",\"2014-10-31T00:00:00\",\"2014-11-30T00:00:00\",\"2014-12-31T00:00:00\",\"2015-01-31T00:00:00\",\"2015-02-28T00:00:00\",\"2015-03-31T00:00:00\",\"2015-04-30T00:00:00\",\"2015-05-31T00:00:00\",\"2015-06-30T00:00:00\",\"2015-07-31T00:00:00\",\"2015-08-31T00:00:00\",\"2015-09-30T00:00:00\",\"2015-10-31T00:00:00\",\"2015-11-30T00:00:00\",\"2015-12-31T00:00:00\",\"2016-01-31T00:00:00\",\"2016-02-29T00:00:00\",\"2016-03-31T00:00:00\",\"2016-04-30T00:00:00\",\"2016-05-31T00:00:00\",\"2016-06-30T00:00:00\",\"2016-07-31T00:00:00\",\"2016-08-31T00:00:00\",\"2016-09-30T00:00:00\",\"2016-10-31T00:00:00\",\"2016-11-30T00:00:00\",\"2016-12-31T00:00:00\",\"2017-01-31T00:00:00\",\"2017-02-28T00:00:00\",\"2017-03-31T00:00:00\",\"2017-04-30T00:00:00\",\"2017-05-31T00:00:00\",\"2017-06-30T00:00:00\",\"2017-07-31T00:00:00\",\"2017-08-31T00:00:00\",\"2017-09-30T00:00:00\",\"2017-10-31T00:00:00\",\"2017-11-30T00:00:00\",\"2017-12-31T00:00:00\",\"2018-01-31T00:00:00\",\"2018-02-28T00:00:00\",\"2018-03-31T00:00:00\",\"2018-04-30T00:00:00\",\"2018-05-31T00:00:00\",\"2018-06-30T00:00:00\",\"2018-07-31T00:00:00\",\"2018-08-31T00:00:00\",\"2018-09-30T00:00:00\",\"2018-10-31T00:00:00\",\"2018-11-30T00:00:00\",\"2018-12-31T00:00:00\",\"2019-01-31T00:00:00\",\"2019-02-28T00:00:00\",\"2019-03-31T00:00:00\",\"2019-04-30T00:00:00\",\"2019-05-31T00:00:00\",\"2019-06-30T00:00:00\",\"2019-07-31T00:00:00\",\"2019-08-31T00:00:00\",\"2019-09-30T00:00:00\",\"2019-10-31T00:00:00\",\"2019-11-30T00:00:00\",\"2019-12-31T00:00:00\",\"2020-01-31T00:00:00\",\"2020-02-29T00:00:00\",\"2020-03-31T00:00:00\",\"2020-04-30T00:00:00\",\"2020-05-31T00:00:00\",\"2020-06-30T00:00:00\",\"2020-07-31T00:00:00\",\"2020-08-31T00:00:00\",\"2020-09-30T00:00:00\",\"2020-10-31T00:00:00\",\"2020-11-30T00:00:00\",\"2020-12-31T00:00:00\",\"2021-01-31T00:00:00\",\"2021-02-28T00:00:00\",\"2021-03-31T00:00:00\",\"2021-04-30T00:00:00\",\"2021-05-31T00:00:00\",\"2021-06-30T00:00:00\",\"2021-07-31T00:00:00\",\"2021-08-31T00:00:00\",\"2021-09-30T00:00:00\",\"2021-10-31T00:00:00\",\"2021-11-30T00:00:00\"],\"xaxis\":\"x\",\"y\":[null,null,0.03834355828220859,0.0,0.0,0.0,0.0,0.0,0.0,0.0,0.0,0.0,0.0,0.0,0.0,0.0,0.0,0.0,0.056753688989784334,0.0,0.01120573733751681,0.00892379082634303,0.010893246187363833,0.0,0.0,0.00948136910969944,0.0,0.0,0.11114816049794375,0.05001250312578145,0.0,0.01174674027957242,0.035465185010048465,0.04626951995373048,0.0,0.0,0.025756600128783003,0.010421008753647354,0.008664760419374404,0.0,0.017135023989033587,0.09935868485231687,0.0,0.0,0.020275750202757504,0.019696671262556628,0.041241365089184454,0.0,0.023755790473928017,0.010900370612600827,0.0,0.009439305267132339,0.018380663541953862,0.05108991825613079,0.010686044026501388,0.026966292134831458,0.01947230065232207,0.016371971185330715,0.00848320325755005,0.029461589452750975,0.0,0.019331142470520007,0.044806213128220446,0.0413633355393779,0.023963575365444526,0.16164584864070536,0.042923060414207535,0.009956192751891677,0.010482180293501047,0.07123141305315644,0.04282196766941441,0.04415400918403391,0.009605225242531937,0.010716964955524596,0.02070822116380203,0.13234246156978519,0.12263668880940215,0.11253657438667568,0.012017786323759164,0.06406149903907751,0.35676405361103075,0.18357410806927926,0.1109159811442832,0.02767272391845771,0.0794461468618772,0.07220216606498195,0.0918189330639978,0.11106997408367272,0.14967570264427074,0.47286329310466513,0.06324443975967113,0.03313452617627568,0.17734597887269643,0.16086698840064348,0.0501378791677112,0.028066236317709797,0.219633307868602,0.36938814169350254,0.17739233270917512,0.4758418740849195,0.755891507336594,0.27979274611398963,0.14919011082693948,0.19677292404565133,0.35812442741733985,0.11058183055461042,0.26552287581699346,0.267538644470868,0.6383403151805306,0.5709706501051788,0.4443347321648976,0.3155479059093517,0.669621805149486,0.49432300919131844,0.32727683105744276,0.35095663987320275,0.728197929461309,0.3989608461681202,0.37429819089207733],\"yaxis\":\"y\",\"type\":\"scatter\"},{\"fillpattern\":{\"shape\":\".\"},\"hovertemplate\":\"category=EGFR<br>date=%{x}<br>id=%{y}<extra></extra>\",\"legendgroup\":\"EGFR\",\"line\":{\"color\":\"#ab63fa\"},\"marker\":{\"symbol\":\"circle\"},\"mode\":\"lines\",\"name\":\"EGFR\",\"orientation\":\"v\",\"showlegend\":true,\"stackgroup\":\"1\",\"x\":[\"2012-01-31T00:00:00\",\"2012-02-29T00:00:00\",\"2012-03-31T00:00:00\",\"2012-04-30T00:00:00\",\"2012-05-31T00:00:00\",\"2012-06-30T00:00:00\",\"2012-07-31T00:00:00\",\"2012-08-31T00:00:00\",\"2012-09-30T00:00:00\",\"2012-10-31T00:00:00\",\"2012-11-30T00:00:00\",\"2012-12-31T00:00:00\",\"2013-01-31T00:00:00\",\"2013-02-28T00:00:00\",\"2013-03-31T00:00:00\",\"2013-04-30T00:00:00\",\"2013-05-31T00:00:00\",\"2013-06-30T00:00:00\",\"2013-07-31T00:00:00\",\"2013-08-31T00:00:00\",\"2013-09-30T00:00:00\",\"2013-10-31T00:00:00\",\"2013-11-30T00:00:00\",\"2013-12-31T00:00:00\",\"2014-01-31T00:00:00\",\"2014-02-28T00:00:00\",\"2014-03-31T00:00:00\",\"2014-04-30T00:00:00\",\"2014-05-31T00:00:00\",\"2014-06-30T00:00:00\",\"2014-07-31T00:00:00\",\"2014-08-31T00:00:00\",\"2014-09-30T00:00:00\",\"2014-10-31T00:00:00\",\"2014-11-30T00:00:00\",\"2014-12-31T00:00:00\",\"2015-01-31T00:00:00\",\"2015-02-28T00:00:00\",\"2015-03-31T00:00:00\",\"2015-04-30T00:00:00\",\"2015-05-31T00:00:00\",\"2015-06-30T00:00:00\",\"2015-07-31T00:00:00\",\"2015-08-31T00:00:00\",\"2015-09-30T00:00:00\",\"2015-10-31T00:00:00\",\"2015-11-30T00:00:00\",\"2015-12-31T00:00:00\",\"2016-01-31T00:00:00\",\"2016-02-29T00:00:00\",\"2016-03-31T00:00:00\",\"2016-04-30T00:00:00\",\"2016-05-31T00:00:00\",\"2016-06-30T00:00:00\",\"2016-07-31T00:00:00\",\"2016-08-31T00:00:00\",\"2016-09-30T00:00:00\",\"2016-10-31T00:00:00\",\"2016-11-30T00:00:00\",\"2016-12-31T00:00:00\",\"2017-01-31T00:00:00\",\"2017-02-28T00:00:00\",\"2017-03-31T00:00:00\",\"2017-04-30T00:00:00\",\"2017-05-31T00:00:00\",\"2017-06-30T00:00:00\",\"2017-07-31T00:00:00\",\"2017-08-31T00:00:00\",\"2017-09-30T00:00:00\",\"2017-10-31T00:00:00\",\"2017-11-30T00:00:00\",\"2017-12-31T00:00:00\",\"2018-01-31T00:00:00\",\"2018-02-28T00:00:00\",\"2018-03-31T00:00:00\",\"2018-04-30T00:00:00\",\"2018-05-31T00:00:00\",\"2018-06-30T00:00:00\",\"2018-07-31T00:00:00\",\"2018-08-31T00:00:00\",\"2018-09-30T00:00:00\",\"2018-10-31T00:00:00\",\"2018-11-30T00:00:00\",\"2018-12-31T00:00:00\",\"2019-01-31T00:00:00\",\"2019-02-28T00:00:00\",\"2019-03-31T00:00:00\",\"2019-04-30T00:00:00\",\"2019-05-31T00:00:00\",\"2019-06-30T00:00:00\",\"2019-07-31T00:00:00\",\"2019-08-31T00:00:00\",\"2019-09-30T00:00:00\",\"2019-10-31T00:00:00\",\"2019-11-30T00:00:00\",\"2019-12-31T00:00:00\",\"2020-01-31T00:00:00\",\"2020-02-29T00:00:00\",\"2020-03-31T00:00:00\",\"2020-04-30T00:00:00\",\"2020-05-31T00:00:00\",\"2020-06-30T00:00:00\",\"2020-07-31T00:00:00\",\"2020-08-31T00:00:00\",\"2020-09-30T00:00:00\",\"2020-10-31T00:00:00\",\"2020-11-30T00:00:00\",\"2020-12-31T00:00:00\",\"2021-01-31T00:00:00\",\"2021-02-28T00:00:00\",\"2021-03-31T00:00:00\",\"2021-04-30T00:00:00\",\"2021-05-31T00:00:00\",\"2021-06-30T00:00:00\",\"2021-07-31T00:00:00\",\"2021-08-31T00:00:00\",\"2021-09-30T00:00:00\",\"2021-10-31T00:00:00\",\"2021-11-30T00:00:00\"],\"xaxis\":\"x\",\"y\":[null,null,null,0.01966955153422502,0.0203210729526519,0.0,0.0,0.0,0.0,0.0,0.0,0.0,0.0169548999660902,0.0,0.0,0.0,0.016869095816464237,0.11822327309576085,0.3745743473325766,0.34945327471536464,0.3025549081129538,0.2587899339639479,0.130718954248366,0.11542012927054479,0.24500907441016334,0.22755285863278657,0.22180326050792948,0.30412913791086676,0.8224963876847837,0.6334917062598983,0.3239352129574085,0.34065546810760017,0.16550419671355954,0.38172353961827643,0.44237207077953133,0.20627062706270624,0.25756600128783,0.4376823676531888,0.1819599688068625,0.36029202616857875,0.6082933516106922,0.3522717008400325,0.4713597704682857,0.23020257826887663,0.45620437956204374,0.2068150482568446,0.48458603979791737,0.3332986147276325,0.10690105713267609,0.1635055591890124,0.1997802417340925,0.585236926562205,0.3951842661520081,0.7833787465940054,0.4060696730070528,0.3056179775280899,0.28234835945867004,0.45841519318926005,0.2290464879538514,0.6260587758709583,0.28087422101290266,0.4832785617630002,0.4555298334702412,0.3639973527465255,0.6230529595015576,1.0286554004408524,0.4721536645562829,0.48785344484269216,0.8490566037735849,0.8992965897961,0.9741997644791778,0.6446485340868952,1.1430218038613005,0.7180366520201479,0.7662041830606751,1.5270284027282908,0.8175779253960144,1.9356290794508215,0.9974762648720106,1.185137732222934,2.77697425513451,1.6202410407853778,1.1276458083002125,1.199151369799834,1.4867778912722733,1.227436823104693,1.9373794876503536,2.8137726767863755,2.120405787460502,2.4490083986166984,1.5811109939917782,1.402694941462337,2.282365641144267,1.5324697316061298,1.9720899139299741,0.8700533258490036,1.3941940412528648,1.2597082780829703,0.8179757563811964,1.5190336749633968,2.6752630798873573,2.1658031088082903,1.2468030690537084,1.6627312081857537,2.290330640459732,1.5821708063967335,1.7769607843137254,1.1964922711058263,3.7303012168362257,1.783031152960032,1.6374557722373075,1.7594186268885066,2.008865415448458,2.417548466826292,1.1623970206522967,1.3019359221102682,2.4653447973328655,1.1876043792911486,2.1210230817217717],\"yaxis\":\"y\",\"type\":\"scatter\"},{\"fillpattern\":{\"shape\":\"x\"},\"hovertemplate\":\"category=KRAS<br>date=%{x}<br>id=%{y}<extra></extra>\",\"legendgroup\":\"KRAS\",\"line\":{\"color\":\"#FFA15A\"},\"marker\":{\"symbol\":\"circle\"},\"mode\":\"lines\",\"name\":\"KRAS\",\"orientation\":\"v\",\"showlegend\":true,\"stackgroup\":\"1\",\"x\":[\"2012-01-31T00:00:00\",\"2012-02-29T00:00:00\",\"2012-03-31T00:00:00\",\"2012-04-30T00:00:00\",\"2012-05-31T00:00:00\",\"2012-06-30T00:00:00\",\"2012-07-31T00:00:00\",\"2012-08-31T00:00:00\",\"2012-09-30T00:00:00\",\"2012-10-31T00:00:00\",\"2012-11-30T00:00:00\",\"2012-12-31T00:00:00\",\"2013-01-31T00:00:00\",\"2013-02-28T00:00:00\",\"2013-03-31T00:00:00\",\"2013-04-30T00:00:00\",\"2013-05-31T00:00:00\",\"2013-06-30T00:00:00\",\"2013-07-31T00:00:00\",\"2013-08-31T00:00:00\",\"2013-09-30T00:00:00\",\"2013-10-31T00:00:00\",\"2013-11-30T00:00:00\",\"2013-12-31T00:00:00\",\"2014-01-31T00:00:00\",\"2014-02-28T00:00:00\",\"2014-03-31T00:00:00\",\"2014-04-30T00:00:00\",\"2014-05-31T00:00:00\",\"2014-06-30T00:00:00\",\"2014-07-31T00:00:00\",\"2014-08-31T00:00:00\",\"2014-09-30T00:00:00\",\"2014-10-31T00:00:00\",\"2014-11-30T00:00:00\",\"2014-12-31T00:00:00\",\"2015-01-31T00:00:00\",\"2015-02-28T00:00:00\",\"2015-03-31T00:00:00\",\"2015-04-30T00:00:00\",\"2015-05-31T00:00:00\",\"2015-06-30T00:00:00\",\"2015-07-31T00:00:00\",\"2015-08-31T00:00:00\",\"2015-09-30T00:00:00\",\"2015-10-31T00:00:00\",\"2015-11-30T00:00:00\",\"2015-12-31T00:00:00\",\"2016-01-31T00:00:00\",\"2016-02-29T00:00:00\",\"2016-03-31T00:00:00\",\"2016-04-30T00:00:00\",\"2016-05-31T00:00:00\",\"2016-06-30T00:00:00\",\"2016-07-31T00:00:00\",\"2016-08-31T00:00:00\",\"2016-09-30T00:00:00\",\"2016-10-31T00:00:00\",\"2016-11-30T00:00:00\",\"2016-12-31T00:00:00\",\"2017-01-31T00:00:00\",\"2017-02-28T00:00:00\",\"2017-03-31T00:00:00\",\"2017-04-30T00:00:00\",\"2017-05-31T00:00:00\",\"2017-06-30T00:00:00\",\"2017-07-31T00:00:00\",\"2017-08-31T00:00:00\",\"2017-09-30T00:00:00\",\"2017-10-31T00:00:00\",\"2017-11-30T00:00:00\",\"2017-12-31T00:00:00\",\"2018-01-31T00:00:00\",\"2018-02-28T00:00:00\",\"2018-03-31T00:00:00\",\"2018-04-30T00:00:00\",\"2018-05-31T00:00:00\",\"2018-06-30T00:00:00\",\"2018-07-31T00:00:00\",\"2018-08-31T00:00:00\",\"2018-09-30T00:00:00\",\"2018-10-31T00:00:00\",\"2018-11-30T00:00:00\",\"2018-12-31T00:00:00\",\"2019-01-31T00:00:00\",\"2019-02-28T00:00:00\",\"2019-03-31T00:00:00\",\"2019-04-30T00:00:00\",\"2019-05-31T00:00:00\",\"2019-06-30T00:00:00\",\"2019-07-31T00:00:00\",\"2019-08-31T00:00:00\",\"2019-09-30T00:00:00\",\"2019-10-31T00:00:00\",\"2019-11-30T00:00:00\",\"2019-12-31T00:00:00\",\"2020-01-31T00:00:00\",\"2020-02-29T00:00:00\",\"2020-03-31T00:00:00\",\"2020-04-30T00:00:00\",\"2020-05-31T00:00:00\",\"2020-06-30T00:00:00\",\"2020-07-31T00:00:00\",\"2020-08-31T00:00:00\",\"2020-09-30T00:00:00\",\"2020-10-31T00:00:00\",\"2020-11-30T00:00:00\",\"2020-12-31T00:00:00\",\"2021-01-31T00:00:00\",\"2021-02-28T00:00:00\",\"2021-03-31T00:00:00\",\"2021-04-30T00:00:00\",\"2021-05-31T00:00:00\",\"2021-06-30T00:00:00\",\"2021-07-31T00:00:00\",\"2021-08-31T00:00:00\",\"2021-09-30T00:00:00\",\"2021-10-31T00:00:00\",\"2021-11-30T00:00:00\"],\"xaxis\":\"x\",\"y\":[null,null,null,null,null,null,null,null,null,null,null,null,null,null,null,null,null,0.01688903901368012,0.170261066969353,0.11272686281140797,0.14567458538771852,0.062466535784401214,0.065359477124183,0.04616805170821791,0.09074410163339383,0.0948136910969944,0.04436065210158589,0.0935781962802667,0.15560742469712124,0.12503125781445362,0.10797840431913618,0.09397392223657935,0.09457382669346259,0.13880855986119145,0.1434720229555237,0.055005500550055,0.09014810045074051,0.06252605252188412,0.034659041677497615,0.0948136910969944,0.04283755997258396,0.04516303856923494,0.1127164668511118,0.10359116022099447,0.11151662611516627,0.0689383494189482,0.09279307145066501,0.010415581710238516,0.05938947618482005,0.1962066710268149,0.079912096693637,0.3303756843496318,0.11947431302270012,0.18732970027247955,0.06411626415900834,0.026966292134831458,0.01947230065232207,0.09004584151931892,0.0169664065151001,0.11048096044781615,0.052663916439919245,0.028996713705780015,0.03733851094018371,0.03309066843150232,0.13579359373751895,0.07347538574577515,0.042923060414207535,0.049780963759458376,0.06289308176100629,0.1958863858961802,0.06423295150412162,0.07947721653126104,0.03842090097012775,0.042867859822098384,0.08283288465520812,0.08144151481217551,0.0510986203372509,0.12754145097156577,0.07210671794255498,0.1174460815716421,0.08678044547295344,0.06385186367627105,0.07394398742952213,0.06456968914306797,0.19294064237884462,0.07220216606498195,0.1377283995959967,0.08330248056275454,0.17462165308498254,0.45874797092243635,0.21081479919890378,0.20985199911641267,0.5166165471508983,0.381000762001524,0.2423330826439375,0.19646365422396855,0.3246753246753247,0.2652017427543095,0.06898590716467921,0.2287701317715959,0.39276715577293614,0.27979274611398963,0.29838022165387895,0.4132231404958678,1.0743732822520196,0.7825791085403199,0.5106209150326797,0.43846611177170036,1.3066028326351486,0.981668837022939,0.5842178885871802,0.8605851979345954,1.131755163632934,1.1740171468293814,0.7561223338223677,0.5207743688441073,0.8597999649061239,0.7144182594173316,0.8359326263256395],\"yaxis\":\"y\",\"type\":\"scatter\"},{\"fillpattern\":{\"shape\":\"+\"},\"hovertemplate\":\"category=NTRK<br>date=%{x}<br>id=%{y}<extra></extra>\",\"legendgroup\":\"NTRK\",\"line\":{\"color\":\"#19d3f3\"},\"marker\":{\"symbol\":\"circle\"},\"mode\":\"lines\",\"name\":\"NTRK\",\"orientation\":\"v\",\"showlegend\":true,\"stackgroup\":\"1\",\"x\":[\"2012-01-31T00:00:00\",\"2012-02-29T00:00:00\",\"2012-03-31T00:00:00\",\"2012-04-30T00:00:00\",\"2012-05-31T00:00:00\",\"2012-06-30T00:00:00\",\"2012-07-31T00:00:00\",\"2012-08-31T00:00:00\",\"2012-09-30T00:00:00\",\"2012-10-31T00:00:00\",\"2012-11-30T00:00:00\",\"2012-12-31T00:00:00\",\"2013-01-31T00:00:00\",\"2013-02-28T00:00:00\",\"2013-03-31T00:00:00\",\"2013-04-30T00:00:00\",\"2013-05-31T00:00:00\",\"2013-06-30T00:00:00\",\"2013-07-31T00:00:00\",\"2013-08-31T00:00:00\",\"2013-09-30T00:00:00\",\"2013-10-31T00:00:00\",\"2013-11-30T00:00:00\",\"2013-12-31T00:00:00\",\"2014-01-31T00:00:00\",\"2014-02-28T00:00:00\",\"2014-03-31T00:00:00\",\"2014-04-30T00:00:00\",\"2014-05-31T00:00:00\",\"2014-06-30T00:00:00\",\"2014-07-31T00:00:00\",\"2014-08-31T00:00:00\",\"2014-09-30T00:00:00\",\"2014-10-31T00:00:00\",\"2014-11-30T00:00:00\",\"2014-12-31T00:00:00\",\"2015-01-31T00:00:00\",\"2015-02-28T00:00:00\",\"2015-03-31T00:00:00\",\"2015-04-30T00:00:00\",\"2015-05-31T00:00:00\",\"2015-06-30T00:00:00\",\"2015-07-31T00:00:00\",\"2015-08-31T00:00:00\",\"2015-09-30T00:00:00\",\"2015-10-31T00:00:00\",\"2015-11-30T00:00:00\",\"2015-12-31T00:00:00\",\"2016-01-31T00:00:00\",\"2016-02-29T00:00:00\",\"2016-03-31T00:00:00\",\"2016-04-30T00:00:00\",\"2016-05-31T00:00:00\",\"2016-06-30T00:00:00\",\"2016-07-31T00:00:00\",\"2016-08-31T00:00:00\",\"2016-09-30T00:00:00\",\"2016-10-31T00:00:00\",\"2016-11-30T00:00:00\",\"2016-12-31T00:00:00\",\"2017-01-31T00:00:00\",\"2017-02-28T00:00:00\",\"2017-03-31T00:00:00\",\"2017-04-30T00:00:00\",\"2017-05-31T00:00:00\",\"2017-06-30T00:00:00\",\"2017-07-31T00:00:00\",\"2017-08-31T00:00:00\",\"2017-09-30T00:00:00\",\"2017-10-31T00:00:00\",\"2017-11-30T00:00:00\",\"2017-12-31T00:00:00\",\"2018-01-31T00:00:00\",\"2018-02-28T00:00:00\",\"2018-03-31T00:00:00\",\"2018-04-30T00:00:00\",\"2018-05-31T00:00:00\",\"2018-06-30T00:00:00\",\"2018-07-31T00:00:00\",\"2018-08-31T00:00:00\",\"2018-09-30T00:00:00\",\"2018-10-31T00:00:00\",\"2018-11-30T00:00:00\",\"2018-12-31T00:00:00\",\"2019-01-31T00:00:00\",\"2019-02-28T00:00:00\",\"2019-03-31T00:00:00\",\"2019-04-30T00:00:00\",\"2019-05-31T00:00:00\",\"2019-06-30T00:00:00\",\"2019-07-31T00:00:00\",\"2019-08-31T00:00:00\",\"2019-09-30T00:00:00\",\"2019-10-31T00:00:00\",\"2019-11-30T00:00:00\",\"2019-12-31T00:00:00\",\"2020-01-31T00:00:00\",\"2020-02-29T00:00:00\",\"2020-03-31T00:00:00\",\"2020-04-30T00:00:00\",\"2020-05-31T00:00:00\",\"2020-06-30T00:00:00\",\"2020-07-31T00:00:00\",\"2020-08-31T00:00:00\",\"2020-09-30T00:00:00\",\"2020-10-31T00:00:00\",\"2020-11-30T00:00:00\",\"2020-12-31T00:00:00\",\"2021-01-31T00:00:00\",\"2021-02-28T00:00:00\",\"2021-03-31T00:00:00\",\"2021-04-30T00:00:00\",\"2021-05-31T00:00:00\",\"2021-06-30T00:00:00\",\"2021-07-31T00:00:00\",\"2021-08-31T00:00:00\",\"2021-09-30T00:00:00\",\"2021-10-31T00:00:00\",\"2021-11-30T00:00:00\"],\"xaxis\":\"x\",\"y\":[null,null,null,null,null,null,null,null,null,null,null,null,0.0169548999660902,0.0,0.0,0.0,0.0,0.0,0.0,0.0,0.01120573733751681,0.03569516330537212,0.010893246187363833,0.0,0.0,0.0,0.0,0.0,0.0,0.05834792031341169,0.0,0.01174674027957242,0.0,0.0,0.011956001912960307,0.0,0.0386349001931745,0.0,0.008664760419374404,0.0,0.0,0.0,0.020493903063838508,0.0,0.0,0.0,0.0,0.0,0.0,0.0,0.0,0.06607513686992637,0.009190331770976931,0.06811989100817438,0.021372088053002777,0.0,0.029208450978483107,0.0,0.0,0.022096192089563232,0.0,0.0,0.01493540437607348,0.0,0.007987858455148175,0.02204261572373255,0.0,0.019912385503783353,0.010482180293501047,0.0,0.04282196766941441,0.008830801836806781,0.019210450485063875,0.021433929911049192,0.031062331745703043,0.01018018935152194,0.0,0.045014629754670264,0.012017786323759164,0.021353833013025837,0.05785363031530228,0.047888897757203286,0.138644976430354,0.04612120653076285,0.20429009193054137,0.07220216606498195,0.10100082637039758,0.2961865975564606,0.10809911857641775,0.14821088291340248,0.12648887951934226,0.2540313673514469,0.16192458940550544,0.13546693760054185,0.13370101111389654,0.09121526803255683,0.21008403361344538,0.08524341731388521,0.019710259189908347,0.08235724743777453,0.11857121683711278,0.22797927461139897,0.18115942028985507,0.26564344746162927,0.07495627550595486,0.10207553589656344,0.1838235294117647,0.111474435196195,0.20945541591861158,0.3005108684764099,0.09051263062618282,0.028686173264486515,0.08488163727247006,0.11585695527921527,0.12413948764247829,0.06792709158836183,0.08773469029654325,0.10205975134533309,0.1621958827199002],\"yaxis\":\"y\",\"type\":\"scatter\"},{\"fillpattern\":{\"shape\":\".\"},\"hovertemplate\":\"category=BRAF<br>date=%{x}<br>id=%{y}<extra></extra>\",\"legendgroup\":\"BRAF\",\"line\":{\"color\":\"#FF6692\"},\"marker\":{\"symbol\":\"circle\"},\"mode\":\"lines\",\"name\":\"BRAF\",\"orientation\":\"v\",\"showlegend\":true,\"stackgroup\":\"1\",\"x\":[\"2012-01-31T00:00:00\",\"2012-02-29T00:00:00\",\"2012-03-31T00:00:00\",\"2012-04-30T00:00:00\",\"2012-05-31T00:00:00\",\"2012-06-30T00:00:00\",\"2012-07-31T00:00:00\",\"2012-08-31T00:00:00\",\"2012-09-30T00:00:00\",\"2012-10-31T00:00:00\",\"2012-11-30T00:00:00\",\"2012-12-31T00:00:00\",\"2013-01-31T00:00:00\",\"2013-02-28T00:00:00\",\"2013-03-31T00:00:00\",\"2013-04-30T00:00:00\",\"2013-05-31T00:00:00\",\"2013-06-30T00:00:00\",\"2013-07-31T00:00:00\",\"2013-08-31T00:00:00\",\"2013-09-30T00:00:00\",\"2013-10-31T00:00:00\",\"2013-11-30T00:00:00\",\"2013-12-31T00:00:00\",\"2014-01-31T00:00:00\",\"2014-02-28T00:00:00\",\"2014-03-31T00:00:00\",\"2014-04-30T00:00:00\",\"2014-05-31T00:00:00\",\"2014-06-30T00:00:00\",\"2014-07-31T00:00:00\",\"2014-08-31T00:00:00\",\"2014-09-30T00:00:00\",\"2014-10-31T00:00:00\",\"2014-11-30T00:00:00\",\"2014-12-31T00:00:00\",\"2015-01-31T00:00:00\",\"2015-02-28T00:00:00\",\"2015-03-31T00:00:00\",\"2015-04-30T00:00:00\",\"2015-05-31T00:00:00\",\"2015-06-30T00:00:00\",\"2015-07-31T00:00:00\",\"2015-08-31T00:00:00\",\"2015-09-30T00:00:00\",\"2015-10-31T00:00:00\",\"2015-11-30T00:00:00\",\"2015-12-31T00:00:00\",\"2016-01-31T00:00:00\",\"2016-02-29T00:00:00\",\"2016-03-31T00:00:00\",\"2016-04-30T00:00:00\",\"2016-05-31T00:00:00\",\"2016-06-30T00:00:00\",\"2016-07-31T00:00:00\",\"2016-08-31T00:00:00\",\"2016-09-30T00:00:00\",\"2016-10-31T00:00:00\",\"2016-11-30T00:00:00\",\"2016-12-31T00:00:00\",\"2017-01-31T00:00:00\",\"2017-02-28T00:00:00\",\"2017-03-31T00:00:00\",\"2017-04-30T00:00:00\",\"2017-05-31T00:00:00\",\"2017-06-30T00:00:00\",\"2017-07-31T00:00:00\",\"2017-08-31T00:00:00\",\"2017-09-30T00:00:00\",\"2017-10-31T00:00:00\",\"2017-11-30T00:00:00\",\"2017-12-31T00:00:00\",\"2018-01-31T00:00:00\",\"2018-02-28T00:00:00\",\"2018-03-31T00:00:00\",\"2018-04-30T00:00:00\",\"2018-05-31T00:00:00\",\"2018-06-30T00:00:00\",\"2018-07-31T00:00:00\",\"2018-08-31T00:00:00\",\"2018-09-30T00:00:00\",\"2018-10-31T00:00:00\",\"2018-11-30T00:00:00\",\"2018-12-31T00:00:00\",\"2019-01-31T00:00:00\",\"2019-02-28T00:00:00\",\"2019-03-31T00:00:00\",\"2019-04-30T00:00:00\",\"2019-05-31T00:00:00\",\"2019-06-30T00:00:00\",\"2019-07-31T00:00:00\",\"2019-08-31T00:00:00\",\"2019-09-30T00:00:00\",\"2019-10-31T00:00:00\",\"2019-11-30T00:00:00\",\"2019-12-31T00:00:00\",\"2020-01-31T00:00:00\",\"2020-02-29T00:00:00\",\"2020-03-31T00:00:00\",\"2020-04-30T00:00:00\",\"2020-05-31T00:00:00\",\"2020-06-30T00:00:00\",\"2020-07-31T00:00:00\",\"2020-08-31T00:00:00\",\"2020-09-30T00:00:00\",\"2020-10-31T00:00:00\",\"2020-11-30T00:00:00\",\"2020-12-31T00:00:00\",\"2021-01-31T00:00:00\",\"2021-02-28T00:00:00\",\"2021-03-31T00:00:00\",\"2021-04-30T00:00:00\",\"2021-05-31T00:00:00\",\"2021-06-30T00:00:00\",\"2021-07-31T00:00:00\",\"2021-08-31T00:00:00\",\"2021-09-30T00:00:00\",\"2021-10-31T00:00:00\",\"2021-11-30T00:00:00\"],\"xaxis\":\"x\",\"y\":[null,null,null,null,null,null,0.10206164523372117,0.0,0.0,0.016318537859007835,0.0,0.0,0.0,0.0,0.0,0.0,0.0,0.05066711704104036,0.0340522133938706,0.07890880396798557,0.033617212012550426,0.03569516330537212,0.021786492374727667,0.057710064635272396,0.11796733212341198,0.05688821465819664,0.19962293445713652,0.1637618434904667,0.40013337779259756,0.16670834375260482,0.19196160767846432,0.10572066251615175,0.09457382669346259,0.09253903990746096,0.13151602104256335,0.08250825082508251,0.09014810045074051,0.08336807002917883,0.07798284377436965,0.05688821465819664,0.26559287183002056,0.09032607713846988,0.12296341838303104,0.09208103130755065,0.11151662611516627,0.1378766988378964,0.17527580162903392,0.1145713988126237,0.03563368571089203,0.032701111837802485,0.16981320547397863,0.23598263167830846,0.06433232239683853,0.127724795640327,0.22440692455652916,0.11685393258426967,0.14604225489241554,0.09823182711198428,0.12724804886325075,0.08838476835825293,0.19310102694637057,0.20297699594046006,0.06720931969233067,0.0827266710787558,0.2476236121095934,0.3967670830271859,0.3433844833136603,0.30864197530864196,0.41928721174004197,0.35615706526578217,0.16058237876030404,0.2119392440833628,0.29776198251849006,0.2357732290215411,0.28991509629322837,0.32576605924870206,0.27593254982115484,0.45764873583914767,0.2884268717702199,0.523168908819133,0.27962587985729437,0.23146300582648255,0.20334596543118585,0.1199151369799834,0.4312790829644762,0.18566271273852503,0.3672757322559912,0.2776749352091818,0.37418925661067687,0.6845931258380973,0.6008221777168757,0.3865694720565496,0.5011951576837073,0.3725340784014901,0.484666165287875,0.3157451585742352,0.706646294881589,0.42621708656942603,0.10840642554449591,0.4575402635431918,0.3631243515636579,0.44559585492227977,0.7033248081841432,0.5509641873278237,0.4164237528108603,0.3572643756379721,0.23488562091503268,0.089179548156956,0.42888489926191903,0.28047681057798257,0.27153789187854854,0.34423407917383825,0.33009525605960577,0.571560979377462,0.45141631869992105,0.24906600249066002,0.5351816108089138,0.31545741324921134,0.42420461634435436],\"yaxis\":\"y\",\"type\":\"scatter\"},{\"fillpattern\":{\"shape\":\"x\"},\"hovertemplate\":\"category=MET<br>date=%{x}<br>id=%{y}<extra></extra>\",\"legendgroup\":\"MET\",\"line\":{\"color\":\"#B6E880\"},\"marker\":{\"symbol\":\"circle\"},\"mode\":\"lines\",\"name\":\"MET\",\"orientation\":\"v\",\"showlegend\":true,\"stackgroup\":\"1\",\"x\":[\"2012-01-31T00:00:00\",\"2012-02-29T00:00:00\",\"2012-03-31T00:00:00\",\"2012-04-30T00:00:00\",\"2012-05-31T00:00:00\",\"2012-06-30T00:00:00\",\"2012-07-31T00:00:00\",\"2012-08-31T00:00:00\",\"2012-09-30T00:00:00\",\"2012-10-31T00:00:00\",\"2012-11-30T00:00:00\",\"2012-12-31T00:00:00\",\"2013-01-31T00:00:00\",\"2013-02-28T00:00:00\",\"2013-03-31T00:00:00\",\"2013-04-30T00:00:00\",\"2013-05-31T00:00:00\",\"2013-06-30T00:00:00\",\"2013-07-31T00:00:00\",\"2013-08-31T00:00:00\",\"2013-09-30T00:00:00\",\"2013-10-31T00:00:00\",\"2013-11-30T00:00:00\",\"2013-12-31T00:00:00\",\"2014-01-31T00:00:00\",\"2014-02-28T00:00:00\",\"2014-03-31T00:00:00\",\"2014-04-30T00:00:00\",\"2014-05-31T00:00:00\",\"2014-06-30T00:00:00\",\"2014-07-31T00:00:00\",\"2014-08-31T00:00:00\",\"2014-09-30T00:00:00\",\"2014-10-31T00:00:00\",\"2014-11-30T00:00:00\",\"2014-12-31T00:00:00\",\"2015-01-31T00:00:00\",\"2015-02-28T00:00:00\",\"2015-03-31T00:00:00\",\"2015-04-30T00:00:00\",\"2015-05-31T00:00:00\",\"2015-06-30T00:00:00\",\"2015-07-31T00:00:00\",\"2015-08-31T00:00:00\",\"2015-09-30T00:00:00\",\"2015-10-31T00:00:00\",\"2015-11-30T00:00:00\",\"2015-12-31T00:00:00\",\"2016-01-31T00:00:00\",\"2016-02-29T00:00:00\",\"2016-03-31T00:00:00\",\"2016-04-30T00:00:00\",\"2016-05-31T00:00:00\",\"2016-06-30T00:00:00\",\"2016-07-31T00:00:00\",\"2016-08-31T00:00:00\",\"2016-09-30T00:00:00\",\"2016-10-31T00:00:00\",\"2016-11-30T00:00:00\",\"2016-12-31T00:00:00\",\"2017-01-31T00:00:00\",\"2017-02-28T00:00:00\",\"2017-03-31T00:00:00\",\"2017-04-30T00:00:00\",\"2017-05-31T00:00:00\",\"2017-06-30T00:00:00\",\"2017-07-31T00:00:00\",\"2017-08-31T00:00:00\",\"2017-09-30T00:00:00\",\"2017-10-31T00:00:00\",\"2017-11-30T00:00:00\",\"2017-12-31T00:00:00\",\"2018-01-31T00:00:00\",\"2018-02-28T00:00:00\",\"2018-03-31T00:00:00\",\"2018-04-30T00:00:00\",\"2018-05-31T00:00:00\",\"2018-06-30T00:00:00\",\"2018-07-31T00:00:00\",\"2018-08-31T00:00:00\",\"2018-09-30T00:00:00\",\"2018-10-31T00:00:00\",\"2018-11-30T00:00:00\",\"2018-12-31T00:00:00\",\"2019-01-31T00:00:00\",\"2019-02-28T00:00:00\",\"2019-03-31T00:00:00\",\"2019-04-30T00:00:00\",\"2019-05-31T00:00:00\",\"2019-06-30T00:00:00\",\"2019-07-31T00:00:00\",\"2019-08-31T00:00:00\",\"2019-09-30T00:00:00\",\"2019-10-31T00:00:00\",\"2019-11-30T00:00:00\",\"2019-12-31T00:00:00\",\"2020-01-31T00:00:00\",\"2020-02-29T00:00:00\",\"2020-03-31T00:00:00\",\"2020-04-30T00:00:00\",\"2020-05-31T00:00:00\",\"2020-06-30T00:00:00\",\"2020-07-31T00:00:00\",\"2020-08-31T00:00:00\",\"2020-09-30T00:00:00\",\"2020-10-31T00:00:00\",\"2020-11-30T00:00:00\",\"2020-12-31T00:00:00\",\"2021-01-31T00:00:00\",\"2021-02-28T00:00:00\",\"2021-03-31T00:00:00\",\"2021-04-30T00:00:00\",\"2021-05-31T00:00:00\",\"2021-06-30T00:00:00\",\"2021-07-31T00:00:00\",\"2021-08-31T00:00:00\",\"2021-09-30T00:00:00\",\"2021-10-31T00:00:00\",\"2021-11-30T00:00:00\"],\"xaxis\":\"x\",\"y\":[null,null,0.019171779141104295,0.0,0.0,0.0,0.0,0.0,0.0,0.0,0.04033884630899556,0.0,0.0678195998643608,0.0,0.01827151470856934,0.0,0.0,0.01688903901368012,0.022701475595913734,0.011272686281140797,0.04482294935006724,0.08031411743708727,0.054466230936819175,0.03462603878116344,0.0,0.01896273821939888,0.05545081512698237,0.03509182360510001,0.06668889629876625,0.1833791781278653,0.04799040191961608,0.04698696111828968,0.047286913346731296,0.02313475997686524,0.04782400765184123,0.01375137513751375,0.012878300064391501,0.041684035014589414,0.017329520838748808,0.01896273821939888,0.059972583961617545,0.0722608617107759,0.020493903063838508,0.04604051565377532,0.17234387672343876,0.039393342525113256,0.05155170636148056,0.031246745130715552,0.023755790473928017,0.05450185306300414,0.009989012086704625,0.018878610534264678,0.027570995312930797,0.10217983651226158,0.010686044026501388,0.035955056179775284,0.01947230065232207,0.008185985592665358,0.0339328130302002,0.09575016572144067,0.04388659703326604,0.04832785617630002,0.01493540437607348,0.00827266710787558,0.03993929227574087,0.23512123438648053,0.021461530207103768,0.05973715651135006,0.04192872117400419,0.12465497284302378,0.04282196766941441,0.008830801836806781,0.028815675727595812,0.032150894866573784,0.02070822116380203,0.10180189351521939,0.0510986203372509,0.05251706804711531,0.012017786323759164,0.07473841554559044,0.26034133641886026,0.3272408013408891,0.07394398742952213,0.05534544783691542,0.1815911928271479,0.08251676121712223,0.16527407951519604,0.31469825990373934,0.12472975220355895,0.42345966546686425,0.04216295983978075,0.055224210293792805,0.11566042100393245,0.0762001524003048,0.1002757583354224,0.028066236317709797,0.2005347593582888,0.2652017427543095,0.10840642554449591,0.18301610541727673,0.807766414702831,0.5284974093264249,0.07459505541346974,0.26564344746162927,0.3914383276422087,0.1701258931609391,0.3165849673202614,0.17092746730083233,0.3291442250149611,0.5609536211559651,0.20571052415041552,0.16255498183209025,0.17919456757521454,0.33984706881903143,0.27084979121995256,0.1471753651081173,0.28075100894893845,0.13917238819818148,0.19962570180910794],\"yaxis\":\"y\",\"type\":\"scatter\"},{\"fillpattern\":{\"shape\":\"+\"},\"hovertemplate\":\"category=RET<br>date=%{x}<br>id=%{y}<extra></extra>\",\"legendgroup\":\"RET\",\"line\":{\"color\":\"#FF97FF\"},\"marker\":{\"symbol\":\"circle\"},\"mode\":\"lines\",\"name\":\"RET\",\"orientation\":\"v\",\"showlegend\":true,\"stackgroup\":\"1\",\"x\":[\"2012-01-31T00:00:00\",\"2012-02-29T00:00:00\",\"2012-03-31T00:00:00\",\"2012-04-30T00:00:00\",\"2012-05-31T00:00:00\",\"2012-06-30T00:00:00\",\"2012-07-31T00:00:00\",\"2012-08-31T00:00:00\",\"2012-09-30T00:00:00\",\"2012-10-31T00:00:00\",\"2012-11-30T00:00:00\",\"2012-12-31T00:00:00\",\"2013-01-31T00:00:00\",\"2013-02-28T00:00:00\",\"2013-03-31T00:00:00\",\"2013-04-30T00:00:00\",\"2013-05-31T00:00:00\",\"2013-06-30T00:00:00\",\"2013-07-31T00:00:00\",\"2013-08-31T00:00:00\",\"2013-09-30T00:00:00\",\"2013-10-31T00:00:00\",\"2013-11-30T00:00:00\",\"2013-12-31T00:00:00\",\"2014-01-31T00:00:00\",\"2014-02-28T00:00:00\",\"2014-03-31T00:00:00\",\"2014-04-30T00:00:00\",\"2014-05-31T00:00:00\",\"2014-06-30T00:00:00\",\"2014-07-31T00:00:00\",\"2014-08-31T00:00:00\",\"2014-09-30T00:00:00\",\"2014-10-31T00:00:00\",\"2014-11-30T00:00:00\",\"2014-12-31T00:00:00\",\"2015-01-31T00:00:00\",\"2015-02-28T00:00:00\",\"2015-03-31T00:00:00\",\"2015-04-30T00:00:00\",\"2015-05-31T00:00:00\",\"2015-06-30T00:00:00\",\"2015-07-31T00:00:00\",\"2015-08-31T00:00:00\",\"2015-09-30T00:00:00\",\"2015-10-31T00:00:00\",\"2015-11-30T00:00:00\",\"2015-12-31T00:00:00\",\"2016-01-31T00:00:00\",\"2016-02-29T00:00:00\",\"2016-03-31T00:00:00\",\"2016-04-30T00:00:00\",\"2016-05-31T00:00:00\",\"2016-06-30T00:00:00\",\"2016-07-31T00:00:00\",\"2016-08-31T00:00:00\",\"2016-09-30T00:00:00\",\"2016-10-31T00:00:00\",\"2016-11-30T00:00:00\",\"2016-12-31T00:00:00\",\"2017-01-31T00:00:00\",\"2017-02-28T00:00:00\",\"2017-03-31T00:00:00\",\"2017-04-30T00:00:00\",\"2017-05-31T00:00:00\",\"2017-06-30T00:00:00\",\"2017-07-31T00:00:00\",\"2017-08-31T00:00:00\",\"2017-09-30T00:00:00\",\"2017-10-31T00:00:00\",\"2017-11-30T00:00:00\",\"2017-12-31T00:00:00\",\"2018-01-31T00:00:00\",\"2018-02-28T00:00:00\",\"2018-03-31T00:00:00\",\"2018-04-30T00:00:00\",\"2018-05-31T00:00:00\",\"2018-06-30T00:00:00\",\"2018-07-31T00:00:00\",\"2018-08-31T00:00:00\",\"2018-09-30T00:00:00\",\"2018-10-31T00:00:00\",\"2018-11-30T00:00:00\",\"2018-12-31T00:00:00\",\"2019-01-31T00:00:00\",\"2019-02-28T00:00:00\",\"2019-03-31T00:00:00\",\"2019-04-30T00:00:00\",\"2019-05-31T00:00:00\",\"2019-06-30T00:00:00\",\"2019-07-31T00:00:00\",\"2019-08-31T00:00:00\",\"2019-09-30T00:00:00\",\"2019-10-31T00:00:00\",\"2019-11-30T00:00:00\",\"2019-12-31T00:00:00\",\"2020-01-31T00:00:00\",\"2020-02-29T00:00:00\",\"2020-03-31T00:00:00\",\"2020-04-30T00:00:00\",\"2020-05-31T00:00:00\",\"2020-06-30T00:00:00\",\"2020-07-31T00:00:00\",\"2020-08-31T00:00:00\",\"2020-09-30T00:00:00\",\"2020-10-31T00:00:00\",\"2020-11-30T00:00:00\",\"2020-12-31T00:00:00\",\"2021-01-31T00:00:00\",\"2021-02-28T00:00:00\",\"2021-03-31T00:00:00\",\"2021-04-30T00:00:00\",\"2021-05-31T00:00:00\",\"2021-06-30T00:00:00\",\"2021-07-31T00:00:00\",\"2021-08-31T00:00:00\",\"2021-09-30T00:00:00\",\"2021-10-31T00:00:00\",\"2021-11-30T00:00:00\"],\"xaxis\":\"x\",\"y\":[null,null,null,null,null,null,null,null,null,null,null,null,null,null,null,null,null,0.03377807802736024,0.011350737797956867,0.011272686281140797,0.02241147467503362,0.01784758165268606,0.0,0.011542012927054477,0.009074410163339382,0.02844410732909832,0.011090163025396473,0.023394549070066675,0.0,0.025006251562890724,0.0,0.03524022083871726,0.023643456673365648,0.0,0.04782400765184123,0.0,0.0,0.020842017507294707,0.008664760419374404,0.0,0.11137765592871832,0.0,0.020493903063838508,0.0,0.020275750202757504,0.0,0.0,0.010415581710238516,0.0,0.010900370612600827,0.0,0.0,0.07352265416781545,0.17881471389645776,0.0,0.026966292134831458,0.0,0.016371971185330715,0.0339328130302002,0.014730794726375488,0.008777319406653208,0.009665571235260004,0.022403106564110223,0.01654533421575116,0.023963575365444526,0.029390154298310066,0.0,0.039824771007566706,0.04192872117400419,0.03561570652657822,0.021410983834707204,0.04415400918403391,0.028815675727595812,0.010716964955524596,0.0,0.20360378703043877,0.040878896269800714,0.25508290194313155,0.12017786323759164,0.10676916506512919,0.2410567929804262,0.047888897757203286,0.0277289952860708,0.02767272391845771,0.11349449551696741,0.0515729757607014,0.009181893306399779,0.1295816364309515,0.08315316813570597,0.4022866821935211,0.10540739959945189,0.04417936823503424,0.5474593260852803,0.08466683600033867,0.09191944514080388,0.014033118158854899,0.2578304048892284,0.13260087137715476,0.08869616635458756,0.09150805270863836,0.689195197865718,0.18652849740932642,0.1278772378516624,0.3148366784730421,0.7745481802282003,0.28921401837359645,0.28594771241830064,0.178359096313912,0.21942948334330742,0.15025543423820495,0.1974821031843989,0.2772996748900363,0.3395265490898802,0.5483895883216189,0.3611330549599368,0.40756254953017096,0.3597122302158274,0.25051029875672665,0.23705552089831566],\"yaxis\":\"y\",\"type\":\"scatter\"},{\"fillpattern\":{\"shape\":\".\"},\"hovertemplate\":\"category=HER2<br>date=%{x}<br>id=%{y}<extra></extra>\",\"legendgroup\":\"HER2\",\"line\":{\"color\":\"#FECB52\"},\"marker\":{\"symbol\":\"circle\"},\"mode\":\"lines\",\"name\":\"HER2\",\"orientation\":\"v\",\"showlegend\":true,\"stackgroup\":\"1\",\"x\":[\"2012-01-31T00:00:00\",\"2012-02-29T00:00:00\",\"2012-03-31T00:00:00\",\"2012-04-30T00:00:00\",\"2012-05-31T00:00:00\",\"2012-06-30T00:00:00\",\"2012-07-31T00:00:00\",\"2012-08-31T00:00:00\",\"2012-09-30T00:00:00\",\"2012-10-31T00:00:00\",\"2012-11-30T00:00:00\",\"2012-12-31T00:00:00\",\"2013-01-31T00:00:00\",\"2013-02-28T00:00:00\",\"2013-03-31T00:00:00\",\"2013-04-30T00:00:00\",\"2013-05-31T00:00:00\",\"2013-06-30T00:00:00\",\"2013-07-31T00:00:00\",\"2013-08-31T00:00:00\",\"2013-09-30T00:00:00\",\"2013-10-31T00:00:00\",\"2013-11-30T00:00:00\",\"2013-12-31T00:00:00\",\"2014-01-31T00:00:00\",\"2014-02-28T00:00:00\",\"2014-03-31T00:00:00\",\"2014-04-30T00:00:00\",\"2014-05-31T00:00:00\",\"2014-06-30T00:00:00\",\"2014-07-31T00:00:00\",\"2014-08-31T00:00:00\",\"2014-09-30T00:00:00\",\"2014-10-31T00:00:00\",\"2014-11-30T00:00:00\",\"2014-12-31T00:00:00\",\"2015-01-31T00:00:00\",\"2015-02-28T00:00:00\",\"2015-03-31T00:00:00\",\"2015-04-30T00:00:00\",\"2015-05-31T00:00:00\",\"2015-06-30T00:00:00\",\"2015-07-31T00:00:00\",\"2015-08-31T00:00:00\",\"2015-09-30T00:00:00\",\"2015-10-31T00:00:00\",\"2015-11-30T00:00:00\",\"2015-12-31T00:00:00\",\"2016-01-31T00:00:00\",\"2016-02-29T00:00:00\",\"2016-03-31T00:00:00\",\"2016-04-30T00:00:00\",\"2016-05-31T00:00:00\",\"2016-06-30T00:00:00\",\"2016-07-31T00:00:00\",\"2016-08-31T00:00:00\",\"2016-09-30T00:00:00\",\"2016-10-31T00:00:00\",\"2016-11-30T00:00:00\",\"2016-12-31T00:00:00\",\"2017-01-31T00:00:00\",\"2017-02-28T00:00:00\",\"2017-03-31T00:00:00\",\"2017-04-30T00:00:00\",\"2017-05-31T00:00:00\",\"2017-06-30T00:00:00\",\"2017-07-31T00:00:00\",\"2017-08-31T00:00:00\",\"2017-09-30T00:00:00\",\"2017-10-31T00:00:00\",\"2017-11-30T00:00:00\",\"2017-12-31T00:00:00\",\"2018-01-31T00:00:00\",\"2018-02-28T00:00:00\",\"2018-03-31T00:00:00\",\"2018-04-30T00:00:00\",\"2018-05-31T00:00:00\",\"2018-06-30T00:00:00\",\"2018-07-31T00:00:00\",\"2018-08-31T00:00:00\",\"2018-09-30T00:00:00\",\"2018-10-31T00:00:00\",\"2018-11-30T00:00:00\",\"2018-12-31T00:00:00\",\"2019-01-31T00:00:00\",\"2019-02-28T00:00:00\",\"2019-03-31T00:00:00\",\"2019-04-30T00:00:00\",\"2019-05-31T00:00:00\",\"2019-06-30T00:00:00\",\"2019-07-31T00:00:00\",\"2019-08-31T00:00:00\",\"2019-09-30T00:00:00\",\"2019-10-31T00:00:00\",\"2019-11-30T00:00:00\",\"2019-12-31T00:00:00\",\"2020-01-31T00:00:00\",\"2020-02-29T00:00:00\",\"2020-03-31T00:00:00\",\"2020-04-30T00:00:00\",\"2020-05-31T00:00:00\",\"2020-06-30T00:00:00\",\"2020-07-31T00:00:00\",\"2020-08-31T00:00:00\",\"2020-09-30T00:00:00\",\"2020-10-31T00:00:00\",\"2020-11-30T00:00:00\",\"2020-12-31T00:00:00\",\"2021-01-31T00:00:00\",\"2021-02-28T00:00:00\",\"2021-03-31T00:00:00\",\"2021-04-30T00:00:00\",\"2021-05-31T00:00:00\",\"2021-06-30T00:00:00\",\"2021-07-31T00:00:00\",\"2021-08-31T00:00:00\",\"2021-09-30T00:00:00\",\"2021-10-31T00:00:00\",\"2021-11-30T00:00:00\"],\"xaxis\":\"x\",\"y\":[0.04720692368214005,0.06379585326953748,0.057515337423312884,0.059008654602675056,0.06096321885795569,0.6038003906943704,0.0612369871402327,0.08805917576611483,0.22925263640531865,0.2447780678851175,0.04033884630899556,0.16646848989298454,0.5425567989148864,0.3333888981496916,0.29234423533710946,0.1882148544954394,0.11808367071524967,0.5404492484377639,0.11350737797956867,0.3381805884342239,0.33617212012550424,0.3123326789220061,0.2178649237472767,0.24238227146814403,0.09074410163339383,0.20859012041338768,0.3105245647111013,0.2807345888408001,0.3667889296432144,0.4001000250062516,0.40791841631673664,0.17620110419358628,0.7920557985577491,0.4279930595720069,0.3347680535628886,0.45379537953795385,1.1976819059884096,0.7294706127553148,1.776275885971753,1.0619133402863374,0.3427004797806717,0.4606629934061963,0.38938415821293165,0.1841620626151013,0.24330900243309003,0.18711837699428796,0.26806887307969895,0.40620768669930213,0.3563368571089203,0.3706126008284282,0.7391868944161422,0.5474797054936756,0.41356492969396197,0.510899182561308,0.5343022013250694,0.4853932584269663,0.42839061435108555,0.5893909626719057,0.46657617916525285,0.7365397363187743,0.5090845255858861,0.45428184805722016,0.8662534538122619,0.6121773659827929,0.6470165348670022,1.2564290962527553,0.7189612619379762,0.8761449621664675,0.7442348008385744,0.6766984240049863,0.620918531206509,1.0332038149063936,0.9893381999807895,1.028828635730361,0.9629322841167943,0.8856764735824088,0.8788962698007154,1.8981168879885963,1.1657252734046388,1.2919068972880632,0.8388776395718831,1.1174076143347433,0.8965708475829559,1.7064846416382253,1.1803427533764612,1.1758638473439917,1.2854650628959692,1.175490559052203,1.2306668884084484,1.5456277789540547,0.8327184568356698,1.104484205875856,1.2337111573752795,1.4562695792058251,0.9108381382134203,3.571428571428571,1.4419404125286477,1.52491002083728,0.9362373115206465,1.5281844802342606,3.0680302356602933,1.8860103626943003,2.355072463768116,1.7807949626131445,2.1570750395602563,1.7693092888737667,1.3276143790849673,2.2443519619500596,1.8452024735687214,1.31223079234699,1.6456841932033242,1.5203671830177854,2.5464491181741016,2.8269097088128525,2.3586502652070873,2.5472659345635686,2.7373223372521496,2.0133605492670252,1.6219588271990018],\"yaxis\":\"y\",\"type\":\"scatter\"}],                        {\"template\":{\"data\":{\"histogram2dcontour\":[{\"type\":\"histogram2dcontour\",\"colorbar\":{\"outlinewidth\":0,\"ticks\":\"\"},\"colorscale\":[[0.0,\"#0d0887\"],[0.1111111111111111,\"#46039f\"],[0.2222222222222222,\"#7201a8\"],[0.3333333333333333,\"#9c179e\"],[0.4444444444444444,\"#bd3786\"],[0.5555555555555556,\"#d8576b\"],[0.6666666666666666,\"#ed7953\"],[0.7777777777777778,\"#fb9f3a\"],[0.8888888888888888,\"#fdca26\"],[1.0,\"#f0f921\"]]}],\"choropleth\":[{\"type\":\"choropleth\",\"colorbar\":{\"outlinewidth\":0,\"ticks\":\"\"}}],\"histogram2d\":[{\"type\":\"histogram2d\",\"colorbar\":{\"outlinewidth\":0,\"ticks\":\"\"},\"colorscale\":[[0.0,\"#0d0887\"],[0.1111111111111111,\"#46039f\"],[0.2222222222222222,\"#7201a8\"],[0.3333333333333333,\"#9c179e\"],[0.4444444444444444,\"#bd3786\"],[0.5555555555555556,\"#d8576b\"],[0.6666666666666666,\"#ed7953\"],[0.7777777777777778,\"#fb9f3a\"],[0.8888888888888888,\"#fdca26\"],[1.0,\"#f0f921\"]]}],\"heatmap\":[{\"type\":\"heatmap\",\"colorbar\":{\"outlinewidth\":0,\"ticks\":\"\"},\"colorscale\":[[0.0,\"#0d0887\"],[0.1111111111111111,\"#46039f\"],[0.2222222222222222,\"#7201a8\"],[0.3333333333333333,\"#9c179e\"],[0.4444444444444444,\"#bd3786\"],[0.5555555555555556,\"#d8576b\"],[0.6666666666666666,\"#ed7953\"],[0.7777777777777778,\"#fb9f3a\"],[0.8888888888888888,\"#fdca26\"],[1.0,\"#f0f921\"]]}],\"heatmapgl\":[{\"type\":\"heatmapgl\",\"colorbar\":{\"outlinewidth\":0,\"ticks\":\"\"},\"colorscale\":[[0.0,\"#0d0887\"],[0.1111111111111111,\"#46039f\"],[0.2222222222222222,\"#7201a8\"],[0.3333333333333333,\"#9c179e\"],[0.4444444444444444,\"#bd3786\"],[0.5555555555555556,\"#d8576b\"],[0.6666666666666666,\"#ed7953\"],[0.7777777777777778,\"#fb9f3a\"],[0.8888888888888888,\"#fdca26\"],[1.0,\"#f0f921\"]]}],\"contourcarpet\":[{\"type\":\"contourcarpet\",\"colorbar\":{\"outlinewidth\":0,\"ticks\":\"\"}}],\"contour\":[{\"type\":\"contour\",\"colorbar\":{\"outlinewidth\":0,\"ticks\":\"\"},\"colorscale\":[[0.0,\"#0d0887\"],[0.1111111111111111,\"#46039f\"],[0.2222222222222222,\"#7201a8\"],[0.3333333333333333,\"#9c179e\"],[0.4444444444444444,\"#bd3786\"],[0.5555555555555556,\"#d8576b\"],[0.6666666666666666,\"#ed7953\"],[0.7777777777777778,\"#fb9f3a\"],[0.8888888888888888,\"#fdca26\"],[1.0,\"#f0f921\"]]}],\"surface\":[{\"type\":\"surface\",\"colorbar\":{\"outlinewidth\":0,\"ticks\":\"\"},\"colorscale\":[[0.0,\"#0d0887\"],[0.1111111111111111,\"#46039f\"],[0.2222222222222222,\"#7201a8\"],[0.3333333333333333,\"#9c179e\"],[0.4444444444444444,\"#bd3786\"],[0.5555555555555556,\"#d8576b\"],[0.6666666666666666,\"#ed7953\"],[0.7777777777777778,\"#fb9f3a\"],[0.8888888888888888,\"#fdca26\"],[1.0,\"#f0f921\"]]}],\"mesh3d\":[{\"type\":\"mesh3d\",\"colorbar\":{\"outlinewidth\":0,\"ticks\":\"\"}}],\"scatter\":[{\"fillpattern\":{\"fillmode\":\"overlay\",\"size\":10,\"solidity\":0.2},\"type\":\"scatter\"}],\"parcoords\":[{\"type\":\"parcoords\",\"line\":{\"colorbar\":{\"outlinewidth\":0,\"ticks\":\"\"}}}],\"scatterpolargl\":[{\"type\":\"scatterpolargl\",\"marker\":{\"colorbar\":{\"outlinewidth\":0,\"ticks\":\"\"}}}],\"bar\":[{\"error_x\":{\"color\":\"#2a3f5f\"},\"error_y\":{\"color\":\"#2a3f5f\"},\"marker\":{\"line\":{\"color\":\"#E5ECF6\",\"width\":0.5},\"pattern\":{\"fillmode\":\"overlay\",\"size\":10,\"solidity\":0.2}},\"type\":\"bar\"}],\"scattergeo\":[{\"type\":\"scattergeo\",\"marker\":{\"colorbar\":{\"outlinewidth\":0,\"ticks\":\"\"}}}],\"scatterpolar\":[{\"type\":\"scatterpolar\",\"marker\":{\"colorbar\":{\"outlinewidth\":0,\"ticks\":\"\"}}}],\"histogram\":[{\"marker\":{\"pattern\":{\"fillmode\":\"overlay\",\"size\":10,\"solidity\":0.2}},\"type\":\"histogram\"}],\"scattergl\":[{\"type\":\"scattergl\",\"marker\":{\"colorbar\":{\"outlinewidth\":0,\"ticks\":\"\"}}}],\"scatter3d\":[{\"type\":\"scatter3d\",\"line\":{\"colorbar\":{\"outlinewidth\":0,\"ticks\":\"\"}},\"marker\":{\"colorbar\":{\"outlinewidth\":0,\"ticks\":\"\"}}}],\"scattermapbox\":[{\"type\":\"scattermapbox\",\"marker\":{\"colorbar\":{\"outlinewidth\":0,\"ticks\":\"\"}}}],\"scatterternary\":[{\"type\":\"scatterternary\",\"marker\":{\"colorbar\":{\"outlinewidth\":0,\"ticks\":\"\"}}}],\"scattercarpet\":[{\"type\":\"scattercarpet\",\"marker\":{\"colorbar\":{\"outlinewidth\":0,\"ticks\":\"\"}}}],\"carpet\":[{\"aaxis\":{\"endlinecolor\":\"#2a3f5f\",\"gridcolor\":\"white\",\"linecolor\":\"white\",\"minorgridcolor\":\"white\",\"startlinecolor\":\"#2a3f5f\"},\"baxis\":{\"endlinecolor\":\"#2a3f5f\",\"gridcolor\":\"white\",\"linecolor\":\"white\",\"minorgridcolor\":\"white\",\"startlinecolor\":\"#2a3f5f\"},\"type\":\"carpet\"}],\"table\":[{\"cells\":{\"fill\":{\"color\":\"#EBF0F8\"},\"line\":{\"color\":\"white\"}},\"header\":{\"fill\":{\"color\":\"#C8D4E3\"},\"line\":{\"color\":\"white\"}},\"type\":\"table\"}],\"barpolar\":[{\"marker\":{\"line\":{\"color\":\"#E5ECF6\",\"width\":0.5},\"pattern\":{\"fillmode\":\"overlay\",\"size\":10,\"solidity\":0.2}},\"type\":\"barpolar\"}],\"pie\":[{\"automargin\":true,\"type\":\"pie\"}]},\"layout\":{\"autotypenumbers\":\"strict\",\"colorway\":[\"#636efa\",\"#EF553B\",\"#00cc96\",\"#ab63fa\",\"#FFA15A\",\"#19d3f3\",\"#FF6692\",\"#B6E880\",\"#FF97FF\",\"#FECB52\"],\"font\":{\"color\":\"#2a3f5f\"},\"hovermode\":\"closest\",\"hoverlabel\":{\"align\":\"left\"},\"paper_bgcolor\":\"white\",\"plot_bgcolor\":\"#E5ECF6\",\"polar\":{\"bgcolor\":\"#E5ECF6\",\"angularaxis\":{\"gridcolor\":\"white\",\"linecolor\":\"white\",\"ticks\":\"\"},\"radialaxis\":{\"gridcolor\":\"white\",\"linecolor\":\"white\",\"ticks\":\"\"}},\"ternary\":{\"bgcolor\":\"#E5ECF6\",\"aaxis\":{\"gridcolor\":\"white\",\"linecolor\":\"white\",\"ticks\":\"\"},\"baxis\":{\"gridcolor\":\"white\",\"linecolor\":\"white\",\"ticks\":\"\"},\"caxis\":{\"gridcolor\":\"white\",\"linecolor\":\"white\",\"ticks\":\"\"}},\"coloraxis\":{\"colorbar\":{\"outlinewidth\":0,\"ticks\":\"\"}},\"colorscale\":{\"sequential\":[[0.0,\"#0d0887\"],[0.1111111111111111,\"#46039f\"],[0.2222222222222222,\"#7201a8\"],[0.3333333333333333,\"#9c179e\"],[0.4444444444444444,\"#bd3786\"],[0.5555555555555556,\"#d8576b\"],[0.6666666666666666,\"#ed7953\"],[0.7777777777777778,\"#fb9f3a\"],[0.8888888888888888,\"#fdca26\"],[1.0,\"#f0f921\"]],\"sequentialminus\":[[0.0,\"#0d0887\"],[0.1111111111111111,\"#46039f\"],[0.2222222222222222,\"#7201a8\"],[0.3333333333333333,\"#9c179e\"],[0.4444444444444444,\"#bd3786\"],[0.5555555555555556,\"#d8576b\"],[0.6666666666666666,\"#ed7953\"],[0.7777777777777778,\"#fb9f3a\"],[0.8888888888888888,\"#fdca26\"],[1.0,\"#f0f921\"]],\"diverging\":[[0,\"#8e0152\"],[0.1,\"#c51b7d\"],[0.2,\"#de77ae\"],[0.3,\"#f1b6da\"],[0.4,\"#fde0ef\"],[0.5,\"#f7f7f7\"],[0.6,\"#e6f5d0\"],[0.7,\"#b8e186\"],[0.8,\"#7fbc41\"],[0.9,\"#4d9221\"],[1,\"#276419\"]]},\"xaxis\":{\"gridcolor\":\"white\",\"linecolor\":\"white\",\"ticks\":\"\",\"title\":{\"standoff\":15},\"zerolinecolor\":\"white\",\"automargin\":true,\"zerolinewidth\":2},\"yaxis\":{\"gridcolor\":\"white\",\"linecolor\":\"white\",\"ticks\":\"\",\"title\":{\"standoff\":15},\"zerolinecolor\":\"white\",\"automargin\":true,\"zerolinewidth\":2},\"scene\":{\"xaxis\":{\"backgroundcolor\":\"#E5ECF6\",\"gridcolor\":\"white\",\"linecolor\":\"white\",\"showbackground\":true,\"ticks\":\"\",\"zerolinecolor\":\"white\",\"gridwidth\":2},\"yaxis\":{\"backgroundcolor\":\"#E5ECF6\",\"gridcolor\":\"white\",\"linecolor\":\"white\",\"showbackground\":true,\"ticks\":\"\",\"zerolinecolor\":\"white\",\"gridwidth\":2},\"zaxis\":{\"backgroundcolor\":\"#E5ECF6\",\"gridcolor\":\"white\",\"linecolor\":\"white\",\"showbackground\":true,\"ticks\":\"\",\"zerolinecolor\":\"white\",\"gridwidth\":2}},\"shapedefaults\":{\"line\":{\"color\":\"#2a3f5f\"}},\"annotationdefaults\":{\"arrowcolor\":\"#2a3f5f\",\"arrowhead\":0,\"arrowwidth\":1},\"geo\":{\"bgcolor\":\"white\",\"landcolor\":\"#E5ECF6\",\"subunitcolor\":\"white\",\"showland\":true,\"showlakes\":true,\"lakecolor\":\"white\"},\"title\":{\"x\":0.05},\"mapbox\":{\"style\":\"light\"}}},\"xaxis\":{\"anchor\":\"y\",\"domain\":[0.0,1.0],\"title\":{\"text\":\"date\"}},\"yaxis\":{\"anchor\":\"x\",\"domain\":[0.0,1.0],\"title\":{\"text\":\"id\"}},\"legend\":{\"title\":{\"text\":\"category\"},\"tracegroupgap\":0},\"title\":{\"text\":\"Proportion de tweets contenant chacun des biomarqueurs par mois\"}},                        {\"responsive\": true}                    ).then(function(){\n",
       "\n",
       "var gd = document.getElementById('8fa0fb81-7d9e-42fc-98cb-61e81b7fb648');\n",
       "var x = new MutationObserver(function (mutations, observer) {{\n",
       "        var display = window.getComputedStyle(gd).display;\n",
       "        if (!display || display === 'none') {{\n",
       "            console.log([gd, 'removed!']);\n",
       "            Plotly.purge(gd);\n",
       "            observer.disconnect();\n",
       "        }}\n",
       "}});\n",
       "\n",
       "// Listen for the removal of the full notebook cells\n",
       "var notebookContainer = gd.closest('#notebook-container');\n",
       "if (notebookContainer) {{\n",
       "    x.observe(notebookContainer, {childList: true});\n",
       "}}\n",
       "\n",
       "// Listen for the clearing of the current output cell\n",
       "var outputEl = gd.closest('.output');\n",
       "if (outputEl) {{\n",
       "    x.observe(outputEl, {childList: true});\n",
       "}}\n",
       "\n",
       "                        })                };                });            </script>        </div>"
      ]
     },
     "metadata": {},
     "output_type": "display_data"
    }
   ],
   "source": [
    "\n",
    "\n",
    "tr='1m'\n",
    "total=dfc.resample(tr)['id'].count()\n",
    "\n",
    "for i,bio in enumerate(biom):\n",
    "    collective_permonth=(dfc[dfc[bio]==1].resample(tr)['id'].count()/total*100).reset_index()\n",
    "    collective_permonth['category']=bio\n",
    "\n",
    "    if i==0:\n",
    "        biomm=collective_permonth\n",
    "    else:\n",
    "        biomm=pd.concat([biomm,collective_permonth])\n",
    "\n",
    "\n",
    "import plotly.express as px\n",
    "fig = px.area(biomm, x=\"date\", y=\"id\",color='category',pattern_shape=\"category\", \n",
    "              pattern_shape_sequence=[\".\", \"x\", \"+\"],\n",
    "             title=\"Proportion de tweets contenant chacun des biomarqueurs par mois\")#, line_group=\"country\")\n",
    "#fig.layout.yaxis.tickformat = ',.0%'\n",
    "fig.write_html(\"biomarkers_time.html\")\n",
    "\n",
    "\n",
    "\n",
    "fig.show()"
   ]
  },
  {
   "cell_type": "markdown",
   "id": "48e7af25",
   "metadata": {},
   "source": [
    "## Qui parle de quel marqueur ?\n",
    "\n",
    "Enfin, la matrice ci-après indique la part occupée par les différents biomarqueurs dans les tweets qui en mentionnent au moins un en fonction du statut de leurs auteurs. Par exemple, 30% des 2548 biomarqueurs cités par les \"défenseurs de cause\" (*advocacy*) concernent le marqueur EGFR. "
   ]
  },
  {
   "cell_type": "code",
   "execution_count": 165,
   "id": "8d96e5eb",
   "metadata": {
    "tags": [
     "remove-cell"
    ]
   },
   "outputs": [],
   "source": [
    "df_status = df[[\"User_status\", \"id\", 'ROS1', 'ALK', 'EXON', 'EGFR', 'KRAS', 'NTRK', 'BRAF', 'MET', 'RET', 'HER2']]\n",
    "df_tmp = df_status.loc[df_status[\"ALK\"]==1].groupby([\"User_status\", \"ALK\"]).agg(ALK_c = (\"id\", \"count\"))"
   ]
  },
  {
   "cell_type": "code",
   "execution_count": 166,
   "id": "fe8af048",
   "metadata": {
    "tags": [
     "remove-cell"
    ]
   },
   "outputs": [],
   "source": [
    "biom = ['ROS1', 'ALK', 'EXON', 'EGFR', 'KRAS', 'NTRK', 'BRAF', 'MET', 'RET', 'HER2']\n",
    "variable = \"User_status\"\n",
    "df_status = df[[variable, \"id\", 'ROS1', 'ALK', 'EXON', 'EGFR', 'KRAS', 'NTRK', 'BRAF', 'MET', 'RET', 'HER2']]\n",
    "\n",
    "\n",
    "for i, bio in enumerate(biom):\n",
    "    df_tmp = df_status.loc[df_status[bio]==1].groupby([variable, bio]).agg(bio = (\"id\", \"count\")).reset_index()\n",
    "    df_tmp = df_tmp[[variable,\"bio\"]].rename(columns = {\"bio\": bio})\n",
    "    \n",
    "    if i==0:\n",
    "        pivot_table = df_tmp\n",
    "    else:\n",
    "        pivot_table = pivot_table.merge(df_tmp, how = \"left\", on = [variable]) \n",
    "\n",
    "pivot_table[\"somme_ligne\"] = pivot_table[biom].sum(axis=1)\n",
    "pivot_table.loc['Column_Total']= pivot_table.sum(numeric_only=True, axis=0)\n",
    "pivot_table = pivot_table.fillna(\"Total\")\n",
    "\n",
    "df_tmp = pivot_table.copy()\n",
    "biom.append(\"somme_ligne\")\n",
    "for i, status in enumerate(pivot_table[variable]):\n",
    "    for i, bio in enumerate(biom):\n",
    "        df_tmp[bio] = pivot_table[bio]/pivot_table[\"somme_ligne\"]*100\n",
    "    \n",
    "pivot_table = df_tmp[[variable, 'ROS1', 'ALK', 'EXON', 'EGFR', 'KRAS', 'NTRK', 'BRAF', 'MET', 'RET', 'HER2']]\n",
    "pivot_table.index = pivot_table[variable]\n",
    "pivot_table = pivot_table.drop(columns = [variable])"
   ]
  },
  {
   "cell_type": "code",
   "execution_count": 167,
   "id": "2129a3e3",
   "metadata": {
    "tags": [
     "remove-input"
    ]
   },
   "outputs": [
    {
     "data": {
      "text/html": [
       "<style type=\"text/css\">\n",
       "#T_d6216_ caption {\n",
       "  caption-side: top;\n",
       "  color: black;\n",
       "  font-size: 14pt;\n",
       "}\n",
       "</style>\n",
       "<table id=\"T_d6216_\">\n",
       "  <caption>Les nombre de références aux biomarqueurs en fonction du statut des auteurs</caption>\n",
       "  <thead>\n",
       "    <tr>\n",
       "      <th class=\"blank level0\" >&nbsp;</th>\n",
       "      <th class=\"col_heading level0 col0\" >ROS1</th>\n",
       "      <th class=\"col_heading level0 col1\" >ALK</th>\n",
       "      <th class=\"col_heading level0 col2\" >EXON</th>\n",
       "      <th class=\"col_heading level0 col3\" >EGFR</th>\n",
       "      <th class=\"col_heading level0 col4\" >KRAS</th>\n",
       "      <th class=\"col_heading level0 col5\" >NTRK</th>\n",
       "      <th class=\"col_heading level0 col6\" >BRAF</th>\n",
       "      <th class=\"col_heading level0 col7\" >MET</th>\n",
       "      <th class=\"col_heading level0 col8\" >RET</th>\n",
       "      <th class=\"col_heading level0 col9\" >HER2</th>\n",
       "      <th class=\"col_heading level0 col10\" >somme_ligne</th>\n",
       "    </tr>\n",
       "    <tr>\n",
       "      <th class=\"index_name level0\" >User_status</th>\n",
       "      <th class=\"blank col0\" >&nbsp;</th>\n",
       "      <th class=\"blank col1\" >&nbsp;</th>\n",
       "      <th class=\"blank col2\" >&nbsp;</th>\n",
       "      <th class=\"blank col3\" >&nbsp;</th>\n",
       "      <th class=\"blank col4\" >&nbsp;</th>\n",
       "      <th class=\"blank col5\" >&nbsp;</th>\n",
       "      <th class=\"blank col6\" >&nbsp;</th>\n",
       "      <th class=\"blank col7\" >&nbsp;</th>\n",
       "      <th class=\"blank col8\" >&nbsp;</th>\n",
       "      <th class=\"blank col9\" >&nbsp;</th>\n",
       "      <th class=\"blank col10\" >&nbsp;</th>\n",
       "    </tr>\n",
       "  </thead>\n",
       "  <tbody>\n",
       "    <tr>\n",
       "      <th id=\"T_d6216_level0_row0\" class=\"row_heading level0 row0\" >Advocacy</th>\n",
       "      <td id=\"T_d6216_row0_col0\" class=\"data row0 col0\" >278</td>\n",
       "      <td id=\"T_d6216_row0_col1\" class=\"data row0 col1\" >451</td>\n",
       "      <td id=\"T_d6216_row0_col2\" class=\"data row0 col2\" >93</td>\n",
       "      <td id=\"T_d6216_row0_col3\" class=\"data row0 col3\" >780</td>\n",
       "      <td id=\"T_d6216_row0_col4\" class=\"data row0 col4\" >398</td>\n",
       "      <td id=\"T_d6216_row0_col5\" class=\"data row0 col5\" >51</td>\n",
       "      <td id=\"T_d6216_row0_col6\" class=\"data row0 col6\" >63</td>\n",
       "      <td id=\"T_d6216_row0_col7\" class=\"data row0 col7\" >97</td>\n",
       "      <td id=\"T_d6216_row0_col8\" class=\"data row0 col8\" >94</td>\n",
       "      <td id=\"T_d6216_row0_col9\" class=\"data row0 col9\" >243</td>\n",
       "      <td id=\"T_d6216_row0_col10\" class=\"data row0 col10\" >2548</td>\n",
       "    </tr>\n",
       "    <tr>\n",
       "      <th id=\"T_d6216_level0_row1\" class=\"row_heading level0 row1\" >Health organisations</th>\n",
       "      <td id=\"T_d6216_row1_col0\" class=\"data row1 col0\" >247</td>\n",
       "      <td id=\"T_d6216_row1_col1\" class=\"data row1 col1\" >559</td>\n",
       "      <td id=\"T_d6216_row1_col2\" class=\"data row1 col2\" >65</td>\n",
       "      <td id=\"T_d6216_row1_col3\" class=\"data row1 col3\" >431</td>\n",
       "      <td id=\"T_d6216_row1_col4\" class=\"data row1 col4\" >108</td>\n",
       "      <td id=\"T_d6216_row1_col5\" class=\"data row1 col5\" >27</td>\n",
       "      <td id=\"T_d6216_row1_col6\" class=\"data row1 col6\" >82</td>\n",
       "      <td id=\"T_d6216_row1_col7\" class=\"data row1 col7\" >61</td>\n",
       "      <td id=\"T_d6216_row1_col8\" class=\"data row1 col8\" >40</td>\n",
       "      <td id=\"T_d6216_row1_col9\" class=\"data row1 col9\" >552</td>\n",
       "      <td id=\"T_d6216_row1_col10\" class=\"data row1 col10\" >2172</td>\n",
       "    </tr>\n",
       "    <tr>\n",
       "      <th id=\"T_d6216_level0_row2\" class=\"row_heading level0 row2\" >Health professionals</th>\n",
       "      <td id=\"T_d6216_row2_col0\" class=\"data row2 col0\" >713</td>\n",
       "      <td id=\"T_d6216_row2_col1\" class=\"data row2 col1\" >1672</td>\n",
       "      <td id=\"T_d6216_row2_col2\" class=\"data row2 col2\" >602</td>\n",
       "      <td id=\"T_d6216_row2_col3\" class=\"data row2 col3\" >3725</td>\n",
       "      <td id=\"T_d6216_row2_col4\" class=\"data row2 col4\" >913</td>\n",
       "      <td id=\"T_d6216_row2_col5\" class=\"data row2 col5\" >267</td>\n",
       "      <td id=\"T_d6216_row2_col6\" class=\"data row2 col6\" >936</td>\n",
       "      <td id=\"T_d6216_row2_col7\" class=\"data row2 col7\" >561</td>\n",
       "      <td id=\"T_d6216_row2_col8\" class=\"data row2 col8\" >529</td>\n",
       "      <td id=\"T_d6216_row2_col9\" class=\"data row2 col9\" >3284</td>\n",
       "      <td id=\"T_d6216_row2_col10\" class=\"data row2 col10\" >13202</td>\n",
       "    </tr>\n",
       "    <tr>\n",
       "      <th id=\"T_d6216_level0_row3\" class=\"row_heading level0 row3\" >Media</th>\n",
       "      <td id=\"T_d6216_row3_col0\" class=\"data row3 col0\" >345</td>\n",
       "      <td id=\"T_d6216_row3_col1\" class=\"data row3 col1\" >1396</td>\n",
       "      <td id=\"T_d6216_row3_col2\" class=\"data row3 col2\" >351</td>\n",
       "      <td id=\"T_d6216_row3_col3\" class=\"data row3 col3\" >1985</td>\n",
       "      <td id=\"T_d6216_row3_col4\" class=\"data row3 col4\" >458</td>\n",
       "      <td id=\"T_d6216_row3_col5\" class=\"data row3 col5\" >118</td>\n",
       "      <td id=\"T_d6216_row3_col6\" class=\"data row3 col6\" >892</td>\n",
       "      <td id=\"T_d6216_row3_col7\" class=\"data row3 col7\" >268</td>\n",
       "      <td id=\"T_d6216_row3_col8\" class=\"data row3 col8\" >292</td>\n",
       "      <td id=\"T_d6216_row3_col9\" class=\"data row3 col9\" >4187</td>\n",
       "      <td id=\"T_d6216_row3_col10\" class=\"data row3 col10\" >10292</td>\n",
       "    </tr>\n",
       "    <tr>\n",
       "      <th id=\"T_d6216_level0_row4\" class=\"row_heading level0 row4\" >NPO</th>\n",
       "      <td id=\"T_d6216_row4_col0\" class=\"data row4 col0\" >315</td>\n",
       "      <td id=\"T_d6216_row4_col1\" class=\"data row4 col1\" >657</td>\n",
       "      <td id=\"T_d6216_row4_col2\" class=\"data row4 col2\" >110</td>\n",
       "      <td id=\"T_d6216_row4_col3\" class=\"data row4 col3\" >1077</td>\n",
       "      <td id=\"T_d6216_row4_col4\" class=\"data row4 col4\" >173</td>\n",
       "      <td id=\"T_d6216_row4_col5\" class=\"data row4 col5\" >57</td>\n",
       "      <td id=\"T_d6216_row4_col6\" class=\"data row4 col6\" >228</td>\n",
       "      <td id=\"T_d6216_row4_col7\" class=\"data row4 col7\" >117</td>\n",
       "      <td id=\"T_d6216_row4_col8\" class=\"data row4 col8\" >107</td>\n",
       "      <td id=\"T_d6216_row4_col9\" class=\"data row4 col9\" >1501</td>\n",
       "      <td id=\"T_d6216_row4_col10\" class=\"data row4 col10\" >4342</td>\n",
       "    </tr>\n",
       "    <tr>\n",
       "      <th id=\"T_d6216_level0_row5\" class=\"row_heading level0 row5\" >Other</th>\n",
       "      <td id=\"T_d6216_row5_col0\" class=\"data row5 col0\" >114</td>\n",
       "      <td id=\"T_d6216_row5_col1\" class=\"data row5 col1\" >135</td>\n",
       "      <td id=\"T_d6216_row5_col2\" class=\"data row5 col2\" >9</td>\n",
       "      <td id=\"T_d6216_row5_col3\" class=\"data row5 col3\" >190</td>\n",
       "      <td id=\"T_d6216_row5_col4\" class=\"data row5 col4\" >24</td>\n",
       "      <td id=\"T_d6216_row5_col5\" class=\"data row5 col5\" >6</td>\n",
       "      <td id=\"T_d6216_row5_col6\" class=\"data row5 col6\" >28</td>\n",
       "      <td id=\"T_d6216_row5_col7\" class=\"data row5 col7\" >18</td>\n",
       "      <td id=\"T_d6216_row5_col8\" class=\"data row5 col8\" >7</td>\n",
       "      <td id=\"T_d6216_row5_col9\" class=\"data row5 col9\" >355</td>\n",
       "      <td id=\"T_d6216_row5_col10\" class=\"data row5 col10\" >886</td>\n",
       "    </tr>\n",
       "    <tr>\n",
       "      <th id=\"T_d6216_level0_row6\" class=\"row_heading level0 row6\" >Patients</th>\n",
       "      <td id=\"T_d6216_row6_col0\" class=\"data row6 col0\" >789</td>\n",
       "      <td id=\"T_d6216_row6_col1\" class=\"data row6 col1\" >2043</td>\n",
       "      <td id=\"T_d6216_row6_col2\" class=\"data row6 col2\" >173</td>\n",
       "      <td id=\"T_d6216_row6_col3\" class=\"data row6 col3\" >2557</td>\n",
       "      <td id=\"T_d6216_row6_col4\" class=\"data row6 col4\" >385</td>\n",
       "      <td id=\"T_d6216_row6_col5\" class=\"data row6 col5\" >78</td>\n",
       "      <td id=\"T_d6216_row6_col6\" class=\"data row6 col6\" >450</td>\n",
       "      <td id=\"T_d6216_row6_col7\" class=\"data row6 col7\" >146</td>\n",
       "      <td id=\"T_d6216_row6_col8\" class=\"data row6 col8\" >112</td>\n",
       "      <td id=\"T_d6216_row6_col9\" class=\"data row6 col9\" >1129</td>\n",
       "      <td id=\"T_d6216_row6_col10\" class=\"data row6 col10\" >7862</td>\n",
       "    </tr>\n",
       "    <tr>\n",
       "      <th id=\"T_d6216_level0_row7\" class=\"row_heading level0 row7\" >Undefined</th>\n",
       "      <td id=\"T_d6216_row7_col0\" class=\"data row7 col0\" >42</td>\n",
       "      <td id=\"T_d6216_row7_col1\" class=\"data row7 col1\" >127</td>\n",
       "      <td id=\"T_d6216_row7_col2\" class=\"data row7 col2\" >23</td>\n",
       "      <td id=\"T_d6216_row7_col3\" class=\"data row7 col3\" >210</td>\n",
       "      <td id=\"T_d6216_row7_col4\" class=\"data row7 col4\" >61</td>\n",
       "      <td id=\"T_d6216_row7_col5\" class=\"data row7 col5\" >26</td>\n",
       "      <td id=\"T_d6216_row7_col6\" class=\"data row7 col6\" >50</td>\n",
       "      <td id=\"T_d6216_row7_col7\" class=\"data row7 col7\" >23</td>\n",
       "      <td id=\"T_d6216_row7_col8\" class=\"data row7 col8\" >12</td>\n",
       "      <td id=\"T_d6216_row7_col9\" class=\"data row7 col9\" >238</td>\n",
       "      <td id=\"T_d6216_row7_col10\" class=\"data row7 col10\" >812</td>\n",
       "    </tr>\n",
       "    <tr>\n",
       "      <th id=\"T_d6216_level0_row8\" class=\"row_heading level0 row8\" >Column_Total</th>\n",
       "      <td id=\"T_d6216_row8_col0\" class=\"data row8 col0\" >2843</td>\n",
       "      <td id=\"T_d6216_row8_col1\" class=\"data row8 col1\" >7040</td>\n",
       "      <td id=\"T_d6216_row8_col2\" class=\"data row8 col2\" >1426</td>\n",
       "      <td id=\"T_d6216_row8_col3\" class=\"data row8 col3\" >10955</td>\n",
       "      <td id=\"T_d6216_row8_col4\" class=\"data row8 col4\" >2520</td>\n",
       "      <td id=\"T_d6216_row8_col5\" class=\"data row8 col5\" >630</td>\n",
       "      <td id=\"T_d6216_row8_col6\" class=\"data row8 col6\" >2729</td>\n",
       "      <td id=\"T_d6216_row8_col7\" class=\"data row8 col7\" >1291</td>\n",
       "      <td id=\"T_d6216_row8_col8\" class=\"data row8 col8\" >1193</td>\n",
       "      <td id=\"T_d6216_row8_col9\" class=\"data row8 col9\" >11489</td>\n",
       "      <td id=\"T_d6216_row8_col10\" class=\"data row8 col10\" >42116</td>\n",
       "    </tr>\n",
       "  </tbody>\n",
       "</table>\n"
      ],
      "text/plain": [
       "<pandas.io.formats.style.Styler at 0x7f67a223e4c0>"
      ]
     },
     "execution_count": 167,
     "metadata": {},
     "output_type": "execute_result"
    }
   ],
   "source": [
    "biom = ['ROS1', 'ALK', 'EXON', 'EGFR', 'KRAS', 'NTRK', 'BRAF', 'MET', 'RET', 'HER2']\n",
    "variable = \"User_status\"\n",
    "df_status = df[[variable, \"id\", 'ROS1', 'ALK', 'EXON', 'EGFR', 'KRAS', 'NTRK', 'BRAF', 'MET', 'RET', 'HER2']]\n",
    "\n",
    "\n",
    "for i, bio in enumerate(biom):\n",
    "    df_tmp = df_status.loc[df_status[bio]==1].groupby([variable, bio]).agg(bio = (\"id\", \"count\")).reset_index()\n",
    "    df_tmp = df_tmp[[variable,\"bio\"]].rename(columns = {\"bio\": bio})\n",
    "    \n",
    "    if i==0:\n",
    "        pivot_table1 = df_tmp\n",
    "    else:\n",
    "        pivot_table1 = pivot_table1.merge(df_tmp, how = \"left\", on = [variable]) \n",
    "\n",
    "pivot_table1[\"somme_ligne\"] = pivot_table1[biom].sum(axis=1)\n",
    "\n",
    "\n",
    "df_tmp = pivot_table1.copy()\n",
    "biom.append(\"somme_ligne\")\n",
    "for i, status in enumerate(pivot_table1[variable]):\n",
    "    for i, bio in enumerate(biom):\n",
    "        df_tmp[bio] = pivot_table1[bio]#/pivot_table[\"somme_ligne\"]*100\n",
    "    \n",
    "pivot_table1 = df_tmp[[variable, 'ROS1', 'ALK', 'EXON', 'EGFR', 'KRAS', 'NTRK', 'BRAF', 'MET', 'RET', 'HER2', 'somme_ligne']]\n",
    "pivot_table1.index = pivot_table1[variable]\n",
    "pivot_table1 = pivot_table1.drop(columns = [variable])\n",
    "pivot_table1.loc['Column_Total']= pivot_table1.sum(numeric_only=True, axis=0)\n",
    "\n",
    "pivot_table1_style = pivot_table1.style.format(precision=0, na_rep='')\\\n",
    ".set_caption(\"Les nombre de références aux biomarqueurs en fonction du statut des auteurs\")\\\n",
    " .set_table_styles([{\n",
    "     'selector': 'caption',\n",
    "     'props': 'caption-side: top ; color: black ; font-size : 14pt'\n",
    " }], overwrite=False)\n",
    "\n",
    "pivot_table1_style"
   ]
  },
  {
   "cell_type": "code",
   "execution_count": 168,
   "id": "77d2af0e",
   "metadata": {
    "tags": [
     "remove-input"
    ]
   },
   "outputs": [
    {
     "data": {
      "application/vnd.plotly.v1+json": {
       "config": {
        "plotlyServerURL": "https://plot.ly"
       },
       "data": [
        {
         "coloraxis": "coloraxis",
         "hovertemplate": "x: %{x}<br>User_status: %{y}<br>color: %{z}<extra></extra>",
         "name": "0",
         "type": "heatmap",
         "x": [
          "ROS1",
          "ALK",
          "EXON",
          "EGFR",
          "KRAS",
          "NTRK",
          "BRAF",
          "MET",
          "RET",
          "HER2"
         ],
         "xaxis": "x",
         "y": [
          "Advocacy",
          "Health organisations",
          "Health professionals",
          "Media",
          "NPO",
          "Other",
          "Patients",
          "Undefined",
          "Total"
         ],
         "yaxis": "y",
         "z": [
          [
           10.910518053375197,
           17.70015698587127,
           3.6499215070643647,
           30.612244897959183,
           15.620094191522762,
           2.001569858712716,
           2.4725274725274726,
           3.80690737833595,
           3.6891679748822606,
           9.536891679748823
          ],
          [
           11.372007366482505,
           25.736648250460405,
           2.992633517495396,
           19.843462246777165,
           4.972375690607735,
           1.2430939226519337,
           3.7753222836095763,
           2.8084714548802947,
           1.841620626151013,
           25.41436464088398
          ],
          [
           5.400696864111499,
           12.664747765490079,
           4.559915164369035,
           28.215421905771855,
           6.915618845629449,
           2.0224208453264656,
           7.089834873504014,
           4.2493561581578545,
           4.006968641114982,
           24.875018936524768
          ],
          [
           3.352118150019433,
           13.56393315196269,
           3.410415856976292,
           19.28682471822775,
           4.450058297706957,
           1.146521570151574,
           8.666925767586475,
           2.6039642440730666,
           2.837155071900505,
           40.682083171395256
          ],
          [
           7.254721326577614,
           15.131275909719024,
           2.533394748963611,
           24.804237678489173,
           3.984339014279134,
           1.312759097190235,
           5.25103638876094,
           2.694610778443114,
           2.4643021649009675,
           34.56932289267618
          ],
          [
           12.866817155756207,
           15.237020316027088,
           1.0158013544018059,
           21.44469525959368,
           2.708803611738149,
           0.6772009029345373,
           3.160270880361174,
           2.0316027088036117,
           0.7900677200902935,
           40.06772009029345
          ],
          [
           10.035614347494276,
           25.985754261002292,
           2.200457898753498,
           32.52353090816586,
           4.896972780462987,
           0.9921139659119816,
           5.723734418722971,
           1.8570338336301193,
           1.4245738997710506,
           14.360213686084967
          ],
          [
           5.172413793103448,
           15.64039408866995,
           2.832512315270936,
           25.862068965517242,
           7.512315270935961,
           3.201970443349754,
           6.157635467980295,
           2.832512315270936,
           1.477832512315271,
           29.310344827586203
          ],
          [
           6.750403647069997,
           16.715737486940828,
           3.385886598917276,
           26.011492069522273,
           5.983474214075411,
           1.4958685535188527,
           6.479722670718966,
           3.0653433374489505,
           2.8326526735682402,
           27.279418748219204
          ]
         ]
        }
       ],
       "layout": {
        "coloraxis": {
         "colorscale": [
          [
           0,
           "rgb(255,245,240)"
          ],
          [
           0.125,
           "rgb(254,224,210)"
          ],
          [
           0.25,
           "rgb(252,187,161)"
          ],
          [
           0.375,
           "rgb(252,146,114)"
          ],
          [
           0.5,
           "rgb(251,106,74)"
          ],
          [
           0.625,
           "rgb(239,59,44)"
          ],
          [
           0.75,
           "rgb(203,24,29)"
          ],
          [
           0.875,
           "rgb(165,15,21)"
          ],
          [
           1,
           "rgb(103,0,13)"
          ]
         ]
        },
        "template": {
         "data": {
          "bar": [
           {
            "error_x": {
             "color": "#2a3f5f"
            },
            "error_y": {
             "color": "#2a3f5f"
            },
            "marker": {
             "line": {
              "color": "#E5ECF6",
              "width": 0.5
             },
             "pattern": {
              "fillmode": "overlay",
              "size": 10,
              "solidity": 0.2
             }
            },
            "type": "bar"
           }
          ],
          "barpolar": [
           {
            "marker": {
             "line": {
              "color": "#E5ECF6",
              "width": 0.5
             },
             "pattern": {
              "fillmode": "overlay",
              "size": 10,
              "solidity": 0.2
             }
            },
            "type": "barpolar"
           }
          ],
          "carpet": [
           {
            "aaxis": {
             "endlinecolor": "#2a3f5f",
             "gridcolor": "white",
             "linecolor": "white",
             "minorgridcolor": "white",
             "startlinecolor": "#2a3f5f"
            },
            "baxis": {
             "endlinecolor": "#2a3f5f",
             "gridcolor": "white",
             "linecolor": "white",
             "minorgridcolor": "white",
             "startlinecolor": "#2a3f5f"
            },
            "type": "carpet"
           }
          ],
          "choropleth": [
           {
            "colorbar": {
             "outlinewidth": 0,
             "ticks": ""
            },
            "type": "choropleth"
           }
          ],
          "contour": [
           {
            "colorbar": {
             "outlinewidth": 0,
             "ticks": ""
            },
            "colorscale": [
             [
              0,
              "#0d0887"
             ],
             [
              0.1111111111111111,
              "#46039f"
             ],
             [
              0.2222222222222222,
              "#7201a8"
             ],
             [
              0.3333333333333333,
              "#9c179e"
             ],
             [
              0.4444444444444444,
              "#bd3786"
             ],
             [
              0.5555555555555556,
              "#d8576b"
             ],
             [
              0.6666666666666666,
              "#ed7953"
             ],
             [
              0.7777777777777778,
              "#fb9f3a"
             ],
             [
              0.8888888888888888,
              "#fdca26"
             ],
             [
              1,
              "#f0f921"
             ]
            ],
            "type": "contour"
           }
          ],
          "contourcarpet": [
           {
            "colorbar": {
             "outlinewidth": 0,
             "ticks": ""
            },
            "type": "contourcarpet"
           }
          ],
          "heatmap": [
           {
            "colorbar": {
             "outlinewidth": 0,
             "ticks": ""
            },
            "colorscale": [
             [
              0,
              "#0d0887"
             ],
             [
              0.1111111111111111,
              "#46039f"
             ],
             [
              0.2222222222222222,
              "#7201a8"
             ],
             [
              0.3333333333333333,
              "#9c179e"
             ],
             [
              0.4444444444444444,
              "#bd3786"
             ],
             [
              0.5555555555555556,
              "#d8576b"
             ],
             [
              0.6666666666666666,
              "#ed7953"
             ],
             [
              0.7777777777777778,
              "#fb9f3a"
             ],
             [
              0.8888888888888888,
              "#fdca26"
             ],
             [
              1,
              "#f0f921"
             ]
            ],
            "type": "heatmap"
           }
          ],
          "heatmapgl": [
           {
            "colorbar": {
             "outlinewidth": 0,
             "ticks": ""
            },
            "colorscale": [
             [
              0,
              "#0d0887"
             ],
             [
              0.1111111111111111,
              "#46039f"
             ],
             [
              0.2222222222222222,
              "#7201a8"
             ],
             [
              0.3333333333333333,
              "#9c179e"
             ],
             [
              0.4444444444444444,
              "#bd3786"
             ],
             [
              0.5555555555555556,
              "#d8576b"
             ],
             [
              0.6666666666666666,
              "#ed7953"
             ],
             [
              0.7777777777777778,
              "#fb9f3a"
             ],
             [
              0.8888888888888888,
              "#fdca26"
             ],
             [
              1,
              "#f0f921"
             ]
            ],
            "type": "heatmapgl"
           }
          ],
          "histogram": [
           {
            "marker": {
             "pattern": {
              "fillmode": "overlay",
              "size": 10,
              "solidity": 0.2
             }
            },
            "type": "histogram"
           }
          ],
          "histogram2d": [
           {
            "colorbar": {
             "outlinewidth": 0,
             "ticks": ""
            },
            "colorscale": [
             [
              0,
              "#0d0887"
             ],
             [
              0.1111111111111111,
              "#46039f"
             ],
             [
              0.2222222222222222,
              "#7201a8"
             ],
             [
              0.3333333333333333,
              "#9c179e"
             ],
             [
              0.4444444444444444,
              "#bd3786"
             ],
             [
              0.5555555555555556,
              "#d8576b"
             ],
             [
              0.6666666666666666,
              "#ed7953"
             ],
             [
              0.7777777777777778,
              "#fb9f3a"
             ],
             [
              0.8888888888888888,
              "#fdca26"
             ],
             [
              1,
              "#f0f921"
             ]
            ],
            "type": "histogram2d"
           }
          ],
          "histogram2dcontour": [
           {
            "colorbar": {
             "outlinewidth": 0,
             "ticks": ""
            },
            "colorscale": [
             [
              0,
              "#0d0887"
             ],
             [
              0.1111111111111111,
              "#46039f"
             ],
             [
              0.2222222222222222,
              "#7201a8"
             ],
             [
              0.3333333333333333,
              "#9c179e"
             ],
             [
              0.4444444444444444,
              "#bd3786"
             ],
             [
              0.5555555555555556,
              "#d8576b"
             ],
             [
              0.6666666666666666,
              "#ed7953"
             ],
             [
              0.7777777777777778,
              "#fb9f3a"
             ],
             [
              0.8888888888888888,
              "#fdca26"
             ],
             [
              1,
              "#f0f921"
             ]
            ],
            "type": "histogram2dcontour"
           }
          ],
          "mesh3d": [
           {
            "colorbar": {
             "outlinewidth": 0,
             "ticks": ""
            },
            "type": "mesh3d"
           }
          ],
          "parcoords": [
           {
            "line": {
             "colorbar": {
              "outlinewidth": 0,
              "ticks": ""
             }
            },
            "type": "parcoords"
           }
          ],
          "pie": [
           {
            "automargin": true,
            "type": "pie"
           }
          ],
          "scatter": [
           {
            "fillpattern": {
             "fillmode": "overlay",
             "size": 10,
             "solidity": 0.2
            },
            "type": "scatter"
           }
          ],
          "scatter3d": [
           {
            "line": {
             "colorbar": {
              "outlinewidth": 0,
              "ticks": ""
             }
            },
            "marker": {
             "colorbar": {
              "outlinewidth": 0,
              "ticks": ""
             }
            },
            "type": "scatter3d"
           }
          ],
          "scattercarpet": [
           {
            "marker": {
             "colorbar": {
              "outlinewidth": 0,
              "ticks": ""
             }
            },
            "type": "scattercarpet"
           }
          ],
          "scattergeo": [
           {
            "marker": {
             "colorbar": {
              "outlinewidth": 0,
              "ticks": ""
             }
            },
            "type": "scattergeo"
           }
          ],
          "scattergl": [
           {
            "marker": {
             "colorbar": {
              "outlinewidth": 0,
              "ticks": ""
             }
            },
            "type": "scattergl"
           }
          ],
          "scattermapbox": [
           {
            "marker": {
             "colorbar": {
              "outlinewidth": 0,
              "ticks": ""
             }
            },
            "type": "scattermapbox"
           }
          ],
          "scatterpolar": [
           {
            "marker": {
             "colorbar": {
              "outlinewidth": 0,
              "ticks": ""
             }
            },
            "type": "scatterpolar"
           }
          ],
          "scatterpolargl": [
           {
            "marker": {
             "colorbar": {
              "outlinewidth": 0,
              "ticks": ""
             }
            },
            "type": "scatterpolargl"
           }
          ],
          "scatterternary": [
           {
            "marker": {
             "colorbar": {
              "outlinewidth": 0,
              "ticks": ""
             }
            },
            "type": "scatterternary"
           }
          ],
          "surface": [
           {
            "colorbar": {
             "outlinewidth": 0,
             "ticks": ""
            },
            "colorscale": [
             [
              0,
              "#0d0887"
             ],
             [
              0.1111111111111111,
              "#46039f"
             ],
             [
              0.2222222222222222,
              "#7201a8"
             ],
             [
              0.3333333333333333,
              "#9c179e"
             ],
             [
              0.4444444444444444,
              "#bd3786"
             ],
             [
              0.5555555555555556,
              "#d8576b"
             ],
             [
              0.6666666666666666,
              "#ed7953"
             ],
             [
              0.7777777777777778,
              "#fb9f3a"
             ],
             [
              0.8888888888888888,
              "#fdca26"
             ],
             [
              1,
              "#f0f921"
             ]
            ],
            "type": "surface"
           }
          ],
          "table": [
           {
            "cells": {
             "fill": {
              "color": "#EBF0F8"
             },
             "line": {
              "color": "white"
             }
            },
            "header": {
             "fill": {
              "color": "#C8D4E3"
             },
             "line": {
              "color": "white"
             }
            },
            "type": "table"
           }
          ]
         },
         "layout": {
          "annotationdefaults": {
           "arrowcolor": "#2a3f5f",
           "arrowhead": 0,
           "arrowwidth": 1
          },
          "autotypenumbers": "strict",
          "coloraxis": {
           "colorbar": {
            "outlinewidth": 0,
            "ticks": ""
           }
          },
          "colorscale": {
           "diverging": [
            [
             0,
             "#8e0152"
            ],
            [
             0.1,
             "#c51b7d"
            ],
            [
             0.2,
             "#de77ae"
            ],
            [
             0.3,
             "#f1b6da"
            ],
            [
             0.4,
             "#fde0ef"
            ],
            [
             0.5,
             "#f7f7f7"
            ],
            [
             0.6,
             "#e6f5d0"
            ],
            [
             0.7,
             "#b8e186"
            ],
            [
             0.8,
             "#7fbc41"
            ],
            [
             0.9,
             "#4d9221"
            ],
            [
             1,
             "#276419"
            ]
           ],
           "sequential": [
            [
             0,
             "#0d0887"
            ],
            [
             0.1111111111111111,
             "#46039f"
            ],
            [
             0.2222222222222222,
             "#7201a8"
            ],
            [
             0.3333333333333333,
             "#9c179e"
            ],
            [
             0.4444444444444444,
             "#bd3786"
            ],
            [
             0.5555555555555556,
             "#d8576b"
            ],
            [
             0.6666666666666666,
             "#ed7953"
            ],
            [
             0.7777777777777778,
             "#fb9f3a"
            ],
            [
             0.8888888888888888,
             "#fdca26"
            ],
            [
             1,
             "#f0f921"
            ]
           ],
           "sequentialminus": [
            [
             0,
             "#0d0887"
            ],
            [
             0.1111111111111111,
             "#46039f"
            ],
            [
             0.2222222222222222,
             "#7201a8"
            ],
            [
             0.3333333333333333,
             "#9c179e"
            ],
            [
             0.4444444444444444,
             "#bd3786"
            ],
            [
             0.5555555555555556,
             "#d8576b"
            ],
            [
             0.6666666666666666,
             "#ed7953"
            ],
            [
             0.7777777777777778,
             "#fb9f3a"
            ],
            [
             0.8888888888888888,
             "#fdca26"
            ],
            [
             1,
             "#f0f921"
            ]
           ]
          },
          "colorway": [
           "#636efa",
           "#EF553B",
           "#00cc96",
           "#ab63fa",
           "#FFA15A",
           "#19d3f3",
           "#FF6692",
           "#B6E880",
           "#FF97FF",
           "#FECB52"
          ],
          "font": {
           "color": "#2a3f5f"
          },
          "geo": {
           "bgcolor": "white",
           "lakecolor": "white",
           "landcolor": "#E5ECF6",
           "showlakes": true,
           "showland": true,
           "subunitcolor": "white"
          },
          "hoverlabel": {
           "align": "left"
          },
          "hovermode": "closest",
          "mapbox": {
           "style": "light"
          },
          "paper_bgcolor": "white",
          "plot_bgcolor": "#E5ECF6",
          "polar": {
           "angularaxis": {
            "gridcolor": "white",
            "linecolor": "white",
            "ticks": ""
           },
           "bgcolor": "#E5ECF6",
           "radialaxis": {
            "gridcolor": "white",
            "linecolor": "white",
            "ticks": ""
           }
          },
          "scene": {
           "xaxis": {
            "backgroundcolor": "#E5ECF6",
            "gridcolor": "white",
            "gridwidth": 2,
            "linecolor": "white",
            "showbackground": true,
            "ticks": "",
            "zerolinecolor": "white"
           },
           "yaxis": {
            "backgroundcolor": "#E5ECF6",
            "gridcolor": "white",
            "gridwidth": 2,
            "linecolor": "white",
            "showbackground": true,
            "ticks": "",
            "zerolinecolor": "white"
           },
           "zaxis": {
            "backgroundcolor": "#E5ECF6",
            "gridcolor": "white",
            "gridwidth": 2,
            "linecolor": "white",
            "showbackground": true,
            "ticks": "",
            "zerolinecolor": "white"
           }
          },
          "shapedefaults": {
           "line": {
            "color": "#2a3f5f"
           }
          },
          "ternary": {
           "aaxis": {
            "gridcolor": "white",
            "linecolor": "white",
            "ticks": ""
           },
           "baxis": {
            "gridcolor": "white",
            "linecolor": "white",
            "ticks": ""
           },
           "bgcolor": "#E5ECF6",
           "caxis": {
            "gridcolor": "white",
            "linecolor": "white",
            "ticks": ""
           }
          },
          "title": {
           "x": 0.05
          },
          "xaxis": {
           "automargin": true,
           "gridcolor": "white",
           "linecolor": "white",
           "ticks": "",
           "title": {
            "standoff": 15
           },
           "zerolinecolor": "white",
           "zerolinewidth": 2
          },
          "yaxis": {
           "automargin": true,
           "gridcolor": "white",
           "linecolor": "white",
           "ticks": "",
           "title": {
            "standoff": 15
           },
           "zerolinecolor": "white",
           "zerolinewidth": 2
          }
         }
        },
        "title": {
         "text": "Proportion des références aux différents biomarqueurs en fonction du statut des auteurs"
        },
        "xaxis": {
         "anchor": "y",
         "constrain": "domain",
         "domain": [
          0,
          1
         ],
         "scaleanchor": "y"
        },
        "yaxis": {
         "anchor": "x",
         "autorange": "reversed",
         "constrain": "domain",
         "domain": [
          0,
          1
         ],
         "title": {
          "text": "User_status"
         }
        }
       }
      },
      "text/html": [
       "<div>                            <div id=\"8a96da01-21a4-4bd4-a864-1f6abd31c569\" class=\"plotly-graph-div\" style=\"height:525px; width:100%;\"></div>            <script type=\"text/javascript\">                require([\"plotly\"], function(Plotly) {                    window.PLOTLYENV=window.PLOTLYENV || {};                                    if (document.getElementById(\"8a96da01-21a4-4bd4-a864-1f6abd31c569\")) {                    Plotly.newPlot(                        \"8a96da01-21a4-4bd4-a864-1f6abd31c569\",                        [{\"coloraxis\":\"coloraxis\",\"name\":\"0\",\"x\":[\"ROS1\",\"ALK\",\"EXON\",\"EGFR\",\"KRAS\",\"NTRK\",\"BRAF\",\"MET\",\"RET\",\"HER2\"],\"y\":[\"Advocacy\",\"Health organisations\",\"Health professionals\",\"Media\",\"NPO\",\"Other\",\"Patients\",\"Undefined\",\"Total\"],\"z\":[[10.910518053375197,17.70015698587127,3.6499215070643647,30.612244897959183,15.620094191522762,2.001569858712716,2.4725274725274726,3.80690737833595,3.6891679748822606,9.536891679748823],[11.372007366482505,25.736648250460405,2.992633517495396,19.843462246777165,4.972375690607735,1.2430939226519337,3.7753222836095763,2.8084714548802947,1.841620626151013,25.41436464088398],[5.400696864111499,12.664747765490079,4.559915164369035,28.215421905771855,6.915618845629449,2.0224208453264656,7.089834873504014,4.2493561581578545,4.006968641114982,24.875018936524768],[3.352118150019433,13.56393315196269,3.410415856976292,19.28682471822775,4.450058297706957,1.146521570151574,8.666925767586475,2.6039642440730666,2.837155071900505,40.682083171395256],[7.254721326577614,15.131275909719024,2.533394748963611,24.804237678489173,3.984339014279134,1.312759097190235,5.25103638876094,2.694610778443114,2.4643021649009675,34.56932289267618],[12.866817155756207,15.237020316027088,1.0158013544018059,21.44469525959368,2.708803611738149,0.6772009029345373,3.160270880361174,2.0316027088036117,0.7900677200902935,40.06772009029345],[10.035614347494276,25.985754261002292,2.200457898753498,32.52353090816586,4.896972780462987,0.9921139659119816,5.723734418722971,1.8570338336301193,1.4245738997710506,14.360213686084967],[5.172413793103448,15.64039408866995,2.832512315270936,25.862068965517242,7.512315270935961,3.201970443349754,6.157635467980295,2.832512315270936,1.477832512315271,29.310344827586203],[6.750403647069997,16.715737486940828,3.385886598917276,26.011492069522273,5.983474214075411,1.4958685535188527,6.479722670718966,3.0653433374489505,2.8326526735682402,27.279418748219204]],\"type\":\"heatmap\",\"xaxis\":\"x\",\"yaxis\":\"y\",\"hovertemplate\":\"x: %{x}<br>User_status: %{y}<br>color: %{z}<extra></extra>\"}],                        {\"template\":{\"data\":{\"histogram2dcontour\":[{\"type\":\"histogram2dcontour\",\"colorbar\":{\"outlinewidth\":0,\"ticks\":\"\"},\"colorscale\":[[0.0,\"#0d0887\"],[0.1111111111111111,\"#46039f\"],[0.2222222222222222,\"#7201a8\"],[0.3333333333333333,\"#9c179e\"],[0.4444444444444444,\"#bd3786\"],[0.5555555555555556,\"#d8576b\"],[0.6666666666666666,\"#ed7953\"],[0.7777777777777778,\"#fb9f3a\"],[0.8888888888888888,\"#fdca26\"],[1.0,\"#f0f921\"]]}],\"choropleth\":[{\"type\":\"choropleth\",\"colorbar\":{\"outlinewidth\":0,\"ticks\":\"\"}}],\"histogram2d\":[{\"type\":\"histogram2d\",\"colorbar\":{\"outlinewidth\":0,\"ticks\":\"\"},\"colorscale\":[[0.0,\"#0d0887\"],[0.1111111111111111,\"#46039f\"],[0.2222222222222222,\"#7201a8\"],[0.3333333333333333,\"#9c179e\"],[0.4444444444444444,\"#bd3786\"],[0.5555555555555556,\"#d8576b\"],[0.6666666666666666,\"#ed7953\"],[0.7777777777777778,\"#fb9f3a\"],[0.8888888888888888,\"#fdca26\"],[1.0,\"#f0f921\"]]}],\"heatmap\":[{\"type\":\"heatmap\",\"colorbar\":{\"outlinewidth\":0,\"ticks\":\"\"},\"colorscale\":[[0.0,\"#0d0887\"],[0.1111111111111111,\"#46039f\"],[0.2222222222222222,\"#7201a8\"],[0.3333333333333333,\"#9c179e\"],[0.4444444444444444,\"#bd3786\"],[0.5555555555555556,\"#d8576b\"],[0.6666666666666666,\"#ed7953\"],[0.7777777777777778,\"#fb9f3a\"],[0.8888888888888888,\"#fdca26\"],[1.0,\"#f0f921\"]]}],\"heatmapgl\":[{\"type\":\"heatmapgl\",\"colorbar\":{\"outlinewidth\":0,\"ticks\":\"\"},\"colorscale\":[[0.0,\"#0d0887\"],[0.1111111111111111,\"#46039f\"],[0.2222222222222222,\"#7201a8\"],[0.3333333333333333,\"#9c179e\"],[0.4444444444444444,\"#bd3786\"],[0.5555555555555556,\"#d8576b\"],[0.6666666666666666,\"#ed7953\"],[0.7777777777777778,\"#fb9f3a\"],[0.8888888888888888,\"#fdca26\"],[1.0,\"#f0f921\"]]}],\"contourcarpet\":[{\"type\":\"contourcarpet\",\"colorbar\":{\"outlinewidth\":0,\"ticks\":\"\"}}],\"contour\":[{\"type\":\"contour\",\"colorbar\":{\"outlinewidth\":0,\"ticks\":\"\"},\"colorscale\":[[0.0,\"#0d0887\"],[0.1111111111111111,\"#46039f\"],[0.2222222222222222,\"#7201a8\"],[0.3333333333333333,\"#9c179e\"],[0.4444444444444444,\"#bd3786\"],[0.5555555555555556,\"#d8576b\"],[0.6666666666666666,\"#ed7953\"],[0.7777777777777778,\"#fb9f3a\"],[0.8888888888888888,\"#fdca26\"],[1.0,\"#f0f921\"]]}],\"surface\":[{\"type\":\"surface\",\"colorbar\":{\"outlinewidth\":0,\"ticks\":\"\"},\"colorscale\":[[0.0,\"#0d0887\"],[0.1111111111111111,\"#46039f\"],[0.2222222222222222,\"#7201a8\"],[0.3333333333333333,\"#9c179e\"],[0.4444444444444444,\"#bd3786\"],[0.5555555555555556,\"#d8576b\"],[0.6666666666666666,\"#ed7953\"],[0.7777777777777778,\"#fb9f3a\"],[0.8888888888888888,\"#fdca26\"],[1.0,\"#f0f921\"]]}],\"mesh3d\":[{\"type\":\"mesh3d\",\"colorbar\":{\"outlinewidth\":0,\"ticks\":\"\"}}],\"scatter\":[{\"fillpattern\":{\"fillmode\":\"overlay\",\"size\":10,\"solidity\":0.2},\"type\":\"scatter\"}],\"parcoords\":[{\"type\":\"parcoords\",\"line\":{\"colorbar\":{\"outlinewidth\":0,\"ticks\":\"\"}}}],\"scatterpolargl\":[{\"type\":\"scatterpolargl\",\"marker\":{\"colorbar\":{\"outlinewidth\":0,\"ticks\":\"\"}}}],\"bar\":[{\"error_x\":{\"color\":\"#2a3f5f\"},\"error_y\":{\"color\":\"#2a3f5f\"},\"marker\":{\"line\":{\"color\":\"#E5ECF6\",\"width\":0.5},\"pattern\":{\"fillmode\":\"overlay\",\"size\":10,\"solidity\":0.2}},\"type\":\"bar\"}],\"scattergeo\":[{\"type\":\"scattergeo\",\"marker\":{\"colorbar\":{\"outlinewidth\":0,\"ticks\":\"\"}}}],\"scatterpolar\":[{\"type\":\"scatterpolar\",\"marker\":{\"colorbar\":{\"outlinewidth\":0,\"ticks\":\"\"}}}],\"histogram\":[{\"marker\":{\"pattern\":{\"fillmode\":\"overlay\",\"size\":10,\"solidity\":0.2}},\"type\":\"histogram\"}],\"scattergl\":[{\"type\":\"scattergl\",\"marker\":{\"colorbar\":{\"outlinewidth\":0,\"ticks\":\"\"}}}],\"scatter3d\":[{\"type\":\"scatter3d\",\"line\":{\"colorbar\":{\"outlinewidth\":0,\"ticks\":\"\"}},\"marker\":{\"colorbar\":{\"outlinewidth\":0,\"ticks\":\"\"}}}],\"scattermapbox\":[{\"type\":\"scattermapbox\",\"marker\":{\"colorbar\":{\"outlinewidth\":0,\"ticks\":\"\"}}}],\"scatterternary\":[{\"type\":\"scatterternary\",\"marker\":{\"colorbar\":{\"outlinewidth\":0,\"ticks\":\"\"}}}],\"scattercarpet\":[{\"type\":\"scattercarpet\",\"marker\":{\"colorbar\":{\"outlinewidth\":0,\"ticks\":\"\"}}}],\"carpet\":[{\"aaxis\":{\"endlinecolor\":\"#2a3f5f\",\"gridcolor\":\"white\",\"linecolor\":\"white\",\"minorgridcolor\":\"white\",\"startlinecolor\":\"#2a3f5f\"},\"baxis\":{\"endlinecolor\":\"#2a3f5f\",\"gridcolor\":\"white\",\"linecolor\":\"white\",\"minorgridcolor\":\"white\",\"startlinecolor\":\"#2a3f5f\"},\"type\":\"carpet\"}],\"table\":[{\"cells\":{\"fill\":{\"color\":\"#EBF0F8\"},\"line\":{\"color\":\"white\"}},\"header\":{\"fill\":{\"color\":\"#C8D4E3\"},\"line\":{\"color\":\"white\"}},\"type\":\"table\"}],\"barpolar\":[{\"marker\":{\"line\":{\"color\":\"#E5ECF6\",\"width\":0.5},\"pattern\":{\"fillmode\":\"overlay\",\"size\":10,\"solidity\":0.2}},\"type\":\"barpolar\"}],\"pie\":[{\"automargin\":true,\"type\":\"pie\"}]},\"layout\":{\"autotypenumbers\":\"strict\",\"colorway\":[\"#636efa\",\"#EF553B\",\"#00cc96\",\"#ab63fa\",\"#FFA15A\",\"#19d3f3\",\"#FF6692\",\"#B6E880\",\"#FF97FF\",\"#FECB52\"],\"font\":{\"color\":\"#2a3f5f\"},\"hovermode\":\"closest\",\"hoverlabel\":{\"align\":\"left\"},\"paper_bgcolor\":\"white\",\"plot_bgcolor\":\"#E5ECF6\",\"polar\":{\"bgcolor\":\"#E5ECF6\",\"angularaxis\":{\"gridcolor\":\"white\",\"linecolor\":\"white\",\"ticks\":\"\"},\"radialaxis\":{\"gridcolor\":\"white\",\"linecolor\":\"white\",\"ticks\":\"\"}},\"ternary\":{\"bgcolor\":\"#E5ECF6\",\"aaxis\":{\"gridcolor\":\"white\",\"linecolor\":\"white\",\"ticks\":\"\"},\"baxis\":{\"gridcolor\":\"white\",\"linecolor\":\"white\",\"ticks\":\"\"},\"caxis\":{\"gridcolor\":\"white\",\"linecolor\":\"white\",\"ticks\":\"\"}},\"coloraxis\":{\"colorbar\":{\"outlinewidth\":0,\"ticks\":\"\"}},\"colorscale\":{\"sequential\":[[0.0,\"#0d0887\"],[0.1111111111111111,\"#46039f\"],[0.2222222222222222,\"#7201a8\"],[0.3333333333333333,\"#9c179e\"],[0.4444444444444444,\"#bd3786\"],[0.5555555555555556,\"#d8576b\"],[0.6666666666666666,\"#ed7953\"],[0.7777777777777778,\"#fb9f3a\"],[0.8888888888888888,\"#fdca26\"],[1.0,\"#f0f921\"]],\"sequentialminus\":[[0.0,\"#0d0887\"],[0.1111111111111111,\"#46039f\"],[0.2222222222222222,\"#7201a8\"],[0.3333333333333333,\"#9c179e\"],[0.4444444444444444,\"#bd3786\"],[0.5555555555555556,\"#d8576b\"],[0.6666666666666666,\"#ed7953\"],[0.7777777777777778,\"#fb9f3a\"],[0.8888888888888888,\"#fdca26\"],[1.0,\"#f0f921\"]],\"diverging\":[[0,\"#8e0152\"],[0.1,\"#c51b7d\"],[0.2,\"#de77ae\"],[0.3,\"#f1b6da\"],[0.4,\"#fde0ef\"],[0.5,\"#f7f7f7\"],[0.6,\"#e6f5d0\"],[0.7,\"#b8e186\"],[0.8,\"#7fbc41\"],[0.9,\"#4d9221\"],[1,\"#276419\"]]},\"xaxis\":{\"gridcolor\":\"white\",\"linecolor\":\"white\",\"ticks\":\"\",\"title\":{\"standoff\":15},\"zerolinecolor\":\"white\",\"automargin\":true,\"zerolinewidth\":2},\"yaxis\":{\"gridcolor\":\"white\",\"linecolor\":\"white\",\"ticks\":\"\",\"title\":{\"standoff\":15},\"zerolinecolor\":\"white\",\"automargin\":true,\"zerolinewidth\":2},\"scene\":{\"xaxis\":{\"backgroundcolor\":\"#E5ECF6\",\"gridcolor\":\"white\",\"linecolor\":\"white\",\"showbackground\":true,\"ticks\":\"\",\"zerolinecolor\":\"white\",\"gridwidth\":2},\"yaxis\":{\"backgroundcolor\":\"#E5ECF6\",\"gridcolor\":\"white\",\"linecolor\":\"white\",\"showbackground\":true,\"ticks\":\"\",\"zerolinecolor\":\"white\",\"gridwidth\":2},\"zaxis\":{\"backgroundcolor\":\"#E5ECF6\",\"gridcolor\":\"white\",\"linecolor\":\"white\",\"showbackground\":true,\"ticks\":\"\",\"zerolinecolor\":\"white\",\"gridwidth\":2}},\"shapedefaults\":{\"line\":{\"color\":\"#2a3f5f\"}},\"annotationdefaults\":{\"arrowcolor\":\"#2a3f5f\",\"arrowhead\":0,\"arrowwidth\":1},\"geo\":{\"bgcolor\":\"white\",\"landcolor\":\"#E5ECF6\",\"subunitcolor\":\"white\",\"showland\":true,\"showlakes\":true,\"lakecolor\":\"white\"},\"title\":{\"x\":0.05},\"mapbox\":{\"style\":\"light\"}}},\"xaxis\":{\"anchor\":\"y\",\"domain\":[0.0,1.0],\"scaleanchor\":\"y\",\"constrain\":\"domain\"},\"yaxis\":{\"anchor\":\"x\",\"domain\":[0.0,1.0],\"autorange\":\"reversed\",\"constrain\":\"domain\",\"title\":{\"text\":\"User_status\"}},\"coloraxis\":{\"colorscale\":[[0.0,\"rgb(255,245,240)\"],[0.125,\"rgb(254,224,210)\"],[0.25,\"rgb(252,187,161)\"],[0.375,\"rgb(252,146,114)\"],[0.5,\"rgb(251,106,74)\"],[0.625,\"rgb(239,59,44)\"],[0.75,\"rgb(203,24,29)\"],[0.875,\"rgb(165,15,21)\"],[1.0,\"rgb(103,0,13)\"]]},\"title\":{\"text\":\"Proportion des r\\u00e9f\\u00e9rences aux diff\\u00e9rents biomarqueurs en fonction du statut des auteurs\"}},                        {\"responsive\": true}                    ).then(function(){\n",
       "\n",
       "var gd = document.getElementById('8a96da01-21a4-4bd4-a864-1f6abd31c569');\n",
       "var x = new MutationObserver(function (mutations, observer) {{\n",
       "        var display = window.getComputedStyle(gd).display;\n",
       "        if (!display || display === 'none') {{\n",
       "            console.log([gd, 'removed!']);\n",
       "            Plotly.purge(gd);\n",
       "            observer.disconnect();\n",
       "        }}\n",
       "}});\n",
       "\n",
       "// Listen for the removal of the full notebook cells\n",
       "var notebookContainer = gd.closest('#notebook-container');\n",
       "if (notebookContainer) {{\n",
       "    x.observe(notebookContainer, {childList: true});\n",
       "}}\n",
       "\n",
       "// Listen for the clearing of the current output cell\n",
       "var outputEl = gd.closest('.output');\n",
       "if (outputEl) {{\n",
       "    x.observe(outputEl, {childList: true});\n",
       "}}\n",
       "\n",
       "                        })                };                });            </script>        </div>"
      ]
     },
     "metadata": {},
     "output_type": "display_data"
    }
   ],
   "source": [
    "fig = px.imshow(pivot_table,color_continuous_scale='reds', title = \"Proportion des références aux différents biomarqueurs en fonction du statut des auteurs\")\n",
    "fig.show()"
   ]
  },
  {
   "cell_type": "code",
   "execution_count": 179,
   "id": "13ca42c7",
   "metadata": {
    "tags": [
     "remove-input",
     "hide-output"
    ]
   },
   "outputs": [
    {
     "data": {
      "text/plain": [
       "[Text(0.5, 1.0, 'Proportion des références aux différents biomarqueurs en fonction du statut des auteurs')]"
      ]
     },
     "execution_count": 179,
     "metadata": {},
     "output_type": "execute_result"
    },
    {
     "data": {
      "image/png": "[encoded data removed]",
      "text/plain": [
       "<Figure size 1600x800 with 2 Axes>"
      ]
     },
     "metadata": {
      "filenames": {
       "image/png": "/home/aymeric/python-scripts/espadon/my-espadon-notebook/_build/jupyter_execute/analyse_preleminaire_28_1.png"
      }
     },
     "output_type": "display_data"
    }
   ],
   "source": [
    "import seaborn as sns \n",
    "from matplotlib.colors import LogNorm, Normalize\n",
    "\n",
    "fig = plt.figure(num=None, figsize=(20, 10), dpi=80, facecolor='w', edgecolor='k')\n",
    "\n",
    "cpalette = sns.color_palette(\"GnBu_d\")\n",
    "res = sns.heatmap(pivot_table, annot=True, linewidths=.5, fmt='.2f',  cmap=\"Reds\")\n",
    "\n",
    "for t in res.texts: t.set_text(t.get_text() + \" %\")\n",
    "#plt.savefig('biomarkers_dist.pdf')\n",
    "res.set(title =\"Proportion des références aux différents biomarqueurs en fonction du statut des auteurs\")"
   ]
  },
  {
   "cell_type": "code",
   "execution_count": null,
   "id": "36e8f7d2",
   "metadata": {},
   "outputs": [],
   "source": []
  }
 ],
 "metadata": {
  "celltoolbar": "Tags",
  "hide_input": false,
  "kernelspec": {
   "display_name": "analyse_tweets",
   "language": "python",
   "name": "analyse_tweets"
  },
  "language_info": {
   "codemirror_mode": {
    "name": "ipython",
    "version": 3
   },
   "file_extension": ".py",
   "mimetype": "text/x-python",
   "name": "python",
   "nbconvert_exporter": "python",
   "pygments_lexer": "ipython3",
   "version": "3.9.7"
  },
  "latex_envs": {
   "LaTeX_envs_menu_present": true,
   "autoclose": false,
   "autocomplete": true,
   "bibliofile": "biblio.bib",
   "cite_by": "apalike",
   "current_citInitial": 1,
   "eqLabelWithNumbers": true,
   "eqNumInitial": 1,
   "hotkeys": {
    "equation": "Ctrl-E",
    "itemize": "Ctrl-I"
   },
   "labels_anchors": false,
   "latex_user_defs": false,
   "report_style_numbering": false,
   "user_envs_cfg": false
  },
  "toc": {
   "base_numbering": 1,
   "nav_menu": {},
   "number_sections": true,
   "sideBar": true,
   "skip_h1_title": false,
   "title_cell": "Table of Contents",
   "title_sidebar": "Contents",
   "toc_cell": false,
   "toc_position": {},
   "toc_section_display": true,
   "toc_window_display": false
  }
 },
 "nbformat": 4,
 "nbformat_minor": 5
}