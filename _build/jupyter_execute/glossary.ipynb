{
 "cells": [
  {
   "cell_type": "markdown",
   "id": "dbf26f6e",
   "metadata": {},
   "source": [
    "# Glossaire\n",
    "\n",
    "```{glossary}\n",
    "\"nb_tweets_by_group_biom\"\n",
    "    Nombre de tweets par groupe contenant le biomarqueur *x*.\n",
    "\n",
    "\"nb_user_by_group_biom\"\n",
    "    Nombre d'utilisateur par groupe ayant publié au moins un tweet contenant le biomarqueur *x*.\n",
    "\n",
    "\"prop_tweets_biom_by_group\"\n",
    "    Part des tweets publiés par un groupe sur l'ensemble des tweets contenant le biomarqueur *x*.\n",
    "\n",
    "\"prop_users_biom_by_group\"\n",
    "    Part des utilisateurs d'un groupe sur l'ensemble des utilisateurs ayant publié au moins un tweet contenant le biomarqueur *x*.\n",
    "\n",
    "\"prop_tweets_biom_in_group\"\n",
    "    Part des tweets contenant le biomarqueur *x* sur l'ensemble des tweets  publiés par un groupe.\n",
    "\n",
    "\"prop_users_biom_in_group\"\n",
    "    Part des utilisateurs ayant publié au moins un tweet contenant le biomarqueur *x* sur l'ensemble des utilisateurs du groupe.\n",
    "\n",
    "\"prop_tweets_on_biom_by_group\"\n",
    "    Part des tweets contenant le biomarqueur *x* sur l'ensemble des tweets contenant un biomarqueur publiés par un groupe.\n",
    "\n",
    "\"prop_users_on_biom_by_group\"\n",
    "    Part des utilisateurs ayant publié au moins un tweet contenant le biomarqueur *x* sur l'ensemble des utilisateurs du groupe ayant mentionné au moins une fois un biomarqueur dans leurs tweets.\n",
    "\n",
    "\"base_100_tweets_biom\"\n",
    "    Evolution en base 100 du nombre de tweets contenant le biomarqueur *x*. \n",
    "\n",
    "\"base_100_users_biom\"\n",
    "    Evolution en base 100 du nombre d'utilisateurs ayant publié au moins un tweet contenant le biomarqueur *x*. \n",
    "\n",
    "```"
   ]
  },
  {
   "cell_type": "code",
   "execution_count": null,
   "id": "bf0c4e07",
   "metadata": {},
   "outputs": [],
   "source": []
  }
 ],
 "metadata": {
  "hide_input": false,
  "kernelspec": {
   "display_name": "analyse_tweets",
   "language": "python",
   "name": "analyse_tweets"
  },
  "language_info": {
   "codemirror_mode": {
    "name": "ipython",
    "version": 3
   },
   "file_extension": ".py",
   "mimetype": "text/x-python",
   "name": "python",
   "nbconvert_exporter": "python",
   "pygments_lexer": "ipython3",
   "version": "3.9.7"
  },
  "latex_envs": {
   "LaTeX_envs_menu_present": true,
   "autoclose": false,
   "autocomplete": true,
   "bibliofile": "biblio.bib",
   "cite_by": "apalike",
   "current_citInitial": 1,
   "eqLabelWithNumbers": true,
   "eqNumInitial": 1,
   "hotkeys": {
    "equation": "Ctrl-E",
    "itemize": "Ctrl-I"
   },
   "labels_anchors": false,
   "latex_user_defs": false,
   "report_style_numbering": false,
   "user_envs_cfg": false
  },
  "toc": {
   "base_numbering": 1,
   "nav_menu": {},
   "number_sections": true,
   "sideBar": true,
   "skip_h1_title": false,
   "title_cell": "Table of Contents",
   "title_sidebar": "Contents",
   "toc_cell": false,
   "toc_position": {},
   "toc_section_display": true,
   "toc_window_display": false
  }
 },
 "nbformat": 4,
 "nbformat_minor": 5
}