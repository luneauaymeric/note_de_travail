{
 "cells": [
  {
   "cell_type": "code",
   "execution_count": 1,
   "id": "0eaa7c3e",
   "metadata": {},
   "outputs": [],
   "source": [
    "import pandas as pd\n",
    "import glob\n",
    "from matplotlib import pyplot as plt\n",
    "import numpy as np\n",
    "import plotly.express as px\n",
    "import seaborn as sns \n",
    "import plotly.graph_objects as go\n",
    "from plotly.subplots import make_subplots\n",
    "from myst_nb import glue\n",
    "#from ipywidgets import widgets\n",
    "#from ipywidgets import interactive\n",
    "#from IPython.display import display, Javascript\n",
    "\n",
    "from matplotlib.colors import LogNorm, Normalize\n",
    "import bamboolib"
   ]
  },
  {
   "cell_type": "code",
   "execution_count": 2,
   "id": "60288b95",
   "metadata": {},
   "outputs": [],
   "source": [
    "import os\n",
    "current_directory = os.getcwd()\n",
    "#print(\"Current directory : \", current_directory)\n",
    "\n",
    "aymeric =  \"/home/aymeric/python-scripts/espadon/data/\" #aymeric\n",
    "jp = '~/Dropbox/Mac/Desktop/CRD Anses/all3/' # Jean Philippe\n",
    "jp_index = '~/Dropbox/Mac/Desktop/CRD Anses/code/indexation_results/' # Jean Philippe index\n",
    "\n",
    "if 'aymeric' in current_directory:\n",
    "    path_base = aymeric\n",
    "\n",
    "elif 'Mac' in current_directory:\n",
    "    path_base = jp\n",
    "elif 'd:/Projects' in current_directory:\n",
    "    path_base = \"d:/Projects/Medialab/\"\n",
    "\n",
    "#print(\"Path base : \", path_base)"
   ]
  },
  {
   "cell_type": "code",
   "execution_count": 3,
   "id": "6a01b722",
   "metadata": {},
   "outputs": [],
   "source": [
    "\n",
    "dic_id={}\n",
    "for x in [x for x in pd.read_csv(glob.glob(f'{path_base}sm/*.csv')[0]).columns if 'id' in x]:\n",
    "    dic_id[x]=str\n",
    "\n"
   ]
  },
  {
   "cell_type": "code",
   "execution_count": 4,
   "id": "774ca6e8",
   "metadata": {},
   "outputs": [],
   "source": [
    "df0= pd.read_csv(f\"{path_base}corpus_tweets.csv\", sep = \",\", dtype = dic_id)"
   ]
  },
  {
   "cell_type": "code",
   "execution_count": 5,
   "id": "c3d89f4d",
   "metadata": {},
   "outputs": [],
   "source": [
    "url_checked = pd.read_csv('list_url.csv', sep = \",\")"
   ]
  },
  {
   "cell_type": "code",
   "execution_count": 6,
   "id": "0e587021",
   "metadata": {},
   "outputs": [
    {
     "data": {
      "application/vnd.jupyter.widget-view+json": {
       "model_id": "f75d26193e7b43a39bbbd178d5c10a3a"
      },
      "text/plain": [
       "                       short_url  \\\n",
       "0          http://bit.ly/2GNJNwa   \n",
       "1       http://ow.ly/NL71304Nvpf   \n",
       "2             http://ow.ly/XSulJ   \n",
       "3       http://ow.ly/o5ea50GHL81   \n",
       "4             http://ow.ly/8Uz54   \n",
       "...                          ...   \n",
       "182559        http://ow.ly/CNM8x   \n",
       "182560        http://ow.ly/YNNVM   \n",
       "182561     http://fb.me/yUojI7tx   \n",
       "182562  http://ow.ly/lUpD30mgILE   \n",
       "182563   https://buff.ly/3qSEsHb   \n",
       "\n",
       "                                                 long_url  \n",
       "0                                                  Failed  \n",
       "1       https://ascopost.com/archive/meetings/2016-ast...  \n",
       "2                                                  Failed  \n",
       "3                                                  Failed  \n",
       "4                                                  Failed  \n",
       "...                                                   ...  \n",
       "182559                                             Failed  \n",
       "182560  https://ascopost.com/News/36333?platform=hoots...  \n",
       "182561                                             Failed  \n",
       "182562                                             Failed  \n",
       "182563  https://powerfulpatients.org/2020/11/24/how-co...  \n",
       "\n",
       "[182564 rows x 2 columns]"
      ]
     },
     "metadata": {},
     "output_type": "display_data"
    }
   ],
   "source": [
    "url_checked"
   ]
  },
  {
   "cell_type": "code",
   "execution_count": 7,
   "id": "241b7039",
   "metadata": {},
   "outputs": [],
   "source": [
    "\n",
    "#users = pd.read_csv('../outcome/user_sm_predicted.csv',dtype=dic_id) #jean-philippe\n",
    "users = pd.read_csv(f'{path_base}recoded_user_sm_predicted.csv',dtype=dic_id)\n"
   ]
  },
  {
   "cell_type": "code",
   "execution_count": null,
   "id": "b5e5bb9e",
   "metadata": {},
   "outputs": [],
   "source": []
  },
  {
   "cell_type": "code",
   "execution_count": 8,
   "id": "4ea13632",
   "metadata": {},
   "outputs": [
    {
     "data": {
      "text/plain": [
       "Index(['Unnamed: 0', 'query', 'id', 'timestamp_utc', 'local_time',\n",
       "       'user_screen_name', 'text', 'possibly_sensitive', 'retweet_count',\n",
       "       'like_count', 'reply_count', 'lang', 'to_username', 'to_userid',\n",
       "       'to_tweetid', 'source_name', 'source_url', 'user_location', 'lat',\n",
       "       'lng', 'user_id', 'user_name', 'user_verified', 'user_description',\n",
       "       'user_url', 'user_image', 'user_tweets', 'user_followers',\n",
       "       'user_friends', 'user_likes', 'user_lists', 'user_created_at',\n",
       "       'user_timestamp_utc', 'collected_via', 'match_query', 'retweeted_id',\n",
       "       'retweeted_user', 'retweeted_user_id', 'retweeted_timestamp_utc',\n",
       "       'quoted_id', 'quoted_user', 'quoted_user_id', 'quoted_timestamp_utc',\n",
       "       'collection_time', 'url', 'place_country_code', 'place_name',\n",
       "       'place_type', 'place_coordinates', 'links', 'domains', 'media_urls',\n",
       "       'media_files', 'media_types', 'mentioned_names', 'mentioned_ids',\n",
       "       'hashtags', 'intervention_type', 'intervention_text',\n",
       "       'intervention_url', 'ROS1', 'ALK', 'EXON', 'EGFR', 'KRAS', 'NTRK',\n",
       "       'BRAF', 'MET', 'RET', 'HER2', 'nb_of_biomarker', 'date'],\n",
       "      dtype='object')"
      ]
     },
     "execution_count": 8,
     "metadata": {},
     "output_type": "execute_result"
    }
   ],
   "source": [
    "df0.columns"
   ]
  },
  {
   "cell_type": "code",
   "execution_count": 9,
   "id": "1a1b4bf6",
   "metadata": {},
   "outputs": [],
   "source": [
    "df0 = df0[['query', 'id', 'timestamp_utc', 'local_time',\n",
    "           'user_screen_name', 'text',  'user_location',  'user_id', 'user_name',\n",
    "           'domains', 'links', 'media_urls', 'url',\n",
    "           'ROS1', 'ALK', 'EXON', 'EGFR', 'KRAS', 'NTRK',\n",
    "           'BRAF', 'MET', 'RET', 'HER2', 'date', ]]\n",
    "\n",
    "df0['date'] = pd.to_datetime(pd.to_datetime(df0['date']).dt.date)\n",
    "df0['Year'] = df0['date'].dt.year\n"
   ]
  },
  {
   "cell_type": "code",
   "execution_count": 10,
   "id": "a9e15b43",
   "metadata": {},
   "outputs": [],
   "source": [
    "df=df0.merge(users,on=['user_id'], how = \"inner\")#how = inner by default\n",
    "#df = df.loc[(df[\"User_status\"] != \"Other\") & (df[\"User_status\"] != \"Undefined\") & (df[\"Year\"] >= 2012)]"
   ]
  },
  {
   "cell_type": "code",
   "execution_count": 11,
   "id": "fdfd1793",
   "metadata": {},
   "outputs": [
    {
     "data": {
      "text/plain": [
       "Index(['query', 'id', 'timestamp_utc', 'local_time', 'user_screen_name',\n",
       "       'text', 'user_location', 'user_id', 'user_name_x', 'domains', 'links',\n",
       "       'media_urls', 'url', 'ROS1', 'ALK', 'EXON', 'EGFR', 'KRAS', 'NTRK',\n",
       "       'BRAF', 'MET', 'RET', 'HER2', 'date', 'Year', 'Unnamed: 0',\n",
       "       'user_creat', 'user_descr', 'user_follo', 'user_frien', 'user_image',\n",
       "       'user_likes', 'user_lists', 'user_locat', 'user_name_y', 'user_numbe',\n",
       "       'user_scree', 'user_tweet', 'user_url', 'user_id_id', 'comment_text',\n",
       "       'training_set', 'validation_set', 'predicted_categories_ML', 'advocacy',\n",
       "       'cancer patient', 'collective', 'corpus', 'female', 'health center',\n",
       "       'health professional', 'industry', 'male', 'media', 'npo', 'oncologist',\n",
       "       'other', 'research', 'survivor', 'User_type', 'Gender', 'User_status',\n",
       "       'User_role', 'User_role2', 'User_role3', 'User_status.1',\n",
       "       'User_status2', 'User_status3'],\n",
       "      dtype='object')"
      ]
     },
     "execution_count": 11,
     "metadata": {},
     "output_type": "execute_result"
    }
   ],
   "source": [
    "df.columns"
   ]
  },
  {
   "cell_type": "code",
   "execution_count": 12,
   "id": "83ea7917",
   "metadata": {},
   "outputs": [],
   "source": [
    "df1 = df.loc[df['links'].notna()]\n",
    "\n"
   ]
  },
  {
   "cell_type": "code",
   "execution_count": 13,
   "id": "07338bfc",
   "metadata": {},
   "outputs": [
    {
     "ename": "KeyboardInterrupt",
     "evalue": "",
     "output_type": "error",
     "traceback": [
      "\u001b[0;31m---------------------------------------------------------------------------\u001b[0m",
      "\u001b[0;31mKeyboardInterrupt\u001b[0m                         Traceback (most recent call last)",
      "\u001b[0;32m/tmp/ipykernel_5083/2801113085.py\u001b[0m in \u001b[0;36m<module>\u001b[0;34m\u001b[0m\n\u001b[1;32m      8\u001b[0m \u001b[0;32mfor\u001b[0m \u001b[0mi\u001b[0m\u001b[0;34m,\u001b[0m \u001b[0mlink\u001b[0m \u001b[0;32min\u001b[0m \u001b[0menumerate\u001b[0m\u001b[0;34m(\u001b[0m\u001b[0mdf1\u001b[0m\u001b[0;34m[\u001b[0m\u001b[0;34m\"links\"\u001b[0m\u001b[0;34m]\u001b[0m\u001b[0;34m)\u001b[0m\u001b[0;34m:\u001b[0m\u001b[0;34m\u001b[0m\u001b[0;34m\u001b[0m\u001b[0m\n\u001b[1;32m      9\u001b[0m     \u001b[0mtweet_id\u001b[0m \u001b[0;34m=\u001b[0m \u001b[0mdf1\u001b[0m\u001b[0;34m[\u001b[0m\u001b[0;34m\"id\"\u001b[0m\u001b[0;34m]\u001b[0m\u001b[0;34m.\u001b[0m\u001b[0miloc\u001b[0m\u001b[0;34m[\u001b[0m\u001b[0mi\u001b[0m\u001b[0;34m]\u001b[0m\u001b[0;34m\u001b[0m\u001b[0;34m\u001b[0m\u001b[0m\n\u001b[0;32m---> 10\u001b[0;31m     \u001b[0muser_scr_name\u001b[0m \u001b[0;34m=\u001b[0m \u001b[0mdf1\u001b[0m\u001b[0;34m[\u001b[0m\u001b[0;34m\"user_screen_name\"\u001b[0m\u001b[0;34m]\u001b[0m\u001b[0;34m.\u001b[0m\u001b[0miloc\u001b[0m\u001b[0;34m[\u001b[0m\u001b[0mi\u001b[0m\u001b[0;34m]\u001b[0m\u001b[0;34m\u001b[0m\u001b[0;34m\u001b[0m\u001b[0m\n\u001b[0m\u001b[1;32m     11\u001b[0m     \u001b[0muser_name\u001b[0m \u001b[0;34m=\u001b[0m \u001b[0mdf1\u001b[0m\u001b[0;34m[\u001b[0m\u001b[0;34m\"user_name_x\"\u001b[0m\u001b[0;34m]\u001b[0m\u001b[0;34m.\u001b[0m\u001b[0miloc\u001b[0m\u001b[0;34m[\u001b[0m\u001b[0mi\u001b[0m\u001b[0;34m]\u001b[0m\u001b[0;34m\u001b[0m\u001b[0;34m\u001b[0m\u001b[0m\n\u001b[1;32m     12\u001b[0m     \u001b[0muser_status\u001b[0m \u001b[0;34m=\u001b[0m \u001b[0mdf1\u001b[0m\u001b[0;34m[\u001b[0m\u001b[0;34m\"User_status\"\u001b[0m\u001b[0;34m]\u001b[0m\u001b[0;34m.\u001b[0m\u001b[0miloc\u001b[0m\u001b[0;34m[\u001b[0m\u001b[0mi\u001b[0m\u001b[0;34m]\u001b[0m\u001b[0;34m\u001b[0m\u001b[0;34m\u001b[0m\u001b[0m\n",
      "\u001b[0;32m~/anaconda3/envs/analyse_tweets/lib/python3.9/site-packages/pandas/core/frame.py\u001b[0m in \u001b[0;36m__getitem__\u001b[0;34m(self, key)\u001b[0m\n\u001b[1;32m   3423\u001b[0m             \u001b[0;31m# shortcut if the key is in columns\u001b[0m\u001b[0;34m\u001b[0m\u001b[0;34m\u001b[0m\u001b[0m\n\u001b[1;32m   3424\u001b[0m             \u001b[0;32mif\u001b[0m \u001b[0mself\u001b[0m\u001b[0;34m.\u001b[0m\u001b[0mcolumns\u001b[0m\u001b[0;34m.\u001b[0m\u001b[0mis_unique\u001b[0m \u001b[0;32mand\u001b[0m \u001b[0mkey\u001b[0m \u001b[0;32min\u001b[0m \u001b[0mself\u001b[0m\u001b[0;34m.\u001b[0m\u001b[0mcolumns\u001b[0m\u001b[0;34m:\u001b[0m\u001b[0;34m\u001b[0m\u001b[0;34m\u001b[0m\u001b[0m\n\u001b[0;32m-> 3425\u001b[0;31m                 \u001b[0;32mif\u001b[0m \u001b[0misinstance\u001b[0m\u001b[0;34m(\u001b[0m\u001b[0mself\u001b[0m\u001b[0;34m.\u001b[0m\u001b[0mcolumns\u001b[0m\u001b[0;34m,\u001b[0m \u001b[0mMultiIndex\u001b[0m\u001b[0;34m)\u001b[0m\u001b[0;34m:\u001b[0m\u001b[0;34m\u001b[0m\u001b[0;34m\u001b[0m\u001b[0m\n\u001b[0m\u001b[1;32m   3426\u001b[0m                     \u001b[0;32mreturn\u001b[0m \u001b[0mself\u001b[0m\u001b[0;34m.\u001b[0m\u001b[0m_getitem_multilevel\u001b[0m\u001b[0;34m(\u001b[0m\u001b[0mkey\u001b[0m\u001b[0;34m)\u001b[0m\u001b[0;34m\u001b[0m\u001b[0;34m\u001b[0m\u001b[0m\n\u001b[1;32m   3427\u001b[0m                 \u001b[0;32mreturn\u001b[0m \u001b[0mself\u001b[0m\u001b[0;34m.\u001b[0m\u001b[0m_get_item_cache\u001b[0m\u001b[0;34m(\u001b[0m\u001b[0mkey\u001b[0m\u001b[0;34m)\u001b[0m\u001b[0;34m\u001b[0m\u001b[0;34m\u001b[0m\u001b[0m\n",
      "\u001b[0;31mKeyboardInterrupt\u001b[0m: "
     ]
    }
   ],
   "source": [
    "list_tweet_id = []\n",
    "list_links = []\n",
    "is_doi = []\n",
    "list_user_scr_name = []\n",
    "list_user_name = []\n",
    "list_date = []\n",
    "\n",
    "for i, link in enumerate(df1[\"links\"]):\n",
    "    tweet_id = df1[\"id\"].iloc[i]\n",
    "    user_scr_name = df1[\"user_screen_name\"].iloc[i]\n",
    "    user_name = df1[\"user_name_x\"].iloc[i]\n",
    "    user_status = df1[\"User_status\"].iloc[i]\n",
    "    date = df1[\"date\"].iloc[i]\n",
    "    tweet_id = df1[\"id\"].iloc[i]\n",
    "    list_url = link.split(\"|\")\n",
    "    for url in list_url:\n",
    "        if \"twitter.com\" not in url and \"instagram\" not in url and \"facebook.com\" not in url and \"youtu\" not in url:\n",
    "            list_tweet_id.append(tweet_id)\n",
    "            list_links.append(url)\n",
    "            list_user_scr_name.append(user_scr_name)\n",
    "            list_user_name.append(user_name)\n",
    "            list_date.append(date)\n",
    "            if \"doi\" in url:\n",
    "                is_doi.append(True)\n",
    "            else:\n",
    "                is_doi.append(False)"
   ]
  },
  {
   "cell_type": "code",
   "execution_count": 14,
   "id": "965e82a5",
   "metadata": {},
   "outputs": [
    {
     "data": {
      "text/plain": [
       "586670"
      ]
     },
     "execution_count": 14,
     "metadata": {},
     "output_type": "execute_result"
    }
   ],
   "source": [
    "len(list_links)"
   ]
  },
  {
   "cell_type": "code",
   "execution_count": 15,
   "id": "2fe863c6",
   "metadata": {},
   "outputs": [],
   "source": [
    "data = {\"id\": list_tweet_id, \"urls\": list_links, \"is_doi\": is_doi}\n",
    "df_url = pd.DataFrame(data)"
   ]
  },
  {
   "cell_type": "code",
   "execution_count": 16,
   "id": "a7621c63",
   "metadata": {},
   "outputs": [],
   "source": [
    "df_url1 = df_url.merge(df[[\"id\", \"user_screen_name\", \"date\", \"User_status\"]], on = [\"id\"],\n",
    "                       how = \"inner\")"
   ]
  },
  {
   "cell_type": "code",
   "execution_count": 17,
   "id": "3ab048f6",
   "metadata": {},
   "outputs": [
    {
     "data": {
      "application/vnd.jupyter.widget-view+json": {
       "model_id": "ff4cb83b1329472d8ef6dc9e88afdbd4"
      },
      "text/plain": [
       "                         id                        urls  is_doi  \\\n",
       "0       1111398869982539776  https://prognosis.ucsf.edu   False   \n",
       "1       1111398869982539776  https://prognosis.ucsf.edu   False   \n",
       "2       1111398869982539776  https://prognosis.ucsf.edu   False   \n",
       "3       1111398869982539776  https://prognosis.ucsf.edu   False   \n",
       "4       1111398561214681090       http://www.mycarg.org   False   \n",
       "...                     ...                         ...     ...   \n",
       "588607  1361382525206167555     https://buff.ly/37gH2Pa   False   \n",
       "588608  1360631081180008456     https://buff.ly/3aJwZD7   False   \n",
       "588609  1359880085784952837     https://buff.ly/36THXou   False   \n",
       "588610  1359595070794653706     https://buff.ly/3tEL5hB   False   \n",
       "588611  1358811580977315842     https://buff.ly/3tB4UGF   False   \n",
       "\n",
       "       user_screen_name       date    User_status  \n",
       "0        kimberli_coxmd 2019-03-28     Oncologist  \n",
       "1        kimberli_coxmd 2019-03-28     Oncologist  \n",
       "2        kimberli_coxmd 2019-03-28     Oncologist  \n",
       "3        kimberli_coxmd 2019-03-28     Oncologist  \n",
       "4        kimberli_coxmd 2019-03-28     Oncologist  \n",
       "...                 ...        ...            ...  \n",
       "588607   UFHealthCancer 2021-02-15  Health center  \n",
       "588608   UFHealthCancer 2021-02-13  Health center  \n",
       "588609   UFHealthCancer 2021-02-11  Health center  \n",
       "588610   UFHealthCancer 2021-02-10  Health center  \n",
       "588611   UFHealthCancer 2021-02-08  Health center  \n",
       "\n",
       "[588612 rows x 6 columns]"
      ]
     },
     "metadata": {},
     "output_type": "display_data"
    }
   ],
   "source": [
    "df_url1"
   ]
  },
  {
   "cell_type": "code",
   "execution_count": 18,
   "id": "c06623b8",
   "metadata": {},
   "outputs": [],
   "source": [
    "list_urls = set(list_links)"
   ]
  },
  {
   "cell_type": "code",
   "execution_count": 19,
   "id": "5104d8dc",
   "metadata": {},
   "outputs": [
    {
     "data": {
      "text/plain": [
       "395810"
      ]
     },
     "execution_count": 19,
     "metadata": {},
     "output_type": "execute_result"
    }
   ],
   "source": [
    "len(list_urls)"
   ]
  },
  {
   "cell_type": "code",
   "execution_count": 20,
   "id": "a46976ab",
   "metadata": {},
   "outputs": [],
   "source": [
    "from ural import is_shortened_url\n",
    "from ural import is_url"
   ]
  },
  {
   "cell_type": "code",
   "execution_count": 21,
   "id": "d46dbb3f",
   "metadata": {},
   "outputs": [],
   "source": [
    "shortened_url_list = []\n",
    "\n",
    "for x in list(list_urls):\n",
    "    if is_shortened_url(x) == True:\n",
    "        shortened_url_list.append(x)"
   ]
  },
  {
   "cell_type": "code",
   "execution_count": 22,
   "id": "7e837144",
   "metadata": {},
   "outputs": [
    {
     "data": {
      "text/plain": [
       "200435"
      ]
     },
     "execution_count": 22,
     "metadata": {},
     "output_type": "execute_result"
    }
   ],
   "source": [
    "len(shortened_url_list)"
   ]
  },
  {
   "cell_type": "code",
   "execution_count": 23,
   "id": "fdb0713a",
   "metadata": {},
   "outputs": [],
   "source": [
    "true_url_list = []\n",
    "\n",
    "for x in shortened_url_list:\n",
    "    if is_url(x) == True:\n",
    "        true_url_list.append(x)"
   ]
  },
  {
   "cell_type": "code",
   "execution_count": 24,
   "id": "27ce5723",
   "metadata": {},
   "outputs": [],
   "source": [
    "short_url_list = [x for x in url_checked[\"short_url\"]]"
   ]
  },
  {
   "cell_type": "code",
   "execution_count": 25,
   "id": "dccdf8c8",
   "metadata": {},
   "outputs": [
    {
     "data": {
      "text/plain": [
       "135522"
      ]
     },
     "execution_count": 25,
     "metadata": {},
     "output_type": "execute_result"
    }
   ],
   "source": [
    "len(short_url_list)"
   ]
  },
  {
   "cell_type": "code",
   "execution_count": 26,
   "id": "217e89d3",
   "metadata": {},
   "outputs": [
    {
     "data": {
      "text/plain": [
       "64913"
      ]
     },
     "execution_count": 26,
     "metadata": {},
     "output_type": "execute_result"
    }
   ],
   "source": [
    "true_url_list2 = [x for x in true_url_list if x not in short_url_list]\n",
    "len(true_url_list2)"
   ]
  },
  {
   "cell_type": "code",
   "execution_count": 27,
   "id": "2ff61b9a",
   "metadata": {},
   "outputs": [],
   "source": [
    "from urllib import request"
   ]
  },
  {
   "cell_type": "code",
   "execution_count": 28,
   "id": "e6950363",
   "metadata": {},
   "outputs": [
    {
     "data": {
      "text/plain": [
       "<http.client.HTTPMessage at 0x7f19678a4b20>"
      ]
     },
     "execution_count": 28,
     "metadata": {},
     "output_type": "execute_result"
    }
   ],
   "source": [
    "\n",
    "r = request.urlopen(\"http://owl.li/Nxvz30j7XtU\")\n",
    "r.headers"
   ]
  },
  {
   "cell_type": "code",
   "execution_count": 29,
   "id": "eaf47417",
   "metadata": {},
   "outputs": [],
   "source": [
    "from tqdm.notebook import tqdm, trange\n",
    "import time\n",
    "import csv"
   ]
  },
  {
   "cell_type": "code",
   "execution_count": null,
   "id": "fa2bdb7e",
   "metadata": {},
   "outputs": [
    {
     "data": {
      "application/vnd.jupyter.widget-view+json": {
       "model_id": "fbe563c593f04879b0c21a54cffc704b",
       "version_major": 2,
       "version_minor": 0
      },
      "text/plain": [
       "0it [00:00, ?it/s]"
      ]
     },
     "metadata": {},
     "output_type": "display_data"
    }
   ],
   "source": [
    "\n",
    "start_time = time.time()\n",
    "#print(start_time)\n",
    "for n, x in  tqdm(enumerate(true_url_list2)):\n",
    "    #print(n, x)\n",
    "    try:\n",
    "        r = request.urlopen(x, timeout =3)\n",
    "        with open('list_url.csv', 'a', newline='') as csvfile:\n",
    "            fieldnames = ['short_url', 'long_url']\n",
    "            writer = csv.DictWriter(csvfile, fieldnames=fieldnames)\n",
    "            writer.writerow({'short_url': x, 'long_url': r.url})\n",
    "    except:\n",
    "        with open('list_url.csv', 'a', newline='') as csvfile:\n",
    "            fieldnames = ['short_url', 'long_url']\n",
    "            writer = csv.DictWriter(csvfile, fieldnames=fieldnames)\n",
    "            writer.writerow({'short_url': x, 'long_url': 'Failed'})\n",
    "    \n"
   ]
  },
  {
   "cell_type": "code",
   "execution_count": null,
   "id": "b8852dad",
   "metadata": {},
   "outputs": [],
   "source": []
  }
 ],
 "metadata": {
  "hide_input": false,
  "kernelspec": {
   "display_name": "analyse_tweets",
   "language": "python",
   "name": "analyse_tweets"
  },
  "language_info": {
   "codemirror_mode": {
    "name": "ipython",
    "version": 3
   },
   "file_extension": ".py",
   "mimetype": "text/x-python",
   "name": "python",
   "nbconvert_exporter": "python",
   "pygments_lexer": "ipython3",
   "version": "3.9.7"
  },
  "latex_envs": {
   "LaTeX_envs_menu_present": true,
   "autoclose": false,
   "autocomplete": true,
   "bibliofile": "biblio.bib",
   "cite_by": "apalike",
   "current_citInitial": 1,
   "eqLabelWithNumbers": true,
   "eqNumInitial": 1,
   "hotkeys": {
    "equation": "Ctrl-E",
    "itemize": "Ctrl-I"
   },
   "labels_anchors": false,
   "latex_user_defs": false,
   "report_style_numbering": false,
   "user_envs_cfg": false
  },
  "toc": {
   "base_numbering": 1,
   "nav_menu": {},
   "number_sections": true,
   "sideBar": true,
   "skip_h1_title": false,
   "title_cell": "Table of Contents",
   "title_sidebar": "Contents",
   "toc_cell": false,
   "toc_position": {},
   "toc_section_display": true,
   "toc_window_display": false
  }
 },
 "nbformat": 4,
 "nbformat_minor": 5
}