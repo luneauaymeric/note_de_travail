{
 "cells": [
  {
   "cell_type": "code",
   "execution_count": 1,
   "id": "ebe082e7",
   "metadata": {
    "tags": [
     "remove-cell"
    ]
   },
   "outputs": [],
   "source": [
    "import pandas as pd\n",
    "import bamboolib\n",
    "from IPython.display import display, HTML, IFrame\n",
    "\n"
   ]
  },
  {
   "cell_type": "code",
   "execution_count": 2,
   "id": "8680d857",
   "metadata": {
    "tags": [
     "remove-cell"
    ]
   },
   "outputs": [],
   "source": [
    "import os\n",
    "current_directory = os.getcwd()\n",
    "#print(\"Current directory : \", current_directory)\n",
    "\n",
    "aymeric =  \"/home/aymeric/python-scripts/espadon/data/\" #aymeric\n",
    "jp = '~/Dropbox/Mac/Desktop/CRD Anses/all3/' # Jean Philippe\n",
    "jp_index = '~/Dropbox/Mac/Desktop/CRD Anses/code/indexation_results/' # Jean Philippe index\n",
    "\n",
    "if 'aymeric' in current_directory:\n",
    "    path_base = aymeric\n",
    "\n",
    "elif 'Mac' in current_directory:\n",
    "    path_base = jp\n",
    "elif 'd:/Projects' in current_directory:\n",
    "    path_base = \"d:/Projects/Medialab/\"\n",
    "\n",
    "#print(\"Path base : \", path_base)"
   ]
  },
  {
   "cell_type": "code",
   "execution_count": 3,
   "id": "ed933a26",
   "metadata": {
    "tags": [
     "remove-cell"
    ]
   },
   "outputs": [
    {
     "data": {
      "text/plain": [
       "1221611"
      ]
     },
     "execution_count": 3,
     "metadata": {},
     "output_type": "execute_result"
    }
   ],
   "source": [
    "corpus = pd.read_csv(f\"{path_base}corpus_tweets.csv\", sep = \",\")\n",
    "len(corpus)"
   ]
  },
  {
   "cell_type": "markdown",
   "id": "2c5348f1",
   "metadata": {},
   "source": [
    "# Visualisation d'une forme d'interaction entre les comptes: les *replying to*\n",
    "\n",
    "Le fichier des tweets contient une variable appelée *to_username* (voir tableau ci-dessous). Elle recense toutes les fois qu'un compte a réagi à un tweet d'un autre compte en faisant \"reply to\". Par exemple, dans le tweet ci-dessous, on voit que le Dr. Sue Desmond-Hellmann a répondu à Pearl Freier. On peut noter également que Desmond-Hellmann mentionned la FDA à travers l'expression \"@US_FDA\". Dans le fichier de donnée, cette mention est enregistrée sous la variable *mentioned_names*.\n",
    "\n",
    "![x_reply_to_y.png](images/x_reply_to_y.png)\n",
    "\n"
   ]
  },
  {
   "cell_type": "code",
   "execution_count": null,
   "id": "b2c29f77",
   "metadata": {
    "tags": [
     "remove-input"
    ]
   },
   "outputs": [],
   "source": [
    "# Step: Keep rows where to_username is not missing\n",
    "corpus1 = corpus.loc[(corpus['to_username'].notna()) & (corpus[\"user_screen_name\"] == \"SueDHellmann\")].reset_index()\n",
    "\n",
    "\n",
    "c = corpus1[['user_screen_name', \"to_username\", \"mentioned_names\", \"url\"]].drop_duplicates().reset_index()\n",
    "\n",
    "c_style = c.style.format(precision=0, na_rep='')\\\n",
    ".set_caption(\"Les variables \\\"to_username\\\" (replying to @username) et \\\"mentioned_names\\\" (@username) telles qu'elles se présentent dans le dataset\")\\\n",
    " .set_table_styles([{\n",
    "     'selector': 'caption',\n",
    "     'props': 'caption-side: top ; color: black ; font-size : 14pt'\n",
    " }], overwrite=False)\n",
    "c_style"
   ]
  },
  {
   "cell_type": "markdown",
   "id": "f7f27219",
   "metadata": {},
   "source": [
    "Les vidéos ci-dessous illustrent la \"dynamique\" de cette forme d'interaction entre les 7000 et quelques comptes annotés. Réalisés à l'aide de différentes librairies disponibles sous R, les graphes ont été construits de la manière suivantes:\n",
    "\n",
    "1. Seuls les réponse entre comptes annotés sont conservés, ce qui donne un \"sous-corpus\" de 218&nbsp;263 tweets sur 1&nbsp;221&nbsp;611.\n",
    "\n",
    "2. Pour des raisons de temps calcul, on ne garde que les noeuds dont le degrés de centralité est supérieur ou égal à 10, ce qui siginifie qu'on a seulement les comptes qui ont publiés au moins dix réponses. Pour les mêmes raison, on a également découpé en plusieurs périodes\n",
    "\n",
    "3. Pour chaque noeud, on définit une date d'arrivée et une date de départ qui correspondent respectivement à la première et à la dernière réponse publiée.\n",
    "\n",
    "4. De la même manière, chaque réponse a un début (la date de publication du tweet) et une fin (le lendemain de la publication du tweet).\n",
    "\n",
    "\n",
    "Le principal intérêt de ces visualisations est d'avoir un aperçu des périodes de plus ou moins grandes intensités en terme d'interaction et de saisir dans quelle mesure des groupes de discussions se mettent en place. Pour chacune des périodes, on a une vidéo qui montre les échanges entre comptes et une autre qui rend compte des interactions entre catégories (oncologues, patients, etc.).\n",
    "\n"
   ]
  },
  {
   "cell_type": "markdown",
   "id": "5491a7ef",
   "metadata": {
    "tags": [
     "remove-cell"
    ]
   },
   "source": [
    "%%html\n",
    "<video src=\"_static/videos/dynet_movie_2012_jan.mp4\" controls width=\"600\" ></video>\n"
   ]
  },
  {
   "cell_type": "code",
   "execution_count": 10,
   "id": "4ad13e3a",
   "metadata": {
    "tags": [
     "remove-input"
    ]
   },
   "outputs": [
    {
     "data": {
      "text/html": [
       "\n",
       "        <iframe\n",
       "            width=\"900\"\n",
       "            height=\"500\"\n",
       "            src=\"_static/videos/dynet_2012-01-02_status.html\"\n",
       "            frameborder=\"0\"\n",
       "            allowfullscreen\n",
       "            \n",
       "        ></iframe>\n",
       "        "
      ],
      "text/plain": [
       "<IPython.lib.display.IFrame at 0x7f67a173a5b0>"
      ]
     },
     "execution_count": 10,
     "metadata": {},
     "output_type": "execute_result"
    }
   ],
   "source": [
    "IFrame(src=\"_static/videos/dynet_2012-01-02_status.html\", width = \"900\", height=\"500\")"
   ]
  },
  {
   "cell_type": "code",
   "execution_count": 11,
   "id": "498cfa8d",
   "metadata": {
    "tags": [
     "remove-input"
    ]
   },
   "outputs": [
    {
     "data": {
      "text/html": [
       "\n",
       "        <iframe\n",
       "            width=\"900\"\n",
       "            height=\"500\"\n",
       "            src=\"_static/videos/dynet_2013-12-31_status.html\"\n",
       "            frameborder=\"0\"\n",
       "            allowfullscreen\n",
       "            \n",
       "        ></iframe>\n",
       "        "
      ],
      "text/plain": [
       "<IPython.lib.display.IFrame at 0x7f67a173a7c0>"
      ]
     },
     "execution_count": 11,
     "metadata": {},
     "output_type": "execute_result"
    }
   ],
   "source": [
    "IFrame(src=\"_static/videos/dynet_2013-12-31_status.html\", width = \"900\", height=\"500\")"
   ]
  }
 ],
 "metadata": {
  "celltoolbar": "Tags",
  "hide_input": false,
  "kernelspec": {
   "display_name": "analyse_tweets",
   "language": "python",
   "name": "analyse_tweets"
  },
  "language_info": {
   "codemirror_mode": {
    "name": "ipython",
    "version": 3
   },
   "file_extension": ".py",
   "mimetype": "text/x-python",
   "name": "python",
   "nbconvert_exporter": "python",
   "pygments_lexer": "ipython3",
   "version": "3.9.7"
  },
  "latex_envs": {
   "LaTeX_envs_menu_present": true,
   "autoclose": false,
   "autocomplete": true,
   "bibliofile": "biblio.bib",
   "cite_by": "apalike",
   "current_citInitial": 1,
   "eqLabelWithNumbers": true,
   "eqNumInitial": 1,
   "hotkeys": {
    "equation": "Ctrl-E",
    "itemize": "Ctrl-I"
   },
   "labels_anchors": false,
   "latex_user_defs": false,
   "report_style_numbering": false,
   "user_envs_cfg": false
  },
  "toc": {
   "base_numbering": 1,
   "nav_menu": {},
   "number_sections": true,
   "sideBar": true,
   "skip_h1_title": false,
   "title_cell": "Table of Contents",
   "title_sidebar": "Contents",
   "toc_cell": false,
   "toc_position": {},
   "toc_section_display": true,
   "toc_window_display": false
  }
 },
 "nbformat": 4,
 "nbformat_minor": 5
}
