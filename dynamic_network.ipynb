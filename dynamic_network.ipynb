{
 "cells": [
  {
   "cell_type": "code",
   "execution_count": 9,
   "id": "ebe082e7",
   "metadata": {
    "tags": [
     "remove-cell"
    ]
   },
   "outputs": [],
   "source": [
    "import pandas as pd\n",
    "import bamboolib\n",
    "from IPython.display import display, HTML, IFrame\n",
    "\n"
   ]
  },
  {
   "cell_type": "code",
   "execution_count": 10,
   "id": "8680d857",
   "metadata": {
    "tags": [
     "remove-cell"
    ]
   },
   "outputs": [],
   "source": [
    "import os\n",
    "current_directory = os.getcwd()\n",
    "#print(\"Current directory : \", current_directory)\n",
    "\n",
    "aymeric =  \"/home/aymeric/python-scripts/espadon/data/\" #aymeric\n",
    "jp = '~/Dropbox/Mac/Desktop/CRD Anses/all3/' # Jean Philippe\n",
    "jp_index = '~/Dropbox/Mac/Desktop/CRD Anses/code/indexation_results/' # Jean Philippe index\n",
    "\n",
    "if 'aymeric' in current_directory:\n",
    "    path_base = aymeric\n",
    "\n",
    "elif 'Mac' in current_directory:\n",
    "    path_base = jp\n",
    "elif 'd:/Projects' in current_directory:\n",
    "    path_base = \"d:/Projects/Medialab/\"\n",
    "\n",
    "#print(\"Path base : \", path_base)"
   ]
  },
  {
   "cell_type": "code",
   "execution_count": 4,
   "id": "ed933a26",
   "metadata": {
    "tags": [
     "remove-cell"
    ]
   },
   "outputs": [
    {
     "data": {
      "text/plain": [
       "1221611"
      ]
     },
     "execution_count": 4,
     "metadata": {},
     "output_type": "execute_result"
    }
   ],
   "source": [
    "corpus = pd.read_csv(f\"{path_base}corpus_tweets.csv\", sep = \",\")\n",
    "len(corpus)"
   ]
  },
  {
   "cell_type": "markdown",
   "id": "2c5348f1",
   "metadata": {},
   "source": [
    "# Visualisation d'une forme d'interaction entre les comptes: les *replying to*\n",
    "\n",
    "Le fichier des tweets contient une variable appelée *to_username* (voir tableau ci-dessous). Elle recense toutes les fois qu'un compte a réagi à un tweet d'un autre compte en faisant \"reply to\". Par exemple, dans le tweet ci-dessous, on voit que le Dr. Sue Desmond-Hellmann a répondu à Pearl Freier. On peut noter également que Desmond-Hellmann mentionned la FDA à travers l'expression \"@US_FDA\". Dans le fichier de donnée, cette mention est enregistrée sous la variable *mentioned_names*.\n",
    "\n",
    "![x_reply_to_y.png](images/x_reply_to_y.png)\n",
    "\n"
   ]
  },
  {
   "cell_type": "code",
   "execution_count": 11,
   "id": "b2c29f77",
   "metadata": {
    "scrolled": true,
    "tags": [
     "remove-input"
    ]
   },
   "outputs": [
    {
     "data": {
      "text/html": [
       "<style type=\"text/css\">\n",
       "#T_8210a_ caption {\n",
       "  caption-side: top;\n",
       "  color: black;\n",
       "  font-size: 14pt;\n",
       "}\n",
       "</style>\n",
       "<table id=\"T_8210a_\">\n",
       "  <caption>Les variables \"to_username\" (replying to @username) et \"mentioned_names\" (@username) telles qu'elles se présentent dans le dataset</caption>\n",
       "  <thead>\n",
       "    <tr>\n",
       "      <th class=\"blank level0\" >&nbsp;</th>\n",
       "      <th class=\"col_heading level0 col0\" >index</th>\n",
       "      <th class=\"col_heading level0 col1\" >user_screen_name</th>\n",
       "      <th class=\"col_heading level0 col2\" >to_username</th>\n",
       "      <th class=\"col_heading level0 col3\" >mentioned_names</th>\n",
       "      <th class=\"col_heading level0 col4\" >url</th>\n",
       "    </tr>\n",
       "  </thead>\n",
       "  <tbody>\n",
       "    <tr>\n",
       "      <th id=\"T_8210a_level0_row0\" class=\"row_heading level0 row0\" >0</th>\n",
       "      <td id=\"T_8210a_row0_col0\" class=\"data row0 col0\" >0</td>\n",
       "      <td id=\"T_8210a_row0_col1\" class=\"data row0 col1\" >SueDHellmann</td>\n",
       "      <td id=\"T_8210a_row0_col2\" class=\"data row0 col2\" >PearlF</td>\n",
       "      <td id=\"T_8210a_row0_col3\" class=\"data row0 col3\" >pearlf|us_fda</td>\n",
       "      <td id=\"T_8210a_row0_col4\" class=\"data row0 col4\" >https://twitter.com/SueDHellmann/statuses/1111412159768977415</td>\n",
       "    </tr>\n",
       "  </tbody>\n",
       "</table>\n"
      ],
      "text/plain": [
       "<pandas.io.formats.style.Styler at 0x7f3a45f64ac0>"
      ]
     },
     "execution_count": 11,
     "metadata": {},
     "output_type": "execute_result"
    }
   ],
   "source": [
    "# Step: Keep rows where to_username is not missing\n",
    "corpus1 = corpus.loc[(corpus['to_username'].notna()) & (corpus[\"user_screen_name\"] == \"SueDHellmann\")].reset_index()\n",
    "\n",
    "\n",
    "c = corpus1[['user_screen_name', \"to_username\", \"mentioned_names\", \"url\"]].drop_duplicates().reset_index()\n",
    "\n",
    "c_style = c.style.format(precision=0, na_rep='')\\\n",
    ".set_caption(\"Les variables \\\"to_username\\\" (replying to @username) et \\\"mentioned_names\\\" (@username) telles qu'elles se présentent dans le dataset\")\\\n",
    " .set_table_styles([{\n",
    "     'selector': 'caption',\n",
    "     'props': 'caption-side: top ; color: black ; font-size : 14pt'\n",
    " }], overwrite=False)\n",
    "c_style"
   ]
  },
  {
   "cell_type": "markdown",
   "id": "1df539ce",
   "metadata": {},
   "source": [
    "Cette variable est intéressante puisqu'elle permet de produire des graphes dirigés et de se faire une idée des asymétries existant entre les acteurs ou entre les catégories. On peut alors faire l'hypothèse que l'analyse de ces interactions est intéressante pour comprendre comment la \"datafication\" de l'oncologie affecte la structure des relations entre patients, soignants et chercheurs. La matrice de gauche ci-dessous semble indiquer qu'un volume important de réponses provient des patients, des oncologistes ou des \"advocacy patients\" et est destiné à ces mêmes catégories. La matrice de droite rend compte quand à elle de la \"densité\" des liens, c'est-à-dire le nombre d'arcs observés divisés par le nombre maximumn d'arcs pouvant existant entre chacun des groupes. Le but est de prendre en compte la taille des groupes, considérant qu'il ne peut pas y avoir plus de liens qu'il n'y a de noeuds.\n",
    "\n",
    "Pour cela on pondère le nombre d'arcs observés par le nombre de noeuds composant chacun des deux groupes qu'ils relient. Par exemple, entre 2010 et 2022, sur les 7&nbsp;078 comptes annotés, on a distingué 478 patients et 915 oncologues. Si chaque patient avait répondu au moins une fois à chaque oncologue ou réciproquement, on comptabiliserait un total de 437&nbsp;370 arcs. Or, le nombre de liens observés est de 869 réponses envoyées par des patients à des oncologues, représentant environ 0,2&nbsp;% des liens possibles. Ce nombre est de 699 dans le cas inverse (réponse d'un oncologue à un patient), soit 0,16&nbsp;% environ des liens théoriques.\n",
    "\n",
    "\\begin{align}\n",
    "\\frac{\\text{Nombre d'arcs des patients vers les oncologues}}{\\text{nombre de patients} \\times \\text{nombre d'oncologues}} = \\frac{869}{478\\times915} \\approx 0,0020\n",
    "\\end{align}\n",
    "\n",
    "\\begin{align}\n",
    "\\frac{\\text{Nombre d'arcs des oncologues vers les patients}}{\\text{nombre de patients} \\times \\text{nombre d'oncologues}} = \\frac{699}{478\\times915} \\approx 0,0016\n",
    "\\end{align}\n",
    "\n",
    "\n",
    "\n",
    "![densite_des_interactions.png](images/densite_des_interactions.png)\n",
    "\n",
    "Toutefois, les matrices ci-dessus donnent une vision statique des interaction entre les groupes. Les graphes interactifs ci-après vise donc à rendre visible leur \"dynamique\". Réalisés à l'aide de différentes librairies disponibles sous R, les graphes ont été construits de la manière suivantes:\n",
    "\n",
    "1. Seuls les réponses entre comptes annotés sont conservées, ce qui donne un \"sous-corpus\" de 218&nbsp;263 tweets sur 1&nbsp;221&nbsp;611.\n",
    "\n",
    "2. Pour des raisons de temps calcul, on ne garde que les noeuds dont le degré de centralité est supérieur ou égal à 20 (seuil fixé arbitrairement), ce qui siginifie qu'on a seulement les comptes qui ont publié ou reçu au moins vingt réponses sur chaque période considérée (pour le moment seule la période du 1er janvier 2017 au 31 décmbre 2018 est représentée).\n",
    "\n",
    "3. Pour chaque noeud, on définit une date d'arrivée et une date de départ qui correspondent respectivement à la première et à la dernière réponse publiée ou reçue.\n",
    "\n",
    "4. De la même manière, chaque réponse a un début (la date de publication du tweet) et une fin (le lendemain de la publication du tweet).\n",
    "\n",
    "\n",
    "Le principal intérêt de ces visualisations est de donner un aperçu des moments de plus ou moins grandes intensités en terme d'interaction et de constitution de groupes de discussion. Pour chacune des périodes, on a un graphe qui montre les échanges entre comptes et une autre qui rend compte des interactions entre catégories (oncologues, patients, etc.).\n",
    "\n",
    "\n",
    "```{note}\n",
    "Les graphes sont interactifs. Il suffit de cliquer sur un noeud pour connaître le nom de l'utilisateur ou de la catégorie qu'il représente. En cliquant sur un arc, on accède au contenu de la réponse. L'interprétabilité des messages est limitée puisqu'on ne connaît pas le contenu du tweet à l'origine de l'action \"réponse à\". Ces tweets d'origine peuvent toutefois être aisément retrouvés grâce aux données disponibles dans le dataset. \n",
    "\n",
    "Un lien peut contenir plusieurs messages lorsque deux comptes ont échangés plusieurs réponses dans la même journée. Ils sont alors séparés par un saut de ligne. On a également essayé d'identifier les réponses mentionnant un ou plusieurs biomarqueurs. Dans ce cas le lien est rouge. Malheureusement, les liens se chevauchent et il n'est pas toujours facile de distinguer la couleur des arcs. L'absence de légende permettant de reconnaître en un coup d'oeil le statut des noeuds (\"advocacy\", \"oncologist\", etc.) est l'autre défaut majeur des visualisations ci-dessous.\n",
    "```\n",
    "\n"
   ]
  },
  {
   "cell_type": "code",
   "execution_count": 6,
   "id": "03bcaa51",
   "metadata": {
    "tags": [
     "remove-cell"
    ]
   },
   "outputs": [],
   "source": [
    "#%%html\n",
    "#<video src=\"_static/videos/dynet_movie_2012_jan.mp4\" controls width=\"600\" ></video>\n"
   ]
  },
  {
   "cell_type": "markdown",
   "id": "739eaac0",
   "metadata": {},
   "source": [
    "## Période du 1er janvier 2012 au 31 décembre 2013\n",
    "\n",
    "### Graphes des comptes"
   ]
  },
  {
   "cell_type": "code",
   "execution_count": 16,
   "id": "2624d2eb",
   "metadata": {
    "scrolled": false,
    "tags": [
     "remove-input"
    ]
   },
   "outputs": [
    {
     "data": {
      "text/html": [
       "\n",
       "        <iframe\n",
       "            width=\"900\"\n",
       "            height=\"800\"\n",
       "            src=\"_static/videos/dynet_2012-01-02.html\"\n",
       "            frameborder=\"0\"\n",
       "            allowfullscreen\n",
       "            \n",
       "        ></iframe>\n",
       "        "
      ],
      "text/plain": [
       "<IPython.lib.display.IFrame at 0x7f3a31f7b250>"
      ]
     },
     "execution_count": 16,
     "metadata": {},
     "output_type": "execute_result"
    }
   ],
   "source": [
    "IFrame(src=\"_static/videos/dynet_2012-01-02.html\", width = \"900\", height=\"800\")"
   ]
  },
  {
   "cell_type": "markdown",
   "id": "730efbed",
   "metadata": {},
   "source": [
    "### Graphe des catégories de statut\n",
    "\n",
    "En réduisant le graphe des comptes au graphes des échanges entre catégories, on a conservé les réponses intra-groupe, c'est-à-dire le fait qu'un patient réponde à un autre patient par exemple. Malheureusement, ces \"boucles\" ne sont pas représentées sur l'animation ci-dessous. Lorsque les noeuds sont sans liens, cela signifie que les échanges se font uniquement au sein du groupe."
   ]
  },
  {
   "cell_type": "code",
   "execution_count": 17,
   "id": "595d706c",
   "metadata": {},
   "outputs": [
    {
     "data": {
      "text/html": [
       "\n",
       "        <iframe\n",
       "            width=\"900\"\n",
       "            height=\"800\"\n",
       "            src=\"_static/videos/dynet_2012-01-02_status.html\"\n",
       "            frameborder=\"0\"\n",
       "            allowfullscreen\n",
       "            \n",
       "        ></iframe>\n",
       "        "
      ],
      "text/plain": [
       "<IPython.lib.display.IFrame at 0x7f3a31f7b490>"
      ]
     },
     "execution_count": 17,
     "metadata": {},
     "output_type": "execute_result"
    }
   ],
   "source": [
    "IFrame(src=\"_static/videos/dynet_2012-01-02_status.html\", width = \"900\", height=\"800\")"
   ]
  },
  {
   "cell_type": "markdown",
   "id": "289660e7",
   "metadata": {},
   "source": [
    "## Période du 1er janvier 2017 au 31 décembre 2018\n",
    "\n",
    "### Graphe des comptes\n",
    "\n"
   ]
  },
  {
   "cell_type": "code",
   "execution_count": 15,
   "id": "961f6d19",
   "metadata": {
    "scrolled": false,
    "tags": [
     "remove-input"
    ]
   },
   "outputs": [
    {
     "data": {
      "text/html": [
       "\n",
       "        <iframe\n",
       "            width=\"900\"\n",
       "            height=\"800\"\n",
       "            src=\"_static/videos/dynet_2017-01-01.html\"\n",
       "            frameborder=\"0\"\n",
       "            allowfullscreen\n",
       "            \n",
       "        ></iframe>\n",
       "        "
      ],
      "text/plain": [
       "<IPython.lib.display.IFrame at 0x7f3a31f7baf0>"
      ]
     },
     "execution_count": 15,
     "metadata": {},
     "output_type": "execute_result"
    }
   ],
   "source": [
    "IFrame(src=\"_static/videos/dynet_2017-01-01.html\", width = \"900\", height=\"800\")"
   ]
  },
  {
   "cell_type": "code",
   "execution_count": 15,
   "id": "498cfa8d",
   "metadata": {
    "scrolled": false,
    "tags": [
     "remove-input"
    ]
   },
   "outputs": [
    {
     "data": {
      "text/html": [
       "\n",
       "        <iframe\n",
       "            width=\"900\"\n",
       "            height=\"800\"\n",
       "            src=\"_static/videos/dynet_2017-01-01.html\"\n",
       "            frameborder=\"0\"\n",
       "            allowfullscreen\n",
       "            \n",
       "        ></iframe>\n",
       "        "
      ],
      "text/plain": [
       "<IPython.lib.display.IFrame at 0x7f3a31f7baf0>"
      ]
     },
     "execution_count": 15,
     "metadata": {},
     "output_type": "execute_result"
    }
   ],
   "source": [
    "IFrame(src=\"_static/videos/dynet_2017-01-01.html\", width = \"900\", height=\"800\")"
   ]
  },
  {
   "cell_type": "markdown",
   "id": "9b061f54",
   "metadata": {},
   "source": [
    "### Graphe des catégories de statut\n"
   ]
  },
  {
   "cell_type": "code",
   "execution_count": 7,
   "id": "4ad13e3a",
   "metadata": {
    "tags": [
     "remove-input"
    ]
   },
   "outputs": [
    {
     "data": {
      "text/html": [
       "\n",
       "        <iframe\n",
       "            width=\"900\"\n",
       "            height=\"500\"\n",
       "            src=\"_static/videos/dynet_2017-01-01_status.html\"\n",
       "            frameborder=\"0\"\n",
       "            allowfullscreen\n",
       "            \n",
       "        ></iframe>\n",
       "        "
      ],
      "text/plain": [
       "<IPython.lib.display.IFrame at 0x7f3a33339a90>"
      ]
     },
     "execution_count": 7,
     "metadata": {},
     "output_type": "execute_result"
    }
   ],
   "source": [
    "IFrame(src=\"_static/videos/dynet_2017-01-01_status.html\", width = \"900\", height=\"800\")"
   ]
  },
  {
   "cell_type": "code",
   "execution_count": null,
   "id": "844714d7",
   "metadata": {},
   "outputs": [],
   "source": []
  }
 ],
 "metadata": {
  "celltoolbar": "Tags",
  "hide_input": false,
  "kernelspec": {
   "display_name": "analyse_tweets",
   "language": "python",
   "name": "analyse_tweets"
  },
  "language_info": {
   "codemirror_mode": {
    "name": "ipython",
    "version": 3
   },
   "file_extension": ".py",
   "mimetype": "text/x-python",
   "name": "python",
   "nbconvert_exporter": "python",
   "pygments_lexer": "ipython3",
   "version": "3.9.7"
  },
  "latex_envs": {
   "LaTeX_envs_menu_present": true,
   "autoclose": false,
   "autocomplete": true,
   "bibliofile": "biblio.bib",
   "cite_by": "apalike",
   "current_citInitial": 1,
   "eqLabelWithNumbers": true,
   "eqNumInitial": 1,
   "hotkeys": {
    "equation": "Ctrl-E",
    "itemize": "Ctrl-I"
   },
   "labels_anchors": false,
   "latex_user_defs": false,
   "report_style_numbering": false,
   "user_envs_cfg": false
  },
  "toc": {
   "base_numbering": 1,
   "nav_menu": {},
   "number_sections": true,
   "sideBar": true,
   "skip_h1_title": false,
   "title_cell": "Table of Contents",
   "title_sidebar": "Contents",
   "toc_cell": false,
   "toc_position": {},
   "toc_section_display": true,
   "toc_window_display": false
  }
 },
 "nbformat": 4,
 "nbformat_minor": 5
}
