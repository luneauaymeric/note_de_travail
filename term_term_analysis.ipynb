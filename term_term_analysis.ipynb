{
 "cells": [
  {
   "cell_type": "code",
   "execution_count": 1,
   "id": "61918cfc",
   "metadata": {
    "tags": [
     "remove-cell"
    ]
   },
   "outputs": [],
   "source": [
    "import pandas as pd\n",
    "import random\n",
    "\n",
    "from functools import partial\n",
    "import math\n",
    "import os\n",
    "import tqdm\n",
    "import numpy as np\n",
    "#import bamboolib as bam\n",
    "import sklearn\n",
    "from matplotlib import pyplot \n",
    "import seaborn as sns\n",
    "from sklearn import metrics\n",
    "from sklearn.neighbors import NearestNeighbors\n",
    "from matplotlib import pyplot as plt\n",
    "    \n",
    "from kneed import KneeLocator\n",
    "import scipy\n",
    "    "
   ]
  },
  {
   "cell_type": "code",
   "execution_count": 2,
   "id": "909ee1bf",
   "metadata": {
    "tags": [
     "remove-cell"
    ]
   },
   "outputs": [],
   "source": [
    "import networkx as nx\n",
    "import networkx.algorithms.community as nx_comm\n",
    "from ipysigma import Sigma\n",
    "import community as community_louvain\n",
    "import matplotlib.cm as cm\n",
    "import igraph as ig\n",
    "from tqdm.notebook import tqdm, trange\n",
    "import time\n",
    "import glob"
   ]
  },
  {
   "cell_type": "code",
   "execution_count": 3,
   "id": "c605ae61",
   "metadata": {
    "tags": [
     "remove-cell"
    ]
   },
   "outputs": [
    {
     "name": "stdout",
     "output_type": "stream",
     "text": [
      "Current directory :  /home/aymeric/python-scripts/espadon/my-espadon-notebook\n",
      "Path base :  /home/aymeric/python-scripts/espadon/data/\n"
     ]
    }
   ],
   "source": [
    "import os\n",
    "current_directory = os.getcwd()\n",
    "print(\"Current directory : \", current_directory)\n",
    "\n",
    "aymeric =  \"/home/aymeric/python-scripts/espadon/data/\" #aymeric\n",
    "jp = '~/Dropbox/Mac/Desktop/CRD Anses/all3/' # Jean Philippe\n",
    "jp_index = '~/Dropbox/Mac/Desktop/CRD Anses/code/indexation_results/' # Jean Philippe index\n",
    "\n",
    "if 'aymeric' in current_directory:\n",
    "    path_base = aymeric\n",
    "\n",
    "elif 'Mac' in current_directory:\n",
    "    path_base = jp\n",
    "elif 'd:/Projects' in current_directory:\n",
    "    path_base = \"d:/Projects/Medialab/\"\n",
    "\n",
    "print(\"Path base : \", path_base)"
   ]
  },
  {
   "cell_type": "code",
   "execution_count": 4,
   "id": "0e246f77",
   "metadata": {
    "tags": [
     "remove-cell"
    ]
   },
   "outputs": [],
   "source": [
    "corpus_tag= pd.read_csv(f\"{path_base}hashtag_by_id.csv\", sep = \",\", dtype = {\"id\": str})"
   ]
  },
  {
   "cell_type": "code",
   "execution_count": 5,
   "id": "50970c01",
   "metadata": {
    "tags": [
     "remove-cell"
    ]
   },
   "outputs": [],
   "source": [
    "corpus_tag[\"origin\"]= \"twitter\""
   ]
  },
  {
   "cell_type": "markdown",
   "id": "8e152c04",
   "metadata": {
    "tags": [
     "remove-cell"
    ]
   },
   "source": [
    "## Fréquence des termes par documents (sur facebook)"
   ]
  },
  {
   "cell_type": "code",
   "execution_count": 6,
   "id": "ddbca999",
   "metadata": {
    "tags": [
     "remove-cell"
    ]
   },
   "outputs": [],
   "source": [
    "def term_doc_freq(data, name_period, origin, period, what, targeted_terms, N):\n",
    "    \n",
    "    if period == None:\n",
    "        df_p = data.loc[(data[\"origin\"].isin(origin))]\n",
    "    else:\n",
    "        df_p = data.loc[(data[\"origin\"].isin(origin)) & (data[name_period]== period)]\n",
    "    \n",
    "    if len(targeted_terms) > 0:\n",
    "        doc_with_targeted_terms = df_p.loc[df_p[\"term\"].isin(targeted_terms)]\n",
    "        df_p = df_p.merge(doc_with_targeted_terms[[\"id\"]], on = [\"id\"], how = \"inner\")\n",
    "    else:\n",
    "        pass\n",
    "        \n",
    "    if N != None:\n",
    "        topN=df_p[\"hashtag\"].value_counts().index[:N]\n",
    "\n",
    "        #topN = df_p[\"term\"].value_counts().index[:N]\n",
    "        df_p=df_p.loc[(df_p[\"hashtag\"].isin(topN))]\n",
    "    else:\n",
    "        pass\n",
    "\n",
    "    df_term_freq = df_p.groupby(['hashtag', what]).agg(freq=('origin', 'size')).reset_index()\n",
    "    return df_term_freq"
   ]
  },
  {
   "cell_type": "markdown",
   "id": "f81a5c56",
   "metadata": {
    "tags": [
     "remove-cell"
    ]
   },
   "source": [
    "## Création de la matrice termes-termes\n",
    "multiplication de la matrice documents-termes par sa transposée"
   ]
  },
  {
   "cell_type": "code",
   "execution_count": 7,
   "id": "96048645",
   "metadata": {
    "tags": [
     "remove-cell"
    ]
   },
   "outputs": [],
   "source": [
    "def create_term_term_matrix(data, what):\n",
    "    table = pd.pivot_table(data, \n",
    "                           values='freq', index=[what],columns=[\"hashtag\"], aggfunc=np.sum, fill_value=0, observed = True)\n",
    "    \n",
    "    term_term = np.dot(table.T, table) # multiplication de la transposé de\n",
    "    return term_term, table"
   ]
  },
  {
   "cell_type": "code",
   "execution_count": 8,
   "id": "c61bef7d",
   "metadata": {
    "tags": [
     "remove-cell"
    ]
   },
   "outputs": [],
   "source": [
    "def mutual_information_matrix(matrix): # a term_term matrix\n",
    "    mi_matrix = []\n",
    "    #freq_term = [x for x in matrix.diagonal()] # pour obtenir la fréquence de chaque terme (somme de chaque ligne)\n",
    "    freq_term = np.sum(matrix,axis=1).tolist() - matrix.diagonal()\n",
    "    \n",
    "    #Nombre de paires est égale à la somme des lignes moins la diagonale (à diviser par 2?)\n",
    "    #Nb_pairs = (sum(np.sum(matrix,axis=1).tolist()) -  sum(freq_term))/2 \n",
    "    Nb_pairs = sum(freq_term)\n",
    "    for i in range(len(matrix)):\n",
    "        list_mi = []\n",
    "        for j in range(len(matrix)):\n",
    "            nb_cooc = matrix[i,j] #nombre de cooccurrences des termes i et j\n",
    "            freq_i = freq_term[i] # fréquence de i\n",
    "            freq_j = freq_term[j] # fréquence de j\n",
    "        \n",
    "            if i == j : \n",
    "                mutual_info = 0\n",
    "            else:\n",
    "                if nb_cooc == 0 :\n",
    "                    mutual_info = 0\n",
    "                else: #calcule mutual information\n",
    "                    num = (nb_cooc*Nb_pairs)\n",
    "                    denom = freq_i*freq_j\n",
    "                    mutual_info = np.log(num/denom)\n",
    "                    if mutual_info < 0:\n",
    "                        mutual_info = 0\n",
    "\n",
    "            list_mi.append(mutual_info)\n",
    "        mi_matrix.append(list_mi)\n",
    "    return mi_matrix"
   ]
  },
  {
   "cell_type": "markdown",
   "id": "3e4c3f08",
   "metadata": {
    "tags": [
     "remove-cell"
    ]
   },
   "source": [
    "## Calcule du cosine"
   ]
  },
  {
   "cell_type": "code",
   "execution_count": 9,
   "id": "ae5553be",
   "metadata": {
    "tags": [
     "remove-cell"
    ]
   },
   "outputs": [],
   "source": [
    "def find_k_neighbor(mi_matrix, precompute):\n",
    "    mi_array = np.array(mi_matrix)\n",
    "    \n",
    "    if precompute == True:\n",
    "        m =scipy.sparse.csc_matrix(mi_array)\n",
    "        dist=metrics.pairwise.cosine_distances(m)\n",
    "        list_voisin = []\n",
    "        list_voisin_dist =[]\n",
    "        samples = dist\n",
    "        neigh = NearestNeighbors(n_neighbors=6, metric='precomputed')\n",
    "        neigh.fit(samples)\n",
    "        for x in range(len(dist)):\n",
    "            voisins = neigh.kneighbors(dist[[x]], return_distance=True)\n",
    "            voisins_dist = voisins[0].tolist()\n",
    "            voisins_id = voisins[1].tolist()\n",
    "            #print(voisins_id)\n",
    "            list_voisin.append(voisins_id[0])\n",
    "            list_voisin_dist.append(voisins_dist[0])\n",
    "    else:\n",
    "        list_voisin = []\n",
    "        list_voisin_dist =[]\n",
    "        samples = mi_array\n",
    "        neigh = NearestNeighbors(n_neighbors=6, metric='cosine')\n",
    "        neigh.fit(samples)\n",
    "        for x in range(len(mi_array)):\n",
    "            voisins = neigh.kneighbors(mi_array[[x]], return_distance=True)\n",
    "            voisins_dist = voisins[0].tolist()\n",
    "            voisins_id = voisins[1].tolist()\n",
    "            #print(voisins_id)\n",
    "            list_voisin.append(voisins_id[0])\n",
    "            list_voisin_dist.append(voisins_dist[0])\n",
    "    return list_voisin, list_voisin_dist\n",
    "    \n",
    "    \n",
    "        "
   ]
  },
  {
   "cell_type": "code",
   "execution_count": 10,
   "id": "51d999b0",
   "metadata": {
    "tags": [
     "remove-cell"
    ]
   },
   "outputs": [],
   "source": [
    "def matrix_to_df(list_voisin, list_voisin_dist, table):\n",
    "    df_dist = pd.DataFrame(list_voisin_dist)\n",
    "    df_dist[\"term\"] = table.columns\n",
    "    df_dist[\"id\"] = df_dist.index\n",
    "    list_id = []\n",
    "    list_term = []\n",
    "    list_voisins_dist =[]\n",
    "    for x, term in enumerate(df_dist[\"term\"]):\n",
    "        for col in df_dist.columns[0:-2]:\n",
    "            list_id.append(x)\n",
    "            list_term.append(term)\n",
    "            neig_dist = df_dist[col].iloc[x]\n",
    "            list_voisins_dist.append(neig_dist)\n",
    "    data = {\"id\": list_id, \"term\": list_term, \"distances\":list_voisins_dist}\n",
    "    df_dist_voisin = pd.DataFrame(data)#dtype={\"id\" :\"string\"})\n",
    "    df_dist_voisin[\"row_id\"] = df_dist_voisin.index #.astype('str')\n",
    "    df_dist_voisin = df_dist_voisin.astype({\"id\": str, \"row_id\": str})\n",
    "\n",
    "    df_voisin = pd.DataFrame(list_voisin)\n",
    "    df_voisin[\"term\"] = table.columns\n",
    "    df_voisin[\"id\"] = df_voisin.index\n",
    "    list_id = []\n",
    "    list_term = []\n",
    "    list_voisins =[]\n",
    "    for x, term in enumerate(df_voisin[\"term\"]):\n",
    "        for col in df_voisin.columns[0:-2]:\n",
    "            list_id.append(x)\n",
    "            list_term.append(term)\n",
    "            neig = df_voisin[col].iloc[x]\n",
    "            list_voisins.append(neig)\n",
    "    data = {\"id\": list_id, \"term\": list_term, \"voisins\":list_voisins}\n",
    "    df_voisin = pd.DataFrame(data)\n",
    "    df_voisin[\"row_id\"] = df_voisin.index\n",
    "    df_voisin = df_voisin.astype({\"id\": str, \"row_id\": str, \"voisins\" : str})\n",
    "    df_voisin = df_voisin.merge(df_dist_voisin, on=[\"row_id\", \"term\", \"id\"], how = \"left\")\n",
    "    \n",
    "    df_id = df_voisin[[\"id\", \"term\"]].drop_duplicates()\n",
    "    df_id[\"voisins\"] = df_id[\"id\"].astype('str')\n",
    "    df_id = df_id.astype({\"voisins\": str, \"id\": str})\n",
    "    df_voisin = df_voisin.merge(df_id, on=[\"voisins\"], how =\"left\")\n",
    "    \n",
    "    df_voisin = df_voisin.drop(columns=[\"voisins\"])\n",
    "    df_voisin[\"id_x\"] = \"id_\"+df_voisin[\"id_x\"]\n",
    "    df_voisin[\"id_y\"] = \"id_\"+df_voisin[\"id_y\"]\n",
    "    df_voisin[\"row_id\"] = \"row_id_\"+df_voisin[\"row_id\"]\n",
    "    df_voisin = df_voisin.loc[df_voisin[\"term_x\"]!=df_voisin[\"term_y\"]]\n",
    "    \n",
    "    return df_voisin"
   ]
  },
  {
   "cell_type": "code",
   "execution_count": 11,
   "id": "ab797b4b",
   "metadata": {
    "tags": [
     "remove-cell"
    ]
   },
   "outputs": [],
   "source": [
    "def dessine_moi_un_graph(data, origin, threshold, resolution, save_figure):\n",
    "    \n",
    "    df_voisin0 = data[[\"term_x\", \"term_y\", \"distances\"]].loc[df_voisin[\"distances\"]>= threshold]\n",
    "    \n",
    "    G = nx.from_pandas_edgelist(df_voisin0, 'term_x', 'term_y', ['distances'])\n",
    "    btw = nx.betweenness_centrality(G, k=None, normalized=True, weight=None, endpoints=False, seed=None)\n",
    "    degres = nx.degree_centrality(G)\n",
    "    partition = community_louvain.best_partition(G, weight = \"distances\",resolution= resolution)\n",
    "    \n",
    "    ## set note attribute : degre, cluster\n",
    "    nx.set_node_attributes(G, partition, 'louvain')\n",
    "    nx.set_node_attributes(G, btw, 'betweenness')\n",
    "    nx.set_node_attributes(G, degres, 'degres')\n",
    "    \n",
    "    #map cluster with terms\n",
    "    df_voisin0[\"cluster_x\"] = df_voisin0[\"term_x\"].map(partition)\n",
    "    df_voisin0[\"cluster_y\"] = df_voisin0[\"term_y\"].map(partition)\n",
    "    \n",
    "    \n",
    "    \n",
    "    # remove edges between nodes belonging to different clusters\n",
    "    df_voisin1 = df_voisin0.loc[(df_voisin0[\"cluster_x\"]== df_voisin0[\"cluster_y\"])] \n",
    "    \n",
    "    \n",
    "    # create a new graph\n",
    "    G1 = nx.from_pandas_edgelist(df_voisin1, 'term_x', 'term_y', ['distances', \"cluster_x\", \"cluster_y\"])\n",
    "    btw = nx.betweenness_centrality(G1, k=None, normalized=True, weight=None, endpoints=False, seed=None)\n",
    "    degres = nx.degree_centrality(G1)\n",
    "    \n",
    "    nx.set_node_attributes(G1, partition, 'louvain')\n",
    "    nx.set_node_attributes(G1, btw, 'betweenness')\n",
    "    nx.set_node_attributes(G1, degres, 'degres')\n",
    "    \n",
    "    # create a dataframe with terms, their cluster and their degrees\n",
    "    list_term = []\n",
    "    list_cluster = []\n",
    "    list_degres = []\n",
    "    for key, value in partition.items():\n",
    "        list_term.append(key)\n",
    "        list_cluster.append(value)\n",
    "        list_degres.append(degres[key])\n",
    "    \n",
    "    df_cluster = pd.DataFrame(data={\"terms\":list_term, \"cluster\":list_cluster, \"degres\": list_degres}).sort_values(by=[\"cluster\", \"degres\"], ascending = [True, False])\n",
    "    df_cluster_5 = df_cluster.groupby(\"cluster\").head(5)\n",
    "    \n",
    "    dict_5_term = {}\n",
    "    for c in df_cluster_5[\"cluster\"]:\n",
    "        list_5_terms = df_cluster_5[\"terms\"].loc[df_cluster_5[\"cluster\"]==c]\n",
    "        fifth_terms = f'Cluster {c} : {\"; \".join(x for x in list_5_terms)}'\n",
    "        dict_5_term[c]= fifth_terms\n",
    "\n",
    "    fifth_terms\n",
    "\n",
    "    df_cluster_freq = df_cluster.groupby([\"cluster\"]).agg(nb_terms = (\"terms\", \"size\")).reset_index().sort_values(by=\"nb_terms\", ascending = False)\n",
    "    df_cluster_freq[\"list_5st_terms\"] = df_cluster_freq[\"cluster\"].map(dict_5_term)\n",
    "    \n",
    "    figure = sns.catplot(data=df_cluster_freq, x=\"nb_terms\", y=\"list_5st_terms\", kind=\"bar\").set(title=f'Les clusters ({origin})')\n",
    "    \n",
    "    if save_figure == True:\n",
    "        figure.savefig(f\"{path}/analyse_periods/cluster_{origin}.jpeg\")\n",
    "    else:\n",
    "        pass\n",
    "    \n",
    "    return G, df_cluster, figure, df_cluster_freq, dict_5_term, df_voisin0"
   ]
  },
  {
   "cell_type": "code",
   "execution_count": 12,
   "id": "d629bca5",
   "metadata": {
    "tags": [
     "remove-cell"
    ]
   },
   "outputs": [],
   "source": [
    "df_term_freq = term_doc_freq(data = corpus_tag, origin = [\"twitter\"], \n",
    "                             name_period = \"P_facebook\", period = None, \n",
    "                             what = \"id\", targeted_terms = [],\n",
    "                            N = 200)\n"
   ]
  },
  {
   "cell_type": "code",
   "execution_count": 13,
   "id": "88385a3b",
   "metadata": {
    "tags": [
     "remove-cell"
    ]
   },
   "outputs": [],
   "source": [
    "term_term, table = create_term_term_matrix(data = df_term_freq,  what =\"id\")"
   ]
  },
  {
   "cell_type": "code",
   "execution_count": 14,
   "id": "83e36a5c",
   "metadata": {
    "tags": [
     "remove-cell"
    ]
   },
   "outputs": [],
   "source": [
    "mi_matrix = mutual_information_matrix(matrix= term_term)"
   ]
  },
  {
   "cell_type": "code",
   "execution_count": 15,
   "id": "f0ce57c2",
   "metadata": {
    "tags": [
     "remove-cell"
    ]
   },
   "outputs": [],
   "source": [
    "list_voisin, list_voisin_dist = find_k_neighbor(mi_matrix = mi_matrix, precompute = \"True\")"
   ]
  },
  {
   "cell_type": "code",
   "execution_count": 16,
   "id": "d69c1942",
   "metadata": {
    "tags": [
     "remove-cell"
    ]
   },
   "outputs": [],
   "source": [
    "list_voisin, list_voisin_dist = find_k_neighbor(mi_matrix = mi_matrix, precompute = \"True\")\n",
    "df_voisin = matrix_to_df(list_voisin, list_voisin_dist, table)"
   ]
  },
  {
   "cell_type": "code",
   "execution_count": 17,
   "id": "74c2d922",
   "metadata": {
    "tags": [
     "remove-cell"
    ]
   },
   "outputs": [
    {
     "data": {
      "text/plain": [
       "<AxesSubplot:>"
      ]
     },
     "execution_count": 17,
     "metadata": {},
     "output_type": "execute_result"
    },
    {
     "data": {
      "image/png": "[encoded data removed]",
      "text/plain": [
       "<Figure size 432x288 with 1 Axes>"
      ]
     },
     "metadata": {
      "needs_background": "light"
     },
     "output_type": "display_data"
    }
   ],
   "source": [
    "df_voisin.distances.hist()"
   ]
  },
  {
   "cell_type": "markdown",
   "id": "87da0a12",
   "metadata": {},
   "source": [
    "# Analyse des cooccurence entre hashtags"
   ]
  },
  {
   "cell_type": "code",
   "execution_count": 18,
   "id": "4a0fdb68",
   "metadata": {
    "tags": [
     "remove-input"
    ]
   },
   "outputs": [
    {
     "name": "stderr",
     "output_type": "stream",
     "text": [
      "/home/aymeric/.local/lib/python3.9/site-packages/seaborn/axisgrid.py:856: UserWarning: Tight layout not applied. The left and right margins cannot be made large enough to accommodate all axes decorations.\n",
      "  self.fig.tight_layout()\n"
     ]
    },
    {
     "data": {
      "image/png": "[encoded data removed]",
      "text/plain": [
       "<Figure size 360x360 with 1 Axes>"
      ]
     },
     "metadata": {
      "needs_background": "light"
     },
     "output_type": "display_data"
    }
   ],
   "source": [
    "G, df_cluster, figure, df_cluster_freq, dict_5_term, df_voisin0 = dessine_moi_un_graph(data = df_voisin, origin= \"twitter\", threshold= 0.2, resolution=2, save_figure = False)"
   ]
  },
  {
   "cell_type": "markdown",
   "id": "52204edd",
   "metadata": {},
   "source": [
    "## Le graphe des co-occurrence\n",
    "\n",
    "basé sur les 5 plus proches voisins de chaque noeud"
   ]
  },
  {
   "cell_type": "code",
   "execution_count": 19,
   "id": "4ed64cb4",
   "metadata": {
    "scrolled": true,
    "tags": [
     "remove-input"
    ]
   },
   "outputs": [
    {
     "data": {
      "application/vnd.jupyter.widget-view+json": {
       "model_id": "161c7ee415c8498ea334c1559f8652b7",
       "version_major": 2,
       "version_minor": 0
      },
      "text/plain": [
       "Sigma(nx.Graph with 200 nodes and 674 edges)"
      ]
     },
     "metadata": {},
     "output_type": "display_data"
    }
   ],
   "source": [
    "Sigma(G, node_color = \"louvain\", node_size = \"degres\")"
   ]
  },
  {
   "cell_type": "markdown",
   "id": "bcf76b67",
   "metadata": {},
   "source": [
    "![](images/graph.svg)"
   ]
  },
  {
   "cell_type": "code",
   "execution_count": null,
   "id": "4c0e7a9c",
   "metadata": {},
   "outputs": [],
   "source": []
  }
 ],
 "metadata": {
  "celltoolbar": "Tags",
  "hide_input": false,
  "kernelspec": {
   "display_name": "analyse_tweets",
   "language": "python",
   "name": "analyse_tweets"
  },
  "language_info": {
   "codemirror_mode": {
    "name": "ipython",
    "version": 3
   },
   "file_extension": ".py",
   "mimetype": "text/x-python",
   "name": "python",
   "nbconvert_exporter": "python",
   "pygments_lexer": "ipython3",
   "version": "3.9.7"
  },
  "latex_envs": {
   "LaTeX_envs_menu_present": true,
   "autoclose": false,
   "autocomplete": true,
   "bibliofile": "biblio.bib",
   "cite_by": "apalike",
   "current_citInitial": 1,
   "eqLabelWithNumbers": true,
   "eqNumInitial": 1,
   "hotkeys": {
    "equation": "Ctrl-E",
    "itemize": "Ctrl-I"
   },
   "labels_anchors": false,
   "latex_user_defs": false,
   "report_style_numbering": false,
   "user_envs_cfg": false
  },
  "toc": {
   "base_numbering": 1,
   "nav_menu": {},
   "number_sections": true,
   "sideBar": true,
   "skip_h1_title": false,
   "title_cell": "Table of Contents",
   "title_sidebar": "Contents",
   "toc_cell": false,
   "toc_position": {},
   "toc_section_display": true,
   "toc_window_display": false
  }
 },
 "nbformat": 4,
 "nbformat_minor": 5
}
