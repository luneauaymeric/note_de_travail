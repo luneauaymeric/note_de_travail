{
 "cells": [
  {
   "cell_type": "code",
   "execution_count": 2,
   "id": "a9413e6a",
   "metadata": {},
   "outputs": [],
   "source": [
    "import pandas as pd"
   ]
  },
  {
   "cell_type": "code",
   "execution_count": 3,
   "id": "ffe138c6",
   "metadata": {},
   "outputs": [],
   "source": [
    "dtype_dict={}\n",
    "for x in ['user_id', 'retweeted_id', 'retweeted_user_id', 'id']:\n",
    "    dtype_dict[x]=str\n"
   ]
  },
  {
   "cell_type": "code",
   "execution_count": 4,
   "id": "c441164d",
   "metadata": {},
   "outputs": [
    {
     "name": "stderr",
     "output_type": "stream",
     "text": [
      "/tmp/ipykernel_253682/2831012075.py:5: DtypeWarning: Columns (4,14) have mixed types. Specify dtype option on import or set low_memory=False.\n",
      "  df = pd.read_csv(\"/home/aymeric/python-scripts/espadon/my-espadon-notebook/tweets_and_retweets_of_advocacy_oncologist.csv\",\n"
     ]
    }
   ],
   "source": [
    "# Jean-Philippe\n",
    "#df=pd.read_csv('../data/tweets_of_oncologist_and_advocacy.csv',dtype=dtype_dict)\n",
    "\n",
    "# Aymeric\n",
    "df = pd.read_csv(\"/home/aymeric/python-scripts/espadon/my-espadon-notebook/tweets_and_retweets_of_advocacy_oncologist.csv\", \n",
    "                 sep=\",\", dtype = dtype_dict)"
   ]
  },
  {
   "cell_type": "markdown",
   "id": "2f472b3e",
   "metadata": {},
   "source": [
    "## Extraction des tweets des oncologues et des advocacies\n",
    "\n",
    "Je n'ai pas compris à quoi servent les lignes de codes ci-dessous? Tu vas les réutiliser plus tard?"
   ]
  },
  {
   "cell_type": "code",
   "execution_count": null,
   "id": "0718e821",
   "metadata": {},
   "outputs": [],
   "source": [
    "dico_user_id_2_status=dict(zip(df.user_id,df.User_status))"
   ]
  },
  {
   "cell_type": "code",
   "execution_count": null,
   "id": "a32eae84",
   "metadata": {},
   "outputs": [],
   "source": [
    "df['retweeted_user_status']=df['retweeted_user_id'].map(dico_user_id_2_status.get)"
   ]
  },
  {
   "cell_type": "code",
   "execution_count": null,
   "id": "25296a97",
   "metadata": {},
   "outputs": [],
   "source": [
    "df['retweeted_user_status'].value_counts()"
   ]
  },
  {
   "cell_type": "code",
   "execution_count": null,
   "id": "f0e93da5",
   "metadata": {},
   "outputs": [],
   "source": [
    "df['retweeted_id'].isna().sum()/len(df)"
   ]
  },
  {
   "cell_type": "code",
   "execution_count": null,
   "id": "91404156",
   "metadata": {},
   "outputs": [],
   "source": [
    "df['User_status'].value_counts()"
   ]
  },
  {
   "cell_type": "code",
   "execution_count": null,
   "id": "3be8a322",
   "metadata": {},
   "outputs": [],
   "source": [
    "df_adv=df[df['User_status']=='Advocacy']#.sample(50000)\n",
    "df_onc=df[df['User_status']=='Oncologist']#.sample(50000)"
   ]
  },
  {
   "cell_type": "code",
   "execution_count": null,
   "id": "26449c44",
   "metadata": {},
   "outputs": [],
   "source": [
    "#df_adv.retweeted_user_status.value_counts()"
   ]
  },
  {
   "cell_type": "code",
   "execution_count": null,
   "id": "fac48120",
   "metadata": {},
   "outputs": [],
   "source": [
    "df[['User_status','retweeted_user_status']]"
   ]
  },
  {
   "cell_type": "code",
   "execution_count": null,
   "id": "e12174fb",
   "metadata": {},
   "outputs": [],
   "source": [
    "print(len(df[(df['User_status']=='Advocacy')]))\n",
    "df_adv=df[(df['User_status']=='Advocacy')].sample(100000,random_state=23)# | (df['retweeted_user_status']=='Advocacy')].sample(50000)\n"
   ]
  },
  {
   "cell_type": "code",
   "execution_count": null,
   "id": "7bb8ebbc",
   "metadata": {},
   "outputs": [],
   "source": [
    "df_adv=df_adv[df_adv.retweeted_user_id.isna()].sample(50000,random_state=23)"
   ]
  },
  {
   "cell_type": "code",
   "execution_count": null,
   "id": "40514676",
   "metadata": {},
   "outputs": [],
   "source": [
    "df_adv.User_status.value_counts()"
   ]
  },
  {
   "cell_type": "code",
   "execution_count": null,
   "id": "255495a6",
   "metadata": {},
   "outputs": [],
   "source": [
    "onc_retweeted_ids=df[(df['retweeted_user_status']=='Advocacy') & (df['User_status']=='Oncologist')]['retweeted_id'].values\n"
   ]
  },
  {
   "cell_type": "code",
   "execution_count": null,
   "id": "4c241138",
   "metadata": {},
   "outputs": [],
   "source": [
    "len(df_onc),len(onc_retweeted_ids)"
   ]
  },
  {
   "cell_type": "code",
   "execution_count": null,
   "id": "d36021e7",
   "metadata": {},
   "outputs": [],
   "source": [
    "dico_id={}\n",
    "for x in onc_retweeted_ids:\n",
    "    dico_id[x]=True"
   ]
  },
  {
   "cell_type": "code",
   "execution_count": null,
   "id": "cfafa44b",
   "metadata": {},
   "outputs": [],
   "source": [
    "df_onc.id"
   ]
  },
  {
   "cell_type": "code",
   "execution_count": null,
   "id": "c31c4ccf",
   "metadata": {},
   "outputs": [],
   "source": [
    "df_adv[df_adv['id'].isin(onc_retweeted_ids)]"
   ]
  },
  {
   "cell_type": "code",
   "execution_count": null,
   "id": "340a2c8f",
   "metadata": {},
   "outputs": [],
   "source": [
    "df_adv['star']=df_adv.id.map(dico_id.get)"
   ]
  },
  {
   "cell_type": "code",
   "execution_count": null,
   "id": "7e52bf5b",
   "metadata": {},
   "outputs": [],
   "source": [
    "df_adv.star.value_counts()"
   ]
  },
  {
   "cell_type": "code",
   "execution_count": null,
   "id": "8f985a30",
   "metadata": {},
   "outputs": [],
   "source": [
    "len(df_adv)"
   ]
  },
  {
   "cell_type": "code",
   "execution_count": null,
   "id": "298152eb",
   "metadata": {},
   "outputs": [],
   "source": [
    "df_adv=df_adv.sample(10000,random_state=23)"
   ]
  },
  {
   "cell_type": "code",
   "execution_count": null,
   "id": "3fd28f5e",
   "metadata": {},
   "outputs": [],
   "source": [
    "df_adv_s=df_adv.drop_duplicates(subset=['text'])\n",
    "len(df_adv_s)"
   ]
  },
  {
   "cell_type": "markdown",
   "id": "31c08b2e",
   "metadata": {},
   "source": [
    "## Définition de l'échantillon\n",
    "\n",
    "Ici, je comprends que tu définis l'échantillon à partir du dataframe originale (nommé df) et non à partir des sous-corpus \"df_adv\" ou \"df_onc\""
   ]
  },
  {
   "cell_type": "code",
   "execution_count": 109,
   "id": "f8c0cf46",
   "metadata": {},
   "outputs": [],
   "source": [
    "dfl=df.sample(4000,random_state=23)"
   ]
  },
  {
   "cell_type": "code",
   "execution_count": 110,
   "id": "64a87ee4",
   "metadata": {},
   "outputs": [],
   "source": [
    "#!pip install cleantext"
   ]
  },
  {
   "cell_type": "code",
   "execution_count": 111,
   "id": "509b1e55",
   "metadata": {},
   "outputs": [],
   "source": [
    "import cleantext #j'ai une erreur avec cleantext : module 'cleantext' has no attribute 'replace_urls'\n",
    "import re\n",
    "import nltk\n",
    "from nltk.tokenize import TweetTokenizer, word_tokenize\n",
    "from nltk.corpus import stopwords \n",
    "\n",
    "\n"
   ]
  },
  {
   "cell_type": "code",
   "execution_count": 112,
   "id": "4314046a",
   "metadata": {},
   "outputs": [],
   "source": [
    "# Fonction de nettoyage utilisée en attendant de régler le problème de cleantext\n",
    "def clean_text(x):\n",
    "    x = str(x)\n",
    "    x = x.lower().strip()\n",
    "    x = re.sub(r'\\brt\\b','', x) #Enlève les RT\n",
    "    #x = re.sub(r'#[A-Za-z0-9]*', ' ', x) #Enlève les hashtag plus les mots\n",
    "    x = re.sub(r'#', ' ', x) #Enlève les hashtag sans les mots\n",
    "    x = re.sub(r'https*://.*', ' ', x)\n",
    "    x = re.sub(r'@[A-Za-z0-9]+', ' ', x)\n",
    "    tokens = word_tokenize(x)\n",
    "    x = ' '.join([w for w in tokens if not w.lower() in stop_words])\n",
    "    x = re.sub(r'[%s]' % re.escape('!\"#$%&\\()*+,-./:;<=>?@[\\\\]^_`{|}~“…”’'), ' ', x)\n",
    "    x = re.sub(r'\\d+', ' ', x)\n",
    "    x = re.sub(r'\\n+', ' ', x)\n",
    "    x = re.sub(r'\\s{2,}', ' ', x)\n",
    "    return x"
   ]
  },
  {
   "cell_type": "code",
   "execution_count": 113,
   "id": "baa3c697",
   "metadata": {},
   "outputs": [],
   "source": [
    "def tok(text):\n",
    "    tt = TweetTokenizer()\n",
    "    return [x for x in tt.tokenize(re.sub(\"@[A-Za-z0-9_]+\",\"\", cleantext.replace_urls(text, replace_with=\"\"))) if len(x)>2 and len(x)<30]\n",
    "\n",
    "\n",
    "def tok2(text):\n",
    "    tt = TweetTokenizer()\n",
    "    cleaned_text = clean_text(text)\n",
    "    return [x for x in tt.tokenize(cleaned_text) if len(x)>2 and len(x)<30]\n",
    "\n",
    "#REMOVE ONLY THE '#'NOT THE WORD AFTER\n",
    "def remove_hashtag_sign(text):\n",
    "    text = re.sub(r'#', '', text)\n",
    "    return text\n",
    "\n"
   ]
  },
  {
   "cell_type": "markdown",
   "id": "ac810489",
   "metadata": {},
   "source": [
    "Je ne vois pas où tu fais appel à la fonction remove_hashtag_sign?\n",
    "\n",
    "Par ailleurs, est-ce utile d'enlever les \"RT\" ?"
   ]
  },
  {
   "cell_type": "code",
   "execution_count": 114,
   "id": "249ec8f5",
   "metadata": {},
   "outputs": [
    {
     "name": "stderr",
     "output_type": "stream",
     "text": [
      "[nltk_data] Downloading package stopwords to\n",
      "[nltk_data]     /home/aymeric/nltk_data...\n",
      "[nltk_data]   Package stopwords is already up-to-date!\n",
      "[nltk_data] Downloading package punkt to /home/aymeric/nltk_data...\n",
      "[nltk_data]   Package punkt is already up-to-date!\n"
     ]
    }
   ],
   "source": [
    "nltk.download('stopwords')\n",
    "nltk.download('punkt')\n",
    "stop_words = stopwords.words('english')"
   ]
  },
  {
   "cell_type": "code",
   "execution_count": 115,
   "id": "d0277faa",
   "metadata": {},
   "outputs": [
    {
     "data": {
      "text/html": [
       "<div>\n",
       "<style scoped>\n",
       "    .dataframe tbody tr th:only-of-type {\n",
       "        vertical-align: middle;\n",
       "    }\n",
       "\n",
       "    .dataframe tbody tr th {\n",
       "        vertical-align: top;\n",
       "    }\n",
       "\n",
       "    .dataframe thead th {\n",
       "        text-align: right;\n",
       "    }\n",
       "</style>\n",
       "<table border=\"1\" class=\"dataframe\">\n",
       "  <thead>\n",
       "    <tr style=\"text-align: right;\">\n",
       "      <th></th>\n",
       "      <th>user_id</th>\n",
       "      <th>user_screen_name</th>\n",
       "      <th>User_status</th>\n",
       "      <th>retweeted_id</th>\n",
       "      <th>retweeted_user</th>\n",
       "      <th>text</th>\n",
       "      <th>user_description</th>\n",
       "      <th>sum_nb_biom</th>\n",
       "      <th>id</th>\n",
       "      <th>timestamp_utc</th>\n",
       "      <th>local_time</th>\n",
       "      <th>retweet_count</th>\n",
       "      <th>retweeted_user_id</th>\n",
       "      <th>retweeted_timestamp_utc</th>\n",
       "      <th>retweeted_user_status</th>\n",
       "      <th>text_clean</th>\n",
       "    </tr>\n",
       "  </thead>\n",
       "  <tbody>\n",
       "    <tr>\n",
       "      <th>1357001</th>\n",
       "      <td>31000651</td>\n",
       "      <td>teamoncology</td>\n",
       "      <td>Oncologist</td>\n",
       "      <td>NaN</td>\n",
       "      <td>NaN</td>\n",
       "      <td>病院で、複数の医療機器・装置と共に移動し操作・管理を行う≪臨床工学技士≫のお話をコラムに載せ...</td>\n",
       "      <td>University of Hawai’i Cancer Center, Director....</td>\n",
       "      <td>77.0</td>\n",
       "      <td>237409610665955328</td>\n",
       "      <td>1345437836</td>\n",
       "      <td>2012-08-20T04:43:56</td>\n",
       "      <td>1</td>\n",
       "      <td>NaN</td>\n",
       "      <td>NaN</td>\n",
       "      <td>NaN</td>\n",
       "      <td>病院で、複数の医療機器・装置と共に移動し操作・管理を行う≪臨床工学技士≫のお話をコラムに載せ...</td>\n",
       "    </tr>\n",
       "    <tr>\n",
       "      <th>114580</th>\n",
       "      <td>904861723</td>\n",
       "      <td>abcdiagnosis</td>\n",
       "      <td>Advocacy</td>\n",
       "      <td>NaN</td>\n",
       "      <td>NaN</td>\n",
       "      <td>Exactly &amp; this is what we want this to change ...</td>\n",
       "      <td>Founder of After Breast Cancer Diagnosis &amp; liv...</td>\n",
       "      <td>60.0</td>\n",
       "      <td>730040390900981760</td>\n",
       "      <td>1462890167</td>\n",
       "      <td>2016-05-10T14:22:47</td>\n",
       "      <td>1</td>\n",
       "      <td>NaN</td>\n",
       "      <td>NaN</td>\n",
       "      <td>NaN</td>\n",
       "      <td>exactly want change help others datasaveslives...</td>\n",
       "    </tr>\n",
       "    <tr>\n",
       "      <th>1360829</th>\n",
       "      <td>31000651</td>\n",
       "      <td>teamoncology</td>\n",
       "      <td>Oncologist</td>\n",
       "      <td>NaN</td>\n",
       "      <td>NaN</td>\n",
       "      <td>♬ 'Hyakumankaino Aishiteru' - Oranje. ♪ この曲気に入...</td>\n",
       "      <td>University of Hawai’i Cancer Center, Director....</td>\n",
       "      <td>77.0</td>\n",
       "      <td>136636552712437761</td>\n",
       "      <td>1321411667</td>\n",
       "      <td>2011-11-16T02:47:47</td>\n",
       "      <td>0</td>\n",
       "      <td>NaN</td>\n",
       "      <td>NaN</td>\n",
       "      <td>NaN</td>\n",
       "      <td>♬ 'hyakumankaino aishiteru ' oranje ♪ この曲気に入ってます</td>\n",
       "    </tr>\n",
       "    <tr>\n",
       "      <th>881406</th>\n",
       "      <td>14465456</td>\n",
       "      <td>MightyCasey</td>\n",
       "      <td>Advocacy</td>\n",
       "      <td>NaN</td>\n",
       "      <td>NaN</td>\n",
       "      <td>@ePatientDave @findlungcancer @MyelomaTeacher ...</td>\n",
       "      <td>Snarky #HealthData journo/wonk/activist. This ...</td>\n",
       "      <td>21.0</td>\n",
       "      <td>1039868733660049409</td>\n",
       "      <td>1536759000</td>\n",
       "      <td>2018-09-12T13:30:00</td>\n",
       "      <td>0</td>\n",
       "      <td>NaN</td>\n",
       "      <td>NaN</td>\n",
       "      <td>NaN</td>\n",
       "      <td>tagging peeps might knowledge</td>\n",
       "    </tr>\n",
       "    <tr>\n",
       "      <th>1787238</th>\n",
       "      <td>14062554</td>\n",
       "      <td>MDAndersonNews</td>\n",
       "      <td>Health center</td>\n",
       "      <td>NaN</td>\n",
       "      <td>NaN</td>\n",
       "      <td>@realsarahpepper Thank you for your support!</td>\n",
       "      <td>MD Anderson is a global leader in cancer care,...</td>\n",
       "      <td>53.0</td>\n",
       "      <td>1188811231324442624</td>\n",
       "      <td>1572269659</td>\n",
       "      <td>2019-10-28T13:34:19</td>\n",
       "      <td>2</td>\n",
       "      <td>NaN</td>\n",
       "      <td>NaN</td>\n",
       "      <td>NaN</td>\n",
       "      <td>thank support</td>\n",
       "    </tr>\n",
       "  </tbody>\n",
       "</table>\n",
       "</div>"
      ],
      "text/plain": [
       "           user_id user_screen_name    User_status retweeted_id  \\\n",
       "1357001   31000651     teamoncology     Oncologist          NaN   \n",
       "114580   904861723     abcdiagnosis       Advocacy          NaN   \n",
       "1360829   31000651     teamoncology     Oncologist          NaN   \n",
       "881406    14465456      MightyCasey       Advocacy          NaN   \n",
       "1787238   14062554   MDAndersonNews  Health center          NaN   \n",
       "\n",
       "        retweeted_user                                               text  \\\n",
       "1357001            NaN  病院で、複数の医療機器・装置と共に移動し操作・管理を行う≪臨床工学技士≫のお話をコラムに載せ...   \n",
       "114580             NaN  Exactly & this is what we want this to change ...   \n",
       "1360829            NaN  ♬ 'Hyakumankaino Aishiteru' - Oranje. ♪ この曲気に入...   \n",
       "881406             NaN  @ePatientDave @findlungcancer @MyelomaTeacher ...   \n",
       "1787238            NaN       @realsarahpepper Thank you for your support!   \n",
       "\n",
       "                                          user_description  sum_nb_biom  \\\n",
       "1357001  University of Hawai’i Cancer Center, Director....         77.0   \n",
       "114580   Founder of After Breast Cancer Diagnosis & liv...         60.0   \n",
       "1360829  University of Hawai’i Cancer Center, Director....         77.0   \n",
       "881406   Snarky #HealthData journo/wonk/activist. This ...         21.0   \n",
       "1787238  MD Anderson is a global leader in cancer care,...         53.0   \n",
       "\n",
       "                          id  timestamp_utc           local_time  \\\n",
       "1357001   237409610665955328     1345437836  2012-08-20T04:43:56   \n",
       "114580    730040390900981760     1462890167  2016-05-10T14:22:47   \n",
       "1360829   136636552712437761     1321411667  2011-11-16T02:47:47   \n",
       "881406   1039868733660049409     1536759000  2018-09-12T13:30:00   \n",
       "1787238  1188811231324442624     1572269659  2019-10-28T13:34:19   \n",
       "\n",
       "         retweet_count retweeted_user_id  retweeted_timestamp_utc  \\\n",
       "1357001              1               NaN                      NaN   \n",
       "114580               1               NaN                      NaN   \n",
       "1360829              0               NaN                      NaN   \n",
       "881406               0               NaN                      NaN   \n",
       "1787238              2               NaN                      NaN   \n",
       "\n",
       "        retweeted_user_status  \\\n",
       "1357001                   NaN   \n",
       "114580                    NaN   \n",
       "1360829                   NaN   \n",
       "881406                    NaN   \n",
       "1787238                   NaN   \n",
       "\n",
       "                                                text_clean  \n",
       "1357001  病院で、複数の医療機器・装置と共に移動し操作・管理を行う≪臨床工学技士≫のお話をコラムに載せ...  \n",
       "114580   exactly want change help others datasaveslives...  \n",
       "1360829   ♬ 'hyakumankaino aishiteru ' oranje ♪ この曲気に入ってます  \n",
       "881406                       tagging peeps might knowledge  \n",
       "1787238                                     thank support   "
      ]
     },
     "execution_count": 115,
     "metadata": {},
     "output_type": "execute_result"
    }
   ],
   "source": [
    "\n",
    "#dfl['text_clean'] = dfl['text'].apply(lambda x:remove_hashtag_sign(x))\n",
    "#Remove extra white spaces, punctuation and apply lower casing\n",
    "#dfl['text_clean'] = dfl['text_clean'].str.lower().str.replace('[^\\w\\s]',' ').str.replace('\\s\\s+', ' ')\n",
    "\n",
    "\n",
    "dfl['text_clean']=dfl['text'].apply(clean_text)\n",
    "dfl.head()# il y a des caractères japonais\n",
    "\n"
   ]
  },
  {
   "cell_type": "code",
   "execution_count": 116,
   "id": "a50666df",
   "metadata": {},
   "outputs": [],
   "source": [
    "dfl['len']=dfl.text_clean.apply(len)"
   ]
  },
  {
   "cell_type": "code",
   "execution_count": 117,
   "id": "eca58856",
   "metadata": {},
   "outputs": [
    {
     "data": {
      "text/plain": [
       "3818"
      ]
     },
     "execution_count": 117,
     "metadata": {},
     "output_type": "execute_result"
    }
   ],
   "source": [
    "dfl=dfl[dfl.len>=9]\n",
    "len(dfl)"
   ]
  },
  {
   "cell_type": "markdown",
   "id": "f3e6e04b",
   "metadata": {},
   "source": [
    "Pourquoi ci-dessous tu prends le texte original et pas le text nettoyé?"
   ]
  },
  {
   "cell_type": "code",
   "execution_count": 118,
   "id": "edb5bc51",
   "metadata": {},
   "outputs": [
    {
     "data": {
      "text/plain": [
       "3818"
      ]
     },
     "execution_count": 118,
     "metadata": {},
     "output_type": "execute_result"
    }
   ],
   "source": [
    "# df_adv_s=dfl.dropna(subset='text_clean')#df_adv_s.dropna(subset='text')\n",
    "# je trouve le nom de la variable df_adv_s un peu confu, car df_adv est défini au début, je propose de remplacer par =\n",
    "dfl_s=dfl.dropna(subset='text_clean')#df_adv_s.dropna(subset='text')\n",
    "\n",
    "corpus= list(dfl_s.text.values)\n",
    "\n",
    "len(corpus)"
   ]
  },
  {
   "cell_type": "code",
   "execution_count": 119,
   "id": "525f4e24",
   "metadata": {},
   "outputs": [],
   "source": [
    "#df_adv_s_export=df_adv_s[df_adv_s['text'].isin(docs)]"
   ]
  },
  {
   "cell_type": "code",
   "execution_count": 120,
   "id": "0bff45f5",
   "metadata": {},
   "outputs": [],
   "source": [
    "#df_adv_s_export.to_csv('sample_10k_text_espadon_advocacy.csv')\n",
    "dfl_s.to_csv('sample_5k_text_espadon_.csv')"
   ]
  },
  {
   "cell_type": "code",
   "execution_count": 121,
   "id": "0dcb7696",
   "metadata": {},
   "outputs": [],
   "source": [
    "dico_doc_2_author=dict(zip(dfl_s.text,dfl_s.user_screen_name))"
   ]
  },
  {
   "cell_type": "code",
   "execution_count": 122,
   "id": "68b2cb6c",
   "metadata": {},
   "outputs": [
    {
     "data": {
      "text/plain": [
       "3818"
      ]
     },
     "execution_count": 122,
     "metadata": {},
     "output_type": "execute_result"
    }
   ],
   "source": [
    "#topic_model = BERTopic(embedding_model=embedding_model)\n",
    "#topic_model.fit_transform(corpus[:])\n",
    "len(corpus)"
   ]
  },
  {
   "cell_type": "markdown",
   "id": "44fa4de4",
   "metadata": {},
   "source": [
    "## Définition des paramètre de bertopic"
   ]
  },
  {
   "cell_type": "code",
   "execution_count": 123,
   "id": "727b9009",
   "metadata": {},
   "outputs": [],
   "source": [
    "from umap import UMAP\n",
    "from hdbscan import HDBSCAN\n",
    "\n",
    "from sklearn.feature_extraction.text import CountVectorizer\n",
    "from sklearn.cluster import KMeans\n",
    "from sklearn.feature_extraction.text import TfidfVectorizer\n",
    "\n",
    "from bertopic import BERTopic\n",
    "from bertopic.representation import KeyBERTInspired\n",
    "from bertopic.vectorizers import ClassTfidfTransformer\n",
    "\n",
    "from sentence_transformers import SentenceTransformer\n",
    "\n"
   ]
  },
  {
   "cell_type": "code",
   "execution_count": 124,
   "id": "0b9e88fc",
   "metadata": {},
   "outputs": [],
   "source": [
    "#! pip3 install emoji==0.6.0"
   ]
  },
  {
   "cell_type": "code",
   "execution_count": 125,
   "id": "dc36180e",
   "metadata": {},
   "outputs": [
    {
     "name": "stderr",
     "output_type": "stream",
     "text": [
      "No sentence-transformers model found with name /home/aymeric/.cache/torch/sentence_transformers/digio_Twitter4SSE. Creating a new one with MEAN pooling.\n"
     ]
    }
   ],
   "source": [
    "# Step 1 - Extract embeddings\n",
    "#embedding_model = SentenceTransformer(\"all-MiniLM-L6-v2\")\n",
    "#embedding_model = SentenceTransformer(\"vinai/bertweet-base\")\n",
    "embedding_model = SentenceTransformer('digio/Twitter4SSE')\n",
    "\n",
    "\n",
    "stopwords = stopwords.words('english') \n",
    "\n",
    "# Define sub-models\n",
    "vectorizer = CountVectorizer(ngram_range=(1,1),stop_words='english')#,vocabulary=vocab_filtered)\n",
    "\n",
    "umap_model = UMAP(n_neighbors=15, n_components=5, min_dist=0.0, metric='cosine', random_state=42)\n",
    "hdbscan_model = HDBSCAN(min_cluster_size=12, min_samples=2, metric='euclidean', prediction_data=True,cluster_selection_method='eom')\n"
   ]
  },
  {
   "cell_type": "code",
   "execution_count": 126,
   "id": "db5879c2",
   "metadata": {},
   "outputs": [],
   "source": [
    "#docs=corpus[:10000]\n",
    "docs=corpus"
   ]
  },
  {
   "cell_type": "code",
   "execution_count": 127,
   "id": "3c5034fa",
   "metadata": {},
   "outputs": [
    {
     "data": {
      "application/vnd.jupyter.widget-view+json": {
       "model_id": "f7120b09fd474900889d5622478da669",
       "version_major": 2,
       "version_minor": 0
      },
      "text/plain": [
       "Batches:   0%|          | 0/120 [00:00<?, ?it/s]"
      ]
     },
     "metadata": {},
     "output_type": "display_data"
    }
   ],
   "source": [
    "embeddings = embedding_model.encode(docs,show_progress_bar=True)\n"
   ]
  },
  {
   "cell_type": "code",
   "execution_count": null,
   "id": "cdffa454",
   "metadata": {},
   "outputs": [],
   "source": [
    "#stsb-distilbert-base"
   ]
  },
  {
   "cell_type": "code",
   "execution_count": 149,
   "id": "ad0cd0d4",
   "metadata": {},
   "outputs": [],
   "source": [
    "vectorizer = CountVectorizer(ngram_range=(1,2)) #vectorize est déjà défini une première fois ci-dessus, lequel garder\n",
    "topic_model = BERTopic(\n",
    "    #embedding_model=embedding_model, #\n",
    "    umap_model=umap_model,\n",
    "    hdbscan_model=hdbscan_model,\n",
    "    vectorizer_model=vectorizer).fit(docs, embeddings)"
   ]
  },
  {
   "cell_type": "code",
   "execution_count": 150,
   "id": "a7f04c4c",
   "metadata": {},
   "outputs": [
    {
     "data": {
      "text/html": [
       "<div>\n",
       "<style scoped>\n",
       "    .dataframe tbody tr th:only-of-type {\n",
       "        vertical-align: middle;\n",
       "    }\n",
       "\n",
       "    .dataframe tbody tr th {\n",
       "        vertical-align: top;\n",
       "    }\n",
       "\n",
       "    .dataframe thead th {\n",
       "        text-align: right;\n",
       "    }\n",
       "</style>\n",
       "<table border=\"1\" class=\"dataframe\">\n",
       "  <thead>\n",
       "    <tr style=\"text-align: right;\">\n",
       "      <th></th>\n",
       "      <th>Topic</th>\n",
       "      <th>Count</th>\n",
       "      <th>Name</th>\n",
       "      <th>Representation</th>\n",
       "      <th>Representative_Docs</th>\n",
       "    </tr>\n",
       "  </thead>\n",
       "  <tbody>\n",
       "    <tr>\n",
       "      <th>0</th>\n",
       "      <td>-1</td>\n",
       "      <td>1315</td>\n",
       "      <td>-1_cancer_patients_research_bcsm</td>\n",
       "      <td>[cancer, patients, research, bcsm, asco, lcsm,...</td>\n",
       "      <td>[ great honor present study covid esmo monitor...</td>\n",
       "    </tr>\n",
       "    <tr>\n",
       "      <th>1</th>\n",
       "      <td>0</td>\n",
       "      <td>127</td>\n",
       "      <td>0_good_ditto_point_thorpe</td>\n",
       "      <td>[good, ditto, point, thorpe, thinks, attitude,...</td>\n",
       "      <td>[good point previous future relationship mess ...</td>\n",
       "    </tr>\n",
       "    <tr>\n",
       "      <th>2</th>\n",
       "      <td>1</td>\n",
       "      <td>91</td>\n",
       "      <td>1_cells_via_melanoma_gene</td>\n",
       "      <td>[cells, via, melanoma, gene, cd, immunotherapy...</td>\n",
       "      <td>[precisionmedicine precisiononcology « naturep...</td>\n",
       "    </tr>\n",
       "    <tr>\n",
       "      <th>3</th>\n",
       "      <td>2</td>\n",
       "      <td>82</td>\n",
       "      <td>2_covid_cases_enough_mask</td>\n",
       "      <td>[covid, cases, enough, mask, coronavirus, hosp...</td>\n",
       "      <td>[enough honesty testing quarantine rules apply...</td>\n",
       "    </tr>\n",
       "    <tr>\n",
       "      <th>4</th>\n",
       "      <td>3</td>\n",
       "      <td>82</td>\n",
       "      <td>3_xx_thanks_aw_xxxx</td>\n",
       "      <td>[xx, thanks, aw, xxxx, happy, thank, christmas...</td>\n",
       "      <td>[treated first wardrobe items chatham last wee...</td>\n",
       "    </tr>\n",
       "    <tr>\n",
       "      <th>...</th>\n",
       "      <td>...</td>\n",
       "      <td>...</td>\n",
       "      <td>...</td>\n",
       "      <td>...</td>\n",
       "      <td>...</td>\n",
       "    </tr>\n",
       "    <tr>\n",
       "      <th>87</th>\n",
       "      <td>86</td>\n",
       "      <td>12</td>\n",
       "      <td>86_nci_genomic_molecular testing_naclc</td>\n",
       "      <td>[nci, genomic, molecular testing, naclc, et al...</td>\n",
       "      <td>[thks highlighting kettering study allohct mye...</td>\n",
       "    </tr>\n",
       "    <tr>\n",
       "      <th>88</th>\n",
       "      <td>87</td>\n",
       "      <td>12</td>\n",
       "      <td>87_eolchat_follow_family_follow up</td>\n",
       "      <td>[eolchat, follow, family, follow up, astro, up...</td>\n",
       "      <td>[yup talking teachers dont know relate parents...</td>\n",
       "    </tr>\n",
       "    <tr>\n",
       "      <th>89</th>\n",
       "      <td>88</td>\n",
       "      <td>12</td>\n",
       "      <td>88_dx_living_yung overcoming_maintaining cancer</td>\n",
       "      <td>[dx, living, yung overcoming, maintaining canc...</td>\n",
       "      <td>[t holidays stressful time yr add cancer dx tr...</td>\n",
       "    </tr>\n",
       "    <tr>\n",
       "      <th>90</th>\n",
       "      <td>89</td>\n",
       "      <td>12</td>\n",
       "      <td>89_data_systems_moc meaningful_marcsfz</td>\n",
       "      <td>[data, systems, moc meaningful, marcsfz, meani...</td>\n",
       "      <td>[agree need data advocating blind usage resist...</td>\n",
       "    </tr>\n",
       "    <tr>\n",
       "      <th>91</th>\n",
       "      <td>90</td>\n",
       "      <td>12</td>\n",
       "      <td>90_diffs_lab_covid cp_patients mets</td>\n",
       "      <td>[diffs, lab, covid cp, patients mets, understa...</td>\n",
       "      <td>[please reevaluate data convalescent plasma co...</td>\n",
       "    </tr>\n",
       "  </tbody>\n",
       "</table>\n",
       "<p>92 rows × 5 columns</p>\n",
       "</div>"
      ],
      "text/plain": [
       "    Topic  Count                                             Name  \\\n",
       "0      -1   1315                 -1_cancer_patients_research_bcsm   \n",
       "1       0    127                        0_good_ditto_point_thorpe   \n",
       "2       1     91                        1_cells_via_melanoma_gene   \n",
       "3       2     82                        2_covid_cases_enough_mask   \n",
       "4       3     82                              3_xx_thanks_aw_xxxx   \n",
       "..    ...    ...                                              ...   \n",
       "87     86     12           86_nci_genomic_molecular testing_naclc   \n",
       "88     87     12               87_eolchat_follow_family_follow up   \n",
       "89     88     12  88_dx_living_yung overcoming_maintaining cancer   \n",
       "90     89     12           89_data_systems_moc meaningful_marcsfz   \n",
       "91     90     12              90_diffs_lab_covid cp_patients mets   \n",
       "\n",
       "                                       Representation  \\\n",
       "0   [cancer, patients, research, bcsm, asco, lcsm,...   \n",
       "1   [good, ditto, point, thorpe, thinks, attitude,...   \n",
       "2   [cells, via, melanoma, gene, cd, immunotherapy...   \n",
       "3   [covid, cases, enough, mask, coronavirus, hosp...   \n",
       "4   [xx, thanks, aw, xxxx, happy, thank, christmas...   \n",
       "..                                                ...   \n",
       "87  [nci, genomic, molecular testing, naclc, et al...   \n",
       "88  [eolchat, follow, family, follow up, astro, up...   \n",
       "89  [dx, living, yung overcoming, maintaining canc...   \n",
       "90  [data, systems, moc meaningful, marcsfz, meani...   \n",
       "91  [diffs, lab, covid cp, patients mets, understa...   \n",
       "\n",
       "                                  Representative_Docs  \n",
       "0   [ great honor present study covid esmo monitor...  \n",
       "1   [good point previous future relationship mess ...  \n",
       "2   [precisionmedicine precisiononcology « naturep...  \n",
       "3   [enough honesty testing quarantine rules apply...  \n",
       "4   [treated first wardrobe items chatham last wee...  \n",
       "..                                                ...  \n",
       "87  [thks highlighting kettering study allohct mye...  \n",
       "88  [yup talking teachers dont know relate parents...  \n",
       "89  [t holidays stressful time yr add cancer dx tr...  \n",
       "90  [agree need data advocating blind usage resist...  \n",
       "91  [please reevaluate data convalescent plasma co...  \n",
       "\n",
       "[92 rows x 5 columns]"
      ]
     },
     "execution_count": 150,
     "metadata": {},
     "output_type": "execute_result"
    }
   ],
   "source": [
    "legend=topic_model.get_topic_info()\n",
    "legend"
   ]
  },
  {
   "cell_type": "markdown",
   "id": "9ea25365",
   "metadata": {},
   "source": [
    "Si je comprends bien, tu fais une première vectorisation en concervant les stopwords puis une seconde avec des textes nettoyés. L'intéret c'est quoi ? De calculer un embedding à partir de l'ensemble des éléments du textes et ensuite de les enlever de la représentation ?"
   ]
  },
  {
   "cell_type": "code",
   "execution_count": 131,
   "id": "9d763e6e",
   "metadata": {},
   "outputs": [],
   "source": [
    " \n",
    "vectorizer_model2 = CountVectorizer(ngram_range=(1,2),tokenizer=tok2,stop_words='english',min_df=10)\n",
    "topic_model.update_topics(docs, vectorizer_model=vectorizer_model2)"
   ]
  },
  {
   "cell_type": "code",
   "execution_count": 132,
   "id": "d999a030",
   "metadata": {},
   "outputs": [],
   "source": [
    "# Generate nicer looking labels and set them in our model\n",
    "topic_labels = topic_model.generate_topic_labels(nr_words=10,\n",
    "                                                 topic_prefix=True,\n",
    "                                                 word_length=20,\n",
    "                                                 separator=\", \")\n",
    "topic_model.set_topic_labels(topic_labels)"
   ]
  },
  {
   "cell_type": "code",
   "execution_count": 133,
   "id": "f0c23bb4",
   "metadata": {},
   "outputs": [
    {
     "data": {
      "text/html": [
       "<div>\n",
       "<style scoped>\n",
       "    .dataframe tbody tr th:only-of-type {\n",
       "        vertical-align: middle;\n",
       "    }\n",
       "\n",
       "    .dataframe tbody tr th {\n",
       "        vertical-align: top;\n",
       "    }\n",
       "\n",
       "    .dataframe thead th {\n",
       "        text-align: right;\n",
       "    }\n",
       "</style>\n",
       "<table border=\"1\" class=\"dataframe\">\n",
       "  <thead>\n",
       "    <tr style=\"text-align: right;\">\n",
       "      <th></th>\n",
       "      <th>Topic</th>\n",
       "      <th>Count</th>\n",
       "      <th>Name</th>\n",
       "      <th>CustomName</th>\n",
       "      <th>Representation</th>\n",
       "      <th>Representative_Docs</th>\n",
       "    </tr>\n",
       "  </thead>\n",
       "  <tbody>\n",
       "    <tr>\n",
       "      <th>0</th>\n",
       "      <td>-1</td>\n",
       "      <td>1315</td>\n",
       "      <td>-1_research_cancer_patients_trial</td>\n",
       "      <td>-1, research, cancer, patients, trial, asco, b...</td>\n",
       "      <td>[research, cancer, patients, trial, asco, brea...</td>\n",
       "      <td>[ great honor present study covid esmo monitor...</td>\n",
       "    </tr>\n",
       "    <tr>\n",
       "      <th>1</th>\n",
       "      <td>0</td>\n",
       "      <td>127</td>\n",
       "      <td>0_point_good_twitter_started</td>\n",
       "      <td>0, point, good, twitter, started, morning, loo...</td>\n",
       "      <td>[point, good, twitter, started, morning, look,...</td>\n",
       "      <td>[good point previous future relationship mess ...</td>\n",
       "    </tr>\n",
       "    <tr>\n",
       "      <th>2</th>\n",
       "      <td>1</td>\n",
       "      <td>91</td>\n",
       "      <td>1_melanoma_genetic_mutations_dna</td>\n",
       "      <td>1, melanoma, genetic, mutations, dna, immunoth...</td>\n",
       "      <td>[melanoma, genetic, mutations, dna, immunother...</td>\n",
       "      <td>[precisionmedicine precisiononcology « naturep...</td>\n",
       "    </tr>\n",
       "    <tr>\n",
       "      <th>3</th>\n",
       "      <td>2</td>\n",
       "      <td>82</td>\n",
       "      <td>2_covid_low_said_medical</td>\n",
       "      <td>2, covid, low, said, medical, using, risk, sym...</td>\n",
       "      <td>[covid, low, said, medical, using, risk, sympt...</td>\n",
       "      <td>[enough honesty testing quarantine rules apply...</td>\n",
       "    </tr>\n",
       "    <tr>\n",
       "      <th>4</th>\n",
       "      <td>3</td>\n",
       "      <td>82</td>\n",
       "      <td>3_thanks_happy_love_thank</td>\n",
       "      <td>3, thanks, happy, love, thank, got, hope, yes,...</td>\n",
       "      <td>[thanks, happy, love, thank, got, hope, yes, m...</td>\n",
       "      <td>[treated first wardrobe items chatham last wee...</td>\n",
       "    </tr>\n",
       "    <tr>\n",
       "      <th>...</th>\n",
       "      <td>...</td>\n",
       "      <td>...</td>\n",
       "      <td>...</td>\n",
       "      <td>...</td>\n",
       "      <td>...</td>\n",
       "      <td>...</td>\n",
       "    </tr>\n",
       "    <tr>\n",
       "      <th>87</th>\n",
       "      <td>86</td>\n",
       "      <td>12</td>\n",
       "      <td>86_molecular_specific_clinical_nsclc</td>\n",
       "      <td>86, molecular, specific, clinical, nsclc, test...</td>\n",
       "      <td>[molecular, specific, clinical, nsclc, testing...</td>\n",
       "      <td>[thks highlighting kettering study allohct mye...</td>\n",
       "    </tr>\n",
       "    <tr>\n",
       "      <th>88</th>\n",
       "      <td>87</td>\n",
       "      <td>12</td>\n",
       "      <td>87_family_think_believe_similar</td>\n",
       "      <td>87, family, think, believe, similar, ways, hop...</td>\n",
       "      <td>[family, think, believe, similar, ways, hope, ...</td>\n",
       "      <td>[yup talking teachers dont know relate parents...</td>\n",
       "    </tr>\n",
       "    <tr>\n",
       "      <th>89</th>\n",
       "      <td>88</td>\n",
       "      <td>12</td>\n",
       "      <td>88_living_add_hope_life</td>\n",
       "      <td>88, living, add, hope, life, endcancer, men, a...</td>\n",
       "      <td>[living, add, hope, life, endcancer, men, ask,...</td>\n",
       "      <td>[t holidays stressful time yr add cancer dx tr...</td>\n",
       "    </tr>\n",
       "    <tr>\n",
       "      <th>90</th>\n",
       "      <td>89</td>\n",
       "      <td>12</td>\n",
       "      <td>89_data_huge_similar_focus</td>\n",
       "      <td>89, data, huge, similar, focus, treat, resista...</td>\n",
       "      <td>[data, huge, similar, focus, treat, resistance...</td>\n",
       "      <td>[agree need data advocating blind usage resist...</td>\n",
       "    </tr>\n",
       "    <tr>\n",
       "      <th>91</th>\n",
       "      <td>90</td>\n",
       "      <td>12</td>\n",
       "      <td>90_data_opportunity_results_using</td>\n",
       "      <td>90, data, opportunity, results, using, drug, a...</td>\n",
       "      <td>[data, opportunity, results, using, drug, agre...</td>\n",
       "      <td>[please reevaluate data convalescent plasma co...</td>\n",
       "    </tr>\n",
       "  </tbody>\n",
       "</table>\n",
       "<p>92 rows × 6 columns</p>\n",
       "</div>"
      ],
      "text/plain": [
       "    Topic  Count                                  Name  \\\n",
       "0      -1   1315     -1_research_cancer_patients_trial   \n",
       "1       0    127          0_point_good_twitter_started   \n",
       "2       1     91      1_melanoma_genetic_mutations_dna   \n",
       "3       2     82              2_covid_low_said_medical   \n",
       "4       3     82             3_thanks_happy_love_thank   \n",
       "..    ...    ...                                   ...   \n",
       "87     86     12  86_molecular_specific_clinical_nsclc   \n",
       "88     87     12       87_family_think_believe_similar   \n",
       "89     88     12               88_living_add_hope_life   \n",
       "90     89     12            89_data_huge_similar_focus   \n",
       "91     90     12     90_data_opportunity_results_using   \n",
       "\n",
       "                                           CustomName  \\\n",
       "0   -1, research, cancer, patients, trial, asco, b...   \n",
       "1   0, point, good, twitter, started, morning, loo...   \n",
       "2   1, melanoma, genetic, mutations, dna, immunoth...   \n",
       "3   2, covid, low, said, medical, using, risk, sym...   \n",
       "4   3, thanks, happy, love, thank, got, hope, yes,...   \n",
       "..                                                ...   \n",
       "87  86, molecular, specific, clinical, nsclc, test...   \n",
       "88  87, family, think, believe, similar, ways, hop...   \n",
       "89  88, living, add, hope, life, endcancer, men, a...   \n",
       "90  89, data, huge, similar, focus, treat, resista...   \n",
       "91  90, data, opportunity, results, using, drug, a...   \n",
       "\n",
       "                                       Representation  \\\n",
       "0   [research, cancer, patients, trial, asco, brea...   \n",
       "1   [point, good, twitter, started, morning, look,...   \n",
       "2   [melanoma, genetic, mutations, dna, immunother...   \n",
       "3   [covid, low, said, medical, using, risk, sympt...   \n",
       "4   [thanks, happy, love, thank, got, hope, yes, m...   \n",
       "..                                                ...   \n",
       "87  [molecular, specific, clinical, nsclc, testing...   \n",
       "88  [family, think, believe, similar, ways, hope, ...   \n",
       "89  [living, add, hope, life, endcancer, men, ask,...   \n",
       "90  [data, huge, similar, focus, treat, resistance...   \n",
       "91  [data, opportunity, results, using, drug, agre...   \n",
       "\n",
       "                                  Representative_Docs  \n",
       "0   [ great honor present study covid esmo monitor...  \n",
       "1   [good point previous future relationship mess ...  \n",
       "2   [precisionmedicine precisiononcology « naturep...  \n",
       "3   [enough honesty testing quarantine rules apply...  \n",
       "4   [treated first wardrobe items chatham last wee...  \n",
       "..                                                ...  \n",
       "87  [thks highlighting kettering study allohct mye...  \n",
       "88  [yup talking teachers dont know relate parents...  \n",
       "89  [t holidays stressful time yr add cancer dx tr...  \n",
       "90  [agree need data advocating blind usage resist...  \n",
       "91  [please reevaluate data convalescent plasma co...  \n",
       "\n",
       "[92 rows x 6 columns]"
      ]
     },
     "execution_count": 133,
     "metadata": {},
     "output_type": "execute_result"
    }
   ],
   "source": [
    "\n",
    "legend=topic_model.get_topic_info()\n",
    "legend"
   ]
  },
  {
   "cell_type": "code",
   "execution_count": 134,
   "id": "0420c645",
   "metadata": {},
   "outputs": [],
   "source": [
    "topicnb_2_name=dict(zip(legend['Topic'],legend['CustomName']))\n"
   ]
  },
  {
   "cell_type": "code",
   "execution_count": 135,
   "id": "ba12902a",
   "metadata": {},
   "outputs": [],
   "source": [
    "fig=topic_model.visualize_barchart(topics=list(range(len(topic_model.get_topic_info())-1)),n_words=10)\n",
    "\n",
    "fig.write_html(str(len(topic_model.get_topic_info()))+'.html')"
   ]
  },
  {
   "cell_type": "code",
   "execution_count": 136,
   "id": "b23a2daa",
   "metadata": {},
   "outputs": [],
   "source": [
    "nb_topic=len(legend)"
   ]
  },
  {
   "cell_type": "code",
   "execution_count": 137,
   "id": "9209de56",
   "metadata": {},
   "outputs": [],
   "source": [
    "# Generate nicer looking labels and set them in our model\n",
    "topic_labels = topic_model.generate_topic_labels(nr_words=10,\n",
    "                                                 topic_prefix=True,\n",
    "                                                 word_length=20,\n",
    "                                                 separator=\", \")\n",
    "topic_model.set_topic_labels(topic_labels)"
   ]
  },
  {
   "cell_type": "code",
   "execution_count": 138,
   "id": "d9f4b1af",
   "metadata": {},
   "outputs": [
    {
     "data": {
      "text/plain": [
       "['-1, research, cancer, patients, trial, asco, breast, treatment, lcsm, bcsm, life',\n",
       " '0, point, good, twitter, started, morning, look, check, like, say, hashtag',\n",
       " '1, melanoma, genetic, mutations, dna, immunotherapy, tumor, resistance, cell, myeloma, response',\n",
       " '2, covid, low, said, medical, using, risk, symptoms, care, testing, people',\n",
       " '3, thanks, happy, love, thank, got, hope, yes, morning, wow, old',\n",
       " '4, social, online, use, ask, questions, community, pts, disease, hashtag, health',\n",
       " '5, lymsm, second, link, hashtag, org, look, asco, twitter, lcsm, bcsm',\n",
       " '6, esmo, virtual, forward, join, looking, free, meeting, conference, latest, meet',\n",
       " '7, age, pts, medicine, trials, post, think, patient, point, perspective, term',\n",
       " '8, thanks, happy, recent, meet, great, sure, news, community, latest, wait',\n",
       " '9, family, opportunity, meet, making, education, home, hard, work, support, believe',\n",
       " '10, cell, doc, lymsm, lymphoma, treatments, myeloma, including, sabcs, diagnosed, surgery',\n",
       " '11, benefit, anti, phase, difference, pdl, trial, pts, results, asco, nsclc',\n",
       " '12, latest, multiple, myeloma, lymphoma, today, interesting, article, pain, twitter, symptoms',\n",
       " '13, health, care, decision, treatment, patients, working, patient, future, question, way',\n",
       " '14, bcsm, hashtag, nice, welcome, twitter, bccww, lcsm, panel, plan, missed',\n",
       " '15, point, way, evidence, little, told, thought, progress, want, cost, days',\n",
       " '16, video, learn, melanoma, watch, high, cancer, rate, risk, high risk, survival',\n",
       " '17, changes, care, think, plan, health, outcomes, going, medical, place, doctors',\n",
       " '18, covid, plan, molecular, precisionmedicine, night, pandemic, endcancer, days, org, really',\n",
       " '19, high, immunotherapy, nsclc, aacr, tumor, phase, paper, stage, analysis, cell',\n",
       " '20, living, cancer, love, medical, life, days, experience, end, live, help',\n",
       " '21, join, chat, twitter, live, questions, share, mmsm, virtual, free, learn',\n",
       " '22, researchers, colleagues, education, oncology, huge, research, precisionmedicine, amazing, work, said',\n",
       " '23, conference, wow, team, wait, yes, friends, says, soon, watch, making',\n",
       " '24, twitter, idea, yes, gets, new, self, loss, reading, job, person',\n",
       " '25, cost, health, care, rate, doctors, test, said, patient, big, social',\n",
       " '26, opportunity, science, meeting, open, share, research, excited, oncology, meet, review',\n",
       " \"27, ways, say, twitter, come, like, group, n't, fear, think, believe\",\n",
       " '28, bcsm, glad, late, let, questions, looking, forward, chat, news, community',\n",
       " '29, lungcancer, lung, lung cancer, clinical trials, lcsm, trials, kettering, cancer patients, clinical, longer',\n",
       " \"30, let, missed, wait, n't know, started, role, continue, remember, things, sure\",\n",
       " '31, therapy, setting, adjuvant, anti, low, myeloma, lungcancer, drug, chemo, response',\n",
       " '32, job, years, post, kettering, think, make, decision, clinic, help, age',\n",
       " '33, women, men, breast cancer, breast, risk, lot, says, try, lives, know',\n",
       " '34, thank, thanks, presentation, worth, welcome, friend, point, week, sure, story',\n",
       " \"35, n't know, know, test, drugs, try, getting, diagnosis, screening, risk, believe\",\n",
       " \"36, poor, free, according, anderson, n't know, clinic, late, second, day, today\",\n",
       " '37, sorry, family, loss, love, days, let, remember, soon, way, know',\n",
       " \"38, lung, lung cancer, report, cancers, thought, cancer, risk, increased, n't know, use\",\n",
       " '39, impact, job, paper, presentation, perspective, immunotherapy, team, great, share, analysis',\n",
       " '40, soon, missed, hope, glad, meet, best, making, friend, love, day',\n",
       " '41, breast cancer, breast, breastcancer, metastatic, bccww, bcsm, pandemic, news, women, awareness',\n",
       " '42, months, drug, covid, based, metastatic, plus, therapy, way, treatment, nsclc',\n",
       " '43, lungcancer, lcsm, lung cancer, lung, night, survivors, advocates, year, anderson, plan',\n",
       " '44, breastcancer, awareness, support, share, read, death, primary, living, friend, bccww',\n",
       " '45, trials, fear, clinical trials, screening, national, report, used, said, research, shows',\n",
       " '46, breast cancer, breast, guidelines, breastcancer, women, screening, survivors, colleagues, bcsm, cancer',\n",
       " '47, lung cancer, blood, lung, cancer, disease, family, setting, told, community, diagnosed',\n",
       " '48, mmsm, plus, plan, symptoms, lymsm, happen, lot, old, asco, real',\n",
       " '49, colleagues, best, thanks, amazing, oncoalert, thank, big, sharing, work, meeting',\n",
       " '50, night, love, happy, best, year, believe, time, morning, started, coming',\n",
       " '51, try, care, asco, , , , , , , ',\n",
       " '52, nsclc, perspective, future, benefit, aacr, post, news, esmo, good, population',\n",
       " \"53, got, pain, way, wait, self, night, coming, n't, difference, lot\",\n",
       " '54, pain, results, late, focus, wow, longer, happen, months, review, come',\n",
       " '55, melanoma, chemo, help, anti, longer, lot, effective, diagnosed, getting, brain',\n",
       " '56, got, paper, news, fear, project, opportunity, friends, job, far, thought',\n",
       " '57, remember, got, home, hope, quality, likely, day, old, colleagues, org',\n",
       " \"58, women, breast, breastcancer, study, stage, according, risks, believe, increased, n't know\",\n",
       " '59, myeloma, ash, big, mmsm, diagnosed, lymphoma, therapy, symptoms, loss, morning',\n",
       " '60, pts, lungcancer, access, life, second, ask, says, need, family, want',\n",
       " '61, ask, diagnosis, self, breastcancer, awareness, breast, surgery, medical, access, pain',\n",
       " '62, presentation, resistance, advanced, aacr, pts, lcsm, metastatic, esmo, cell, panel',\n",
       " '63, virtual, group, meeting, video, conference, brain, discussion, aacr, cell, esmo',\n",
       " '64, screening, clinicaltrials, kettering, researchers, brca, men, women, sabcs, change, risk',\n",
       " \"65, bccww, case, info, n't, want, missed, decision, wow, read, told\",\n",
       " '66, patient, discussion, story, work, team, panel, voice, similar, perspective, doctors',\n",
       " '67, line, hard, mmsm, standard, said, working, nice, tweet, getting, brain',\n",
       " '68, blood, join, help, people, anderson, learn, activity, person, friends, endcancer',\n",
       " '69, friend, fear, focus, let, continue, family, risks, bcsm, late, perspective',\n",
       " '70, little, poor, add, new, ways, help, wow, coming, job, place',\n",
       " '71, check, hope, person, job, link, video, watch, online, available, open',\n",
       " '72, according, pain, increased, dna, molecular, role, evidence, clinic, help, term',\n",
       " '73, pts, radiation, according, data, rate, longer, associated, covid, recent, lcsm',\n",
       " '74, improved, advanced, trial, breastcancer, positive, metastatic, oncoalert, results, therapy, brca',\n",
       " '75, testing, lymsm, esmo, clinical, lymphoma, data, cell, evidence, genetic, guidelines',\n",
       " '76, poor, treat, breastcancer, adjuvant, study, small, cell, dna, improved, use',\n",
       " '77, reading, worth, read, post, yes, link, thanks, cost, including, interesting',\n",
       " '78, read, line, sorry, live, story, think, wait, started, reading, opportunity',\n",
       " '79, cell, lungcancer, immunotherapy, associated, disease, benefit, chemo, tumor, lung, research',\n",
       " '80, early, covid, , , , , , , , ',\n",
       " '81, make, night, sabcs, sure, sharing, check, gets, little, coming, friends',\n",
       " '82, oncoalert, nsclc, case, report, specific, risk, review, interesting, tweet, seen',\n",
       " '83, virtual, happy, say, year, day, new, , , , ',\n",
       " '84, phase, shows, melanoma, non, activity, adjuvant, mutations, advanced, cancers, based',\n",
       " '85, , , , , , , , , , ',\n",
       " '86, molecular, specific, clinical, nsclc, testing, clinical trials, aacr, data, community, ash',\n",
       " '87, family, think, believe, similar, ways, hope, mean, told, glad, radiation',\n",
       " '88, living, add, hope, life, endcancer, men, ask, myeloma, working, friend',\n",
       " '89, data, huge, similar, focus, treat, resistance, happen, effective, cost, paper',\n",
       " '90, data, opportunity, results, using, drug, agree, think, trial, huge, better']"
      ]
     },
     "execution_count": 138,
     "metadata": {},
     "output_type": "execute_result"
    }
   ],
   "source": [
    "topic_labels"
   ]
  },
  {
   "cell_type": "code",
   "execution_count": 139,
   "id": "d6d9ec6c",
   "metadata": {},
   "outputs": [],
   "source": [
    "info_doc=topic_model.get_document_info(docs)\n",
    "dico_doc_2_topic=dict(zip(info_doc.Document,info_doc.Topic))"
   ]
  },
  {
   "cell_type": "code",
   "execution_count": 140,
   "id": "317e718a",
   "metadata": {},
   "outputs": [],
   "source": [
    "#dico_doc_2_topic"
   ]
  },
  {
   "cell_type": "code",
   "execution_count": 141,
   "id": "4d34c8b1",
   "metadata": {},
   "outputs": [],
   "source": [
    "#info_doc3=info_doc[info_doc['Topic']==3]\n",
    "#info_doc3[info_doc3.Document.str.contains('@katie23085')].Document.values"
   ]
  },
  {
   "cell_type": "code",
   "execution_count": 144,
   "id": "b37b1a8b",
   "metadata": {},
   "outputs": [],
   "source": [
    "import textwrap# Manually selected some interesting topics to prevent information overload\n",
    "topics_of_interest = list(range(nb_topic))\n",
    "\n",
    "def add_br(example,N=100):\n",
    "    return '<br>'.join(l for line in example.splitlines() \n",
    "                  for l in textwrap.wrap(line, width=N))\n",
    "    \n",
    "    \n",
    "\n",
    "adjusted_docs = [\"<b>\"+\"Topic:\"+str(dico_doc_2_topic[doc])+\" - \" + topicnb_2_name[dico_doc_2_topic[doc]] +\"</b><br>\"# add_br(doc[:]) +\"<br><b>by \" + \n",
    "                 #dico_doc_2_author[doc]+\"</b>\" \n",
    "                 for doc in docs]\n",
    "\n",
    "# Visualize documents\n",
    "fig=topic_model.visualize_documents(\n",
    "    adjusted_docs, \n",
    "    embeddings=embeddings, \n",
    "    hide_annotations=True, \n",
    "    topics=topics_of_interest,\n",
    "    custom_labels=True,\n",
    "    width = 2000,\n",
    "    height = 1300\n",
    ")\n",
    "fig.write_html(str(nb_topic)+'s.html')"
   ]
  },
  {
   "cell_type": "code",
   "execution_count": null,
   "id": "aad5ccb5",
   "metadata": {},
   "outputs": [],
   "source": [
    "df_adv_s['text_clean']"
   ]
  },
  {
   "cell_type": "code",
   "execution_count": null,
   "id": "a0c40eb9",
   "metadata": {},
   "outputs": [],
   "source": [
    "dfl['topic_nb']=dfl['text'].map(dico_doc_2_topic.get)\n",
    "dfl['topic_label']=dfl['topic_nb'].map(topicnb_2_name.get)"
   ]
  },
  {
   "cell_type": "code",
   "execution_count": null,
   "id": "b8c19f4f",
   "metadata": {},
   "outputs": [],
   "source": [
    "documentsm1=list(dfl[dfl.topic_nb!=-1][['topic_label','user_screen_name','User_status','text']].transpose().to_dict().values())\n",
    "#documents"
   ]
  },
  {
   "cell_type": "code",
   "execution_count": null,
   "id": "69f43ce8",
   "metadata": {},
   "outputs": [],
   "source": [
    "dfl['topic_nb']"
   ]
  },
  {
   "cell_type": "code",
   "execution_count": null,
   "id": "e6fa637d",
   "metadata": {},
   "outputs": [],
   "source": [
    "from nomic import atlas\n"
   ]
  },
  {
   "cell_type": "code",
   "execution_count": null,
   "id": "ed69c688",
   "metadata": {},
   "outputs": [],
   "source": [
    "embedm1=embeddings[dfl.topic_nb!=-1]\n",
    "#documentsm1=documents[dfl.topic_nb!=-1]"
   ]
  },
  {
   "cell_type": "code",
   "execution_count": null,
   "id": "f7de23fe",
   "metadata": {},
   "outputs": [],
   "source": [
    "response = atlas.map_embeddings(embeddings=embedm1,\n",
    "                                data=documentsm1,\n",
    "                                colorable_fields=['topic_label'],\n",
    "                                name=\"older#sm\",add_datums_if_exists = True, build_topic_model=False)\n",
    "                                #description=\"An example of building a text map with a huggingface model.\")\n",
    "\n",
    "print(response)"
   ]
  },
  {
   "cell_type": "code",
   "execution_count": null,
   "id": "85da4b3b",
   "metadata": {},
   "outputs": [],
   "source": [
    "#build_topic_model"
   ]
  },
  {
   "cell_type": "code",
   "execution_count": null,
   "id": "e0cea1e8",
   "metadata": {},
   "outputs": [],
   "source": [
    "response = atlas.map_text(#embeddings=embeddings,\n",
    "                                data=documents,\n",
    "                                indexed_field='text',\n",
    "                                colorable_fields=['topic_label'],\n",
    "                                multilingual=True,\n",
    "                                name=\"newest#sm#text\",add_datums_if_exists = True, build_topic_model=True)\n",
    "                                #description=\"An example of building a text map with a huggingface model.\")\n",
    "\n",
    "print(response)"
   ]
  },
  {
   "cell_type": "code",
   "execution_count": null,
   "id": "e74f4570",
   "metadata": {},
   "outputs": [],
   "source": [
    "response."
   ]
  },
  {
   "cell_type": "code",
   "execution_count": null,
   "id": "53e86cb3",
   "metadata": {},
   "outputs": [],
   "source": []
  },
  {
   "cell_type": "code",
   "execution_count": null,
   "id": "12dfbb55",
   "metadata": {},
   "outputs": [],
   "source": []
  },
  {
   "cell_type": "code",
   "execution_count": null,
   "id": "b2a21c64",
   "metadata": {},
   "outputs": [],
   "source": []
  },
  {
   "cell_type": "code",
   "execution_count": null,
   "id": "bad9b1de",
   "metadata": {},
   "outputs": [],
   "source": []
  },
  {
   "cell_type": "code",
   "execution_count": null,
   "id": "8034a440",
   "metadata": {},
   "outputs": [],
   "source": []
  },
  {
   "cell_type": "code",
   "execution_count": null,
   "id": "64b53fd1",
   "metadata": {},
   "outputs": [],
   "source": []
  },
  {
   "cell_type": "code",
   "execution_count": null,
   "id": "c71cadc6",
   "metadata": {},
   "outputs": [],
   "source": []
  }
 ],
 "metadata": {
  "hide_input": false,
  "kernelspec": {
   "display_name": "Python 3 (ipykernel)",
   "language": "python",
   "name": "python3"
  },
  "language_info": {
   "codemirror_mode": {
    "name": "ipython",
    "version": 3
   },
   "file_extension": ".py",
   "mimetype": "text/x-python",
   "name": "python",
   "nbconvert_exporter": "python",
   "pygments_lexer": "ipython3",
   "version": "3.10.9"
  },
  "toc": {
   "base_numbering": 1,
   "nav_menu": {},
   "number_sections": true,
   "sideBar": true,
   "skip_h1_title": false,
   "title_cell": "Table of Contents",
   "title_sidebar": "Contents",
   "toc_cell": false,
   "toc_position": {},
   "toc_section_display": true,
   "toc_window_display": false
  }
 },
 "nbformat": 4,
 "nbformat_minor": 5
}
