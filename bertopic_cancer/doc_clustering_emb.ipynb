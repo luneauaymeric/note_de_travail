{
 "cells": [
  {
   "cell_type": "code",
   "execution_count": 5,
   "id": "47c4afa4",
   "metadata": {},
   "outputs": [
    {
     "name": "stderr",
     "output_type": "stream",
     "text": [
      "No sentence-transformers model found with name /Users/jpcointet/.cache/torch/sentence_transformers/digio_Twitter4SSE. Creating a new one with MEAN pooling.\n"
     ]
    }
   ],
   "source": [
    "from umap import UMAP\n",
    "from hdbscan import HDBSCAN\n",
    "from sentence_transformers import SentenceTransformer\n",
    "from sklearn.feature_extraction.text import CountVectorizer\n",
    "\n",
    "from bertopic import BERTopic\n",
    "from bertopic.representation import KeyBERTInspired\n",
    "from bertopic.vectorizers import ClassTfidfTransformer\n",
    "\n",
    "\n",
    "# Step 1 - Extract embeddings\n",
    "#embedding_model = SentenceTransformer(\"all-MiniLM-L6-v2\")\n",
    "#embedding_model = SentenceTransformer(\"vinai/bertweet-base\")\n",
    "embedding_model = SentenceTransformer('digio/Twitter4SSE')\n"
   ]
  },
  {
   "cell_type": "code",
   "execution_count": null,
   "id": "a9413e6a",
   "metadata": {},
   "outputs": [],
   "source": []
  },
  {
   "cell_type": "code",
   "execution_count": 6,
   "id": "d5638272",
   "metadata": {},
   "outputs": [],
   "source": [
    "import pandas as pd\n"
   ]
  },
  {
   "cell_type": "code",
   "execution_count": 7,
   "id": "ffe138c6",
   "metadata": {},
   "outputs": [],
   "source": [
    "dtype_dict={}\n",
    "for x in ['user_id', 'retweeted_id', 'retweeted_user_id', 'id']:\n",
    "    dtype_dict[x]=str\n"
   ]
  },
  {
   "cell_type": "code",
   "execution_count": 8,
   "id": "c441164d",
   "metadata": {},
   "outputs": [],
   "source": [
    "df=pd.read_csv('../data/tweets_of_oncologist_and_advocacy.csv',dtype=dtype_dict)"
   ]
  },
  {
   "cell_type": "code",
   "execution_count": null,
   "id": "724ba8f3",
   "metadata": {},
   "outputs": [],
   "source": []
  },
  {
   "cell_type": "code",
   "execution_count": 9,
   "id": "0718e821",
   "metadata": {},
   "outputs": [],
   "source": [
    "dico_user_id_2_status=dict(zip(df.user_id,df.User_status))"
   ]
  },
  {
   "cell_type": "code",
   "execution_count": 10,
   "id": "a32eae84",
   "metadata": {},
   "outputs": [],
   "source": [
    "df['retweeted_user_status']=df['retweeted_user_id'].map(dico_user_id_2_status.get)"
   ]
  },
  {
   "cell_type": "code",
   "execution_count": 11,
   "id": "25296a97",
   "metadata": {},
   "outputs": [
    {
     "data": {
      "text/plain": [
       "Oncologist    206305\n",
       "Advocacy       81894\n",
       "Name: retweeted_user_status, dtype: int64"
      ]
     },
     "execution_count": 11,
     "metadata": {},
     "output_type": "execute_result"
    }
   ],
   "source": [
    "df['retweeted_user_status'].value_counts()"
   ]
  },
  {
   "cell_type": "code",
   "execution_count": 12,
   "id": "f0e93da5",
   "metadata": {},
   "outputs": [
    {
     "data": {
      "text/plain": [
       "0.6091005822333654"
      ]
     },
     "execution_count": 12,
     "metadata": {},
     "output_type": "execute_result"
    }
   ],
   "source": [
    "df['retweeted_id'].isna().sum()/len(df)"
   ]
  },
  {
   "cell_type": "code",
   "execution_count": 13,
   "id": "91404156",
   "metadata": {},
   "outputs": [
    {
     "data": {
      "text/plain": [
       "Oncologist    2208196\n",
       "Advocacy      1719267\n",
       "Name: User_status, dtype: int64"
      ]
     },
     "execution_count": 13,
     "metadata": {},
     "output_type": "execute_result"
    }
   ],
   "source": [
    "df['User_status'].value_counts()"
   ]
  },
  {
   "cell_type": "code",
   "execution_count": 14,
   "id": "3be8a322",
   "metadata": {},
   "outputs": [],
   "source": [
    "df_adv=df[df['User_status']=='Advocacy']#.sample(50000)\n",
    "df_onc=df[df['User_status']=='Oncologist']#.sample(50000)"
   ]
  },
  {
   "cell_type": "code",
   "execution_count": 15,
   "id": "26449c44",
   "metadata": {},
   "outputs": [],
   "source": [
    "#df_adv.retweeted_user_status.value_counts()"
   ]
  },
  {
   "cell_type": "code",
   "execution_count": 16,
   "id": "fac48120",
   "metadata": {},
   "outputs": [
    {
     "data": {
      "text/html": [
       "<div>\n",
       "<style scoped>\n",
       "    .dataframe tbody tr th:only-of-type {\n",
       "        vertical-align: middle;\n",
       "    }\n",
       "\n",
       "    .dataframe tbody tr th {\n",
       "        vertical-align: top;\n",
       "    }\n",
       "\n",
       "    .dataframe thead th {\n",
       "        text-align: right;\n",
       "    }\n",
       "</style>\n",
       "<table border=\"1\" class=\"dataframe\">\n",
       "  <thead>\n",
       "    <tr style=\"text-align: right;\">\n",
       "      <th></th>\n",
       "      <th>User_status</th>\n",
       "      <th>retweeted_user_status</th>\n",
       "    </tr>\n",
       "  </thead>\n",
       "  <tbody>\n",
       "    <tr>\n",
       "      <th>0</th>\n",
       "      <td>Advocacy</td>\n",
       "      <td>None</td>\n",
       "    </tr>\n",
       "    <tr>\n",
       "      <th>1</th>\n",
       "      <td>Advocacy</td>\n",
       "      <td>None</td>\n",
       "    </tr>\n",
       "    <tr>\n",
       "      <th>2</th>\n",
       "      <td>Advocacy</td>\n",
       "      <td>None</td>\n",
       "    </tr>\n",
       "    <tr>\n",
       "      <th>3</th>\n",
       "      <td>Advocacy</td>\n",
       "      <td>Oncologist</td>\n",
       "    </tr>\n",
       "    <tr>\n",
       "      <th>4</th>\n",
       "      <td>Advocacy</td>\n",
       "      <td>None</td>\n",
       "    </tr>\n",
       "    <tr>\n",
       "      <th>...</th>\n",
       "      <td>...</td>\n",
       "      <td>...</td>\n",
       "    </tr>\n",
       "    <tr>\n",
       "      <th>3927458</th>\n",
       "      <td>Advocacy</td>\n",
       "      <td>None</td>\n",
       "    </tr>\n",
       "    <tr>\n",
       "      <th>3927459</th>\n",
       "      <td>Advocacy</td>\n",
       "      <td>None</td>\n",
       "    </tr>\n",
       "    <tr>\n",
       "      <th>3927460</th>\n",
       "      <td>Advocacy</td>\n",
       "      <td>None</td>\n",
       "    </tr>\n",
       "    <tr>\n",
       "      <th>3927461</th>\n",
       "      <td>Advocacy</td>\n",
       "      <td>None</td>\n",
       "    </tr>\n",
       "    <tr>\n",
       "      <th>3927462</th>\n",
       "      <td>Advocacy</td>\n",
       "      <td>None</td>\n",
       "    </tr>\n",
       "  </tbody>\n",
       "</table>\n",
       "<p>3927463 rows × 2 columns</p>\n",
       "</div>"
      ],
      "text/plain": [
       "        User_status retweeted_user_status\n",
       "0          Advocacy                  None\n",
       "1          Advocacy                  None\n",
       "2          Advocacy                  None\n",
       "3          Advocacy            Oncologist\n",
       "4          Advocacy                  None\n",
       "...             ...                   ...\n",
       "3927458    Advocacy                  None\n",
       "3927459    Advocacy                  None\n",
       "3927460    Advocacy                  None\n",
       "3927461    Advocacy                  None\n",
       "3927462    Advocacy                  None\n",
       "\n",
       "[3927463 rows x 2 columns]"
      ]
     },
     "execution_count": 16,
     "metadata": {},
     "output_type": "execute_result"
    }
   ],
   "source": [
    "df[['User_status','retweeted_user_status']]"
   ]
  },
  {
   "cell_type": "code",
   "execution_count": null,
   "id": "69570a18",
   "metadata": {},
   "outputs": [],
   "source": []
  },
  {
   "cell_type": "code",
   "execution_count": 17,
   "id": "e12174fb",
   "metadata": {},
   "outputs": [
    {
     "name": "stdout",
     "output_type": "stream",
     "text": [
      "1719267\n"
     ]
    }
   ],
   "source": [
    "print(len(df[(df['User_status']=='Advocacy')]))\n",
    "df_adv=df[(df['User_status']=='Advocacy')].sample(100000,random_state=23)# | (df['retweeted_user_status']=='Advocacy')].sample(50000)\n"
   ]
  },
  {
   "cell_type": "code",
   "execution_count": 18,
   "id": "7bb8ebbc",
   "metadata": {},
   "outputs": [],
   "source": [
    "df_adv=df_adv[df_adv.retweeted_user_id.isna()].sample(50000,random_state=23)"
   ]
  },
  {
   "cell_type": "code",
   "execution_count": null,
   "id": "dc62301d",
   "metadata": {},
   "outputs": [],
   "source": []
  },
  {
   "cell_type": "code",
   "execution_count": 19,
   "id": "40514676",
   "metadata": {},
   "outputs": [
    {
     "data": {
      "text/plain": [
       "Advocacy    50000\n",
       "Name: User_status, dtype: int64"
      ]
     },
     "execution_count": 19,
     "metadata": {},
     "output_type": "execute_result"
    }
   ],
   "source": [
    "df_adv.User_status.value_counts()"
   ]
  },
  {
   "cell_type": "code",
   "execution_count": 20,
   "id": "255495a6",
   "metadata": {},
   "outputs": [],
   "source": [
    "onc_retweeted_ids=df[(df['retweeted_user_status']=='Advocacy') & (df['User_status']=='Oncologist')]['retweeted_id'].values\n"
   ]
  },
  {
   "cell_type": "code",
   "execution_count": 21,
   "id": "4c241138",
   "metadata": {},
   "outputs": [
    {
     "data": {
      "text/plain": [
       "(2208196, 20894)"
      ]
     },
     "execution_count": 21,
     "metadata": {},
     "output_type": "execute_result"
    }
   ],
   "source": [
    "len(df_onc),len(onc_retweeted_ids)"
   ]
  },
  {
   "cell_type": "code",
   "execution_count": 22,
   "id": "d36021e7",
   "metadata": {},
   "outputs": [],
   "source": [
    "dico_id={}\n",
    "for x in onc_retweeted_ids:\n",
    "    dico_id[x]=True"
   ]
  },
  {
   "cell_type": "code",
   "execution_count": 23,
   "id": "cfafa44b",
   "metadata": {},
   "outputs": [
    {
     "data": {
      "text/plain": [
       "576727     1624476782610055170\n",
       "576728     1624373977400459265\n",
       "576729     1624080441094426624\n",
       "576730     1623639743287230465\n",
       "576731     1619359531527704582\n",
       "                  ...         \n",
       "3538700     773612485198831616\n",
       "3538701     773458402173394944\n",
       "3538702     773456920086777856\n",
       "3538703     773456485783375873\n",
       "3538704     773455874866151425\n",
       "Name: id, Length: 2208196, dtype: object"
      ]
     },
     "execution_count": 23,
     "metadata": {},
     "output_type": "execute_result"
    }
   ],
   "source": [
    "df_onc.id"
   ]
  },
  {
   "cell_type": "code",
   "execution_count": 24,
   "id": "c31c4ccf",
   "metadata": {},
   "outputs": [
    {
     "data": {
      "text/html": [
       "<div>\n",
       "<style scoped>\n",
       "    .dataframe tbody tr th:only-of-type {\n",
       "        vertical-align: middle;\n",
       "    }\n",
       "\n",
       "    .dataframe tbody tr th {\n",
       "        vertical-align: top;\n",
       "    }\n",
       "\n",
       "    .dataframe thead th {\n",
       "        text-align: right;\n",
       "    }\n",
       "</style>\n",
       "<table border=\"1\" class=\"dataframe\">\n",
       "  <thead>\n",
       "    <tr style=\"text-align: right;\">\n",
       "      <th></th>\n",
       "      <th>user_id</th>\n",
       "      <th>user_screen_name</th>\n",
       "      <th>text</th>\n",
       "      <th>User_status</th>\n",
       "      <th>retweeted_id</th>\n",
       "      <th>retweeted_user_id</th>\n",
       "      <th>user_description</th>\n",
       "      <th>sum_nb_biom</th>\n",
       "      <th>id</th>\n",
       "      <th>timestamp_utc</th>\n",
       "      <th>...</th>\n",
       "      <th>EXON</th>\n",
       "      <th>EGFR</th>\n",
       "      <th>KRAS</th>\n",
       "      <th>NTRK</th>\n",
       "      <th>BRAF</th>\n",
       "      <th>MET</th>\n",
       "      <th>RET</th>\n",
       "      <th>HER2</th>\n",
       "      <th>nb_of_biomarker</th>\n",
       "      <th>retweeted_user_status</th>\n",
       "    </tr>\n",
       "  </thead>\n",
       "  <tbody>\n",
       "    <tr>\n",
       "      <th>3892201</th>\n",
       "      <td>49416874</td>\n",
       "      <td>JFreemanDaily</td>\n",
       "      <td>Reminder to #ASCO22 tweeps: pls include #lcsm ...</td>\n",
       "      <td>Advocacy</td>\n",
       "      <td>NaN</td>\n",
       "      <td>NaN</td>\n",
       "      <td>Writer, speaker, science geek. Lung cancer pat...</td>\n",
       "      <td>414.0</td>\n",
       "      <td>1533088158849462282</td>\n",
       "      <td>1654351675</td>\n",
       "      <td>...</td>\n",
       "      <td>0.0</td>\n",
       "      <td>0.0</td>\n",
       "      <td>0.0</td>\n",
       "      <td>0.0</td>\n",
       "      <td>0.0</td>\n",
       "      <td>0.0</td>\n",
       "      <td>0.0</td>\n",
       "      <td>0.0</td>\n",
       "      <td>0.0</td>\n",
       "      <td>None</td>\n",
       "    </tr>\n",
       "    <tr>\n",
       "      <th>3873873</th>\n",
       "      <td>14262217</td>\n",
       "      <td>stales</td>\n",
       "      <td>cc: @jodyms @drattai we are official now!!! (@...</td>\n",
       "      <td>Advocacy</td>\n",
       "      <td>NaN</td>\n",
       "      <td>NaN</td>\n",
       "      <td>Co-founder of #BCSM, POWER TWEETER, eternal op...</td>\n",
       "      <td>289.0</td>\n",
       "      <td>253178426947690496</td>\n",
       "      <td>1349197415</td>\n",
       "      <td>...</td>\n",
       "      <td>0.0</td>\n",
       "      <td>0.0</td>\n",
       "      <td>0.0</td>\n",
       "      <td>0.0</td>\n",
       "      <td>0.0</td>\n",
       "      <td>0.0</td>\n",
       "      <td>0.0</td>\n",
       "      <td>0.0</td>\n",
       "      <td>0.0</td>\n",
       "      <td>None</td>\n",
       "    </tr>\n",
       "    <tr>\n",
       "      <th>2902597</th>\n",
       "      <td>73436353</td>\n",
       "      <td>itsnot_pink</td>\n",
       "      <td>Now THIS would make more sense! « ogcancerpati...</td>\n",
       "      <td>Advocacy</td>\n",
       "      <td>NaN</td>\n",
       "      <td>NaN</td>\n",
       "      <td>She/Her. Living w #MetastaticBC since '13 &amp; ad...</td>\n",
       "      <td>11.0</td>\n",
       "      <td>1395088550253711372</td>\n",
       "      <td>1621450004</td>\n",
       "      <td>...</td>\n",
       "      <td>0.0</td>\n",
       "      <td>0.0</td>\n",
       "      <td>0.0</td>\n",
       "      <td>0.0</td>\n",
       "      <td>0.0</td>\n",
       "      <td>0.0</td>\n",
       "      <td>0.0</td>\n",
       "      <td>0.0</td>\n",
       "      <td>0.0</td>\n",
       "      <td>None</td>\n",
       "    </tr>\n",
       "    <tr>\n",
       "      <th>2879227</th>\n",
       "      <td>32530883</td>\n",
       "      <td>MyelomaTeacher</td>\n",
       "      <td>Follow @MMSMChats for updates on upcoming #Mye...</td>\n",
       "      <td>Advocacy</td>\n",
       "      <td>NaN</td>\n",
       "      <td>NaN</td>\n",
       "      <td>Retired Teacher- Dx with Myeloma 2008- Patient...</td>\n",
       "      <td>10.0</td>\n",
       "      <td>435998673021833216</td>\n",
       "      <td>1392785158</td>\n",
       "      <td>...</td>\n",
       "      <td>0.0</td>\n",
       "      <td>0.0</td>\n",
       "      <td>0.0</td>\n",
       "      <td>0.0</td>\n",
       "      <td>0.0</td>\n",
       "      <td>0.0</td>\n",
       "      <td>0.0</td>\n",
       "      <td>0.0</td>\n",
       "      <td>0.0</td>\n",
       "      <td>None</td>\n",
       "    </tr>\n",
       "    <tr>\n",
       "      <th>3563770</th>\n",
       "      <td>24341364</td>\n",
       "      <td>bonniejaddario</td>\n",
       "      <td>A very successful Living Room in Mexico! Hoste...</td>\n",
       "      <td>Advocacy</td>\n",
       "      <td>NaN</td>\n",
       "      <td>NaN</td>\n",
       "      <td>Activist, advocate, educator and change agent ...</td>\n",
       "      <td>53.0</td>\n",
       "      <td>1184931492725583872</td>\n",
       "      <td>1571344657</td>\n",
       "      <td>...</td>\n",
       "      <td>0.0</td>\n",
       "      <td>0.0</td>\n",
       "      <td>0.0</td>\n",
       "      <td>0.0</td>\n",
       "      <td>0.0</td>\n",
       "      <td>0.0</td>\n",
       "      <td>0.0</td>\n",
       "      <td>0.0</td>\n",
       "      <td>0.0</td>\n",
       "      <td>None</td>\n",
       "    </tr>\n",
       "    <tr>\n",
       "      <th>...</th>\n",
       "      <td>...</td>\n",
       "      <td>...</td>\n",
       "      <td>...</td>\n",
       "      <td>...</td>\n",
       "      <td>...</td>\n",
       "      <td>...</td>\n",
       "      <td>...</td>\n",
       "      <td>...</td>\n",
       "      <td>...</td>\n",
       "      <td>...</td>\n",
       "      <td>...</td>\n",
       "      <td>...</td>\n",
       "      <td>...</td>\n",
       "      <td>...</td>\n",
       "      <td>...</td>\n",
       "      <td>...</td>\n",
       "      <td>...</td>\n",
       "      <td>...</td>\n",
       "      <td>...</td>\n",
       "      <td>...</td>\n",
       "      <td>...</td>\n",
       "    </tr>\n",
       "    <tr>\n",
       "      <th>3893285</th>\n",
       "      <td>49416874</td>\n",
       "      <td>JFreemanDaily</td>\n",
       "      <td>Targeted Therapies in Lung Cancer (#TTLC20) 20...</td>\n",
       "      <td>Advocacy</td>\n",
       "      <td>NaN</td>\n",
       "      <td>NaN</td>\n",
       "      <td>Writer, speaker, science geek. Lung cancer pat...</td>\n",
       "      <td>414.0</td>\n",
       "      <td>1230478945331666946</td>\n",
       "      <td>1582204016</td>\n",
       "      <td>...</td>\n",
       "      <td>0.0</td>\n",
       "      <td>0.0</td>\n",
       "      <td>0.0</td>\n",
       "      <td>0.0</td>\n",
       "      <td>0.0</td>\n",
       "      <td>0.0</td>\n",
       "      <td>0.0</td>\n",
       "      <td>0.0</td>\n",
       "      <td>0.0</td>\n",
       "      <td>None</td>\n",
       "    </tr>\n",
       "    <tr>\n",
       "      <th>2875697</th>\n",
       "      <td>32530883</td>\n",
       "      <td>MyelomaTeacher</td>\n",
       "      <td>Listen to @theMMRF Highlights of #ASH14 teleco...</td>\n",
       "      <td>Advocacy</td>\n",
       "      <td>NaN</td>\n",
       "      <td>NaN</td>\n",
       "      <td>Retired Teacher- Dx with Myeloma 2008- Patient...</td>\n",
       "      <td>10.0</td>\n",
       "      <td>562991600184619010</td>\n",
       "      <td>1423062632</td>\n",
       "      <td>...</td>\n",
       "      <td>0.0</td>\n",
       "      <td>0.0</td>\n",
       "      <td>0.0</td>\n",
       "      <td>0.0</td>\n",
       "      <td>0.0</td>\n",
       "      <td>0.0</td>\n",
       "      <td>0.0</td>\n",
       "      <td>0.0</td>\n",
       "      <td>0.0</td>\n",
       "      <td>None</td>\n",
       "    </tr>\n",
       "    <tr>\n",
       "      <th>3065634</th>\n",
       "      <td>588584827</td>\n",
       "      <td>1111linno</td>\n",
       "      <td>And I was that patient who connected with @DrM...</td>\n",
       "      <td>Advocacy</td>\n",
       "      <td>NaN</td>\n",
       "      <td>NaN</td>\n",
       "      <td>Animal, activist, artist. Becoming a revolutio...</td>\n",
       "      <td>18.0</td>\n",
       "      <td>887858003965132800</td>\n",
       "      <td>1500516818</td>\n",
       "      <td>...</td>\n",
       "      <td>0.0</td>\n",
       "      <td>0.0</td>\n",
       "      <td>0.0</td>\n",
       "      <td>0.0</td>\n",
       "      <td>0.0</td>\n",
       "      <td>0.0</td>\n",
       "      <td>0.0</td>\n",
       "      <td>0.0</td>\n",
       "      <td>0.0</td>\n",
       "      <td>None</td>\n",
       "    </tr>\n",
       "    <tr>\n",
       "      <th>3921312</th>\n",
       "      <td>793207603291500544</td>\n",
       "      <td>ivybelkins</td>\n",
       "      <td>Dave Messi, @IASLC CEO, talks about the #LungA...</td>\n",
       "      <td>Advocacy</td>\n",
       "      <td>NaN</td>\n",
       "      <td>NaN</td>\n",
       "      <td>Co-Founder, @EGFRResisters LC Patient Group; w...</td>\n",
       "      <td>841.0</td>\n",
       "      <td>1170392449048621064</td>\n",
       "      <td>1567878279</td>\n",
       "      <td>...</td>\n",
       "      <td>0.0</td>\n",
       "      <td>1.0</td>\n",
       "      <td>0.0</td>\n",
       "      <td>0.0</td>\n",
       "      <td>0.0</td>\n",
       "      <td>0.0</td>\n",
       "      <td>0.0</td>\n",
       "      <td>0.0</td>\n",
       "      <td>1.0</td>\n",
       "      <td>None</td>\n",
       "    </tr>\n",
       "    <tr>\n",
       "      <th>3791531</th>\n",
       "      <td>301419060</td>\n",
       "      <td>manjuggm</td>\n",
       "      <td>Great infographic from the Colon Cancer Preven...</td>\n",
       "      <td>Advocacy</td>\n",
       "      <td>NaN</td>\n",
       "      <td>NaN</td>\n",
       "      <td>Pt Adv, NCI Rectal Anal TF\\nMom, lifelong lear...</td>\n",
       "      <td>108.0</td>\n",
       "      <td>1393637996386193414</td>\n",
       "      <td>1621104165</td>\n",
       "      <td>...</td>\n",
       "      <td>0.0</td>\n",
       "      <td>0.0</td>\n",
       "      <td>0.0</td>\n",
       "      <td>0.0</td>\n",
       "      <td>0.0</td>\n",
       "      <td>0.0</td>\n",
       "      <td>0.0</td>\n",
       "      <td>0.0</td>\n",
       "      <td>0.0</td>\n",
       "      <td>None</td>\n",
       "    </tr>\n",
       "  </tbody>\n",
       "</table>\n",
       "<p>772 rows × 23 columns</p>\n",
       "</div>"
      ],
      "text/plain": [
       "                    user_id user_screen_name  \\\n",
       "3892201            49416874    JFreemanDaily   \n",
       "3873873            14262217           stales   \n",
       "2902597            73436353      itsnot_pink   \n",
       "2879227            32530883   MyelomaTeacher   \n",
       "3563770            24341364   bonniejaddario   \n",
       "...                     ...              ...   \n",
       "3893285            49416874    JFreemanDaily   \n",
       "2875697            32530883   MyelomaTeacher   \n",
       "3065634           588584827        1111linno   \n",
       "3921312  793207603291500544       ivybelkins   \n",
       "3791531           301419060         manjuggm   \n",
       "\n",
       "                                                      text User_status  \\\n",
       "3892201  Reminder to #ASCO22 tweeps: pls include #lcsm ...    Advocacy   \n",
       "3873873  cc: @jodyms @drattai we are official now!!! (@...    Advocacy   \n",
       "2902597  Now THIS would make more sense! « ogcancerpati...    Advocacy   \n",
       "2879227  Follow @MMSMChats for updates on upcoming #Mye...    Advocacy   \n",
       "3563770  A very successful Living Room in Mexico! Hoste...    Advocacy   \n",
       "...                                                    ...         ...   \n",
       "3893285  Targeted Therapies in Lung Cancer (#TTLC20) 20...    Advocacy   \n",
       "2875697  Listen to @theMMRF Highlights of #ASH14 teleco...    Advocacy   \n",
       "3065634  And I was that patient who connected with @DrM...    Advocacy   \n",
       "3921312  Dave Messi, @IASLC CEO, talks about the #LungA...    Advocacy   \n",
       "3791531  Great infographic from the Colon Cancer Preven...    Advocacy   \n",
       "\n",
       "        retweeted_id retweeted_user_id  \\\n",
       "3892201          NaN               NaN   \n",
       "3873873          NaN               NaN   \n",
       "2902597          NaN               NaN   \n",
       "2879227          NaN               NaN   \n",
       "3563770          NaN               NaN   \n",
       "...              ...               ...   \n",
       "3893285          NaN               NaN   \n",
       "2875697          NaN               NaN   \n",
       "3065634          NaN               NaN   \n",
       "3921312          NaN               NaN   \n",
       "3791531          NaN               NaN   \n",
       "\n",
       "                                          user_description  sum_nb_biom  \\\n",
       "3892201  Writer, speaker, science geek. Lung cancer pat...        414.0   \n",
       "3873873  Co-founder of #BCSM, POWER TWEETER, eternal op...        289.0   \n",
       "2902597  She/Her. Living w #MetastaticBC since '13 & ad...         11.0   \n",
       "2879227  Retired Teacher- Dx with Myeloma 2008- Patient...         10.0   \n",
       "3563770  Activist, advocate, educator and change agent ...         53.0   \n",
       "...                                                    ...          ...   \n",
       "3893285  Writer, speaker, science geek. Lung cancer pat...        414.0   \n",
       "2875697  Retired Teacher- Dx with Myeloma 2008- Patient...         10.0   \n",
       "3065634  Animal, activist, artist. Becoming a revolutio...         18.0   \n",
       "3921312  Co-Founder, @EGFRResisters LC Patient Group; w...        841.0   \n",
       "3791531  Pt Adv, NCI Rectal Anal TF\\nMom, lifelong lear...        108.0   \n",
       "\n",
       "                          id  timestamp_utc  ... EXON  EGFR  KRAS  NTRK  BRAF  \\\n",
       "3892201  1533088158849462282     1654351675  ...  0.0   0.0   0.0   0.0   0.0   \n",
       "3873873   253178426947690496     1349197415  ...  0.0   0.0   0.0   0.0   0.0   \n",
       "2902597  1395088550253711372     1621450004  ...  0.0   0.0   0.0   0.0   0.0   \n",
       "2879227   435998673021833216     1392785158  ...  0.0   0.0   0.0   0.0   0.0   \n",
       "3563770  1184931492725583872     1571344657  ...  0.0   0.0   0.0   0.0   0.0   \n",
       "...                      ...            ...  ...  ...   ...   ...   ...   ...   \n",
       "3893285  1230478945331666946     1582204016  ...  0.0   0.0   0.0   0.0   0.0   \n",
       "2875697   562991600184619010     1423062632  ...  0.0   0.0   0.0   0.0   0.0   \n",
       "3065634   887858003965132800     1500516818  ...  0.0   0.0   0.0   0.0   0.0   \n",
       "3921312  1170392449048621064     1567878279  ...  0.0   1.0   0.0   0.0   0.0   \n",
       "3791531  1393637996386193414     1621104165  ...  0.0   0.0   0.0   0.0   0.0   \n",
       "\n",
       "         MET  RET  HER2  nb_of_biomarker  retweeted_user_status  \n",
       "3892201  0.0  0.0   0.0              0.0                   None  \n",
       "3873873  0.0  0.0   0.0              0.0                   None  \n",
       "2902597  0.0  0.0   0.0              0.0                   None  \n",
       "2879227  0.0  0.0   0.0              0.0                   None  \n",
       "3563770  0.0  0.0   0.0              0.0                   None  \n",
       "...      ...  ...   ...              ...                    ...  \n",
       "3893285  0.0  0.0   0.0              0.0                   None  \n",
       "2875697  0.0  0.0   0.0              0.0                   None  \n",
       "3065634  0.0  0.0   0.0              0.0                   None  \n",
       "3921312  0.0  0.0   0.0              1.0                   None  \n",
       "3791531  0.0  0.0   0.0              0.0                   None  \n",
       "\n",
       "[772 rows x 23 columns]"
      ]
     },
     "execution_count": 24,
     "metadata": {},
     "output_type": "execute_result"
    }
   ],
   "source": [
    "df_adv[df_adv['id'].isin(onc_retweeted_ids)]"
   ]
  },
  {
   "cell_type": "code",
   "execution_count": 25,
   "id": "340a2c8f",
   "metadata": {},
   "outputs": [],
   "source": [
    "df_adv['star']=df_adv.id.map(dico_id.get)"
   ]
  },
  {
   "cell_type": "code",
   "execution_count": 26,
   "id": "7e52bf5b",
   "metadata": {},
   "outputs": [
    {
     "data": {
      "text/plain": [
       "True    772\n",
       "Name: star, dtype: int64"
      ]
     },
     "execution_count": 26,
     "metadata": {},
     "output_type": "execute_result"
    }
   ],
   "source": [
    "df_adv.star.value_counts()"
   ]
  },
  {
   "cell_type": "code",
   "execution_count": 27,
   "id": "8f985a30",
   "metadata": {},
   "outputs": [
    {
     "data": {
      "text/plain": [
       "50000"
      ]
     },
     "execution_count": 27,
     "metadata": {},
     "output_type": "execute_result"
    }
   ],
   "source": [
    "len(df_adv)"
   ]
  },
  {
   "cell_type": "code",
   "execution_count": 58,
   "id": "298152eb",
   "metadata": {},
   "outputs": [],
   "source": [
    "df_adv=df_adv.sample(10000,random_state=23)"
   ]
  },
  {
   "cell_type": "code",
   "execution_count": 59,
   "id": "3fd28f5e",
   "metadata": {},
   "outputs": [
    {
     "data": {
      "text/plain": [
       "9991"
      ]
     },
     "execution_count": 59,
     "metadata": {},
     "output_type": "execute_result"
    }
   ],
   "source": [
    "df_adv_s=df_adv.drop_duplicates(subset=['text'])\n",
    "len(df_adv_s)"
   ]
  },
  {
   "cell_type": "code",
   "execution_count": null,
   "id": "1451f6a8",
   "metadata": {},
   "outputs": [],
   "source": []
  },
  {
   "cell_type": "code",
   "execution_count": null,
   "id": "c38a8dd8",
   "metadata": {},
   "outputs": [],
   "source": []
  },
  {
   "cell_type": "code",
   "execution_count": 60,
   "id": "f8c0cf46",
   "metadata": {},
   "outputs": [],
   "source": [
    "dfl=df.sample(4000,random_state=23)"
   ]
  },
  {
   "cell_type": "code",
   "execution_count": 61,
   "id": "7f35bf58",
   "metadata": {},
   "outputs": [],
   "source": [
    "from bertopic import BERTopic\n"
   ]
  },
  {
   "cell_type": "code",
   "execution_count": 62,
   "id": "509b1e55",
   "metadata": {},
   "outputs": [],
   "source": [
    "import cleantext\n",
    "import re\n",
    "from nltk.tokenize import TweetTokenizer\n",
    "from nltk.corpus import stopwords \n",
    "# create a function for the tweet tokenizer from NLTK\n",
    "def tok(text):\n",
    "    tt = TweetTokenizer()\n",
    "    return [x for x in tt.tokenize(re.sub(\"@[A-Za-z0-9_]+\",\"\", cleantext.replace_urls(text, replace_with=\"\"))) if len(x)>2 and len(x)<30]\n"
   ]
  },
  {
   "cell_type": "code",
   "execution_count": 63,
   "id": "d0277faa",
   "metadata": {},
   "outputs": [
    {
     "data": {
      "text/html": [
       "<div>\n",
       "<style scoped>\n",
       "    .dataframe tbody tr th:only-of-type {\n",
       "        vertical-align: middle;\n",
       "    }\n",
       "\n",
       "    .dataframe tbody tr th {\n",
       "        vertical-align: top;\n",
       "    }\n",
       "\n",
       "    .dataframe thead th {\n",
       "        text-align: right;\n",
       "    }\n",
       "</style>\n",
       "<table border=\"1\" class=\"dataframe\">\n",
       "  <thead>\n",
       "    <tr style=\"text-align: right;\">\n",
       "      <th></th>\n",
       "      <th>user_id</th>\n",
       "      <th>user_screen_name</th>\n",
       "      <th>text</th>\n",
       "      <th>User_status</th>\n",
       "      <th>retweeted_id</th>\n",
       "      <th>retweeted_user_id</th>\n",
       "      <th>user_description</th>\n",
       "      <th>sum_nb_biom</th>\n",
       "      <th>id</th>\n",
       "      <th>timestamp_utc</th>\n",
       "      <th>...</th>\n",
       "      <th>EGFR</th>\n",
       "      <th>KRAS</th>\n",
       "      <th>NTRK</th>\n",
       "      <th>BRAF</th>\n",
       "      <th>MET</th>\n",
       "      <th>RET</th>\n",
       "      <th>HER2</th>\n",
       "      <th>nb_of_biomarker</th>\n",
       "      <th>retweeted_user_status</th>\n",
       "      <th>text_clean</th>\n",
       "    </tr>\n",
       "  </thead>\n",
       "  <tbody>\n",
       "    <tr>\n",
       "      <th>3315684</th>\n",
       "      <td>3281500212</td>\n",
       "      <td>BreastAdvocate</td>\n",
       "      <td>Are breast self exams still worth my time?  ht...</td>\n",
       "      <td>Advocacy</td>\n",
       "      <td>NaN</td>\n",
       "      <td>NaN</td>\n",
       "      <td>Free #BreastCancer #Surgery #SharedDecisionMak...</td>\n",
       "      <td>32.0</td>\n",
       "      <td>1611467691432214528</td>\n",
       "      <td>1673038811</td>\n",
       "      <td>...</td>\n",
       "      <td>0.0</td>\n",
       "      <td>0.0</td>\n",
       "      <td>0.0</td>\n",
       "      <td>0.0</td>\n",
       "      <td>0.0</td>\n",
       "      <td>0.0</td>\n",
       "      <td>0.0</td>\n",
       "      <td>0.0</td>\n",
       "      <td>None</td>\n",
       "      <td>[Are, breast, self, exams, still, worth, time,...</td>\n",
       "    </tr>\n",
       "    <tr>\n",
       "      <th>932198</th>\n",
       "      <td>320434896</td>\n",
       "      <td>IanJPereira</td>\n",
       "      <td>RT @amcunningham: @waisunchan no gender or soc...</td>\n",
       "      <td>Oncologist</td>\n",
       "      <td>461168162830954496</td>\n",
       "      <td>14925532</td>\n",
       "      <td>Resident #RadOnc | World Med Association Junio...</td>\n",
       "      <td>3.0</td>\n",
       "      <td>461168766404276224</td>\n",
       "      <td>1398786176</td>\n",
       "      <td>...</td>\n",
       "      <td>NaN</td>\n",
       "      <td>NaN</td>\n",
       "      <td>NaN</td>\n",
       "      <td>NaN</td>\n",
       "      <td>NaN</td>\n",
       "      <td>NaN</td>\n",
       "      <td>NaN</td>\n",
       "      <td>NaN</td>\n",
       "      <td>None</td>\n",
       "      <td>[gender, socio, economic, differences, PQA, pe...</td>\n",
       "    </tr>\n",
       "    <tr>\n",
       "      <th>3252467</th>\n",
       "      <td>23389575</td>\n",
       "      <td>jodyms</td>\n",
       "      <td>Safe travels Liza Bernstein @itsthebunk Hi, wo...</td>\n",
       "      <td>Advocacy</td>\n",
       "      <td>NaN</td>\n",
       "      <td>NaN</td>\n",
       "      <td>Writer, blogger. Optimist. Cancer Advocate. Wo...</td>\n",
       "      <td>28.0</td>\n",
       "      <td>367089272546787328</td>\n",
       "      <td>1376355877</td>\n",
       "      <td>...</td>\n",
       "      <td>0.0</td>\n",
       "      <td>0.0</td>\n",
       "      <td>0.0</td>\n",
       "      <td>0.0</td>\n",
       "      <td>0.0</td>\n",
       "      <td>0.0</td>\n",
       "      <td>0.0</td>\n",
       "      <td>0.0</td>\n",
       "      <td>None</td>\n",
       "      <td>[Safe, travels, Liza, Bernstein, wonderful, #b...</td>\n",
       "    </tr>\n",
       "    <tr>\n",
       "      <th>3648398</th>\n",
       "      <td>904861723</td>\n",
       "      <td>abcdiagnosis</td>\n",
       "      <td>Well done Charlie! Hope all went well 😊🚴🏼@pati...</td>\n",
       "      <td>Advocacy</td>\n",
       "      <td>NaN</td>\n",
       "      <td>NaN</td>\n",
       "      <td>Founder of After Breast Cancer Diagnosis &amp; liv...</td>\n",
       "      <td>60.0</td>\n",
       "      <td>754949405090910208</td>\n",
       "      <td>1468828939</td>\n",
       "      <td>...</td>\n",
       "      <td>0.0</td>\n",
       "      <td>0.0</td>\n",
       "      <td>0.0</td>\n",
       "      <td>0.0</td>\n",
       "      <td>0.0</td>\n",
       "      <td>0.0</td>\n",
       "      <td>0.0</td>\n",
       "      <td>0.0</td>\n",
       "      <td>None</td>\n",
       "      <td>[Well, done, Charlie, Hope, all, went, well]</td>\n",
       "    </tr>\n",
       "    <tr>\n",
       "      <th>3785501</th>\n",
       "      <td>54608984</td>\n",
       "      <td>bjork5</td>\n",
       "      <td>@THEACTUALDANCE happy birthday Sam!</td>\n",
       "      <td>Advocacy</td>\n",
       "      <td>NaN</td>\n",
       "      <td>NaN</td>\n",
       "      <td>Patient Advocate. Lung Cancer Survivor. Resear...</td>\n",
       "      <td>107.0</td>\n",
       "      <td>623315344254476288</td>\n",
       "      <td>1437444933</td>\n",
       "      <td>...</td>\n",
       "      <td>0.0</td>\n",
       "      <td>0.0</td>\n",
       "      <td>0.0</td>\n",
       "      <td>0.0</td>\n",
       "      <td>0.0</td>\n",
       "      <td>0.0</td>\n",
       "      <td>0.0</td>\n",
       "      <td>0.0</td>\n",
       "      <td>None</td>\n",
       "      <td>[happy, birthday, Sam]</td>\n",
       "    </tr>\n",
       "  </tbody>\n",
       "</table>\n",
       "<p>5 rows × 24 columns</p>\n",
       "</div>"
      ],
      "text/plain": [
       "            user_id user_screen_name  \\\n",
       "3315684  3281500212   BreastAdvocate   \n",
       "932198    320434896      IanJPereira   \n",
       "3252467    23389575           jodyms   \n",
       "3648398   904861723     abcdiagnosis   \n",
       "3785501    54608984           bjork5   \n",
       "\n",
       "                                                      text User_status  \\\n",
       "3315684  Are breast self exams still worth my time?  ht...    Advocacy   \n",
       "932198   RT @amcunningham: @waisunchan no gender or soc...  Oncologist   \n",
       "3252467  Safe travels Liza Bernstein @itsthebunk Hi, wo...    Advocacy   \n",
       "3648398  Well done Charlie! Hope all went well 😊🚴🏼@pati...    Advocacy   \n",
       "3785501                @THEACTUALDANCE happy birthday Sam!    Advocacy   \n",
       "\n",
       "               retweeted_id retweeted_user_id  \\\n",
       "3315684                 NaN               NaN   \n",
       "932198   461168162830954496          14925532   \n",
       "3252467                 NaN               NaN   \n",
       "3648398                 NaN               NaN   \n",
       "3785501                 NaN               NaN   \n",
       "\n",
       "                                          user_description  sum_nb_biom  \\\n",
       "3315684  Free #BreastCancer #Surgery #SharedDecisionMak...         32.0   \n",
       "932198   Resident #RadOnc | World Med Association Junio...          3.0   \n",
       "3252467  Writer, blogger. Optimist. Cancer Advocate. Wo...         28.0   \n",
       "3648398  Founder of After Breast Cancer Diagnosis & liv...         60.0   \n",
       "3785501  Patient Advocate. Lung Cancer Survivor. Resear...        107.0   \n",
       "\n",
       "                          id  timestamp_utc  ... EGFR  KRAS  NTRK  BRAF  MET  \\\n",
       "3315684  1611467691432214528     1673038811  ...  0.0   0.0   0.0   0.0  0.0   \n",
       "932198    461168766404276224     1398786176  ...  NaN   NaN   NaN   NaN  NaN   \n",
       "3252467   367089272546787328     1376355877  ...  0.0   0.0   0.0   0.0  0.0   \n",
       "3648398   754949405090910208     1468828939  ...  0.0   0.0   0.0   0.0  0.0   \n",
       "3785501   623315344254476288     1437444933  ...  0.0   0.0   0.0   0.0  0.0   \n",
       "\n",
       "         RET  HER2  nb_of_biomarker  retweeted_user_status  \\\n",
       "3315684  0.0   0.0              0.0                   None   \n",
       "932198   NaN   NaN              NaN                   None   \n",
       "3252467  0.0   0.0              0.0                   None   \n",
       "3648398  0.0   0.0              0.0                   None   \n",
       "3785501  0.0   0.0              0.0                   None   \n",
       "\n",
       "                                                text_clean  \n",
       "3315684  [Are, breast, self, exams, still, worth, time,...  \n",
       "932198   [gender, socio, economic, differences, PQA, pe...  \n",
       "3252467  [Safe, travels, Liza, Bernstein, wonderful, #b...  \n",
       "3648398       [Well, done, Charlie, Hope, all, went, well]  \n",
       "3785501                             [happy, birthday, Sam]  \n",
       "\n",
       "[5 rows x 24 columns]"
      ]
     },
     "execution_count": 63,
     "metadata": {},
     "output_type": "execute_result"
    }
   ],
   "source": [
    "import re\n",
    "#REMOVE ONLY THE '#'NOT THE WORD AFTER\n",
    "def remove_hashtag_sign(text):\n",
    "    text = re.sub(r'#', '', text)\n",
    "    return text\n",
    "\n",
    "#dfl['text_clean'] = dfl['text'].apply(lambda x:remove_hashtag_sign(x))\n",
    "#Remove extra white spaces, punctuation and apply lower casing\n",
    "#dfl['text_clean'] = dfl['text_clean'].str.lower().str.replace('[^\\w\\s]',' ').str.replace('\\s\\s+', ' ')\n",
    "dfl['text_clean']=dfl['text'].apply(tok)\n",
    "dfl.head()\n",
    "\n"
   ]
  },
  {
   "cell_type": "code",
   "execution_count": 64,
   "id": "a50666df",
   "metadata": {},
   "outputs": [],
   "source": [
    "dfl['len']=dfl.text_clean.apply(len)"
   ]
  },
  {
   "cell_type": "code",
   "execution_count": 65,
   "id": "eca58856",
   "metadata": {},
   "outputs": [
    {
     "data": {
      "text/plain": [
       "2959"
      ]
     },
     "execution_count": 65,
     "metadata": {},
     "output_type": "execute_result"
    }
   ],
   "source": [
    "dfl=dfl[dfl.len>=9]\n",
    "len(dfl)"
   ]
  },
  {
   "cell_type": "code",
   "execution_count": 66,
   "id": "1e82914d",
   "metadata": {},
   "outputs": [],
   "source": [
    "#df_adv.text.values"
   ]
  },
  {
   "cell_type": "code",
   "execution_count": 67,
   "id": "edb5bc51",
   "metadata": {},
   "outputs": [
    {
     "data": {
      "text/plain": [
       "2959"
      ]
     },
     "execution_count": 67,
     "metadata": {},
     "output_type": "execute_result"
    }
   ],
   "source": [
    "df_adv_s=dfl.dropna(subset='text_clean')#df_adv_s.dropna(subset='text')\n",
    "corpus= list(df_adv_s.text.values)\n",
    "\n",
    "len(corpus)"
   ]
  },
  {
   "cell_type": "code",
   "execution_count": 68,
   "id": "525f4e24",
   "metadata": {},
   "outputs": [],
   "source": [
    "#df_adv_s_export=df_adv_s[df_adv_s['text'].isin(docs)]"
   ]
  },
  {
   "cell_type": "code",
   "execution_count": 69,
   "id": "0bff45f5",
   "metadata": {},
   "outputs": [],
   "source": [
    "#df_adv_s_export.to_csv('sample_10k_text_espadon_advocacy.csv')\n",
    "df_adv_s.to_csv('sample_5k_text_espadon_advocacy_.csv')"
   ]
  },
  {
   "cell_type": "code",
   "execution_count": 70,
   "id": "0dcb7696",
   "metadata": {},
   "outputs": [],
   "source": [
    "dico_doc_2_author=dict(zip(df_adv_s.text,df_adv_s.user_screen_name))"
   ]
  },
  {
   "cell_type": "code",
   "execution_count": 71,
   "id": "68b2cb6c",
   "metadata": {},
   "outputs": [
    {
     "data": {
      "text/plain": [
       "2959"
      ]
     },
     "execution_count": 71,
     "metadata": {},
     "output_type": "execute_result"
    }
   ],
   "source": [
    "#topic_model = BERTopic(embedding_model=embedding_model)\n",
    "#topic_model.fit_transform(corpus[:])\n",
    "len(corpus)"
   ]
  },
  {
   "cell_type": "code",
   "execution_count": 88,
   "id": "727b9009",
   "metadata": {},
   "outputs": [],
   "source": [
    "from bertopic import BERTopic\n",
    "from umap import UMAP\n",
    "from hdbscan import HDBSCAN\n",
    "from sklearn.feature_extraction.text import CountVectorizer\n",
    "from sklearn.cluster import KMeans\n",
    "from sklearn.feature_extraction.text import TfidfVectorizer\n",
    "from nltk.corpus import stopwords\n",
    "stopwords = stopwords.words('english') \n",
    "\n",
    "# Define sub-models\n",
    "vectorizer = CountVectorizer(ngram_range=(1,1),stop_words=stopwords)#,vocabulary=vocab_filtered)\n",
    "#tfidf = TfidfVectorizer(vocabulary=vocab_filtered)\n",
    "#tfidf = TfidfVectorizer(vocabulary=vocab_filtered, ngram_range=(1,2))#, tokenizer=textblob_tokenizer)\n",
    "#tfidf = TfidfVectorizer( ngram_range=(1,2))\n",
    "\n",
    "umap_model = UMAP(n_neighbors=15, n_components=5, min_dist=0.0, metric='cosine', random_state=42)\n",
    "hdbscan_model = HDBSCAN(min_cluster_size=12, min_samples=2, metric='euclidean', prediction_data=True,cluster_selection_method='eom')\n",
    "#cluster_model = KMeans(n_clusters=150)\n",
    "\n",
    "# Train our topic model with BERTopic"
   ]
  },
  {
   "cell_type": "code",
   "execution_count": 73,
   "id": "db5879c2",
   "metadata": {},
   "outputs": [],
   "source": [
    "#docs=corpus[:10000]\n",
    "docs=corpus"
   ]
  },
  {
   "cell_type": "code",
   "execution_count": 74,
   "id": "573dfd40",
   "metadata": {},
   "outputs": [],
   "source": [
    "\n",
    "#trump.text = trump.apply(lambda row: re.sub(r\"http\\S+\", \"\", row.text).lower(), 1)\n",
    "#trump.text = trump.apply(lambda row: \" \".join(filter(lambda x:x[0]!=\"@\", row.text.split())), 1)\n",
    "#trump.text = trump.apply(lambda row: \" \".join(re.sub(\"[^a-zA-Z]+\", \" \", row.text).split()), 1)\n"
   ]
  },
  {
   "cell_type": "code",
   "execution_count": 75,
   "id": "3c5034fa",
   "metadata": {},
   "outputs": [
    {
     "data": {
      "application/vnd.jupyter.widget-view+json": {
       "model_id": "4037d3d2527e47949f9d1480f1983f24",
       "version_major": 2,
       "version_minor": 0
      },
      "text/plain": [
       "Batches:   0%|          | 0/93 [00:00<?, ?it/s]"
      ]
     },
     "metadata": {},
     "output_type": "display_data"
    }
   ],
   "source": [
    "embeddings = embedding_model.encode(docs,show_progress_bar=True)\n"
   ]
  },
  {
   "cell_type": "code",
   "execution_count": 76,
   "id": "cdffa454",
   "metadata": {},
   "outputs": [],
   "source": [
    "#stsb-distilbert-base"
   ]
  },
  {
   "cell_type": "code",
   "execution_count": 89,
   "id": "ad0cd0d4",
   "metadata": {},
   "outputs": [],
   "source": [
    "vectorizer = CountVectorizer(ngram_range=(1,2))\n",
    "topic_model = BERTopic(\n",
    "    embedding_model=embedding_model,\n",
    "    umap_model=umap_model,\n",
    "    hdbscan_model=hdbscan_model,\n",
    "    vectorizer_model=vectorizer).fit(docs, embeddings)"
   ]
  },
  {
   "cell_type": "code",
   "execution_count": 90,
   "id": "abd9d721",
   "metadata": {},
   "outputs": [],
   "source": [
    "#from scipy.cluster import hierarchy as sch\n",
    "#linkage_function = lambda x: sch.linkage(x, 'single')#, optimal_ordering=True)\n",
    "#hierarchical_topics = topic_model.hierarchical_topics(docs,linkage_function=linkage_function)\n",
    "#topic_model.visualize_hierarchy(hierarchical_topics=hierarchical_topics,linkage_function=linkage_function)#,topics=topic_model.topics_)\n"
   ]
  },
  {
   "cell_type": "code",
   "execution_count": 91,
   "id": "e11b7335",
   "metadata": {},
   "outputs": [],
   "source": [
    "#topic_model.reduce_topics(docs, nr_topics=100)#\"auto\")\n"
   ]
  },
  {
   "cell_type": "code",
   "execution_count": null,
   "id": "04d75b01",
   "metadata": {},
   "outputs": [],
   "source": []
  },
  {
   "cell_type": "code",
   "execution_count": 92,
   "id": "a7f04c4c",
   "metadata": {},
   "outputs": [
    {
     "data": {
      "text/html": [
       "<div>\n",
       "<style scoped>\n",
       "    .dataframe tbody tr th:only-of-type {\n",
       "        vertical-align: middle;\n",
       "    }\n",
       "\n",
       "    .dataframe tbody tr th {\n",
       "        vertical-align: top;\n",
       "    }\n",
       "\n",
       "    .dataframe thead th {\n",
       "        text-align: right;\n",
       "    }\n",
       "</style>\n",
       "<table border=\"1\" class=\"dataframe\">\n",
       "  <thead>\n",
       "    <tr style=\"text-align: right;\">\n",
       "      <th></th>\n",
       "      <th>Topic</th>\n",
       "      <th>Count</th>\n",
       "      <th>Name</th>\n",
       "    </tr>\n",
       "  </thead>\n",
       "  <tbody>\n",
       "    <tr>\n",
       "      <th>0</th>\n",
       "      <td>-1</td>\n",
       "      <td>964</td>\n",
       "      <td>-1_the_https_to_com</td>\n",
       "    </tr>\n",
       "    <tr>\n",
       "      <th>1</th>\n",
       "      <td>0</td>\n",
       "      <td>146</td>\n",
       "      <td>0_in_of_http_al</td>\n",
       "    </tr>\n",
       "    <tr>\n",
       "      <th>2</th>\n",
       "      <td>1</td>\n",
       "      <td>112</td>\n",
       "      <td>1_de_la_el_que</td>\n",
       "    </tr>\n",
       "    <tr>\n",
       "      <th>3</th>\n",
       "      <td>2</td>\n",
       "      <td>102</td>\n",
       "      <td>2_bcsm_to_hcldr_it</td>\n",
       "    </tr>\n",
       "    <tr>\n",
       "      <th>4</th>\n",
       "      <td>3</td>\n",
       "      <td>99</td>\n",
       "      <td>3_chat_join_gyncsm_patientchat</td>\n",
       "    </tr>\n",
       "    <tr>\n",
       "      <th>...</th>\n",
       "      <td>...</td>\n",
       "      <td>...</td>\n",
       "      <td>...</td>\n",
       "    </tr>\n",
       "    <tr>\n",
       "      <th>61</th>\n",
       "      <td>60</td>\n",
       "      <td>12</td>\n",
       "      <td>60_teampatchett_non fiction_fiction_they don</td>\n",
       "    </tr>\n",
       "    <tr>\n",
       "      <th>62</th>\n",
       "      <td>61</td>\n",
       "      <td>12</td>\n",
       "      <td>61_ick_travel_000 hrs_ick ick</td>\n",
       "    </tr>\n",
       "    <tr>\n",
       "      <th>63</th>\n",
       "      <td>62</td>\n",
       "      <td>12</td>\n",
       "      <td>62_doctorow_nature_status 1388616913211695109_...</td>\n",
       "    </tr>\n",
       "    <tr>\n",
       "      <th>64</th>\n",
       "      <td>63</td>\n",
       "      <td>12</td>\n",
       "      <td>63_dustinpenner25_was_markwarner_1495473199018...</td>\n",
       "    </tr>\n",
       "    <tr>\n",
       "      <th>65</th>\n",
       "      <td>64</td>\n",
       "      <td>12</td>\n",
       "      <td>64_she_ishwariamd_of my_tennis</td>\n",
       "    </tr>\n",
       "  </tbody>\n",
       "</table>\n",
       "<p>66 rows × 3 columns</p>\n",
       "</div>"
      ],
      "text/plain": [
       "    Topic  Count                                               Name\n",
       "0      -1    964                                -1_the_https_to_com\n",
       "1       0    146                                    0_in_of_http_al\n",
       "2       1    112                                     1_de_la_el_que\n",
       "3       2    102                                 2_bcsm_to_hcldr_it\n",
       "4       3     99                     3_chat_join_gyncsm_patientchat\n",
       "..    ...    ...                                                ...\n",
       "61     60     12       60_teampatchett_non fiction_fiction_they don\n",
       "62     61     12                      61_ick_travel_000 hrs_ick ick\n",
       "63     62     12  62_doctorow_nature_status 1388616913211695109_...\n",
       "64     63     12  63_dustinpenner25_was_markwarner_1495473199018...\n",
       "65     64     12                     64_she_ishwariamd_of my_tennis\n",
       "\n",
       "[66 rows x 3 columns]"
      ]
     },
     "execution_count": 92,
     "metadata": {},
     "output_type": "execute_result"
    }
   ],
   "source": [
    "legend=topic_model.get_topic_info()\n",
    "legend"
   ]
  },
  {
   "cell_type": "code",
   "execution_count": 94,
   "id": "9d763e6e",
   "metadata": {},
   "outputs": [],
   "source": [
    " \n",
    "vectorizer_model2 = CountVectorizer(ngram_range=(1,2),tokenizer=tok,stop_words=stopwords,min_df=10)\n",
    "topic_model.update_topics(docs, vectorizer_model=vectorizer_model2)"
   ]
  },
  {
   "cell_type": "code",
   "execution_count": 95,
   "id": "d999a030",
   "metadata": {},
   "outputs": [],
   "source": [
    "# Generate nicer looking labels and set them in our model\n",
    "topic_labels = topic_model.generate_topic_labels(nr_words=10,\n",
    "                                                 topic_prefix=True,\n",
    "                                                 word_length=20,\n",
    "                                                 separator=\", \")\n",
    "topic_model.set_topic_labels(topic_labels)"
   ]
  },
  {
   "cell_type": "code",
   "execution_count": 96,
   "id": "f0c23bb4",
   "metadata": {},
   "outputs": [
    {
     "data": {
      "text/html": [
       "<div>\n",
       "<style scoped>\n",
       "    .dataframe tbody tr th:only-of-type {\n",
       "        vertical-align: middle;\n",
       "    }\n",
       "\n",
       "    .dataframe tbody tr th {\n",
       "        vertical-align: top;\n",
       "    }\n",
       "\n",
       "    .dataframe thead th {\n",
       "        text-align: right;\n",
       "    }\n",
       "</style>\n",
       "<table border=\"1\" class=\"dataframe\">\n",
       "  <thead>\n",
       "    <tr style=\"text-align: right;\">\n",
       "      <th></th>\n",
       "      <th>Topic</th>\n",
       "      <th>Count</th>\n",
       "      <th>Name</th>\n",
       "      <th>CustomName</th>\n",
       "    </tr>\n",
       "  </thead>\n",
       "  <tbody>\n",
       "    <tr>\n",
       "      <th>0</th>\n",
       "      <td>-1</td>\n",
       "      <td>964</td>\n",
       "      <td>-1_cancer_patients_research_...</td>\n",
       "      <td>-1, cancer, patients, research, ..., risk, #ca...</td>\n",
       "    </tr>\n",
       "    <tr>\n",
       "      <th>1</th>\n",
       "      <td>0</td>\n",
       "      <td>146</td>\n",
       "      <td>0_#mmsm_multiple_#myeloma_myeloma</td>\n",
       "      <td>0, #mmsm, multiple, #myeloma, myeloma, study, ...</td>\n",
       "    </tr>\n",
       "    <tr>\n",
       "      <th>2</th>\n",
       "      <td>1</td>\n",
       "      <td>112</td>\n",
       "      <td>1_per_via_hospital_...</td>\n",
       "      <td>1, per, via, hospital, ..., 2021, #covid19, re...</td>\n",
       "    </tr>\n",
       "    <tr>\n",
       "      <th>3</th>\n",
       "      <td>2</td>\n",
       "      <td>102</td>\n",
       "      <td>2_#bcsm_young_need_better</td>\n",
       "      <td>2, #bcsm, young, need, better, would, diagnosi...</td>\n",
       "    </tr>\n",
       "    <tr>\n",
       "      <th>4</th>\n",
       "      <td>3</td>\n",
       "      <td>99</td>\n",
       "      <td>3_join_#bcsm_twitter_learn</td>\n",
       "      <td>3, join, #bcsm, twitter, learn, tomorrow, comm...</td>\n",
       "    </tr>\n",
       "    <tr>\n",
       "      <th>...</th>\n",
       "      <td>...</td>\n",
       "      <td>...</td>\n",
       "      <td>...</td>\n",
       "      <td>...</td>\n",
       "    </tr>\n",
       "    <tr>\n",
       "      <th>61</th>\n",
       "      <td>60</td>\n",
       "      <td>12</td>\n",
       "      <td>60_hard_find_world_read</td>\n",
       "      <td>60, hard, find, world, read, share, people, ev...</td>\n",
       "    </tr>\n",
       "    <tr>\n",
       "      <th>62</th>\n",
       "      <td>61</td>\n",
       "      <td>12</td>\n",
       "      <td>61_one_guidelines_absolutely_trying</td>\n",
       "      <td>61, one, guidelines, absolutely, trying, would...</td>\n",
       "    </tr>\n",
       "    <tr>\n",
       "      <th>63</th>\n",
       "      <td>62</td>\n",
       "      <td>12</td>\n",
       "      <td>62_change_guidelines_hey_bad</td>\n",
       "      <td>62, change, guidelines, hey, bad, whether, bas...</td>\n",
       "    </tr>\n",
       "    <tr>\n",
       "      <th>64</th>\n",
       "      <td>63</td>\n",
       "      <td>12</td>\n",
       "      <td>63_looks_met_news_question</td>\n",
       "      <td>63, looks, met, news, question, said, let, twi...</td>\n",
       "    </tr>\n",
       "    <tr>\n",
       "      <th>65</th>\n",
       "      <td>64</td>\n",
       "      <td>12</td>\n",
       "      <td>64_amazing_helped_provide_school</td>\n",
       "      <td>64, amazing, helped, provide, school, met, wat...</td>\n",
       "    </tr>\n",
       "  </tbody>\n",
       "</table>\n",
       "<p>66 rows × 4 columns</p>\n",
       "</div>"
      ],
      "text/plain": [
       "    Topic  Count                                 Name  \\\n",
       "0      -1    964      -1_cancer_patients_research_...   \n",
       "1       0    146    0_#mmsm_multiple_#myeloma_myeloma   \n",
       "2       1    112               1_per_via_hospital_...   \n",
       "3       2    102            2_#bcsm_young_need_better   \n",
       "4       3     99           3_join_#bcsm_twitter_learn   \n",
       "..    ...    ...                                  ...   \n",
       "61     60     12              60_hard_find_world_read   \n",
       "62     61     12  61_one_guidelines_absolutely_trying   \n",
       "63     62     12         62_change_guidelines_hey_bad   \n",
       "64     63     12           63_looks_met_news_question   \n",
       "65     64     12     64_amazing_helped_provide_school   \n",
       "\n",
       "                                           CustomName  \n",
       "0   -1, cancer, patients, research, ..., risk, #ca...  \n",
       "1   0, #mmsm, multiple, #myeloma, myeloma, study, ...  \n",
       "2   1, per, via, hospital, ..., 2021, #covid19, re...  \n",
       "3   2, #bcsm, young, need, better, would, diagnosi...  \n",
       "4   3, join, #bcsm, twitter, learn, tomorrow, comm...  \n",
       "..                                                ...  \n",
       "61  60, hard, find, world, read, share, people, ev...  \n",
       "62  61, one, guidelines, absolutely, trying, would...  \n",
       "63  62, change, guidelines, hey, bad, whether, bas...  \n",
       "64  63, looks, met, news, question, said, let, twi...  \n",
       "65  64, amazing, helped, provide, school, met, wat...  \n",
       "\n",
       "[66 rows x 4 columns]"
      ]
     },
     "execution_count": 96,
     "metadata": {},
     "output_type": "execute_result"
    }
   ],
   "source": [
    "\n",
    "legend=topic_model.get_topic_info()\n",
    "legend"
   ]
  },
  {
   "cell_type": "code",
   "execution_count": null,
   "id": "95495f83",
   "metadata": {},
   "outputs": [],
   "source": []
  },
  {
   "cell_type": "code",
   "execution_count": 97,
   "id": "0420c645",
   "metadata": {},
   "outputs": [],
   "source": [
    "topicnb_2_name=dict(zip(legend['Topic'],legend['CustomName']))\n"
   ]
  },
  {
   "cell_type": "code",
   "execution_count": 98,
   "id": "ba12902a",
   "metadata": {},
   "outputs": [],
   "source": [
    "fig=topic_model.visualize_barchart(topics=list(range(len(topic_model.get_topic_info())-1)),n_words=10)\n",
    "fig.write_html('../image/barcharts'+str(len(topic_model.get_topic_info()))+'.html')"
   ]
  },
  {
   "cell_type": "code",
   "execution_count": 99,
   "id": "b23a2daa",
   "metadata": {},
   "outputs": [],
   "source": [
    "nb_topic=len(legend)"
   ]
  },
  {
   "cell_type": "code",
   "execution_count": 100,
   "id": "9209de56",
   "metadata": {},
   "outputs": [],
   "source": [
    "# Generate nicer looking labels and set them in our model\n",
    "topic_labels = topic_model.generate_topic_labels(nr_words=10,\n",
    "                                                 topic_prefix=True,\n",
    "                                                 word_length=20,\n",
    "                                                 separator=\", \")\n",
    "topic_model.set_topic_labels(topic_labels)"
   ]
  },
  {
   "cell_type": "code",
   "execution_count": 101,
   "id": "d9f4b1af",
   "metadata": {},
   "outputs": [
    {
     "data": {
      "text/plain": [
       "['-1, cancer, patients, research, ..., risk, #cancer, thanks, care, patient, people',\n",
       " '0, #mmsm, multiple, #myeloma, myeloma, study, inhibitors, cell, therapy, chemo, trial',\n",
       " '1, per, via, hospital, ..., 2021, #covid19, real, big, happy, years',\n",
       " '2, #bcsm, young, need, better, would, diagnosis, support, understand, help, think',\n",
       " '3, join, #bcsm, twitter, learn, tomorrow, community, breast cancer, breast, #mmsm, follow',\n",
       " '4, trial, phase, paper, pts, nsclc, results, clinical, response, molecular, #lcsm',\n",
       " '5, breast, breast cancer, #breastcancer, #bcsm, cancer, women, day, via, diagnosis, metastatic',\n",
       " '6, proud, work, thank, excited, stop, happy, never, team, new, women',\n",
       " '7, #lungcancer, #lcsm, support, lung cancer, thank, lung, research, community, able, month',\n",
       " '8, looking forward, forward, colleagues, 2020, looking, open, online, meeting, please, free',\n",
       " '9, care, access, health, medical, healthcare, change, hospital, ask, part, colleagues',\n",
       " '10, drug, effective, cost, cases, data, agree, vaccine, benefit, positive, costs',\n",
       " \"11, i'm, ..., life, get, call, thank, sure, yes, time, well\",\n",
       " '12, women, needs, treatment, health, decisions, making, cancer, check, whether, access',\n",
       " '13, morning, live, see, lived, heart, never, something, maybe, country, full',\n",
       " '14, think, yet, many, also, know, science, support, believe, related, term',\n",
       " '15, potential, every, believe, country, free, different, make, lives, people, saying',\n",
       " '16, #covid19, country, increase, cases, covid, people, must, spread, vaccine, world',\n",
       " '17, healthcare, social media, social, media, data, twitter, big, via, health, million',\n",
       " '18, first, sharing, much, change, many, great, thanks, year, point, years',\n",
       " '19, risk, benefits, advanced, study, rates, role, studies, may, per, likely',\n",
       " '20, phase, vaccines, trial, metastatic, vaccine, news, lung cancer, drug, treatment, advanced',\n",
       " \"21, thing, feel, i'm, hey, change, seen, yes, keep, tweet, ...\",\n",
       " '22, presentation, molecular, discuss, proud, today, paper, colleague, group, free, amazing',\n",
       " '23, waiting, sorry, used, keep, know, ..., found, old, needed, months',\n",
       " '24, heart, study, weeks, found, #asco20, higher, therapy, nice, tumor, effective',\n",
       " '25, brain, #btsm, tumor, cells, drug, new, way, help, researchers, #immunotherapy',\n",
       " '26, myeloma, medicine, multiple, presentation, studies, oncologists, #oncoalert, #mmsm, friends, impact',\n",
       " '27, looking forward, please, forward, great, #lungcancer, looking, visit, come, tomorrow, let',\n",
       " \"28, i'm, call, diagnosis, like, last, news, please, looks, still, daily\",\n",
       " '29, thing, got, like, love, still, seeing, trying, something, miss, maybe',\n",
       " '30, hospital, children, experience, covid, consider, higher, many, well, let, people',\n",
       " '31, children, school, higher, needs, news, medical, everything, population, learning, meet',\n",
       " '32, idea, really, two, take, one, weeks, looks, best, national, giving',\n",
       " '33, age, breast cancer, breast, #breastcancer, half, cancer, radiation, immune, case, interesting',\n",
       " '34, paper, #lcsm, studies, therapy, getting, impact, cell, response, work, ready',\n",
       " '35, join, latest, discuss, #btsm, forward, free, next, meet, tomorrow, today',\n",
       " '36, program, job, interested, research, open, hey, learn, 2020, coming, please',\n",
       " '37, saying, full, says, enough, everyone, right, yes, much, heart, seeing',\n",
       " \"38, patient, we're, advocates, great, every, need, along, #mmsm, starting, ready\",\n",
       " '39, chemo, job, #immunotherapy, oncologists, talk, #lcsm, use, therapy, best, starting',\n",
       " \"40, hope, hear, sorry, better, stay, i'm, soon, feel, long, hours\",\n",
       " \"41, learning, we're, made, others, friends, let, talk, cancer care, million, day\",\n",
       " '42, help, week, research, needed, please, cancer patients, another, support, breast cancer, could',\n",
       " '43, maybe, less, effects, looks, #mmsm, think, absolutely, whether, etc, related',\n",
       " '44, friend, difference, next, oncology, family, everyone, community, medical, first, year',\n",
       " '45, #breastcancer, breast cancer, breast, cells, vaccine, researchers, #bcsm, metastatic, early, way',\n",
       " '46, higher, death, costs, disease, rates, cause, lung, got, stop, much',\n",
       " '47, small, stage, lung, years, longer, cancer, safe, #mmsm, patients, national',\n",
       " '48, line, met, inhibitors, vaccine, 1st, nsclc, cells, safe, 2021, vaccines',\n",
       " '49, give, weeks, people, could, friend, want, amazing, really, life, lived',\n",
       " '50, health, related, #research, vaccines, costs, children, watch, increase, role, per',\n",
       " '51, single, rates, therapy, outcomes, study, high, response, early, disease, patients',\n",
       " '52, data, disease, drug, yes, therapy, trials, daily, difference, treat, based',\n",
       " '53, trial, #covid19, 2020, test, case, results, article, medical, later, absolutely',\n",
       " '54, radiation, primary, testing, diagnosis, article, paper, #cancer, drug, hours, yes',\n",
       " \"55, stop, back, year, speaking, wrong, trials, progress, expert, waiting, let's\",\n",
       " '56, lung cancer, lung, stage, diagnosed, anyone, advocacy, year, case, another, #lungcancer',\n",
       " '57, months, #breastcancer, survival, associated, breast, positive, advanced, phase, breast cancer, longer',\n",
       " '58, social media, media, social, myeloma, multiple, healthcare, #mmsm, cancers, twitter, cancer care',\n",
       " '59, report, survivors, less, #medtwitter, likely, across, keep, article, may, wrong',\n",
       " '60, hard, find, world, read, share, people, everything, etc, would, good',\n",
       " '61, one, guidelines, absolutely, trying, would, believe, true, good, watch, ask',\n",
       " '62, change, guidelines, hey, bad, whether, based, far, today, latest, history',\n",
       " \"63, looks, met, news, question, said, let, twitter, i'm, wrong, saying\",\n",
       " '64, amazing, helped, provide, school, met, watch, visit, children, miss, advocacy']"
      ]
     },
     "execution_count": 101,
     "metadata": {},
     "output_type": "execute_result"
    }
   ],
   "source": [
    "topic_labels"
   ]
  },
  {
   "cell_type": "code",
   "execution_count": 102,
   "id": "d6d9ec6c",
   "metadata": {},
   "outputs": [],
   "source": [
    "info_doc=topic_model.get_document_info(docs)\n",
    "dico_doc_2_topic=dict(zip(info_doc.Document,info_doc.Topic))"
   ]
  },
  {
   "cell_type": "code",
   "execution_count": 103,
   "id": "317e718a",
   "metadata": {},
   "outputs": [],
   "source": [
    "#dico_doc_2_topic"
   ]
  },
  {
   "cell_type": "code",
   "execution_count": 104,
   "id": "4d34c8b1",
   "metadata": {},
   "outputs": [],
   "source": [
    "#info_doc3=info_doc[info_doc['Topic']==3]\n",
    "#info_doc3[info_doc3.Document.str.contains('@katie23085')].Document.values"
   ]
  },
  {
   "cell_type": "code",
   "execution_count": 105,
   "id": "b37b1a8b",
   "metadata": {},
   "outputs": [],
   "source": [
    "import textwrap# Manually selected some interesting topics to prevent information overload\n",
    "topics_of_interest = list(range(nb_topic))\n",
    "\n",
    "def add_br(example,N=100):\n",
    "    return '<br>'.join(l for line in example.splitlines() \n",
    "                  for l in textwrap.wrap(line, width=N))\n",
    "    \n",
    "    \n",
    "\n",
    "adjusted_docs = [\"<b>\"+\"Topic:\"+str(dico_doc_2_topic[doc])+\" - \" + topicnb_2_name[dico_doc_2_topic[doc]] +\"</b><br>\" + add_br(doc[:]) +\"<br><b>by \" + dico_doc_2_author[doc]+\"</b>\" \n",
    "                 for doc in docs]\n",
    "\n",
    "# Visualize documents\n",
    "fig=topic_model.visualize_documents(\n",
    "    adjusted_docs, \n",
    "    embeddings=embeddings, \n",
    "    hide_annotations=True, \n",
    "    topics=topics_of_interest,\n",
    "    custom_labels=True,\n",
    "    width = 2000,\n",
    "    height = 1300\n",
    ")\n",
    "fig.write_html('../image/embedding_'+str(nb_topic)+'s.html')"
   ]
  },
  {
   "cell_type": "code",
   "execution_count": 106,
   "id": "aad5ccb5",
   "metadata": {},
   "outputs": [
    {
     "data": {
      "text/plain": [
       "3315684    [Are, breast, self, exams, still, worth, time,...\n",
       "3252467    [Safe, travels, Liza, Bernstein, wonderful, #b...\n",
       "165571     [Powerful, opening, remarks, introducing, this...\n",
       "1178174    [Many, have, asked, whether, this, week, chang...\n",
       "2331945    [join, #mmsm, Twitter, chat, can, search, #mms...\n",
       "                                 ...                        \n",
       "1169794    [This, interesting, idea, the, Crick, Institut...\n",
       "3288673    [Look, who, will, coming, for, Here, Voice, Se...\n",
       "1237356    [#RESILIENCEnews, The, new, Clinical, Practice...\n",
       "3204522    [Welcoming, participation, #bcsm, chat, helped...\n",
       "1884658    [Therapeutic, approaches, for, the, management...\n",
       "Name: text_clean, Length: 2959, dtype: object"
      ]
     },
     "execution_count": 106,
     "metadata": {},
     "output_type": "execute_result"
    }
   ],
   "source": [
    "df_adv_s['text_clean']"
   ]
  },
  {
   "cell_type": "code",
   "execution_count": 107,
   "id": "a0c40eb9",
   "metadata": {},
   "outputs": [],
   "source": [
    "dfl['topic_nb']=dfl['text'].map(dico_doc_2_topic.get)\n",
    "dfl['topic_label']=dfl['topic_nb'].map(topicnb_2_name.get)"
   ]
  },
  {
   "cell_type": "code",
   "execution_count": 139,
   "id": "b8c19f4f",
   "metadata": {},
   "outputs": [],
   "source": [
    "documentsm1=list(dfl[dfl.topic_nb!=-1][['topic_label','user_screen_name','User_status','text']].transpose().to_dict().values())\n",
    "#documents"
   ]
  },
  {
   "cell_type": "code",
   "execution_count": 136,
   "id": "69f43ce8",
   "metadata": {},
   "outputs": [
    {
     "data": {
      "text/plain": [
       "3315684     5\n",
       "3252467     3\n",
       "165571     -1\n",
       "1178174    16\n",
       "2331945     3\n",
       "           ..\n",
       "1169794    -1\n",
       "3288673     3\n",
       "1237356    -1\n",
       "3204522     3\n",
       "1884658    -1\n",
       "Name: topic_nb, Length: 2959, dtype: int64"
      ]
     },
     "execution_count": 136,
     "metadata": {},
     "output_type": "execute_result"
    }
   ],
   "source": [
    "dfl['topic_nb']"
   ]
  },
  {
   "cell_type": "code",
   "execution_count": 137,
   "id": "e6fa637d",
   "metadata": {},
   "outputs": [],
   "source": [
    "from nomic import atlas\n"
   ]
  },
  {
   "cell_type": "code",
   "execution_count": 134,
   "id": "ed69c688",
   "metadata": {},
   "outputs": [
    {
     "ename": "TypeError",
     "evalue": "list indices must be integers or slices, not Series",
     "output_type": "error",
     "traceback": [
      "\u001b[0;31m---------------------------------------------------------------------------\u001b[0m",
      "\u001b[0;31mTypeError\u001b[0m                                 Traceback (most recent call last)",
      "Input \u001b[0;32mIn [134]\u001b[0m, in \u001b[0;36m<cell line: 2>\u001b[0;34m()\u001b[0m\n\u001b[1;32m      1\u001b[0m embedm1\u001b[38;5;241m=\u001b[39membeddings[dfl\u001b[38;5;241m.\u001b[39mtopic_nb\u001b[38;5;241m!=\u001b[39m\u001b[38;5;241m-\u001b[39m\u001b[38;5;241m1\u001b[39m]\n\u001b[0;32m----> 2\u001b[0m documentsm1\u001b[38;5;241m=\u001b[39m\u001b[43mdocuments\u001b[49m\u001b[43m[\u001b[49m\u001b[43mdfl\u001b[49m\u001b[38;5;241;43m.\u001b[39;49m\u001b[43mtopic_nb\u001b[49m\u001b[38;5;241;43m!=\u001b[39;49m\u001b[38;5;241;43m-\u001b[39;49m\u001b[38;5;241;43m1\u001b[39;49m\u001b[43m]\u001b[49m\n",
      "\u001b[0;31mTypeError\u001b[0m: list indices must be integers or slices, not Series"
     ]
    }
   ],
   "source": [
    "embedm1=embeddings[dfl.topic_nb!=-1]\n",
    "#documentsm1=documents[dfl.topic_nb!=-1]"
   ]
  },
  {
   "cell_type": "code",
   "execution_count": 141,
   "id": "f7de23fe",
   "metadata": {},
   "outputs": [
    {
     "name": "stderr",
     "output_type": "stream",
     "text": [
      "\u001b[32m2023-06-04 19:53:11.495\u001b[0m | \u001b[1mINFO    \u001b[0m | \u001b[36mnomic.project\u001b[0m:\u001b[36m_create_project\u001b[0m:\u001b[36m965\u001b[0m - \u001b[1mCreating project `older#sm` in organization `jeanphilippe.cointet`\u001b[0m\n",
      "\u001b[32m2023-06-04 19:53:13.097\u001b[0m | \u001b[1mINFO    \u001b[0m | \u001b[36mnomic.atlas\u001b[0m:\u001b[36mmap_embeddings\u001b[0m:\u001b[36m100\u001b[0m - \u001b[1mUploading embeddings to Atlas.\u001b[0m\n",
      "1it [00:04,  4.47s/it]\n",
      "\u001b[32m2023-06-04 19:53:17.597\u001b[0m | \u001b[1mINFO    \u001b[0m | \u001b[36mnomic.project\u001b[0m:\u001b[36m_add_data\u001b[0m:\u001b[36m1577\u001b[0m - \u001b[1mUpload succeeded.\u001b[0m\n",
      "\u001b[32m2023-06-04 19:53:17.598\u001b[0m | \u001b[1mINFO    \u001b[0m | \u001b[36mnomic.atlas\u001b[0m:\u001b[36mmap_embeddings\u001b[0m:\u001b[36m119\u001b[0m - \u001b[1mEmbedding upload succeeded.\u001b[0m\n",
      "\u001b[32m2023-06-04 19:53:19.073\u001b[0m | \u001b[1mINFO    \u001b[0m | \u001b[36mnomic.project\u001b[0m:\u001b[36mcreate_index\u001b[0m:\u001b[36m1282\u001b[0m - \u001b[1mCreated map `older#sm` in project `older#sm`: https://atlas.nomic.ai/map/4234dbdf-9cf8-4827-9e99-e7c1ac7d5924/91543781-e817-4701-85c2-eb7e946907f0\u001b[0m\n",
      "\u001b[32m2023-06-04 19:53:19.076\u001b[0m | \u001b[1mINFO    \u001b[0m | \u001b[36mnomic.atlas\u001b[0m:\u001b[36mmap_embeddings\u001b[0m:\u001b[36m132\u001b[0m - \u001b[1molder#sm: https://atlas.nomic.ai/map/4234dbdf-9cf8-4827-9e99-e7c1ac7d5924/91543781-e817-4701-85c2-eb7e946907f0\u001b[0m\n"
     ]
    },
    {
     "name": "stdout",
     "output_type": "stream",
     "text": [
      "older#sm: https://atlas.nomic.ai/map/4234dbdf-9cf8-4827-9e99-e7c1ac7d5924/91543781-e817-4701-85c2-eb7e946907f0\n"
     ]
    }
   ],
   "source": [
    "response = atlas.map_embeddings(embeddings=embedm1,\n",
    "                                data=documentsm1,\n",
    "                                colorable_fields=['topic_label'],\n",
    "                                name=\"older#sm\",add_datums_if_exists = True, build_topic_model=False)\n",
    "                                #description=\"An example of building a text map with a huggingface model.\")\n",
    "\n",
    "print(response)"
   ]
  },
  {
   "cell_type": "code",
   "execution_count": 115,
   "id": "85da4b3b",
   "metadata": {},
   "outputs": [],
   "source": [
    "#build_topic_model"
   ]
  },
  {
   "cell_type": "code",
   "execution_count": 116,
   "id": "e0cea1e8",
   "metadata": {},
   "outputs": [
    {
     "name": "stderr",
     "output_type": "stream",
     "text": [
      "\u001b[32m2023-06-04 19:31:31.737\u001b[0m | \u001b[1mINFO    \u001b[0m | \u001b[36mnomic.project\u001b[0m:\u001b[36m_create_project\u001b[0m:\u001b[36m965\u001b[0m - \u001b[1mCreating project `newest#sm#text` in organization `jeanphilippe.cointet`\u001b[0m\n",
      "\u001b[32m2023-06-04 19:31:37.743\u001b[0m | \u001b[1mINFO    \u001b[0m | \u001b[36mnomic.atlas\u001b[0m:\u001b[36mmap_text\u001b[0m:\u001b[36m212\u001b[0m - \u001b[1mUploading text to Atlas.\u001b[0m\n",
      "1it [00:07,  7.51s/it]\n",
      "\u001b[32m2023-06-04 19:31:45.286\u001b[0m | \u001b[1mINFO    \u001b[0m | \u001b[36mnomic.project\u001b[0m:\u001b[36m_add_data\u001b[0m:\u001b[36m1577\u001b[0m - \u001b[1mUpload succeeded.\u001b[0m\n",
      "\u001b[32m2023-06-04 19:31:45.287\u001b[0m | \u001b[1mINFO    \u001b[0m | \u001b[36mnomic.atlas\u001b[0m:\u001b[36mmap_text\u001b[0m:\u001b[36m228\u001b[0m - \u001b[1mText upload succeeded.\u001b[0m\n",
      "\u001b[32m2023-06-04 19:31:47.127\u001b[0m | \u001b[1mINFO    \u001b[0m | \u001b[36mnomic.project\u001b[0m:\u001b[36mcreate_index\u001b[0m:\u001b[36m1282\u001b[0m - \u001b[1mCreated map `newest#sm#text` in project `newest#sm#text`: https://atlas.nomic.ai/map/a6ffda81-1175-4add-9ca6-ae56ac628327/f80b5bf5-c79d-4212-ac3b-e5df7f037ac0\u001b[0m\n",
      "\u001b[32m2023-06-04 19:31:47.129\u001b[0m | \u001b[1mINFO    \u001b[0m | \u001b[36mnomic.atlas\u001b[0m:\u001b[36mmap_text\u001b[0m:\u001b[36m242\u001b[0m - \u001b[1mnewest#sm#text: https://atlas.nomic.ai/map/a6ffda81-1175-4add-9ca6-ae56ac628327/f80b5bf5-c79d-4212-ac3b-e5df7f037ac0\u001b[0m\n"
     ]
    },
    {
     "name": "stdout",
     "output_type": "stream",
     "text": [
      "newest#sm#text: https://atlas.nomic.ai/map/a6ffda81-1175-4add-9ca6-ae56ac628327/f80b5bf5-c79d-4212-ac3b-e5df7f037ac0\n"
     ]
    }
   ],
   "source": [
    "response = atlas.map_text(#embeddings=embeddings,\n",
    "                                data=documents,\n",
    "                                indexed_field='text',\n",
    "                                colorable_fields=['topic_label'],\n",
    "                                multilingual=True,\n",
    "                                name=\"newest#sm#text\",add_datums_if_exists = True, build_topic_model=True)\n",
    "                                #description=\"An example of building a text map with a huggingface model.\")\n",
    "\n",
    "print(response)"
   ]
  },
  {
   "cell_type": "code",
   "execution_count": 127,
   "id": "e74f4570",
   "metadata": {},
   "outputs": [
    {
     "data": {
      "text/plain": [
       "topic_label: string\n",
       "user_screen_name: string\n",
       "User_status: string\n",
       "text: string\n",
       "id_: string"
      ]
     },
     "execution_count": 127,
     "metadata": {},
     "output_type": "execute_result"
    }
   ],
   "source": [
    "response."
   ]
  },
  {
   "cell_type": "code",
   "execution_count": null,
   "id": "53e86cb3",
   "metadata": {},
   "outputs": [],
   "source": []
  },
  {
   "cell_type": "code",
   "execution_count": null,
   "id": "12dfbb55",
   "metadata": {},
   "outputs": [],
   "source": []
  },
  {
   "cell_type": "code",
   "execution_count": null,
   "id": "b2a21c64",
   "metadata": {},
   "outputs": [],
   "source": []
  },
  {
   "cell_type": "code",
   "execution_count": null,
   "id": "bad9b1de",
   "metadata": {},
   "outputs": [],
   "source": []
  },
  {
   "cell_type": "code",
   "execution_count": null,
   "id": "8034a440",
   "metadata": {},
   "outputs": [],
   "source": []
  },
  {
   "cell_type": "code",
   "execution_count": null,
   "id": "64b53fd1",
   "metadata": {},
   "outputs": [],
   "source": []
  },
  {
   "cell_type": "code",
   "execution_count": null,
   "id": "c71cadc6",
   "metadata": {},
   "outputs": [],
   "source": []
  }
 ],
 "metadata": {
  "kernelspec": {
   "display_name": "Python 3 (ipykernel)",
   "language": "python",
   "name": "python3"
  },
  "language_info": {
   "codemirror_mode": {
    "name": "ipython",
    "version": 3
   },
   "file_extension": ".py",
   "mimetype": "text/x-python",
   "name": "python",
   "nbconvert_exporter": "python",
   "pygments_lexer": "ipython3",
   "version": "3.8.13"
  }
 },
 "nbformat": 4,
 "nbformat_minor": 5
}
